{
 "cells": [
  {
   "cell_type": "code",
   "execution_count": 29,
   "metadata": {},
   "outputs": [],
   "source": [
    "drLai = dict()\n",
    "drLai[\"S.no\"] = [i for i in range(1,500)]\n",
    "drLai[\"remark\"] = [False for i in range(499)]\n",
    "# print(count)"
   ]
  },
  {
   "cell_type": "code",
   "execution_count": 37,
   "metadata": {},
   "outputs": [
    {
     "name": "stdin",
     "output_type": "stream",
     "text": [
      " 113\n"
     ]
    }
   ],
   "source": [
    "def track():\n",
    "    n = int(input())\n",
    "    drLai[\"remark\"][n] = True\n",
    "track()"
   ]
  },
  {
   "cell_type": "code",
   "execution_count": 35,
   "metadata": {},
   "outputs": [
    {
     "name": "stdout",
     "output_type": "stream",
     "text": [
      "     S.no  remark\n",
      "0       1    True\n",
      "1       2   False\n",
      "2       3   False\n",
      "3       4    True\n",
      "4       5    True\n",
      "..    ...     ...\n",
      "494   495   False\n",
      "495   496   False\n",
      "496   497   False\n",
      "497   498   False\n",
      "498   499   False\n",
      "\n",
      "[499 rows x 2 columns]\n"
     ]
    }
   ],
   "source": [
    "import pandas as pd\n",
    "\n",
    "# intialise data of lists.\n",
    "# data = {'Name':['Tom', 'nick', 'krish', 'jack'],\n",
    "#         'Age':[20, 21, 19, 18]}\n",
    "\n",
    "# Create DataFrame\n",
    "df = pd.DataFrame(drLai)\n",
    "\n",
    "# Print the output.\n",
    "print(df)"
   ]
  },
  {
   "cell_type": "code",
   "execution_count": 36,
   "metadata": {},
   "outputs": [
    {
     "data": {
      "text/html": [
       "<div>\n",
       "<style scoped>\n",
       "    .dataframe tbody tr th:only-of-type {\n",
       "        vertical-align: middle;\n",
       "    }\n",
       "\n",
       "    .dataframe tbody tr th {\n",
       "        vertical-align: top;\n",
       "    }\n",
       "\n",
       "    .dataframe thead th {\n",
       "        text-align: right;\n",
       "    }\n",
       "</style>\n",
       "<table border=\"1\" class=\"dataframe\">\n",
       "  <thead>\n",
       "    <tr style=\"text-align: right;\">\n",
       "      <th></th>\n",
       "      <th>S.no</th>\n",
       "      <th>remark</th>\n",
       "    </tr>\n",
       "  </thead>\n",
       "  <tbody>\n",
       "    <tr>\n",
       "      <th>0</th>\n",
       "      <td>False</td>\n",
       "      <td>False</td>\n",
       "    </tr>\n",
       "    <tr>\n",
       "      <th>1</th>\n",
       "      <td>False</td>\n",
       "      <td>False</td>\n",
       "    </tr>\n",
       "    <tr>\n",
       "      <th>2</th>\n",
       "      <td>False</td>\n",
       "      <td>False</td>\n",
       "    </tr>\n",
       "    <tr>\n",
       "      <th>3</th>\n",
       "      <td>False</td>\n",
       "      <td>False</td>\n",
       "    </tr>\n",
       "    <tr>\n",
       "      <th>4</th>\n",
       "      <td>False</td>\n",
       "      <td>False</td>\n",
       "    </tr>\n",
       "    <tr>\n",
       "      <th>...</th>\n",
       "      <td>...</td>\n",
       "      <td>...</td>\n",
       "    </tr>\n",
       "    <tr>\n",
       "      <th>494</th>\n",
       "      <td>False</td>\n",
       "      <td>False</td>\n",
       "    </tr>\n",
       "    <tr>\n",
       "      <th>495</th>\n",
       "      <td>False</td>\n",
       "      <td>False</td>\n",
       "    </tr>\n",
       "    <tr>\n",
       "      <th>496</th>\n",
       "      <td>False</td>\n",
       "      <td>False</td>\n",
       "    </tr>\n",
       "    <tr>\n",
       "      <th>497</th>\n",
       "      <td>False</td>\n",
       "      <td>False</td>\n",
       "    </tr>\n",
       "    <tr>\n",
       "      <th>498</th>\n",
       "      <td>False</td>\n",
       "      <td>False</td>\n",
       "    </tr>\n",
       "  </tbody>\n",
       "</table>\n",
       "<p>499 rows × 2 columns</p>\n",
       "</div>"
      ],
      "text/plain": [
       "      S.no  remark\n",
       "0    False   False\n",
       "1    False   False\n",
       "2    False   False\n",
       "3    False   False\n",
       "4    False   False\n",
       "..     ...     ...\n",
       "494  False   False\n",
       "495  False   False\n",
       "496  False   False\n",
       "497  False   False\n",
       "498  False   False\n",
       "\n",
       "[499 rows x 2 columns]"
      ]
     },
     "execution_count": 36,
     "metadata": {},
     "output_type": "execute_result"
    }
   ],
   "source": [
    "df.isnull()"
   ]
  },
  {
   "cell_type": "code",
   "execution_count": null,
   "metadata": {},
   "outputs": [],
   "source": [
    "# 114. Lowest common ancestor\n",
    "def ancestor(root, p, q):\n",
    "    if root == None:\n",
    "        return root\n",
    "    if root == p or root == q:\n",
    "        return root\n",
    "    left = ancestor(root.left, p, q)\n",
    "    right = ancestor(root.right, p, q)\n",
    "    if not left:\n",
    "        return right\n",
    "    if not right:\n",
    "        return left\n",
    "    return root"
   ]
  },
  {
   "cell_type": "code",
   "execution_count": null,
   "metadata": {},
   "outputs": [],
   "source": [
    "# 62. Invert a binary tree\n",
    "def invert(root):\n",
    "    if not root:\n",
    "        return root\n",
    "    left = invert(root.left)\n",
    "    right = invert(root.right)\n",
    "    root.left = right\n",
    "    root.right = left\n",
    "    return root"
   ]
  },
  {
   "cell_type": "code",
   "execution_count": null,
   "metadata": {},
   "outputs": [],
   "source": [
    "# 63. isSymmetric binary tree\n",
    "def symmetric(root):\n",
    "    def isSymmetric(a, b):\n",
    "        if not a and not b:\n",
    "            return True\n",
    "        if not a or not b:\n",
    "            return False\n",
    "        return a.val == b.val and isSymmetric(a.left, b.right) and isSymmetric(a.right, b.left)\n",
    "    if root == None:\n",
    "        return True\n",
    "    return isSymmetric(root.left, root.right)"
   ]
  },
  {
   "cell_type": "code",
   "execution_count": null,
   "metadata": {},
   "outputs": [],
   "source": [
    "# 64. isIdenticalTree\n",
    "def equal(a, b):\n",
    "    if not a and not b:\n",
    "        return True\n",
    "    if not a or not b:\n",
    "        return False\n",
    "    return a.val == b.val and equal(a.left, b.left) and equal(a.right, b.right) #notice the parameters\n",
    "\n",
    "# complexity ==> min(N, M) where n,m are number of nodes in each tree\n",
    "\n",
    "def clone(root):\n",
    "    if not root:\n",
    "        return\n",
    "    newNode = Node(root.val)\n",
    "    newNode.left = clone(root.left)\n",
    "    newNode.right = clone(root.right)\n",
    "    return newNode\n",
    "\n",
    "def isSymmetric(root):\n",
    "    copy = clone(root)\n",
    "    invert = invert(copy)\n",
    "    return equal(root, copy)\n",
    "\n",
    "# another way \n",
    "def isSymmetric(root):\n",
    "    return equal(root, invert(root.right))"
   ]
  },
  {
   "cell_type": "code",
   "execution_count": null,
   "metadata": {},
   "outputs": [],
   "source": [
    "# day 77 to check if all the leaves are at same level\n",
    "def sameLevel(root):\n",
    "    d = set()\n",
    "    def dfs(root, curr):\n",
    "        if not root:\n",
    "            return \n",
    "        if not root.left and not root.right:\n",
    "            d.add(curr)\n",
    "        dfs(root.left, curr+1)\n",
    "        dfs(root.right, curr+1)\n",
    "    dfs(root, 0)\n",
    "    return len(d) == 1\n",
    "        "
   ]
  },
  {
   "cell_type": "code",
   "execution_count": null,
   "metadata": {},
   "outputs": [],
   "source": [
    "# day 78 to check if all the leaves are at same level -- bfs \n",
    "def sameLevelbfs(root):\n",
    "    d = set()\n",
    "    q= deque([(root, 0)])\n",
    "    while q:\n",
    "        p = q.popleft()\n",
    "        if not p[0].left and not p[0].right:\n",
    "            d.add(p[1])\n",
    "        if p[0].left:\n",
    "            q.append(p[0].left)\n",
    "        if p[0].right:\n",
    "            q.append(p[0].right)\n",
    "    return len(d) == 1\n",
    "        "
   ]
  },
  {
   "cell_type": "code",
   "execution_count": null,
   "metadata": {},
   "outputs": [],
   "source": [
    "# day 86 compute the maximum depth of binary tree\n",
    "def maxDepth(root):\n",
    "    "
   ]
  },
  {
   "cell_type": "code",
   "execution_count": null,
   "metadata": {},
   "outputs": [],
   "source": [
    "# to check if all leaves have same sequence\n",
    "def sameSequence(root):\n",
    "    def dfs(root):\n",
    "        if not root:\n",
    "            return\n",
    "        if not root.left and not root.right:\n",
    "            return [root.val]\n",
    "        return dfs(root.left) + dfs(root.right)"
   ]
  },
  {
   "cell_type": "code",
   "execution_count": 1,
   "metadata": {},
   "outputs": [
    {
     "data": {
      "text/plain": [
       "[1, 2, 3, 4, 5, 5, 6, 7, 8, 9]"
      ]
     },
     "execution_count": 1,
     "metadata": {},
     "output_type": "execute_result"
    }
   ],
   "source": [
    "def quickSort(arr):\n",
    "    if len(arr)<=1:\n",
    "        return arr\n",
    "    pivot = arr[0]\n",
    "    smaller = [x for x in arr if x < pivot]\n",
    "    equal = [x for x in arr if x == pivot]\n",
    "    greater = [x for x in arr if x > pivot]\n",
    "    return quickSort(smaller) + equal + quickSort(greater)\n",
    "quickSort([9,8,7,6,5,5,4,3,2,1])"
   ]
  },
  {
   "cell_type": "code",
   "execution_count": 44,
   "metadata": {},
   "outputs": [
    {
     "name": "stdout",
     "output_type": "stream",
     "text": [
      "Maximum circular sum is 31\n"
     ]
    }
   ],
   "source": [
    "# Python program for maximum contiguous circular sum problem\n",
    "\n",
    "# Standard Kadane's algorithm to find maximum subarray sum\n",
    "def kadane(a):\n",
    "\tMax = a[0]\n",
    "\ttemp = Max\n",
    "\tfor i in range(1,len(a)):\n",
    "\t\ttemp += a[i]\n",
    "\t\tif temp < a[i]:\n",
    "\t\t\ttemp = a[i]\n",
    "\t\tMax = max(Max,temp)\n",
    "\treturn Max\n",
    "\n",
    "# The function returns maximum circular contiguous sum in\n",
    "# a[]\n",
    "def maxCircularSum(a):\n",
    "\n",
    "\tn = len(a)*2\n",
    "\t# Case 1: get the maximum sum using standard kadane's\n",
    "\tnew_a = a + a\n",
    "\tmax_kadane = kadane(new_a)\n",
    "\n",
    "\t# Case 2: Now find the maximum sum that includes corner\n",
    "\t# elements.\n",
    "\t# You can do so by finding the maximum negative contiguous\n",
    "\t# sum\n",
    "\t# convert a to -ve 'a' and run kadane's algo\n",
    "# \tneg_a = [-1*x for x in a]\n",
    "# \tmax_neg_kadane = kadane(neg_a)\n",
    "\n",
    "\t# Max sum with corner elements will be:\n",
    "\t# array-sum - (-max subarray sum of inverted array)\n",
    "# \tmax_wrap = -(sum(neg_a)-max_neg_kadane)\n",
    "\n",
    "\t# The maximum circular sum will be maximum of two sums\n",
    "# \tres = max(max_wrap,max_kadane)\n",
    "\treturn max_kadane\n",
    "\n",
    "# Driver function to test above function\n",
    "a = [11, 10, -20, 5, -3, -5, 8, -13, 10]\n",
    "print(\"Maximum circular sum is\", maxCircularSum(a))\n",
    "\n",
    "# This code is contributed by Devesh Agrawal\n"
   ]
  },
  {
   "cell_type": "code",
   "execution_count": 45,
   "metadata": {},
   "outputs": [
    {
     "data": {
      "text/plain": [
       "{'_ot': ['hot', 'dot', 'lot'],\n",
       " 'h_t': ['hot'],\n",
       " 'ho_': ['hot'],\n",
       " 'd_t': ['dot'],\n",
       " 'do_': ['dot', 'dog'],\n",
       " '_og': ['dog', 'log', 'cog'],\n",
       " 'd_g': ['dog'],\n",
       " 'l_t': ['lot'],\n",
       " 'lo_': ['lot', 'log'],\n",
       " 'l_g': ['log'],\n",
       " 'c_g': ['cog'],\n",
       " 'co_': ['cog']}"
      ]
     },
     "execution_count": 45,
     "metadata": {},
     "output_type": "execute_result"
    }
   ],
   "source": [
    "def construct_dict(word_list):\n",
    "    d = {}\n",
    "    for word in word_list:\n",
    "        for i in range(len(word)):\n",
    "            s = word[:i] + \"_\" + word[i+1:]\n",
    "            d[s] = d.get(s, []) + [word]\n",
    "    return d\n",
    "construct_dict([\"hot\",\"dot\",\"dog\",\"lot\",\"log\",\"cog\"])"
   ]
  },
  {
   "cell_type": "code",
   "execution_count": null,
   "metadata": {},
   "outputs": [],
   "source": [
    "class Node:\n",
    "    def __init__(self,key):\n",
    "        self.key = key\n",
    "        self.connectedTo = {}\n"
   ]
  },
  {
   "cell_type": "code",
   "execution_count": 9,
   "metadata": {},
   "outputs": [
    {
     "data": {
      "text/plain": [
       "'hackerrekcah'"
      ]
     },
     "execution_count": 9,
     "metadata": {},
     "output_type": "execute_result"
    }
   ],
   "source": [
    "def longestPalindromicSubstring(string):\n",
    "    res = \"\"\n",
    "    resLen = 0\n",
    "    \n",
    "    newString = \"#\"\n",
    "    for i in string:\n",
    "        newString += i + \"#\"\n",
    "    \n",
    "    for i in range(len(newString)):\n",
    "        l, r = i, i\n",
    "        while l >= 0 and r < len(newString) and newString[l] == newString[r] :\n",
    "            if resLen < r - l + 1:\n",
    "                res = newString[l:r+1]\n",
    "                resLen = r - l + 1\n",
    "        \n",
    "            l -= 1\n",
    "            r += 1\n",
    "    final_ans = \"\"\n",
    "    for i in res:\n",
    "        if i == \"#\":\n",
    "            continue\n",
    "        else:\n",
    "            final_ans += i\n",
    "    return final_ans\n",
    "longestPalindromicSubstring(\"hackerrekcahba\")"
   ]
  },
  {
   "cell_type": "code",
   "execution_count": 10,
   "metadata": {},
   "outputs": [
    {
     "data": {
      "text/plain": [
       "[1, 1, 2, 6]"
      ]
     },
     "execution_count": 10,
     "metadata": {},
     "output_type": "execute_result"
    }
   ],
   "source": [
    "# prefix \n",
    "def prefix(nums):\n",
    "    res = [1]*(len(nums))\n",
    "    prefix = 1\n",
    "    for i in range(len(nums)):\n",
    "        res[i] = prefix\n",
    "        prefix *= nums[i]\n",
    "    return res\n",
    "prefix([1,2,3,4])\n",
    "        "
   ]
  },
  {
   "cell_type": "code",
   "execution_count": 12,
   "metadata": {},
   "outputs": [
    {
     "name": "stdout",
     "output_type": "stream",
     "text": [
      "Counter({1: 2, 2: 2})\n"
     ]
    }
   ],
   "source": [
    "import collections\n",
    "nums = [1,2,2,1]\n",
    "print(collections.Counter(nums))"
   ]
  },
  {
   "cell_type": "code",
   "execution_count": 13,
   "metadata": {},
   "outputs": [
    {
     "name": "stdout",
     "output_type": "stream",
     "text": [
      "False\n",
      "True\n"
     ]
    }
   ],
   "source": [
    "s = \"a1\"\n",
    "for i in s:\n",
    "    print(i.isnumeric())"
   ]
  },
  {
   "cell_type": "code",
   "execution_count": 14,
   "metadata": {},
   "outputs": [
    {
     "data": {
      "text/plain": [
       "[[0, 0, 0], [0, 0, 0], [0, 0, 1]]"
      ]
     },
     "execution_count": 14,
     "metadata": {},
     "output_type": "execute_result"
    }
   ],
   "source": [
    "def setMatrixZeroes(matrix):\n",
    "    r, c = len(matrix), len(matrix[0])\n",
    "    R, C = set(), set()\n",
    "    for i in range(r):\n",
    "        for j in range(c):\n",
    "            if matrix[i][j] == 0:\n",
    "                R.add(i)\n",
    "                C.add(j)\n",
    "    for i in range(r):\n",
    "        for j in range(c):\n",
    "            if i in R or j in C:\n",
    "                matrix[i][j] = 0\n",
    "    return matrix\n",
    "setMatrixZeroes([[0,0,1], [1, 0, 1], [1, 1, 1]])\n",
    "\n",
    "\n",
    "# Time Complexity : O(r*c)\n",
    "# space Complexity : O(r + c)"
   ]
  },
  {
   "cell_type": "code",
   "execution_count": null,
   "metadata": {},
   "outputs": [],
   "source": []
  }
 ],
 "metadata": {
  "kernelspec": {
   "display_name": "Python 3",
   "language": "python",
   "name": "python3"
  },
  "language_info": {
   "codemirror_mode": {
    "name": "ipython",
    "version": 3
   },
   "file_extension": ".py",
   "mimetype": "text/x-python",
   "name": "python",
   "nbconvert_exporter": "python",
   "pygments_lexer": "ipython3",
   "version": "3.8.3"
  }
 },
 "nbformat": 4,
 "nbformat_minor": 4
}
