{
 "cells": [
  {
   "cell_type": "markdown",
   "metadata": {},
   "source": [
    "Leetcode learning"
   ]
  },
  {
   "cell_type": "code",
   "execution_count": null,
   "metadata": {},
   "outputs": [],
   "source": [
    "# Heap\n",
    "# Implementing \"Min Heap\"\n",
    "class MinHeap:\n",
    "    def __init__(self, heapSize):\n",
    "        # Create a complete binary tree using an array\n",
    "        # Then use the binary tree to construct a Heap\n",
    "        self.heapSize = heapSize\n",
    "        # the number of elements is needed when instantiating an array\n",
    "        # heapSize records the size of the array\n",
    "        self.minheap = [0] * (heapSize + 1)\n",
    "        # realSize records the number of elements in the Heap\n",
    "        self.realSize = 0\n",
    "\n",
    "    # Function to add an element\n",
    "    def add(self, element):\n",
    "        self.realSize += 1\n",
    "        # If the number of elements in the Heap exceeds the preset heapSize\n",
    "        # print \"Added too many elements\" and return\n",
    "        if self.realSize > self.heapSize:\n",
    "            print(\"Add too many elements!\")\n",
    "            self.realSize -= 1\n",
    "            return\n",
    "        # Add the element into the array\n",
    "        self.minheap[self.realSize] = element\n",
    "        # Index of the newly added element\n",
    "        index = self.realSize\n",
    "        # Parent node of the newly added element\n",
    "        # Note if we use an array to represent the complete binary tree\n",
    "        # and store the root node at index 1\n",
    "        # index of the parent node of any node is [index of the node / 2]\n",
    "        # index of the left child node is [index of the node * 2]\n",
    "        # index of the right child node is [index of the node * 2 + 1]\n",
    "        parent = index // 2\n",
    "        # If the newly added element is smaller than its parent node,\n",
    "        # its value will be exchanged with that of the parent node \n",
    "        while (self.minheap[index] < self.minheap[parent] and index > 1):\n",
    "            self.minheap[parent], self.minheap[index] = self.minheap[index], self.minheap[parent]\n",
    "            index = parent\n",
    "            parent = index // 2\n",
    "    \n",
    "    # Get the top element of the Heap\n",
    "    def peek(self):\n",
    "        return self.minheap[1]\n",
    "    \n",
    "    # Delete the top element of the Heap\n",
    "    def pop(self):\n",
    "        # If the number of elements in the current Heap is 0,\n",
    "        # print \"Don't have any elements\" and return a default value\n",
    "        if self.realSize < 1:\n",
    "            print(\"Don't have any element!\")\n",
    "            return sys.maxsize\n",
    "        else:\n",
    "            # When there are still elements in the Heap\n",
    "            # self.realSize >= 1\n",
    "            removeElement = self.minheap[1]\n",
    "            # Put the last element in the Heap to the top of Heap\n",
    "            self.minheap[1] = self.minheap[self.realSize]\n",
    "            self.realSize -= 1\n",
    "            index = 1\n",
    "            # When the deleted element is not a leaf node\n",
    "            while (index < self.realSize and index <= self.realSize // 2):\n",
    "                # the left child of the deleted element\n",
    "                left = index * 2\n",
    "                # the right child of the deleted element\n",
    "                right = (index * 2) + 1\n",
    "                # If the deleted element is larger than the left or right child\n",
    "                # its value needs to be exchanged with the smaller value\n",
    "                # of the left and right child\n",
    "                if (self.minheap[index] > self.minheap[left] or self.minheap[index] > self.minheap[right]):\n",
    "                    if self.minheap[left] < self.minheap[right]:\n",
    "                        self.minheap[left], self.minheap[index] = self.minheap[index], self.minheap[left]\n",
    "                        index = left\n",
    "                    else:\n",
    "                        self.minheap[right], self.minheap[index] = self.minheap[index], self.minheap[right]\n",
    "                        index = right\n",
    "                else:\n",
    "                    break\n",
    "            return removeElement\n",
    "    \n",
    "    # return the number of elements in the Heap\n",
    "    def size(self):\n",
    "        return self.realSize\n",
    "    \n",
    "    def __str__(self):\n",
    "        return str(self.minheap[1 : self.realSize + 1])\n",
    "        \n",
    "\n",
    "if __name__ == \"__main__\":\n",
    "    \t# Test cases\n",
    "        minHeap = MinHeap(5)\n",
    "        minHeap.add(3)\n",
    "        minHeap.add(1)\n",
    "        minHeap.add(2)\n",
    "        # [1,3,2]\n",
    "        print(minHeap)\n",
    "        # 1\n",
    "        print(minHeap.peek())\n",
    "        # 1\n",
    "        print(minHeap.pop())\n",
    "        # 2\n",
    "        print(minHeap.pop())\n",
    "        # 3\n",
    "        print(minHeap.pop())\n",
    "        minHeap.add(4)\n",
    "        minHeap.add(5)\n",
    "        # [4,5]\n",
    "        print(minHeap)"
   ]
  },
  {
   "cell_type": "code",
   "execution_count": null,
   "metadata": {},
   "outputs": [],
   "source": [
    "# Implementing \"Max Heap\"\n",
    "class MaxHeap:\n",
    "    def __init__(self, heapSize):\n",
    "        # Create a complete binary tree using an array\n",
    "        # Then use the binary tree to construct a Heap\n",
    "        self.heapSize = heapSize\n",
    "        # the number of elements is needed when instantiating an array\n",
    "        # heapSize records the size of the array\n",
    "        self.maxheap = [0] * (heapSize + 1)\n",
    "        # realSize records the number of elements in the Heap\n",
    "        self.realSize = 0\n",
    "\n",
    "    # Function to add an element\n",
    "    def add(self, element):\n",
    "        self.realSize += 1\n",
    "        # If the number of elements in the Heap exceeds the preset heapSize\n",
    "        # print \"Added too many elements\" and return\n",
    "        if self.realSize > self.heapSize:\n",
    "            print(\"Add too many elements!\")\n",
    "            self.realSize -= 1\n",
    "            return\n",
    "        # Add the element into the array\n",
    "        self.maxheap[self.realSize] = element\n",
    "        # Index of the newly added element\n",
    "        index = self.realSize\n",
    "        # Parent node of the newly added element\n",
    "        # Note if we use an array to represent the complete binary tree\n",
    "        # and store the root node at index 1\n",
    "        # index of the parent node of any node is [index of the node / 2]\n",
    "        # index of the left child node is [index of the node * 2]\n",
    "        # index of the right child node is [index of the node * 2 + 1]\n",
    "        parent = index // 2\n",
    "        \n",
    "        # If the newly added element is larger than its parent node,\n",
    "        # its value will be exchanged with that of the parent node \n",
    "        while (self.maxheap[index] > self.maxheap[parent] and index > 1):\n",
    "            self.maxheap[parent], self.maxheap[index] = self.maxheap[index], self.maxheap[parent]\n",
    "            index = parent\n",
    "            parent = index // 2\n",
    "            \n",
    "    # Get the top element of the Heap\n",
    "    def peek(self):\n",
    "        return self.maxheap[1]\n",
    "    \n",
    "    # Delete the top element of the Heap\n",
    "    def pop(self):\n",
    "        # If the number of elements in the current Heap is 0,\n",
    "        # print \"Don't have any elements\" and return a default value\n",
    "        if self.realSize < 1:\n",
    "            print(\"Don't have any element!\")\n",
    "            return -sys.maxsize\n",
    "        else:\n",
    "            # When there are still elements in the Heap\n",
    "            # self.realSize >= 1\n",
    "            removeElement = self.maxheap[1]\n",
    "            # Put the last element in the Heap to the top of Heap\n",
    "            self.maxheap[1] = self.maxheap[self.realSize]\n",
    "            self.realSize -= 1\n",
    "            index = 1\n",
    "            # When the deleted element is not a leaf node\n",
    "            while (index < self.realSize and index <= self.realSize // 2):\n",
    "                # the left child of the deleted element\n",
    "                left = index * 2\n",
    "                # the right child of the deleted element\n",
    "                right = (index * 2) + 1\n",
    "                # If the deleted element is smaller than the left or right child\n",
    "                # its value needs to be exchanged with the larger value\n",
    "                # of the left and right child\n",
    "                if (self.maxheap[index] < self.maxheap[left] or self.maxheap[index] < self.maxheap[right]):\n",
    "                    if self.maxheap[left] > self.maxheap[right]:\n",
    "                        self.maxheap[left], self.maxheap[index] = self.maxheap[index], self.maxheap[left]\n",
    "                        index = left\n",
    "                    else:\n",
    "                        self.maxheap[right], self.maxheap[index] = self.maxheap[index], self.maxheap[right]\n",
    "                        index = right\n",
    "                else:\n",
    "                    break\n",
    "            return removeElement\n",
    "    \n",
    "    # return the number of elements in the Heap\n",
    "    def size(self):\n",
    "        return self.realSize\n",
    "    \n",
    "    def __str__(self):\n",
    "        return str(self.maxheap[1 : self.realSize + 1])\n",
    "        \n",
    "\n",
    "if __name__ == \"__main__\":\n",
    "    \t# Test cases\n",
    "        maxHeap = MaxHeap(5)\n",
    "        maxHeap.add(1)\n",
    "        maxHeap.add(2)\n",
    "        maxHeap.add(3)\n",
    "        # [3,1,2]\n",
    "        print(maxHeap)\n",
    "        # 3\n",
    "        print(maxHeap.peek())\n",
    "        # 3\n",
    "        print(maxHeap.pop())\n",
    "        # 2\n",
    "        print(maxHeap.pop())\n",
    "        # 1\n",
    "        print(maxHeap.pop())\n",
    "        maxHeap.add(4)\n",
    "        maxHeap.add(5)\n",
    "        # [5,4]\n",
    "        print(maxHeap)"
   ]
  },
  {
   "cell_type": "code",
   "execution_count": null,
   "metadata": {},
   "outputs": [],
   "source": [
    "# Trie -- Coding Ninjas"
   ]
  },
  {
   "cell_type": "code",
   "execution_count": null,
   "metadata": {},
   "outputs": [],
   "source": [
    "\"\"\"Brute Force Solution for 'max xor pair' \"\"\"\n",
    "def maxXorPairs(array):\n",
    "    maxYet = -1\n",
    "    count = 0\n",
    "    for i in range(len(array)):\n",
    "        for j in range(i, len(array)):\n",
    "            count = array[i] ^ array[j]\n",
    "            if count > maxYet:\n",
    "                maxYet = count\n",
    "    return maxYet\n",
    "maxXorPairs([14,70,53,83,49,91,36,80,92,51,66,70])\n",
    "    "
   ]
  },
  {
   "cell_type": "code",
   "execution_count": null,
   "metadata": {},
   "outputs": [],
   "source": [
    "# Trie\n",
    "class trieNode:\n",
    "    def __init__(self):\n",
    "        self.left = None\n",
    "        self.right = None\n",
    "        \n",
    "def insert(val, head):\n",
    "    curr = head\n",
    "    for i in range(31, -1, -1):\n",
    "        bit = (val >> i) & 1\n",
    "        if bit == 0:\n",
    "            if not curr.left:\n",
    "                curr.left = trieNode()\n",
    "            curr = curr.left\n",
    "        else:\n",
    "            if not curr.right:\n",
    "                curr.right = trieNode()\n",
    "            curr = curr.right\n",
    "                \n",
    "\n",
    "def findMaxXorPair(head, arr, n):\n",
    "    max_xor = -1\n",
    "    for i in range(len(arr)):\n",
    "        value = arr[i]\n",
    "        curr = head \n",
    "        curr_xor = 0\n",
    "        for j in range(31, -1, -1):\n",
    "            bit = (value >> j) & 1\n",
    "            if bit == 0:\n",
    "                if curr.right:\n",
    "                    curr_xor += 2**j\n",
    "                    curr = curr.right\n",
    "                else:\n",
    "                    curr = curr.left\n",
    "            else:\n",
    "                if curr.left:\n",
    "                    curr_xor += 2**j\n",
    "                    curr = curr.left\n",
    "                else:\n",
    "                    curr = curr.right\n",
    "        if curr_xor > max_xor:\n",
    "            max_xor = curr_xor\n",
    "    return max_xor\n",
    "\n",
    "def main():\n",
    "    arr = [8,1,2,15,10,5]\n",
    "    head = trieNode()\n",
    "    for i in range(len(arr)):\n",
    "        insert(arr[i], head)\n",
    "    return findMaxXorPair(head, arr, 6)\n",
    "main()\n",
    "            "
   ]
  },
  {
   "cell_type": "code",
   "execution_count": null,
   "metadata": {},
   "outputs": [],
   "source": [
    "# Search Engine \n",
    "\"\"\"\n",
    "n strings with weight assigned\n",
    "i/p : prefix\n",
    "o/p : best weight with that prefix\"\"\"\n",
    "\n",
    "class trieNode:\n",
    "    def __init__(self):\n",
    "        self.children = [None]*26\n",
    "        self.weight = 0\n",
    "        \n",
    "def insert(string, weight, head):\n",
    "    child = trieNode()\n",
    "    index = ord(string) - ord(\"a\")\n",
    "    if head.children[index]:\n",
    "        child = root.children[index]\n",
    "    else:\n",
    "        child = trieNode()\n",
    "    pass\n",
    "\n",
    "def searchBest(string, head):\n",
    "    curr = head\n",
    "    for i in range(len(string)):\n",
    "        index = ord(string[i]) - ord(\"a\")\n",
    "        pass\n",
    "        "
   ]
  },
  {
   "cell_type": "code",
   "execution_count": null,
   "metadata": {},
   "outputs": [],
   "source": [
    "# greedy -- Coding ninjas"
   ]
  },
  {
   "cell_type": "code",
   "execution_count": null,
   "metadata": {},
   "outputs": [],
   "source": [
    "# Brute force solution for minAbsolute Difference\n",
    "def minAbsoluteDifference(array):\n",
    "    min_diff = float(\"inf\")\n",
    "    diff = 0\n",
    "    for i in range(len(array)):\n",
    "        for j in range(i+1, len(array)):\n",
    "            diff = abs(array[i] - array[j])\n",
    "            if diff < min_diff:\n",
    "                min_diff = diff\n",
    "    return min_diff\n",
    "\n",
    "def minAbsoluteDifferenceBetter(array):\n",
    "    array.sort()\n",
    "    res = float(\"inf\")\n",
    "    for i in range(len(array) - 1):\n",
    "        sub = abs(array[i] - array[i+1])\n",
    "        if sub < res:\n",
    "            res = sub\n",
    "            print(array[i], array[i+1])\n",
    "    return res\n",
    "        \n",
    "\n",
    "minAbsoluteDifferenceBetter([1, 5, 3, 19, 24, 25])\n",
    "\n",
    "# Done"
   ]
  },
  {
   "cell_type": "code",
   "execution_count": null,
   "metadata": {},
   "outputs": [],
   "source": [
    "# idea - value/weight should be max\n",
    "# (remain*profit)/weight\n",
    "# a slight different problem than fractional knapsack\n",
    "def fractionalKnapsack(array, capacity):\n",
    "    sorted_array = sorted(array, key = lambda value: value[1]/value[0], reverse=True)\n",
    "    print(sorted_array)\n",
    "    fValue = 0\n",
    "    currBox = 0\n",
    "    for i in range(len(array)):\n",
    "        if (capacity - currBox) >= sorted_array[i][0]:\n",
    "            fValue += sorted_array[i][0]*sorted_array[i][1]\n",
    "            print(sorted_array[i][0]*sorted_array[i][1])\n",
    "            currBox += sorted_array[i][0]\n",
    "        else:\n",
    "            while currBox < capacity:\n",
    "                fValue += sorted_array[i][1]\n",
    "                currBox += 1\n",
    "    return fValue\n",
    "fractionalKnapsack([[5,10],[2,5],[4,7],[3,9]], 10)"
   ]
  },
  {
   "cell_type": "code",
   "execution_count": null,
   "metadata": {},
   "outputs": [],
   "source": [
    "\"\"\"\n",
    "given an array of cakes with calorific value,\n",
    "minimize Ci*(2**j)  eat n cakes\n",
    "example C2*(2**1)\"\"\"\n",
    "\n",
    "# idea cake with max cal value should be multiplied by 2**0 and so on\n",
    "def eatMyCake(array):\n",
    "    array.sort(reverse = True)\n",
    "    res = 0\n",
    "    for i in range(len(array)):\n",
    "        res += array[i]*(2**i)\n",
    "    return res\n",
    "eatMyCake([1,3,2])\n",
    "\n",
    "# Done\n",
    "        "
   ]
  },
  {
   "cell_type": "code",
   "execution_count": null,
   "metadata": {},
   "outputs": [],
   "source": [
    "def activitySelection(activities):\n",
    "    pass"
   ]
  },
  {
   "cell_type": "code",
   "execution_count": null,
   "metadata": {},
   "outputs": [],
   "source": [
    "array = [[60,20], [70,15], [80, 40]]\n",
    "# def compare(a, b):\n",
    "    \n",
    "array = sorted(array, key= lambda value: value[0]/value[1], reverse=True)\n",
    "print(array)"
   ]
  },
  {
   "cell_type": "code",
   "execution_count": null,
   "metadata": {},
   "outputs": [],
   "source": [
    "def weightedJobScheduling():\n",
    "    pass"
   ]
  },
  {
   "cell_type": "code",
   "execution_count": null,
   "metadata": {},
   "outputs": [],
   "source": [
    "def saveEnergy():\n",
    "    pass"
   ]
  },
  {
   "cell_type": "code",
   "execution_count": null,
   "metadata": {},
   "outputs": [],
   "source": [
    "def maximumTotalValue():\n",
    "    pass"
   ]
  },
  {
   "cell_type": "code",
   "execution_count": null,
   "metadata": {},
   "outputs": [],
   "source": [
    "# Recursion 3 -- coding ninjas"
   ]
  },
  {
   "cell_type": "code",
   "execution_count": null,
   "metadata": {},
   "outputs": [],
   "source": [
    "\"\"\"\n",
    "given a string, return an array with all subsequence(need not be continuous)\n",
    "i/p: \"abc\"\n",
    "o/p: [\"\", a\", \"b\", \"c\", \"ab\", \"ac\", \"bc\",\"abc\"]\"\"\"\n",
    "def allSubsequences(string):\n",
    "#     base case\n",
    "    if len(string) == 0:\n",
    "        return [\"\"]\n",
    "    \n",
    "    \n",
    "    smallerString = string[1:]\n",
    "    smallerOutput = allSubsequences(smallerString)\n",
    "#     induction hypothesis\n",
    "    for i in range(len(smallerOutput)):\n",
    "        smallerOutput.append(string[0] + smallerOutput[i])\n",
    "    return smallerOutput\n",
    "allSubsequences(\"abc\")\n",
    "        \n",
    "        "
   ]
  },
  {
   "cell_type": "code",
   "execution_count": null,
   "metadata": {},
   "outputs": [],
   "source": [
    "def returnKeypad(num):\n",
    "    if num == 2:\n",
    "        return \"abc\"\n",
    "    elif num == 3:\n",
    "        return \"def\"\n",
    "    elif num == 4:\n",
    "        return \"ghi\"\n",
    "def keypadCombinations(number):\n",
    "    if number == 0:\n",
    "        return [\"\"]\n",
    "    \n",
    "    smallerInt = number//10\n",
    "    remDigit = number % 10\n",
    "    smallerOutput = keypadCombinations(smallerInt)\n",
    "    \n",
    "    output = []\n",
    "    for i in range(len(smallerOutput)):\n",
    "        for j in returnKeypad(remDigit):\n",
    "            option = smallerOutput[i] + j\n",
    "            output.append(option)\n",
    "    \n",
    "    return output\n",
    "(keypadCombinations(234))\n",
    "    "
   ]
  },
  {
   "cell_type": "code",
   "execution_count": null,
   "metadata": {},
   "outputs": [],
   "source": [
    "# inbuilt stack and queues\n",
    "# for inbuilt stack we can simply use list\n",
    "print(\"stack using list\")\n",
    "s = [1,2,3]\n",
    "s.append(4)\n",
    "s.append(5)\n",
    "\n",
    "print(s.pop())\n",
    "print(s.pop())\n",
    "\n",
    "\n",
    "# for queue\n",
    "import queue\n",
    "print(\"queue\")\n",
    "q = queue.Queue()\n",
    "q.put(1)\n",
    "q.put(2)\n",
    "q.put(3)\n",
    "q.put(4)\n",
    "q.put(5)\n",
    "while not q.empty():\n",
    "    print(q.get()) # dequeue the element\n",
    "    \n",
    "    \n",
    "# for stack \n",
    "print(\"stack\")\n",
    "y = queue.LifoQueue()\n",
    "y.put(1)\n",
    "y.put(2)\n",
    "y.put(3)\n",
    "while not y.empty():\n",
    "    print(y.get())\n"
   ]
  },
  {
   "cell_type": "code",
   "execution_count": null,
   "metadata": {},
   "outputs": [],
   "source": [
    "def sortedSquares(nums):\n",
    "    firstPointer = 0\n",
    "    secondPointer = len(nums) - 1\n",
    "    squares = []\n",
    "    while secondPointer >= firstPointer:\n",
    "        if abs(nums[firstPointer]) >= abs(nums[secondPointer]):\n",
    "            squares.append(nums[firstPointer]**2) \n",
    "            firstPointer += 1\n",
    "        else:\n",
    "            squares.append(nums[secondPointer]**2)\n",
    "            secondPointer -= 1\n",
    "    squares.reverse()\n",
    "    return squares\n",
    "sortedSquares([-4,-1,0,3,10])"
   ]
  },
  {
   "cell_type": "markdown",
   "metadata": {},
   "source": [
    "Sliding Window "
   ]
  },
  {
   "cell_type": "code",
   "execution_count": null,
   "metadata": {},
   "outputs": [],
   "source": [
    "# 643. Maximum Average Subarray I\n",
    "def maxAvgSubarray(array, k):\n",
    "    firstPointer = 0\n",
    "    secondPointer = k\n",
    "    currAvg = 0\n",
    "    \n",
    "    for i in range(k):\n",
    "        currAvg += array[i]\n",
    "    currAvg = currAvg/k\n",
    "    maxAvg = currAvg\n",
    "    while secondPointer < len(array):\n",
    "        currAvg += (array[secondPointer] - array[firstPointer])/k\n",
    "        if currAvg > maxAvg:\n",
    "            maxAvg = currAvg\n",
    "        firstPointer += 1\n",
    "        secondPointer += 1\n",
    "    return maxAvg\n",
    "\n",
    "maxAvgSubarray([1,12,-5,-6,50,3], 4)\n",
    "# Done        "
   ]
  },
  {
   "cell_type": "code",
   "execution_count": null,
   "metadata": {},
   "outputs": [],
   "source": [
    "# 1708. Largest Subarray Length K\n",
    "\"\"\"Input: nums = [1,4,5,2,3], k = 3\n",
    "Output: [5,2,3]\n",
    "Explanation: The subarrays of size 3 are: [1,4,5], [4,5,2], and [5,2,3].\n",
    "Of these, [5,2,3] is the largest.\"\"\"\n",
    "def largestSubarray(array, k):\n",
    "    firstPointer = 0\n",
    "    secondPointer = k\n",
    "    res = []\n",
    "    for i in range(k):\n",
    "        res.append(array[i])\n",
    "    while secondPointer < len(array):\n",
    "        if array[firstPointer] < array[firstPointer + 1]:\n",
    "            for i in range(firstPointer + 1, firstPointer + k + 1):\n",
    "                res[i] = array[i]\n",
    "            firstPointer += 1\n",
    "            secondPointer += 1\n",
    "#         elif"
   ]
  },
  {
   "cell_type": "code",
   "execution_count": null,
   "metadata": {},
   "outputs": [],
   "source": [
    "# Two Pointer -- In problems where we deal with sorted arrays (or LinkedLists) \n",
    "# and need to find a set of elements that fulfill certain constraint."
   ]
  },
  {
   "cell_type": "code",
   "execution_count": null,
   "metadata": {},
   "outputs": [],
   "source": [
    "def isAnagram(s, t):\n",
    "    s = sorted(s)\n",
    "    print(s,t)\n",
    "    return sorted(s) == sorted(t)\n",
    "isAnagram(\"shivam\", \"mavish\")"
   ]
  },
  {
   "cell_type": "code",
   "execution_count": null,
   "metadata": {},
   "outputs": [],
   "source": [
    "def intersection(nums1, nums2):    \n",
    "    nums1 = set(nums1)\n",
    "    nums2 = set(nums2)\n",
    "    print(nums1, nums2)\n",
    "    res = nums2.intersection(nums1)\n",
    "    return res\n",
    "intersection([1,2,2,1], [2,2])"
   ]
  },
  {
   "cell_type": "code",
   "execution_count": null,
   "metadata": {},
   "outputs": [],
   "source": [
    "def moveZeroes(nums):\n",
    "    \"\"\"\n",
    "    Do not return anything, modify nums in-place instead.\n",
    "    \n",
    "    \"\"\"\n",
    "    if len(nums) < 2:\n",
    "        return nums\n",
    "    firstPointer = 0\n",
    "    secondPointer = 1\n",
    "    while secondPointer < len(nums):\n",
    "        if nums[firstPointer] == 0 and nums[secondPointer] != 0:\n",
    "            nums[firstPointer], nums[secondPointer] = nums[secondPointer], nums[firstPointer]\n",
    "            firstPointer += 1\n",
    "            secondPointer += 1\n",
    "        elif nums[firstPointer] == 0 and nums[secondPointer] == 0:\n",
    "            secondPointer += 1\n",
    "        else:\n",
    "            firstPointer += 1\n",
    "            secondPointer += 1\n",
    "            \n",
    "    return nums\n",
    "\n",
    "moveZeroes([0,1,0,3,12])\n"
   ]
  },
  {
   "cell_type": "code",
   "execution_count": 1,
   "metadata": {},
   "outputs": [
    {
     "data": {
      "text/plain": [
       "5"
      ]
     },
     "execution_count": 1,
     "metadata": {},
     "output_type": "execute_result"
    }
   ],
   "source": [
    "def removeDuplicates(nums):\n",
    "    if len(nums) < 2:\n",
    "        return len(nums)\n",
    "        \n",
    "    firstPointer = 0\n",
    "    secondPointer = 1\n",
    "    \n",
    "    count = 1\n",
    "    while secondPointer < len(nums):\n",
    "        if nums[firstPointer] == nums[secondPointer]:\n",
    "            secondPointer += 1\n",
    "        else:\n",
    "            count += 1\n",
    "            firstPointer = secondPointer\n",
    "            secondPointer += 1\n",
    "            \n",
    "    return count\n",
    "\n",
    "removeDuplicates([0,0,1,1,1,2,2,3,3,3,4])  \n",
    "# what if we dont need count instead we need nums\n",
    "    "
   ]
  },
  {
   "cell_type": "code",
   "execution_count": null,
   "metadata": {},
   "outputs": [],
   "source": [
    "# def stringSearch(string, pattern):\n",
    "#     if len(string) == 1 and len(pattern) == 1:\n",
    "#         if string[0] == pattern[0]:\n",
    "#             return 0\n",
    "        \n",
    "#     if len(string) == 0 or len(pattern) == 0:\n",
    "#         return \"Invalid Input\"\n",
    "      \n",
    "#     firstPointer = 0\n",
    "#     secondPointer = 1\n",
    "    \n",
    "#     patternPointer = 0\n",
    "    \n",
    "#     while secondPointer < len(string):\n",
    "#         if string[firstPointer] != pattern[patternPointer]:\n",
    "#             firstPointer += 1\n",
    "#             secondPointer += 1\n",
    "#             patternPointer = 0\n",
    "#         else:\n",
    "#             secondPointer += 1\n",
    "            \n",
    "#             Nice Try\n",
    "\n",
    "def stringSearch(string, pattern):\n",
    "    n = len(string)\n",
    "    m = len(pattern)\n",
    "    i = 0\n",
    "    flag = False\n",
    "    while not flag and i <= n - m:\n",
    "        j = 0\n",
    "        while string[i + j] == pattern[j] and j < m:\n",
    "            j += 1\n",
    "            if j == m:\n",
    "                break\n",
    "        if j == m:\n",
    "            flag = True\n",
    "        else:\n",
    "            i += 1\n",
    "    if flag:\n",
    "        return i\n",
    "    else:\n",
    "        return \"Failure\"\n",
    "    \n",
    "stringSearch(\"vashivam\", \"va\")\n",
    "        "
   ]
  },
  {
   "cell_type": "code",
   "execution_count": 1,
   "metadata": {},
   "outputs": [],
   "source": [
    "class BTNode:\n",
    "    def __init__(self, data):\n",
    "        self.data = data\n",
    "        self.left_child = None\n",
    "        self.right_child = None"
   ]
  },
  {
   "cell_type": "code",
   "execution_count": 2,
   "metadata": {},
   "outputs": [],
   "source": [
    "def printTree(root):\n",
    "    if root == None:\n",
    "        return\n",
    "#     if root.left_child == None and root.right_child == None:\n",
    "#         return None\n",
    "    print(root.data)\n",
    "    printTree(root.left_child)\n",
    "    printTree(root.right_child)"
   ]
  },
  {
   "cell_type": "code",
   "execution_count": 3,
   "metadata": {},
   "outputs": [],
   "source": [
    "def printTreeDetailed(root):\n",
    "    if root == None:\n",
    "        return\n",
    "#     if root.left_child == None and root.right_child == None:\n",
    "#         return None\n",
    "    print(root.data, end=\":\")\n",
    "    if root.left_child != None:\n",
    "        print(\"L\",root.left_child.data, end=\",\")\n",
    "    if root.right_child != None:\n",
    "        print(\"R\", root.right_child.data, end=\"\")\n",
    "    print()\n",
    "    printTreeDetailed(root.left_child)\n",
    "    printTreeDetailed(root.right_child)"
   ]
  },
  {
   "cell_type": "code",
   "execution_count": 4,
   "metadata": {},
   "outputs": [],
   "source": [
    "btn1 = BTNode(1)\n",
    "btn2 = BTNode(2)\n",
    "btn3 = BTNode(3)\n",
    "btn1.left_child = btn2\n",
    "btn1.right_child = btn3"
   ]
  },
  {
   "cell_type": "code",
   "execution_count": 5,
   "metadata": {},
   "outputs": [
    {
     "name": "stdout",
     "output_type": "stream",
     "text": [
      "1:L 2,R 3\n",
      "2:\n",
      "3:\n"
     ]
    }
   ],
   "source": [
    "printTreeDetailed(btn1)"
   ]
  },
  {
   "cell_type": "code",
   "execution_count": 31,
   "metadata": {},
   "outputs": [
    {
     "name": "stdin",
     "output_type": "stream",
     "text": [
      " 1\n",
      " 4\n",
      " 3\n",
      " -1\n",
      " -1\n",
      " -1\n",
      " 2\n",
      " -1\n",
      " -1\n"
     ]
    },
    {
     "name": "stdout",
     "output_type": "stream",
     "text": [
      "1:L 4,R 2\n",
      "4:L 3,\n",
      "3:\n",
      "2:\n",
      "1:L 4,\n",
      "4:\n"
     ]
    }
   ],
   "source": [
    "def inputBT():\n",
    "    rootData = int(input())\n",
    "    if rootData == -1:\n",
    "        return \n",
    "    root = BTNode(rootData)\n",
    "    leftTree = inputBT()\n",
    "    rightTree = inputBT()\n",
    "    root.left_child = leftTree\n",
    "    root.right_child = rightTree\n",
    "    return root\n",
    "def greaterThanX(root, x):\n",
    "    if root == None:\n",
    "        return 0\n",
    "    leftNode = greaterThanX(root.left_child, x)\n",
    "    rightNode = greaterThanX(root.right_child, x)\n",
    "#     if root.data > x:\n",
    "#         return 1 + leftNode + rightNode\n",
    "    return (1 if root.data > x else 0) + leftNode + rightNode\n",
    "\n",
    "\n",
    "def replaceNode_(root, level = 0):\n",
    "    if root == None:\n",
    "        return \n",
    "    root.data = level\n",
    "    leftTree = replaceNode_(root.left_child, level + 1)\n",
    "    rightTree = replaceNode_(root.right_child, level + 1)\n",
    "\n",
    "\n",
    "def removeLeafNodes(root):\n",
    "    if root == None:\n",
    "        return \n",
    "    if root.left_child == None and root.right_child == None:\n",
    "        return None\n",
    "    root.left_child = removeLeafNodes(root.left_child)\n",
    "    root.right_child = removeLeafNodes(root.right_child)\n",
    "    return root\n",
    "\n",
    "def mirrorBT(root):\n",
    "    if root == None:\n",
    "        return \n",
    "    leftTree = \n",
    "root = inputBT()\n",
    "printTreeDetailed(root)\n",
    "root = mirrorBT(root)\n",
    "printTreeDetailed(root)\n"
   ]
  },
  {
   "cell_type": "code",
   "execution_count": 25,
   "metadata": {},
   "outputs": [],
   "source": [
    "def numberOfNodes(root):\n",
    "    if root == None:\n",
    "        return 0\n",
    "    return 1 + numberOfNodes(root.left_child) + numberOfNodes(root.right_child)\n",
    "def sumOfNodes(root):\n",
    "    if root == None:\n",
    "        return 0\n",
    "    return root.data + sumOfNodes(root.left_child) + sumOfNodes(root.right_child)\n",
    "def largestNode(root):\n",
    "    if root == None:\n",
    "        return float(\"-inf\")\n",
    "    leftTree = largestNode(root.left_child)\n",
    "    rightTree = largestNode(root.right_child)\n",
    "    return max(root.data, leftTree, rightTree)\n",
    "def numberOfLeafNodes(root):\n",
    "    if root == None:\n",
    "        return 0\n",
    "\n",
    "    if root.left_child == None and root.right_child == None:\n",
    "        return 1\n",
    "    leftLeaf = numberOfLeafNodes(root.left_child)\n",
    "    rightLeaf = numberOfLeafNodes(root.right_child)\n",
    "    numberOfLeaves = leftLeaf + rightLeaf\n",
    "    return numberOfLeaves\n",
    "def heightBT(root):\n",
    "    if root == None:\n",
    "        return 0\n",
    "    return 1 + max(heightBT(root.left_child), heightBT(root.right_child)) \n",
    "\n",
    "def greaterThanX(root, x):\n",
    "    if root == None:\n",
    "        return 0\n",
    "    leftNode = greaterThanX(root.left_child, x)\n",
    "    rightNode = greaterThanX(root.right_child, x)\n",
    "#     if root.data > x:\n",
    "#         return 1 + leftNode + rightNode\n",
    "    return (1 if root.data > x else 0) + leftNode + rightNode\n",
    "\n"
   ]
  },
  {
   "cell_type": "code",
   "execution_count": 19,
   "metadata": {},
   "outputs": [
    {
     "name": "stdout",
     "output_type": "stream",
     "text": [
      "4\n",
      "10\n",
      "4\n",
      "2\n",
      "3\n"
     ]
    }
   ],
   "source": [
    "root = inputBT()\n",
    "printTreeDetailed(root)\n",
    "print(greaterThanX(root, 2))\n",
    "print(numberOfNodes(root))\n",
    "print(sumOfNodes(root))\n",
    "print(largestNode(root))\n",
    "print(numberOfLeafNodes(root))\n",
    "print(heightBT(root))\n"
   ]
  },
  {
   "cell_type": "code",
   "execution_count": null,
   "metadata": {},
   "outputs": [],
   "source": [
    "def binarySearchRec(array, low, high, target):\n",
    "#     Base Case\n",
    "    if low >= high:\n",
    "        return -1\n",
    "#     mid index\n",
    "    mid = (low + high)//2\n",
    "#    if found in the middle\n",
    "    if array[mid] == target:\n",
    "        return mid\n",
    "#     left searchspace\n",
    "    elif array[mid] > target:\n",
    "        return binarySearch(array, low, mid - 1, target)\n",
    "#     right searchspace\n",
    "    else:\n",
    "        return binarySearch(array, mid + 1, high, target)\n",
    "    \n",
    "def binarySearchIter(array, target):\n",
    "    if len(array) == 0:\n",
    "        return -1\n",
    "    \n",
    "    left = 0\n",
    "    right = len(array) - 1\n",
    "    while left <= right:\n",
    "        mid = (left + right)//2\n",
    "        if array[mid] == target:\n",
    "            return mid\n",
    "        elif array[mid] > target:\n",
    "            right = mid - 1\n",
    "        else:\n",
    "            left = mid + 1\n",
    "    return -1\n",
    "    \n",
    "array = [1,2,3,4,5,6,7,8,9,10]\n",
    "n = len(array)\n",
    "print(binarySearchRec(array, 0, n, 3))\n",
    "print(binarySearchIter(array, 4))"
   ]
  },
  {
   "cell_type": "code",
   "execution_count": null,
   "metadata": {},
   "outputs": [],
   "source": [
    "# def minSubArrayLen(target, nums):\n",
    "#     n = len(nums)\n",
    "#     if n == 1:\n",
    "#         return 1 if nums[0] == target else 0 \n",
    "#     firstPointer = 0\n",
    "#     secondPointer = 0\n",
    "#     currSum = 0\n",
    "#     minLen = float(\"inf\")\n",
    "#     currLen = float(\"inf\")\n",
    "#     while secondPointer < n:\n",
    "#         while currSum < target:\n",
    "#             currSum += nums[secondPointer]\n",
    "#             secondPointer += 1\n",
    "#         if currSum == target:\n",
    "#             print(currSum)\n",
    "#             currLen = secondPointer - firstPointer - 1\n",
    "#             if currLen < minLen:\n",
    "#                 minLen = currLen\n",
    "#             currSum -= nums[firstPointer]\n",
    "#             firstPointer += 1\n",
    "\n",
    "#     return minLen\n",
    "# print(1)    \n",
    "# print(minSubArrayLen(7, [2,3,1,2,4,3]))\n",
    "\n",
    "\n",
    "# Kya bawal hai ye ?"
   ]
  },
  {
   "cell_type": "code",
   "execution_count": 4,
   "metadata": {},
   "outputs": [
    {
     "name": "stdout",
     "output_type": "stream",
     "text": [
      "4\n",
      "3\n",
      "2\n",
      "1\n",
      "-1\n"
     ]
    }
   ],
   "source": [
    "# Stack Implementation using array\n",
    "class Stack:\n",
    "    def __init__(self):\n",
    "        self.array = []\n",
    "        self.size = 0\n",
    "        \n",
    "    def push(self, val):\n",
    "        self.array.append(val)  #   We do need to check if our array is full as it is a dynamic array\n",
    "        self.size += 1\n",
    "    \n",
    "    def pop(self):\n",
    "        if self.isEmpty():   #   check if the stack is empty\n",
    "            return -1\n",
    "        self.size -= 1\n",
    "        return self.array.pop()\n",
    "    \n",
    "    def top(self):\n",
    "        if self.isEmpty():\n",
    "            return -1\n",
    "        return self.array[-1] #Return the last element of the array\n",
    "    \n",
    "    def isEmpty(self):\n",
    "        return self.size == 0\n",
    "    \n",
    "test = Stack()\n",
    "test.push(1)\n",
    "test.push(2)\n",
    "test.push(3)\n",
    "test.push(4)\n",
    "test.top()\n",
    "while not test.isEmpty():\n",
    "    print(test.pop())\n",
    "print(test.top())"
   ]
  },
  {
   "cell_type": "code",
   "execution_count": 15,
   "metadata": {},
   "outputs": [
    {
     "name": "stdout",
     "output_type": "stream",
     "text": [
      "4\n",
      "2\n",
      "1\n",
      "['(', '(', '(']\n",
      "['(', '(']\n",
      "['(']\n"
     ]
    },
    {
     "data": {
      "text/plain": [
       "True"
      ]
     },
     "execution_count": 15,
     "metadata": {},
     "output_type": "execute_result"
    }
   ],
   "source": [
    "# Implementation of Stack using ll\n",
    "class Node:\n",
    "    def __init__(self, val):\n",
    "        self.val = val\n",
    "        self.next = None\n",
    "        \n",
    "class StackLL:\n",
    "    def __init__(self):\n",
    "        self.head = None\n",
    "        self.size = 0\n",
    "        \n",
    "    def push(self, val):\n",
    "        newNode = Node(val)\n",
    "        self.size += 1\n",
    "        newNode.next = self.head\n",
    "        self.head = newNode\n",
    "    \n",
    "    def pop(self):\n",
    "        if not self.head:\n",
    "            return -1\n",
    "        temp = self.head.val\n",
    "        self.size -= 1\n",
    "        self.head = self.head.next\n",
    "        return temp\n",
    "        \n",
    "    def top(self):\n",
    "        if self.isEmpty():\n",
    "            return -1\n",
    "        return self.head.val\n",
    "    \n",
    "    def isEmpty(self):\n",
    "        return self.size == 0\n",
    "    \n",
    "    def isBalanced(self, string):\n",
    "        account = {\"}\":\"{\", \")\":\"(\", \"]\":\"[\"}\n",
    "        openBracket = \"({[\"\n",
    "        stack = []\n",
    "        for i in string:\n",
    "            if i in openBracket:\n",
    "                stack.append(i)\n",
    "            else:\n",
    "                print(stack)\n",
    "                if not stack or i == \"}\" and stack[-1] != \"{\":\n",
    "                    return False\n",
    "                elif not stack or i == \")\" and stack[-1] != \"(\":\n",
    "                    return False\n",
    "                elif not stack or i == \"]\" and stack[-1] != \"[\":\n",
    "                    return False\n",
    "                stack.pop()\n",
    "        if len(stack) == 0:\n",
    "            return True\n",
    "        else:\n",
    "            return False\n",
    "                \n",
    "\n",
    "test = StackLL()\n",
    "test.push(1)\n",
    "test.push(2)\n",
    "test.push(4)\n",
    "while not test.isEmpty():\n",
    "    print(test.pop())\n",
    "test.isBalanced(\"((()))\")"
   ]
  },
  {
   "cell_type": "code",
   "execution_count": 50,
   "metadata": {},
   "outputs": [
    {
     "name": "stdout",
     "output_type": "stream",
     "text": [
      "5\n",
      "1\n",
      "2\n",
      "3\n",
      "4\n",
      "5\n",
      "0\n"
     ]
    }
   ],
   "source": [
    "# Implementation of Queue using array\n",
    "class Queue:\n",
    "    def __init__(self):\n",
    "        self.front = 0\n",
    "        self.size = 0\n",
    "        self.queue = []\n",
    "        \n",
    "    def enqueue(self, val):\n",
    "        self.queue.append(val)\n",
    "        self.size += 1\n",
    "    \n",
    "    def dequeue(self):\n",
    "        if self.size == 0:\n",
    "            return -1\n",
    "        ele = self.queue[self.front]\n",
    "        self.front += 1\n",
    "        self.size -= 1\n",
    "        return ele\n",
    "    \n",
    "    def isEmpty(self):\n",
    "        return self.size == 0\n",
    "    \n",
    "    def getSize(self):\n",
    "        return self.size\n",
    "    \n",
    "    def frontEle(self):\n",
    "        if self.size == 0:\n",
    "            return -1\n",
    "        return self.queue[self.front]\n",
    "\n",
    "test = Queue()\n",
    "test.enqueue(1)\n",
    "test.enqueue(2)\n",
    "test.enqueue(3)\n",
    "test.enqueue(4)\n",
    "test.enqueue(5)\n",
    "print(test.getSize())\n",
    "while not test.isEmpty():\n",
    "    print(test.dequeue())\n",
    "print(test.getSize())\n"
   ]
  },
  {
   "cell_type": "code",
   "execution_count": 54,
   "metadata": {},
   "outputs": [
    {
     "name": "stdout",
     "output_type": "stream",
     "text": [
      "4\n",
      "1\n",
      "3\n",
      "4\n",
      "5\n",
      "0\n"
     ]
    }
   ],
   "source": [
    "# Implementation of Queue using LL\n",
    "class Node:\n",
    "    def __init__(self, val):\n",
    "        self.val = val\n",
    "        self.next = None\n",
    "class QueueLL:\n",
    "    def __init__(self):\n",
    "        self.head = None\n",
    "        self.size = 0\n",
    "        self.tail = None\n",
    "        \n",
    "    def enqueue(self, val):\n",
    "        newNode = Node(val)\n",
    "        if self.head == None:\n",
    "            self.head = newNode\n",
    "            self.tail = newNode\n",
    "        else:\n",
    "            self.tail.next = newNode\n",
    "            self.tail = newNode\n",
    "        self.size += 1\n",
    "        \n",
    "    def dequeue(self):\n",
    "        if self.size == 0:\n",
    "            return -1\n",
    "        val = self.head.val\n",
    "        self.head = self.head.next\n",
    "        self.size -= 1\n",
    "        return val\n",
    "    \n",
    "    def isEmpty(self):\n",
    "        return self.size == 0\n",
    "    \n",
    "    def getSize(self):\n",
    "        return self.size\n",
    "    \n",
    "    def getFront(self):\n",
    "        if self.size == 0:\n",
    "            return -1\n",
    "        return self.head.val\n",
    "    \n",
    "    \n",
    "test = QueueLL()\n",
    "test.enqueue(1)\n",
    "# test.enqueue(2)\n",
    "test.enqueue(3)\n",
    "test.enqueue(4)\n",
    "test.enqueue(5)\n",
    "print(test.getSize())\n",
    "while not test.isEmpty():\n",
    "    print(test.dequeue())\n",
    "print(test.getSize())"
   ]
  },
  {
   "cell_type": "code",
   "execution_count": 62,
   "metadata": {},
   "outputs": [
    {
     "name": "stdout",
     "output_type": "stream",
     "text": [
      "2\n",
      "2\n",
      "3\n"
     ]
    }
   ],
   "source": [
    "# Find the duplicate in the array of N + 1 integers\n",
    "\n",
    "# Method Zero - Brute Force\n",
    "def findDuplicateBF(array):\n",
    "    for i in range(len(array)):\n",
    "        for j in range(i + 1, len(array)):\n",
    "            if array[i] == array[j]:\n",
    "                return array[i]\n",
    "    \n",
    "    \n",
    "\n",
    "# Method one - Use Dictionary/ Set\n",
    "def findDuplicate(array):\n",
    "    keep_account = set()\n",
    "    for i in array:\n",
    "        if i not in keep_account:\n",
    "            keep_account.add(i)\n",
    "        else:\n",
    "            return i\n",
    "        \n",
    "# Method two - Use XOR , we know 0^x = x and x^x = 0\n",
    "def findDuplicateXOR(array):\n",
    "    res = 0\n",
    "    for i in array:\n",
    "        res = res ^ i\n",
    "        \n",
    "    for i in range(len(array)):\n",
    "        res = res ^ i\n",
    "    return res\n",
    "print(findDuplicateBF([1,3,4,2,2]))\n",
    "print(findDuplicate([1,3,4,2,2]))\n",
    "print(findDuplicateXOR([3,1,3,4,2]))"
   ]
  },
  {
   "cell_type": "code",
   "execution_count": 64,
   "metadata": {},
   "outputs": [
    {
     "data": {
      "text/plain": [
       "[0, 0, 1, 1, 2, 2]"
      ]
     },
     "execution_count": 64,
     "metadata": {},
     "output_type": "execute_result"
    }
   ],
   "source": [
    "# Sort an array of 0, 1, 2 without using extra space -- Dutch National Flag Problem\n",
    "\n",
    "# Method 1 - By using extra space\n",
    "# count how many 0s, 1s, and 2s are there then append in new array\n",
    "\n",
    "# Method 2 - Without using extra space\n",
    "def dutchNationalFlag(array):\n",
    "    lo = 0\n",
    "    mid = 0\n",
    "    hi = len(array) - 1\n",
    "    while mid <= hi:\n",
    "        if array[mid] == 0:\n",
    "            array[lo], array[mid] = array[mid], array[lo]\n",
    "            lo += 1\n",
    "            mid += 1\n",
    "        elif array[mid] == 1:\n",
    "            mid += 1\n",
    "        else:\n",
    "            array[mid], array[hi] = array[hi], array[mid]\n",
    "            hi -= 1\n",
    "    return array\n",
    "dutchNationalFlag([2,2,1,1,0,0])"
   ]
  },
  {
   "cell_type": "code",
   "execution_count": 69,
   "metadata": {},
   "outputs": [
    {
     "data": {
      "text/plain": [
       "[]"
      ]
     },
     "execution_count": 69,
     "metadata": {},
     "output_type": "execute_result"
    }
   ],
   "source": [
    "def subset_sum(nums, target, output):\n",
    "    if target == 0 or len(nums) == 0:\n",
    "        return []\n",
    "    if nums[0] < target:\n",
    "        output1 = output + [nums[0]]\n",
    "        return subset_sum(nums[1:], target - nums[0])\n",
    "    else:\n",
    "        return subset_sum(nums[1:], target)\n",
    "\n",
    "\n",
    "subset_sum([1,2,3], 1, [])"
   ]
  },
  {
   "cell_type": "code",
   "execution_count": null,
   "metadata": {},
   "outputs": [],
   "source": [
    "# Repeat and missing number\n",
    "def findRepeatandMissing(array):\n",
    "    pass"
   ]
  },
  {
   "cell_type": "code",
   "execution_count": 30,
   "metadata": {},
   "outputs": [
    {
     "data": {
      "text/plain": [
       "[1, 2, 3]"
      ]
     },
     "execution_count": 30,
     "metadata": {},
     "output_type": "execute_result"
    }
   ],
   "source": [
    "# Merge Two sorted array without extra space\n",
    "def merge(array1, array2):\n",
    "    if not array1:\n",
    "        return array2\n",
    "    if not array2:\n",
    "        return array1\n",
    "    if array1[0] > array2[0]:\n",
    "        return [array2[0]] + merge(array1, array2[1:])\n",
    "    else:\n",
    "        return [array1[0]] + merge(array1[1:], array2)\n",
    "    \n",
    "merge([], [1,2,3])"
   ]
  },
  {
   "cell_type": "code",
   "execution_count": 34,
   "metadata": {},
   "outputs": [
    {
     "data": {
      "text/plain": [
       "[1, 2, 3, 4, 5, 6, 7, 8, 9]"
      ]
     },
     "execution_count": 34,
     "metadata": {},
     "output_type": "execute_result"
    }
   ],
   "source": [
    "def mergeSort(array):\n",
    "    if len(array) <= 1:\n",
    "        return array\n",
    "    else:\n",
    "        mid = len(array)//2\n",
    "        return merge(mergeSort(array[:mid]), mergeSort(array[mid:]))\n",
    "    \n",
    "mergeSort([9, 8, 7, 6, 5, 4, 3, 2, 1])"
   ]
  },
  {
   "cell_type": "code",
   "execution_count": null,
   "metadata": {},
   "outputs": [],
   "source": [
    "# Kadane's Algorithm\n",
    "def kadaneAlgo(array):\n",
    "    pass"
   ]
  },
  {
   "cell_type": "code",
   "execution_count": null,
   "metadata": {},
   "outputs": [],
   "source": [
    "# Merge overlapping subintervals\n",
    "def mergeOverlappingInterval():\n",
    "    pass"
   ]
  },
  {
   "cell_type": "code",
   "execution_count": null,
   "metadata": {},
   "outputs": [],
   "source": [
    "# Set matrix zero\n",
    "def setMatrixZero(matrix):\n",
    "    pass"
   ]
  },
  {
   "cell_type": "code",
   "execution_count": null,
   "metadata": {},
   "outputs": [],
   "source": [
    "# Pattern Pascal Triangle\n",
    "def pascalTriangle(n):\n",
    "    pass"
   ]
  },
  {
   "cell_type": "code",
   "execution_count": 79,
   "metadata": {},
   "outputs": [
    {
     "data": {
      "text/plain": [
       "[1, 3, 2]"
      ]
     },
     "execution_count": 79,
     "metadata": {},
     "output_type": "execute_result"
    }
   ],
   "source": [
    "# Next permutation\n",
    "def nextPermutation(array):\n",
    "    n = len(array)\n",
    "    for i in range(n-1, 0, -1):\n",
    "        if array[i] > array[i-1]:\n",
    "            array[i], array[i-1] = array[i-1], array[i]\n",
    "            return array\n",
    "nextPermutation([1,2,3])"
   ]
  },
  {
   "cell_type": "code",
   "execution_count": null,
   "metadata": {},
   "outputs": [],
   "source": [
    "# Inversion of Array\n",
    "def inversionArray(array):\n",
    "    pass"
   ]
  },
  {
   "cell_type": "code",
   "execution_count": null,
   "metadata": {},
   "outputs": [],
   "source": [
    "# Stock buy and sell\n",
    "def stockBuyAndSell(stcoks):\n",
    "    pass    "
   ]
  },
  {
   "cell_type": "code",
   "execution_count": null,
   "metadata": {},
   "outputs": [],
   "source": [
    "# Rotate Matrix\n",
    "def rotateMatrix(matrix):\n",
    "    pass"
   ]
  },
  {
   "cell_type": "code",
   "execution_count": 78,
   "metadata": {},
   "outputs": [
    {
     "data": {
      "text/plain": [
       "5"
      ]
     },
     "execution_count": 78,
     "metadata": {},
     "output_type": "execute_result"
    }
   ],
   "source": [
    "# Subset Sum \n",
    "\n",
    "array = [1,1,1,1,1]\n",
    "target = 3\n",
    "k = (target + sum(array))//2\n",
    "def subset_sum(array, k):\n",
    "    if len(array) == 0:\n",
    "        if k == 0:\n",
    "            return 1\n",
    "        else:\n",
    "            return 0\n",
    "    return subset_sum(array[1:], k - array[0]) + subset_sum(array[1:], k)\n",
    "\n",
    "subset_sum(array, k)"
   ]
  },
  {
   "cell_type": "code",
   "execution_count": 28,
   "metadata": {},
   "outputs": [
    {
     "data": {
      "text/plain": [
       "[[1, 0, 0], [1, 1, 0], [1, 2, 1], [1, 3, 3]]"
      ]
     },
     "execution_count": 28,
     "metadata": {},
     "output_type": "execute_result"
    }
   ],
   "source": [
    "# n = int(input())\n",
    "# r = int(input())\n",
    "\n",
    "def binomialCoefficient(n, r):\n",
    "    dp = [[0 for i in range(r+1)] for i in range(n+1)]\n",
    "#     dp = [[0]*(r+1)]*(n+1)\n",
    "#     print(dp)\n",
    "    for i in range(0, n+1):\n",
    "        for j in range(0, r+1):\n",
    "            if j == 0 or i == j:\n",
    "                dp[i][j] = 1\n",
    "            else:\n",
    "                dp[i][j] = dp[i-1][j-1] + dp[i-1][j]\n",
    "#     return binomialCoefficient(n-1, r-1) + binomialCoefficient(n-1, r)\n",
    "    return dp\n",
    "binomialCoefficient(3, 2)\n"
   ]
  },
  {
   "cell_type": "code",
   "execution_count": 33,
   "metadata": {},
   "outputs": [
    {
     "ename": "IndexError",
     "evalue": "list index out of range",
     "output_type": "error",
     "traceback": [
      "\u001b[1;31m---------------------------------------------------------------------------\u001b[0m",
      "\u001b[1;31mIndexError\u001b[0m                                Traceback (most recent call last)",
      "\u001b[1;32m<ipython-input-33-7ed450674289>\u001b[0m in \u001b[0;36m<module>\u001b[1;34m\u001b[0m\n\u001b[0;32m     11\u001b[0m \u001b[1;31m#     return binomialCoefficient(n-1, r-1) + binomialCoefficient(n-1, r)\u001b[0m\u001b[1;33m\u001b[0m\u001b[1;33m\u001b[0m\u001b[1;33m\u001b[0m\u001b[0m\n\u001b[0;32m     12\u001b[0m     \u001b[1;32mreturn\u001b[0m \u001b[0mdp\u001b[0m\u001b[1;33m\u001b[0m\u001b[1;33m\u001b[0m\u001b[0m\n\u001b[1;32m---> 13\u001b[1;33m \u001b[0mbinomialCoefficient\u001b[0m\u001b[1;33m(\u001b[0m\u001b[1;36m4\u001b[0m\u001b[1;33m,\u001b[0m\u001b[1;36m3\u001b[0m\u001b[1;33m)\u001b[0m\u001b[1;33m\u001b[0m\u001b[1;33m\u001b[0m\u001b[0m\n\u001b[0m",
      "\u001b[1;32m<ipython-input-33-7ed450674289>\u001b[0m in \u001b[0;36mbinomialCoefficient\u001b[1;34m(n, r)\u001b[0m\n\u001b[0;32m      8\u001b[0m                 \u001b[0mdp\u001b[0m\u001b[1;33m[\u001b[0m\u001b[0mi\u001b[0m\u001b[1;33m]\u001b[0m\u001b[1;33m.\u001b[0m\u001b[0mappend\u001b[0m\u001b[1;33m(\u001b[0m\u001b[1;36m1\u001b[0m\u001b[1;33m)\u001b[0m\u001b[1;33m\u001b[0m\u001b[1;33m\u001b[0m\u001b[0m\n\u001b[0;32m      9\u001b[0m             \u001b[1;32melse\u001b[0m\u001b[1;33m:\u001b[0m\u001b[1;33m\u001b[0m\u001b[1;33m\u001b[0m\u001b[0m\n\u001b[1;32m---> 10\u001b[1;33m                 \u001b[0mdp\u001b[0m\u001b[1;33m[\u001b[0m\u001b[0mi\u001b[0m\u001b[1;33m]\u001b[0m\u001b[1;33m.\u001b[0m\u001b[0mappend\u001b[0m\u001b[1;33m(\u001b[0m\u001b[0mdp\u001b[0m\u001b[1;33m[\u001b[0m\u001b[0mi\u001b[0m\u001b[1;33m-\u001b[0m\u001b[1;36m1\u001b[0m\u001b[1;33m]\u001b[0m\u001b[1;33m[\u001b[0m\u001b[0mj\u001b[0m\u001b[1;33m-\u001b[0m\u001b[1;36m1\u001b[0m\u001b[1;33m]\u001b[0m \u001b[1;33m+\u001b[0m \u001b[0mdp\u001b[0m\u001b[1;33m[\u001b[0m\u001b[0mi\u001b[0m\u001b[1;33m-\u001b[0m\u001b[1;36m1\u001b[0m\u001b[1;33m]\u001b[0m\u001b[1;33m[\u001b[0m\u001b[0mj\u001b[0m\u001b[1;33m]\u001b[0m\u001b[1;33m)\u001b[0m\u001b[1;33m\u001b[0m\u001b[1;33m\u001b[0m\u001b[0m\n\u001b[0m\u001b[0;32m     11\u001b[0m \u001b[1;31m#     return binomialCoefficient(n-1, r-1) + binomialCoefficient(n-1, r)\u001b[0m\u001b[1;33m\u001b[0m\u001b[1;33m\u001b[0m\u001b[1;33m\u001b[0m\u001b[0m\n\u001b[0;32m     12\u001b[0m     \u001b[1;32mreturn\u001b[0m \u001b[0mdp\u001b[0m\u001b[1;33m\u001b[0m\u001b[1;33m\u001b[0m\u001b[0m\n",
      "\u001b[1;31mIndexError\u001b[0m: list index out of range"
     ]
    }
   ],
   "source": [
    "def binomialCoefficient(n, r):\n",
    "    dp = [[] for i in range(n+1)]\n",
    "#     dp = [[0]*(r+1)]*(n+1)\n",
    "#     print(dp)\n",
    "    for i in range(0, n+1):\n",
    "        for j in range(0, r+1):\n",
    "            if j == 0 or i == j:\n",
    "                dp[i].append(1)\n",
    "            else:\n",
    "                dp[i].append(dp[i-1][j-1] + dp[i-1][j])\n",
    "#     return binomialCoefficient(n-1, r-1) + binomialCoefficient(n-1, r)\n",
    "    return dp\n",
    "binomialCoefficient(4,3)"
   ]
  },
  {
   "cell_type": "code",
   "execution_count": null,
   "metadata": {},
   "outputs": [],
   "source": [
    "\"\"\"BFS Psuedocode\n",
    "\n",
    "BFS(src, adj)\n",
    "    level = {src:0}\n",
    "    parent = {src:None}\n",
    "    i = 0\n",
    "    frontier = queue()\n",
    "    while frontier:\n",
    "        next = []\n",
    "        ele = queue.pop()\n",
    "        for u in frontier:\n",
    "            for v in adj[u]:\n",
    "                if v not in level:\n",
    "                    level[v] = i\n",
    "                    parent[v] = u\n",
    "        frontier = next\n",
    "        i += 1       \n",
    "        \n",
    "\"\"\"    \n",
    "    "
   ]
  },
  {
   "cell_type": "code",
   "execution_count": null,
   "metadata": {},
   "outputs": [],
   "source": [
    "\"\"\"\n",
    "DFS(V, Adj):\n",
    "    parent = {scr:None}\n",
    "    for u in vertices:\n",
    "        if u not in parent:\n",
    "            parent[u] = None\n",
    "            dfs-visit(u, adj)\n",
    "            \n",
    "DFS-visit(s, adj):\n",
    "    for v in adj[s]:\n",
    "        if v not in parent:\n",
    "            parent[v] = s\n",
    "            dfs-visit(v, adj)\n",
    "            \"\"\""
   ]
  },
  {
   "cell_type": "code",
   "execution_count": null,
   "metadata": {},
   "outputs": [],
   "source": [
    "\"\"\"\n",
    "Kahn's Algorithm\n",
    "Five Components = Result(return), indegree(array), pre-requisites(array of tuples)\n",
    ", index, zero-degree(queue)\n",
    "\n",
    "if num_courses = 0:\n",
    "    return []\n",
    "if len(pre-requisites) == 0:\n",
    "    return [i for i in range(nums_courses)]\n",
    "    \n",
    "indegree = [0]*nums_courses\n",
    "zero_degree = dequeue()\n",
    "for pre in pre-requisites:\n",
    "    indegree[pre[0]] += 1\n",
    "for i in range(len(indegree)):\n",
    "    if indegree[i] == 0:\n",
    "    zero_degree.append(i)\n",
    "    \n",
    "if not zero_degree:\n",
    "    return []\n",
    "\n",
    "index = 0\n",
    "while zero_degrees:\n",
    "    course = zero_degree.popleft()\n",
    "    result[index] = course\n",
    "    index += 1\n",
    "    for pre in prerequisites:\n",
    "        indegree[pre[1]] -= 1\n",
    "        \n",
    "        To be continued\"\"\""
   ]
  },
  {
   "cell_type": "code",
   "execution_count": null,
   "metadata": {},
   "outputs": [],
   "source": [
    "def LIS_recur(array, i, n):\n",
    "    if i == n:\n",
    "        return (0, 0)\n",
    "    for j in range(i + 1, len(array)):\n",
    "        if array[j] >= array[i]:\n",
    "            furtherIncludingMax = LIS(array, i+1, n)[0]\n",
    "            includingMax = max(includingMax, 1 + furtherIncludingMax)\n",
    "    excludingMax = LIS(array, i + 1, n)"
   ]
  },
  {
   "cell_type": "code",
   "execution_count": null,
   "metadata": {},
   "outputs": [],
   "source": [
    "# Day 14"
   ]
  },
  {
   "cell_type": "code",
   "execution_count": 10,
   "metadata": {},
   "outputs": [
    {
     "data": {
      "text/plain": [
       "[3, 1, 1, -1]"
      ]
     },
     "execution_count": 10,
     "metadata": {},
     "output_type": "execute_result"
    }
   ],
   "source": [
    "def nextSmallestElement(array):\n",
    "    output = []\n",
    "    stack = []\n",
    "    \n",
    "    for i in range(len(array)-1, -1, -1):\n",
    "        if stack:\n",
    "            while stack[-1] > array[i]:\n",
    "                stack.pop()\n",
    "                if len(stack) == 0:\n",
    "                    output.append(-1)\n",
    "                    break\n",
    "            if len(stack) != 0:\n",
    "                output.append(stack[-1])\n",
    "        else:\n",
    "            output.append(-1)\n",
    "        stack.append(array[i])\n",
    "    output.reverse()\n",
    "    return output\n",
    "\n",
    "array = [3, 3, 1, 1]\n",
    "nextSmallestElement(array)\n",
    "                    "
   ]
  },
  {
   "cell_type": "code",
   "execution_count": 12,
   "metadata": {},
   "outputs": [
    {
     "data": {
      "text/plain": [
       "9"
      ]
     },
     "execution_count": 12,
     "metadata": {},
     "output_type": "execute_result"
    }
   ],
   "source": [
    "def kadaneAlgo(array):\n",
    "    bestSum = 0\n",
    "    currSum = 0\n",
    "    for i in range(len(array)):\n",
    "        if currSum < 0:\n",
    "            currSum = 0\n",
    "        currSum += array[i]\n",
    "        bestSum = max(currSum, bestSum)\n",
    "    return bestSum\n",
    "kadaneAlgo([1,2,3,-2,5])"
   ]
  },
  {
   "cell_type": "code",
   "execution_count": 15,
   "metadata": {},
   "outputs": [
    {
     "data": {
      "text/plain": [
       "0"
      ]
     },
     "execution_count": 15,
     "metadata": {},
     "output_type": "execute_result"
    }
   ],
   "source": [
    "from collections import defaultdict\n",
    "points = defaultdict(int)\n",
    "points[4]"
   ]
  },
  {
   "cell_type": "code",
   "execution_count": 19,
   "metadata": {},
   "outputs": [
    {
     "name": "stdout",
     "output_type": "stream",
     "text": [
      "[1, 3, 9, 7, 5]\n",
      "1\n",
      "3\n"
     ]
    }
   ],
   "source": [
    "import heapq\n",
    "li = [5, 7, 9, 1, 3]\n",
    "\n",
    "heapq.heapify(li)\n",
    "print(li)\n",
    "print(heapq.heappop(li))\n",
    "print(heapq.heappop(li))"
   ]
  },
  {
   "cell_type": "code",
   "execution_count": null,
   "metadata": {},
   "outputs": [],
   "source": [
    "def largestSumWithZeroSum(array):\n",
    "    prefixSum = []\n",
    "    indexAccount = {}\n",
    "    currSum = 0\n",
    "    for i in array:\n",
    "        currSum += i\n",
    "        \n",
    "        if currSum == 0:\n",
    "            return i + 1\n",
    "        \n",
    "        \n",
    "        \n",
    "    "
   ]
  },
  {
   "cell_type": "code",
   "execution_count": 34,
   "metadata": {},
   "outputs": [
    {
     "name": "stdout",
     "output_type": "stream",
     "text": [
      "0\n",
      "1\n",
      "2\n",
      "3\n",
      "4\n"
     ]
    }
   ],
   "source": [
    "for i in range(5):\n",
    "    print(i)"
   ]
  },
  {
   "cell_type": "code",
   "execution_count": 35,
   "metadata": {},
   "outputs": [
    {
     "name": "stdout",
     "output_type": "stream",
     "text": [
      "0\n",
      "1\n",
      "2\n",
      "3\n",
      "4\n"
     ]
    }
   ],
   "source": []
  },
  {
   "cell_type": "code",
   "execution_count": null,
   "metadata": {},
   "outputs": [],
   "source": []
  }
 ],
 "metadata": {
  "kernelspec": {
   "display_name": "Python 3",
   "language": "python",
   "name": "python3"
  },
  "language_info": {
   "codemirror_mode": {
    "name": "ipython",
    "version": 3
   },
   "file_extension": ".py",
   "mimetype": "text/x-python",
   "name": "python",
   "nbconvert_exporter": "python",
   "pygments_lexer": "ipython3",
   "version": "3.8.3"
  }
 },
 "nbformat": 4,
 "nbformat_minor": 4
}
