{
 "cells": [
  {
   "cell_type": "markdown",
   "metadata": {},
   "source": [
    "4 months course in 2 Days 1:29AM"
   ]
  },
  {
   "cell_type": "code",
   "execution_count": 58,
   "metadata": {},
   "outputs": [
    {
     "data": {
      "text/plain": [
       "[[1],\n",
       " [2, 3],\n",
       " [4, 5, 6, 7],\n",
       " [8, 9, 1, 2, 3, 4, 5, 6],\n",
       " [7, 8, 9, 1, 2, 3, 4, 5, 6, 7, 8, 9, 1, 2, 3, 4]]"
      ]
     },
     "execution_count": 58,
     "metadata": {},
     "output_type": "execute_result"
    }
   ],
   "source": [
    "\"\"\"0.1.Basic Test\"\"\"\n",
    "def powerOfNumber(number, power):\n",
    "    res = 1\n",
    "    for i in range(power):\n",
    "        res *= number\n",
    "    return res\n",
    "# Above solution only works for positive powers\n",
    "\n",
    "def alphaPattern(num):\n",
    "    for i in range(1, num + 1):\n",
    "        print(chr(ord(\"A\") + i - 1)*i)\n",
    "        \n",
    "def allPrimeNum(n):\n",
    "    pass\n",
    "\n",
    "# print first x terms of 3*n + 2 which are not multiples of 4\n",
    "def termsOfAP(x):\n",
    "    \"\"\"Best approach\"\"\"\n",
    "    first = 5\n",
    "    count = 0\n",
    "    result = []\n",
    "    while count < x:\n",
    "        if first%4 != 0 :\n",
    "            result.append(first)\n",
    "            count += 1\n",
    "        if count == x:\n",
    "            break\n",
    "            \n",
    "        first += 3\n",
    "    return result\n",
    "        \n",
    "    \"\"\"Better approach\"\"\"\n",
    "#     if x < 0:\n",
    "#         return []\n",
    "#     count = 0 \n",
    "#     i = 1\n",
    "#     result = []\n",
    "#     while count < x:\n",
    "#         res = 3*i + 2\n",
    "#         if res%4 != 0:\n",
    "#             result.append(res)\n",
    "#             count += 1\n",
    "#         i+=1\n",
    "        \n",
    "#     return result  \n",
    "         \n",
    "    \"\"\"Good approach\"\"\"   \n",
    "#     i = 1\n",
    "#     count = 0\n",
    "#     while True:\n",
    "#         res = 3*i + 2\n",
    "#         if (3*i + 2)%4 != 0:\n",
    "            \n",
    "#             print(res, end=\" \")\n",
    "#             count += 1\n",
    "#         if count == x:\n",
    "#             break\n",
    "#         i += 1\n",
    "\n",
    "    \n",
    "        \n",
    "def repeatingNumber(num):\n",
    "    count = 1\n",
    "    numOfCol = 2**(num-1)\n",
    "    col = 1\n",
    "    result = []\n",
    "    for i in range(1,num+1):\n",
    "        res = []\n",
    "        temp = col\n",
    "        while temp > 0:\n",
    "            res.append(count)\n",
    "            if count == 9:\n",
    "                count = 0\n",
    "            count += 1\n",
    "            \n",
    "            temp -= 1\n",
    "        result.append(res)\n",
    "        col *= 2\n",
    "    return result\n",
    "        \n",
    "    \n",
    "# print(powerOfNumber(-4, 2))\n",
    "# print(alphaPattern(5))\n",
    "# termsOfAP(10)\n",
    "# repeatingNumber(5)"
   ]
  },
  {
   "cell_type": "code",
   "execution_count": null,
   "metadata": {},
   "outputs": [],
   "source": [
    "# String Assignment "
   ]
  },
  {
   "cell_type": "code",
   "execution_count": 64,
   "metadata": {},
   "outputs": [
    {
     "data": {
      "text/plain": [
       "''"
      ]
     },
     "execution_count": 64,
     "metadata": {},
     "output_type": "execute_result"
    }
   ],
   "source": [
    "def removeConsecutiveDuplicates(string):\n",
    "    if len(string) <= 1:\n",
    "        return string\n",
    "    firstPointer = 0\n",
    "    secondPointer = 1\n",
    "    result = \"\"\n",
    "    while secondPointer < len(string):\n",
    "        \n",
    "        if string[secondPointer] == string[firstPointer]:\n",
    "            secondPointer += 1\n",
    "        else:\n",
    "            result += string[firstPointer]\n",
    "            firstPointer = secondPointer\n",
    "    result += string[len(string)-1]\n",
    "    return result\n",
    "removeConsecutiveDuplicates(\"\")\n",
    "    "
   ]
  },
  {
   "cell_type": "code",
   "execution_count": 75,
   "metadata": {},
   "outputs": [
    {
     "data": {
      "text/plain": [
       "'b'"
      ]
     },
     "execution_count": 75,
     "metadata": {},
     "output_type": "execute_result"
    }
   ],
   "source": [
    "def highestOccuringCharacter(string):\n",
    "    if len(string) <= 1:\n",
    "        return len(string)\n",
    "    string = sorted(string)\n",
    "    firstPointer = 0\n",
    "    secondPointer = 0\n",
    "    count = 0\n",
    "    maxCount = 0\n",
    "    while secondPointer < len(string):\n",
    "        \n",
    "        if string[secondPointer] == string[firstPointer]:\n",
    "            secondPointer += 1\n",
    "            count += 1\n",
    "            if count > maxCount:\n",
    "                maxCount = count\n",
    "                char = string[firstPointer]\n",
    "        else:\n",
    "            \n",
    "            count = 0\n",
    "            firstPointer = secondPointer\n",
    "    return char\n",
    "highestOccuringCharacter(\"aabbbccdd\")"
   ]
  },
  {
   "cell_type": "code",
   "execution_count": 76,
   "metadata": {},
   "outputs": [
    {
     "data": {
      "text/plain": [
       "'bc'"
      ]
     },
     "execution_count": 76,
     "metadata": {},
     "output_type": "execute_result"
    }
   ],
   "source": [
    "def removeChar(string, char):\n",
    "    result = \"\"\n",
    "    for i in string:\n",
    "        if i != char:\n",
    "            result += i\n",
    "    return result\n",
    "removeChar(\"aaaaabc\", \"a\")"
   ]
  },
  {
   "cell_type": "code",
   "execution_count": null,
   "metadata": {},
   "outputs": [],
   "source": [
    "def compressTheString(string):\n",
    "    count = 0 \n",
    "    pass"
   ]
  },
  {
   "cell_type": "markdown",
   "metadata": {},
   "source": [
    "Two-Dimensional Array"
   ]
  },
  {
   "cell_type": "code",
   "execution_count": 78,
   "metadata": {},
   "outputs": [
    {
     "name": "stdout",
     "output_type": "stream",
     "text": [
      "20 32 "
     ]
    }
   ],
   "source": [
    "def rowWiseSum(twoDArray):\n",
    "    for i in twoDArray:\n",
    "        rowSum = sum(i)\n",
    "        print(rowSum, end=\" \")\n",
    "# twoDArray = [[1,2],[3,4],[5,6],[7,8]]\n",
    "twoDArray = [[4,5,3,2,6],[7,5,3,8,9]]\n",
    "rowWiseSum(twoDArray)"
   ]
  },
  {
   "cell_type": "code",
   "execution_count": 83,
   "metadata": {},
   "outputs": [
    {
     "data": {
      "text/plain": [
       "(3, 1)"
      ]
     },
     "execution_count": 83,
     "metadata": {},
     "output_type": "execute_result"
    }
   ],
   "source": [
    "def rowWithMaxOnes(twoDArray):\n",
    "    maxOnes = 0\n",
    "    row = 0\n",
    "    for i in range(len(twoDArray)):\n",
    "        count = 0\n",
    "        for j in range(len(twoDArray[i])):\n",
    "            if twoDArray[i][j] == 1:\n",
    "                count += 1\n",
    "        if count > maxOnes:\n",
    "            maxOnes = count\n",
    "            row = i\n",
    "    return maxOnes, row\n",
    "twoDArray = [[0,1,1],\n",
    "           [1,1,1],\n",
    "           [0,0,1]]\n",
    "rowWithMaxOnes(twoDArray)\n",
    "        "
   ]
  },
  {
   "cell_type": "code",
   "execution_count": 87,
   "metadata": {},
   "outputs": [
    {
     "data": {
      "text/plain": [
       "[2, 1]"
      ]
     },
     "execution_count": 87,
     "metadata": {},
     "output_type": "execute_result"
    }
   ],
   "source": [
    "def reverseAnArray(arr):\n",
    "    if len(arr) <= 1:\n",
    "        return arr\n",
    "    firstPointer = 0\n",
    "    secondPointer = len(arr) - 1\n",
    "    while secondPointer > firstPointer:\n",
    "        arr[firstPointer], arr[secondPointer] = arr[secondPointer], arr[firstPointer]\n",
    "        firstPointer += 1\n",
    "        secondPointer -= 1\n",
    "    return arr\n",
    "reverseAnArray([1,2])\n",
    "        \n",
    "    "
   ]
  },
  {
   "cell_type": "code",
   "execution_count": 91,
   "metadata": {},
   "outputs": [
    {
     "data": {
      "text/plain": [
       "[0, 0, 1, 1, 2, 2]"
      ]
     },
     "execution_count": 91,
     "metadata": {},
     "output_type": "execute_result"
    }
   ],
   "source": [
    "def sort012(arr, n) :\n",
    "\n",
    "\t# write your code here\n",
    "    # don't return anything\n",
    "    low = 0 \n",
    "    mid = 0\n",
    "    high = n - 1\n",
    "    while mid <= high:\n",
    "        if arr[mid] == 0:\n",
    "            arr[low], arr[mid] = arr[mid], arr[low]\n",
    "            mid += 1\n",
    "            low += 1\n",
    "        elif arr[mid] == 1:\n",
    "            mid += 1\n",
    "        else:\n",
    "            arr[mid], arr[high] = arr[high], arr[mid]\n",
    "            high -= 1\n",
    "    return arr\n",
    "sort012([0,1,2,2,1,0],6)\n",
    "            \n",
    "    \n",
    "\n"
   ]
  },
  {
   "cell_type": "code",
   "execution_count": null,
   "metadata": {},
   "outputs": [],
   "source": [
    "def sumOfTwoArrays(arr1, arr2):\n",
    "    pass"
   ]
  },
  {
   "cell_type": "code",
   "execution_count": 1,
   "metadata": {},
   "outputs": [
    {
     "name": "stdout",
     "output_type": "stream",
     "text": [
      "[2, 2, 1, 0, 0, 1]\n"
     ]
    },
    {
     "data": {
      "text/plain": [
       "[0, 0, 1, 1, 2, 5]"
      ]
     },
     "execution_count": 1,
     "metadata": {},
     "output_type": "execute_result"
    }
   ],
   "source": [
    "def countingSort(arr):\n",
    "    maxArr = max(arr)\n",
    "    scoreCounts = [0]*(maxArr+1)\n",
    "    for i in range(len(arr)):\n",
    "        scoreCounts[arr[i]] += 1\n",
    "    \n",
    "    sortedArray = []\n",
    "    for i in range(len(scoreCounts)):\n",
    "        count = scoreCounts[i]\n",
    "        while count > 0:\n",
    "            sortedArray.append(i)\n",
    "            count -= 1\n",
    "    return sortedArray\n",
    "arr = [5,1,1,2,0,0]\n",
    "countingSort(arr)"
   ]
  },
  {
   "cell_type": "code",
   "execution_count": 7,
   "metadata": {},
   "outputs": [
    {
     "data": {
      "text/plain": [
       "9"
      ]
     },
     "execution_count": 7,
     "metadata": {},
     "output_type": "execute_result"
    }
   ],
   "source": [
    "def arrayPartitionSum(arr):\n",
    "    arr = sorted(arr)\n",
    "    maxSum = 0\n",
    "    for i in range(0,len(arr),2):\n",
    "        maxSum += arr[i]\n",
    "    return maxSum\n",
    "arrayPartitionSum([6,2,6,5,1,2])\n",
    "        \n",
    "    "
   ]
  },
  {
   "cell_type": "code",
   "execution_count": 17,
   "metadata": {},
   "outputs": [
    {
     "data": {
      "text/plain": [
       "[2, 4, 5, 5, 6, 8, 9]"
      ]
     },
     "execution_count": 17,
     "metadata": {},
     "output_type": "execute_result"
    }
   ],
   "source": [
    "def quickPartition(arr, start, end):\n",
    "    x = arr[end]\n",
    "    i = start - 1\n",
    "    for j in range(start, end):\n",
    "        if arr[j] <= x:\n",
    "            i += 1\n",
    "            arr[i], arr[j] = arr[j], arr[i]\n",
    "    arr[i+1], arr[end] = arr[end], arr[i+1]\n",
    "    return i+1\n",
    "\n",
    "def quickSort(arr, start, end):\n",
    "    if start < end:\n",
    "        pivot = quickPartition(arr, start, end)\n",
    "        quickSort(arr, start, pivot-1)\n",
    "        quickSort(arr, pivot+1, end)\n",
    "    return arr\n",
    "quickSort([8, 5, 4, 9, 6, 2, 5], 0, 6 )"
   ]
  },
  {
   "cell_type": "code",
   "execution_count": 11,
   "metadata": {},
   "outputs": [],
   "source": [
    "def threeWayPartition(arr, a, b):\n",
    "    first = arr[:quickPartition(arr,0,len(arr),a)]\n",
    "    return first\n",
    "# threeWayPartition([])\n",
    "# will get back later\n",
    "    "
   ]
  },
  {
   "cell_type": "code",
   "execution_count": 15,
   "metadata": {},
   "outputs": [
    {
     "data": {
      "text/plain": [
       "[2, 5, 4, 9, 6, 8]"
      ]
     },
     "execution_count": 15,
     "metadata": {},
     "output_type": "execute_result"
    }
   ],
   "source": [
    "def quickSort(arr):\n",
    "    # Write the function here.\n",
    "    \n",
    "    def quickPartition(arr, start, end):\n",
    "        pivot = arr[end]\n",
    "        i = start - 1\n",
    "        for j in range(start, end):\n",
    "            if arr[j] <= pivot:\n",
    "                i += 1\n",
    "                arr[j], arr[i] = arr[i], arr[j]\n",
    "        arr[i+1], arr[end] = arr[end], arr[i+1]\n",
    "        return i+1\n",
    "    if len(arr)>0:\n",
    "        q = quickPartition(arr, 0, len(arr)-1)\n",
    "        quickSort(arr[:q])\n",
    "        \n",
    "        quickSort(arr[q+1:])\n",
    "        \n",
    "    return arr\n",
    "# Not working because it doesn't handles cases in which we have duplicates\n",
    "quickSort([8, 5, 4, 9, 6, 2])"
   ]
  },
  {
   "cell_type": "code",
   "execution_count": null,
   "metadata": {},
   "outputs": [],
   "source": [
    "MIT Codes to learn debugging "
   ]
  },
  {
   "cell_type": "code",
   "execution_count": 1,
   "metadata": {},
   "outputs": [
    {
     "name": "stdout",
     "output_type": "stream",
     "text": [
      "move from P1 to P3\n",
      "move from P1 to P2\n",
      "move from P3 to P2\n",
      "move from P1 to P3\n",
      "move from P2 to P1\n",
      "move from P2 to P3\n",
      "move from P1 to P3\n",
      "move from P1 to P2\n",
      "move from P3 to P2\n",
      "move from P3 to P1\n",
      "move from P2 to P1\n",
      "move from P3 to P2\n",
      "move from P1 to P3\n",
      "move from P1 to P2\n",
      "move from P3 to P2\n"
     ]
    }
   ],
   "source": [
    "# Tower of Hanoi\n",
    "def printMove(fr, to):\n",
    "    print('move from ' + str(fr) + ' to ' + str(to))\n",
    "\n",
    "    \n",
    "def towers(n, fr, to, spare):\n",
    "    if n == 1:\n",
    "        printMove(fr, to)\n",
    "    else:\n",
    "        towers(n-1, fr, spare, to)\n",
    "        towers(1, fr, to, spare)\n",
    "        towers(n-1, spare, to, fr)\n",
    "        \n",
    "towers(4, 'P1', 'P2', 'P3')"
   ]
  },
  {
   "cell_type": "code",
   "execution_count": 6,
   "metadata": {},
   "outputs": [
    {
     "data": {
      "text/plain": [
       "['', 'c', 'b', 'bc', 'a', 'ac', 'ab', 'abc']"
      ]
     },
     "execution_count": 6,
     "metadata": {},
     "output_type": "execute_result"
    }
   ],
   "source": [
    "\"\"\"Return all subsequences\n",
    "    i/p = \"abc\"\n",
    "    o/p = ['', 'c', 'b', 'bc', 'a', 'ac', 'ab', 'abc']\n",
    " \"\"\"\n",
    "def returnAllSubsequences(string):\n",
    "#     Base Case - empty string\n",
    "    if len(string) == 0:\n",
    "        output = []\n",
    "        output.append(\"\")\n",
    "        return output\n",
    "    \n",
    "#     output of \"abc\" will be 'a' + output of 'bc'\n",
    "    smallerString = string[1:]\n",
    "    smallerOutput = returnAllSubsequences(smallerString)\n",
    "    \n",
    "    output = []\n",
    "#     copying all the elements of 'bc' output(say)\n",
    "    for sub in smallerOutput:\n",
    "        output.append(sub)\n",
    "        \n",
    "#         appending a in front of all the output of 'bc'\n",
    "    for sub in smallerOutput:\n",
    "        subsWithZerothChar = string[0] + sub\n",
    "        output.append(subsWithZerothChar)\n",
    "        \n",
    "    return output\n",
    "returnAllSubsequences(\"abc\")"
   ]
  },
  {
   "cell_type": "code",
   "execution_count": 5,
   "metadata": {},
   "outputs": [
    {
     "data": {
      "text/plain": [
       "['ad', 'ae', 'af', 'bd', 'be', 'bf', 'cd', 'ce', 'cf']"
      ]
     },
     "execution_count": 5,
     "metadata": {},
     "output_type": "execute_result"
    }
   ],
   "source": [
    "\"\"\" Return all keypad combinations\n",
    "i/p = integer, say 23\n",
    "o/p = ['ad', 'ae', 'af', 'bd', 'be', 'bf', 'cd', 'ce', 'cf']\n",
    "\"\"\" \n",
    "def getString(digit):\n",
    "    if digit == 2:\n",
    "        return \"abc\"\n",
    "    if digit == 3:\n",
    "        return \"def\"\n",
    "    if digit == 4:\n",
    "        return \"ghi\"\n",
    "    if digit == 5:\n",
    "        return \"jkl\"\n",
    "    if digit == 6:\n",
    "        return \"mno\"\n",
    "    if digit == 7:\n",
    "        return \"pqrs\"\n",
    "    if digit == 8:\n",
    "        return \"tuv\"\n",
    "    if digit == 9:\n",
    "        return \"wxyz\"\n",
    "    return \" \"\n",
    "\n",
    "def returnKeypadCombinations(integer):\n",
    "    if integer == 0:\n",
    "        return [\"\"]\n",
    "    \n",
    "    smallerInt = integer // 10\n",
    "    lastDigit = integer % 10\n",
    "    \n",
    "    smallerOutput = returnKeypadCombinations(smallerInt)\n",
    "    optionsForLastDigit = getString(lastDigit)\n",
    "    output = []\n",
    "    \n",
    "    for s in smallerOutput:\n",
    "        for c in optionsForLastDigit:\n",
    "            option = s + c\n",
    "            output.append(option)\n",
    "    return output\n",
    "returnKeypadCombinations(23)\n",
    "    \n",
    "    "
   ]
  },
  {
   "cell_type": "code",
   "execution_count": 11,
   "metadata": {},
   "outputs": [
    {
     "name": "stdout",
     "output_type": "stream",
     "text": [
      "24\n"
     ]
    }
   ],
   "source": [
    "\"\"\"Print output instead of returning\"\"\"\n",
    "\n",
    "def fact(n):\n",
    "    if n == 0:\n",
    "        return 1\n",
    "    return n * fact(n - 1)\n",
    "\n",
    "# Induction hypothesis step will not work here\n",
    "def factPrint(n):\n",
    "    if n == 0:\n",
    "        return 1\n",
    "\n",
    "    print(n * fact(n - 1))\n",
    "factPrint(4)"
   ]
  },
  {
   "cell_type": "code",
   "execution_count": 16,
   "metadata": {},
   "outputs": [
    {
     "name": "stdout",
     "output_type": "stream",
     "text": [
      "120\n"
     ]
    }
   ],
   "source": [
    "\"\"\"Alternative of the above problem : if we want to print instead of return\"\"\"\n",
    "\n",
    "def factHelper(n):\n",
    "    if n == 0:\n",
    "        return 1\n",
    "    smallOutput = factHelper(n - 1)\n",
    "    return n * smallOutput\n",
    "\n",
    "def fact(n):\n",
    "    result = factHelper(n)\n",
    "    print(result)\n",
    "fact(5)\n",
    "# It's like a hack , this is not whut we want !\n",
    "\n"
   ]
  },
  {
   "cell_type": "code",
   "execution_count": 17,
   "metadata": {},
   "outputs": [
    {
     "name": "stdout",
     "output_type": "stream",
     "text": [
      "120\n"
     ]
    }
   ],
   "source": [
    "\"\"\"Strong solution to that:\n",
    "n -> n - 1 -> n - 2 -> n - 3 -> n - 4 -> n - 5 ------> 0\n",
    "n -> n * (n - 1) -> n * (n - 1) * (n - 2)\"\"\"\n",
    "# top - down\n",
    "def printFact(n, ans):\n",
    "    if n == 0:\n",
    "        print(ans)\n",
    "        return\n",
    "    ans = ans * n\n",
    "    printFact(n - 1, ans)\n",
    "    \n",
    "printFact(5, 1)"
   ]
  },
  {
   "cell_type": "code",
   "execution_count": 25,
   "metadata": {},
   "outputs": [
    {
     "data": {
      "text/plain": [
       "0"
      ]
     },
     "execution_count": 25,
     "metadata": {},
     "output_type": "execute_result"
    }
   ],
   "source": [
    "def minimumOfArrayRec(array, minimum = float('inf')):\n",
    "    if len(array) == 0:\n",
    "        return minimum\n",
    "    if array[0] < minimum:\n",
    "        minimum = array[0]\n",
    "    minimumOfSmallArray = minimumOfArrayRec(array[1:], minimum)\n",
    "\n",
    "minimumOfArrayRec([5,1,1,2,0,0])\n",
    "    "
   ]
  },
  {
   "cell_type": "code",
   "execution_count": 34,
   "metadata": {},
   "outputs": [
    {
     "name": "stdout",
     "output_type": "stream",
     "text": [
      "1\n",
      "2\n",
      "3\n",
      "4\n"
     ]
    },
    {
     "data": {
      "text/plain": [
       "-1"
      ]
     },
     "execution_count": 34,
     "metadata": {},
     "output_type": "execute_result"
    }
   ],
   "source": [
    "# Queue Implementation using an Array\n",
    "class Queue:\n",
    "    def __init__(self):\n",
    "        self.front = 0\n",
    "        self.queue = []\n",
    "        self.count = 0\n",
    "        self.rear = len(self.queue)\n",
    "        \n",
    "        \n",
    "    def enqueue(self, data):\n",
    "        self.queue.append(data)\n",
    "        self.rear += 1\n",
    "        self.count += 1\n",
    "        \n",
    "    def dequeue(self):\n",
    "        if not self.isEmpty():\n",
    "            self.front += 1\n",
    "            self.count -= 1\n",
    "            return self.queue[self.front - 1]\n",
    "        else:\n",
    "            return -1\n",
    "        \n",
    "    def frontEle(self):\n",
    "        if self.isEmpty():\n",
    "            return -1\n",
    "        return self.queue[self.front]\n",
    "    \n",
    "    def size(self):\n",
    "        return self.count\n",
    "    \n",
    "    def isEmpty(self):\n",
    "        return self.count == 0\n",
    "        \n",
    "        \n",
    "q = Queue()\n",
    "q.enqueue(1)\n",
    "q.enqueue(2)\n",
    "q.enqueue(3)\n",
    "q.enqueue(4)\n",
    "while not q.isEmpty():\n",
    "    print(q.frontEle())\n",
    "    q.dequeue()\n",
    "    \n",
    "q.dequeue()\n",
    "        "
   ]
  },
  {
   "cell_type": "code",
   "execution_count": null,
   "metadata": {},
   "outputs": [],
   "source": [
    "def insertion(array, index, n):\n",
    "    pass\n",
    "\n",
    "def insertionSort(array, n):\n",
    "    for i in range(2, n)"
   ]
  },
  {
   "cell_type": "code",
   "execution_count": 8,
   "metadata": {},
   "outputs": [
    {
     "data": {
      "text/plain": [
       "[1, 2, 3, 4, 8, 5, 7, 9]"
      ]
     },
     "execution_count": 8,
     "metadata": {},
     "output_type": "execute_result"
    }
   ],
   "source": [
    "def insertionSort(array, n):\n",
    "    for i in range(2, n):\n",
    "        currElement = array[i]\n",
    "        j = i\n",
    "        while array[j-1] > currElement:\n",
    "            array[j] = array[j-1]\n",
    "            j -= 1\n",
    "            if j == 0:\n",
    "                break\n",
    "        array[j] = currElement\n",
    "            \n",
    "    return array\n",
    "\n",
    "insertionSort([8, 5, 4, 3, 2, 1, 9, 7], 8)"
   ]
  },
  {
   "cell_type": "code",
   "execution_count": 18,
   "metadata": {},
   "outputs": [
    {
     "data": {
      "text/plain": [
       "[1, 2, 3, 4, 5, 8, 8, 9, 7]"
      ]
     },
     "execution_count": 18,
     "metadata": {},
     "output_type": "execute_result"
    }
   ],
   "source": [
    "def quickSort(array, left, right):\n",
    "    if right > left:\n",
    "        v = array[right]\n",
    "        i = left - 1\n",
    "        j = right\n",
    "        i += 1\n",
    "        j -= 1\n",
    "        while True:\n",
    "            while array[i] < v:\n",
    "                i += 1\n",
    "            while array[j] > v:\n",
    "                j -= 1\n",
    "            \n",
    "            if i >= j:\n",
    "                break\n",
    "            array[i], array[j] = array[j], array[i]\n",
    "        array[i], array[right] = array[right], array[i]\n",
    "        quickSort(array, left, i-1)\n",
    "        quickSort(array, i + 1, right)\n",
    "    return array\n",
    "\n",
    "quickSort([8, 5, 4, 3, 2, 1, 9, 8, 7], 0, 7)\n",
    "    "
   ]
  },
  {
   "cell_type": "code",
   "execution_count": 12,
   "metadata": {},
   "outputs": [
    {
     "data": {
      "text/plain": [
       "[1, 2, 3, 4, 5, 7, 8, 9]"
      ]
     },
     "execution_count": 12,
     "metadata": {},
     "output_type": "execute_result"
    }
   ],
   "source": [
    "def selectionSort(array):\n",
    "    for i in range(len(array)):\n",
    "        smallestElementIdx = i\n",
    "        for j in range(i+1, len(array)):\n",
    "            if array[j] < array[smallestElementIdx]:\n",
    "                smallestElementIdx = j\n",
    "        array[i], array[smallestElementIdx] = array[smallestElementIdx], array[i]\n",
    "    return array\n",
    "selectionSort([8, 5, 4, 3, 2, 1, 9, 7])\n",
    "             \n",
    "        "
   ]
  },
  {
   "cell_type": "code",
   "execution_count": 21,
   "metadata": {},
   "outputs": [
    {
     "name": "stdin",
     "output_type": "stream",
     "text": [
      " 1 2 3 4 5\n"
     ]
    },
    {
     "name": "stdout",
     "output_type": "stream",
     "text": [
      "1\n",
      "2\n",
      "3\n",
      "4\n",
      "5\n"
     ]
    }
   ],
   "source": [
    "inp = list(map(int,input().split())) \n",
    "def demoFunction(number):\n",
    "    return number\n",
    "for i in inp:\n",
    "    print(demoFunction(i))"
   ]
  },
  {
   "cell_type": "code",
   "execution_count": 43,
   "metadata": {},
   "outputs": [
    {
     "name": "stdout",
     "output_type": "stream",
     "text": [
      "22 33 22 33 110 "
     ]
    }
   ],
   "source": [
    "def sumInRanges(array, queries):\n",
    "    lengthArray = len(array)\n",
    "    for i in range(len(queries)):\n",
    "        left, right = queries[i]\n",
    "        leftidx = left - 1\n",
    "        rightidx = right - 1\n",
    "        first = (left-1) % lengthArray\n",
    "        sumOfQuery = 0\n",
    "        for i in range(1, rightidx - leftidx + 2):\n",
    "            sumOfQuery += array[first]\n",
    "            first += 1\n",
    "            first = first%lengthArray\n",
    "        print(sumOfQuery, end = \" \")\n",
    "            \n",
    "sumInRanges([11, 11], [[1, 2], [1, 3], [2, 3], [2, 4], [1, 10]])\n",
    "            \n",
    "#             Think about it using prefix sum!!\n",
    "# Coding ninjas problem"
   ]
  },
  {
   "cell_type": "code",
   "execution_count": 30,
   "metadata": {},
   "outputs": [
    {
     "name": "stdout",
     "output_type": "stream",
     "text": [
      "1 2\n"
     ]
    }
   ],
   "source": []
  },
  {
   "cell_type": "code",
   "execution_count": 23,
   "metadata": {},
   "outputs": [
    {
     "name": "stdout",
     "output_type": "stream",
     "text": [
      "11\n",
      "1111\n",
      "11111111\n",
      "1111111111111111\n"
     ]
    }
   ],
   "source": [
    "def amazonPattern(n):\n",
    "    for i in range(1, n+1):\n",
    "        print(\"1\"*(2**i))\n",
    "amazonPattern(4)"
   ]
  },
  {
   "cell_type": "code",
   "execution_count": 28,
   "metadata": {},
   "outputs": [
    {
     "name": "stdout",
     "output_type": "stream",
     "text": [
      "11\n",
      "1111\n",
      "11111111\n",
      "1111111111111111\n"
     ]
    }
   ],
   "source": [
    "def amazonPattern2(n):\n",
    "    for i in range(1, n+1):\n",
    "        for i in range(2**i):\n",
    "            print(\"1\", end=\"\")\n",
    "        print()\n",
    "amazonPattern2(4)"
   ]
  },
  {
   "cell_type": "code",
   "execution_count": 8,
   "metadata": {},
   "outputs": [
    {
     "data": {
      "text/plain": [
       "([1, 4, 2, 4, 1], 4)"
      ]
     },
     "execution_count": 8,
     "metadata": {},
     "output_type": "execute_result"
    }
   ],
   "source": [
    "\"\"\"\n",
    "Given an array-like data structure A[1..n], how many pairs\n",
    "(i, j) for all 1 <= i < j <= n such that A[i] > A[j]? These pairs are\n",
    "called inversions. Counting the number of such inversions in an array-like\n",
    "object is the important. Among other things, counting inversions  can help\n",
    "us determine how close a given array is to being sorted\n",
    "\n",
    "In this implementation, I provide two algorithms, a divide-and-conquer\n",
    "algorithm which runs in nlogn and the brute-force n^2 algorithm. \"\"\"\n",
    "\n",
    "def countInversionBf(array):\n",
    "    count = 0\n",
    "    for i in range(len(array)):\n",
    "        for j in range(i, len(array)):\n",
    "            if array[i] > array[j]:\n",
    "                count += 1\n",
    "    return count\n",
    "\n",
    "# Divide and conquer version of countInversion\n",
    "\n",
    "def countInversionRec(array):\n",
    "    if len(array) <= 1:\n",
    "        return array, 0\n",
    "    \n",
    "    else:\n",
    "        mid = len(array) // 2\n",
    "        P = array[0:mid]\n",
    "        Q = array[mid:]\n",
    "        \n",
    "        A, inversions_p = countInversionRec(P)\n",
    "        B, inversions_q = countInversionRec(Q)\n",
    "        \n",
    "        C, cross_inversions = countCrossInversions(A, B)\n",
    "        \n",
    "        num_inversions = inversions_p + inversions_q + cross_inversions\n",
    "        \n",
    "    return C, num_inversions\n",
    "\n",
    "\n",
    "def countCrossInversions(P, Q):\n",
    "    \n",
    "    R = []\n",
    "    i = j = num_inversions = 0\n",
    "    while i < len(P) and j < len(Q):\n",
    "        if P[i] > Q[j]:\n",
    "            num_inversions += len(P) - i\n",
    "            R.append(Q[j])\n",
    "            j += 1\n",
    "        else:\n",
    "            Q.append(P[i])\n",
    "            i += 1\n",
    "            \n",
    "    if i < len(P):\n",
    "        R.extend(P[i:])\n",
    "    else:\n",
    "        R.extend(Q[j:])\n",
    "        \n",
    "    return R, num_inversions\n",
    "countInversionRec([1, 4, 2, 4, 1])"
   ]
  },
  {
   "cell_type": "code",
   "execution_count": 17,
   "metadata": {},
   "outputs": [
    {
     "data": {
      "text/plain": [
       "'88b1e1a2u3t5i8f13u21l34'"
      ]
     },
     "execution_count": 17,
     "metadata": {},
     "output_type": "execute_result"
    }
   ],
   "source": [
    "# AmazonQuestion\n",
    "# i/p = abcde\n",
    "# o/p = 12a1b1c2d3e5\n",
    "\n",
    "def fibSum(n):\n",
    "    a = 1\n",
    "    b = 1\n",
    "    sumFib = 0\n",
    "    \n",
    "    for i in range(n):\n",
    "        sumFib = a + b \n",
    "        c = a + b\n",
    "        a = b\n",
    "        b = sumFib\n",
    "    return sumFib - 1\n",
    "\n",
    "def amazonQues(string):\n",
    "    n = len(string)\n",
    "    sumFib = fibSum(n)\n",
    "    \n",
    "    a = 1\n",
    "    b = 1\n",
    "    c = a + b\n",
    "    ans = str(sumFib)\n",
    "    for i in range(len(string)):\n",
    "        ans += string[i] + str(a)\n",
    "        a = b\n",
    "        b = c\n",
    "        c = a + b\n",
    "        \n",
    "    return ans\n",
    "\n",
    "amazonQues(\"beautiful\")\n",
    "        \n",
    "        "
   ]
  },
  {
   "cell_type": "code",
   "execution_count": null,
   "metadata": {},
   "outputs": [],
   "source": []
  },
  {
   "cell_type": "code",
   "execution_count": 22,
   "metadata": {},
   "outputs": [
    {
     "data": {
      "text/plain": [
       "False"
      ]
     },
     "execution_count": 22,
     "metadata": {},
     "output_type": "execute_result"
    }
   ],
   "source": [
    "import math\n",
    "def isPrime(num):\n",
    "    flag = True\n",
    "    \n",
    "    if num < 0 and type(num) == int:\n",
    "        flag = False\n",
    "    \n",
    "    for divisor in range(2, int(math.sqrt(num) + 1)):\n",
    "        if num % divisor == 0:\n",
    "            flag = False\n",
    "            break\n",
    "    return flag\n",
    "\n",
    "isPrime(9)\n",
    "    "
   ]
  },
  {
   "cell_type": "code",
   "execution_count": 29,
   "metadata": {},
   "outputs": [
    {
     "name": "stdout",
     "output_type": "stream",
     "text": [
      "270\n",
      "15\n"
     ]
    }
   ],
   "source": [
    "\"\"\"Return the max of each reverse diagonal sum\"\"\"\n",
    "\n",
    "def amazonMatrix(matrix):\n",
    "    numRows = len(matrix)\n",
    "    numCols = len(matrix[0])\n",
    "    \n",
    "    target = numRows + numCols - 2\n",
    "    maxDiagonal = float(\"-inf\")\n",
    "    for i in range(target + 1):\n",
    "        diagonal = 0\n",
    "        for j in range(numRows):\n",
    "            for k in range(numCols):\n",
    "                if (j + k) == i:\n",
    "                    diagonal += matrix[j][k]\n",
    "        if diagonal > maxDiagonal:\n",
    "            maxDiagonal = diagonal\n",
    "    return maxDiagonal\n",
    "\n",
    "print(amazonMatrix([[10, 20, 30, 40, 50],\n",
    "             [110, 120, 130, 140, 150],\n",
    "             [100, 90, 80, 70, 60]]))\n",
    "print(amazonMatrix([[1, 2, 3],\n",
    "                  [4, 5, 6],\n",
    "                  [7, 8, 9]]))\n",
    "                    "
   ]
  },
  {
   "cell_type": "code",
   "execution_count": null,
   "metadata": {},
   "outputs": [],
   "source": [
    "\"\"\"Target Dynamic Programming : Memoized version\"\"\""
   ]
  },
  {
   "cell_type": "markdown",
   "metadata": {},
   "source": [
    "DP Problems for today : 11/22/2021\n",
    "    1. Knapsack Problem\n",
    "    2. Matrix Chain Multiplication\n",
    "    3. Rod Cutting \n",
    "    4. Coin Change\n",
    "    5. Edit Distance \n",
    "    6. Bellman Ford\n",
    "    7. Longest Palindromic Subsequence\n",
    "    8. Number of Ways to represent N dollars\n",
    "\n",
    "\n",
    "Miscellaneous Problem:\n",
    "    1. Merge Two Sorted Arrays in const space\n",
    "    2. Three Way Partition\n",
    "    3. minimum moves required for converting a given array to an array of zeroes."
   ]
  },
  {
   "cell_type": "code",
   "execution_count": null,
   "metadata": {},
   "outputs": [],
   "source": [
    "def knapsack01():\n",
    "    pass"
   ]
  },
  {
   "cell_type": "code",
   "execution_count": null,
   "metadata": {},
   "outputs": [],
   "source": [
    "def matrixChainMultiplication():\n",
    "    pass"
   ]
  },
  {
   "cell_type": "code",
   "execution_count": null,
   "metadata": {},
   "outputs": [],
   "source": [
    "def rodCutting():\n",
    "    pass"
   ]
  },
  {
   "cell_type": "code",
   "execution_count": null,
   "metadata": {},
   "outputs": [],
   "source": [
    "def coinChange():\n",
    "    pass"
   ]
  },
  {
   "cell_type": "code",
   "execution_count": null,
   "metadata": {},
   "outputs": [],
   "source": [
    "def editDistance():\n",
    "    pass"
   ]
  },
  {
   "cell_type": "code",
   "execution_count": null,
   "metadata": {},
   "outputs": [],
   "source": [
    "def mergeSortedArray(array1, array2):\n",
    "    pass"
   ]
  },
  {
   "cell_type": "code",
   "execution_count": null,
   "metadata": {},
   "outputs": [],
   "source": [
    "def threeWayPartition():\n",
    "    pass"
   ]
  },
  {
   "cell_type": "code",
   "execution_count": null,
   "metadata": {},
   "outputs": [],
   "source": [
    "def minimumMovesToZeroes(array):\n",
    "    pass"
   ]
  },
  {
   "cell_type": "code",
   "execution_count": null,
   "metadata": {},
   "outputs": [],
   "source": []
  },
  {
   "cell_type": "code",
   "execution_count": 5,
   "metadata": {},
   "outputs": [
    {
     "data": {
      "text/plain": [
       "True"
      ]
     },
     "execution_count": 5,
     "metadata": {},
     "output_type": "execute_result"
    }
   ],
   "source": [
    "# Problem 1\n",
    "\"\"\"\n",
    "Good morning! Here's your coding interview problem for today.\n",
    "\n",
    "This problem was recently asked by Google.\n",
    "\n",
    "Given a list of numbers and a number k, return whether any two numbers from the list add up to k.\n",
    "\n",
    "For example, given [10, 15, 3, 7] and k of 17, return true since 10 + 7 is 17.\n",
    "\n",
    "Bonus: Can you do this in one pass?\"\"\"\n",
    "\n",
    "def problem1(array, target):\n",
    "    account = set()\n",
    "    for i in range(len(array)):\n",
    "        if (target - array[i]) in account:\n",
    "            return True\n",
    "        else:\n",
    "            account.add(array[i])\n",
    "    return False\n",
    "\n",
    "problem1([10, 15, 3, 7], 22)"
   ]
  },
  {
   "cell_type": "code",
   "execution_count": 8,
   "metadata": {},
   "outputs": [
    {
     "data": {
      "text/plain": [
       "'yea'"
      ]
     },
     "execution_count": 8,
     "metadata": {},
     "output_type": "execute_result"
    }
   ],
   "source": [
    "\"\"\"Longest Common Prefix\"\"\"\n",
    "\n",
    "def solve(words):\n",
    "        shortest_word = min(words, key=len)\n",
    "        i = 0\n",
    "        prefix = \"\"\n",
    "        while i < len(shortest_word):\n",
    "            for idx, word in enumerate(words):\n",
    "                if word[i] != shortest_word[i]:\n",
    "                    break\n",
    "                if idx == len(words)-1:\n",
    "                    prefix += shortest_word[i]\n",
    "            i += 1\n",
    "        return prefix\n",
    "    \n",
    "solve([\"yeat\", \"yeall\", \"yeast\", \"yearn\"])"
   ]
  },
  {
   "cell_type": "code",
   "execution_count": 14,
   "metadata": {},
   "outputs": [
    {
     "data": {
      "text/plain": [
       "([1, 2, 6, 24, 120], [5, 20, 60, 120, 120])"
      ]
     },
     "execution_count": 14,
     "metadata": {},
     "output_type": "execute_result"
    }
   ],
   "source": [
    "\"\"\"\n",
    "Good morning! Here's your coding interview problem for today.\n",
    "\n",
    "This problem was asked by Uber.\n",
    "\n",
    "Given an array of integers, return a new array such that each element at index i of the new array is the product of all the numbers in the original array except the one at i.\n",
    "\n",
    "For example, if our input was [1, 2, 3, 4, 5], the expected output would be [120, 60, 40, 30, 24]. If our input was [3, 2, 1], the expected output would be [2, 3, 6].\n",
    "\n",
    "Follow-up: what if you can't use division?\"\"\"\n",
    "\n",
    "def problem2(array):\n",
    "    n = len(array)\n",
    "    leftProduct = []\n",
    "    rightProduct = []\n",
    "    left = 1\n",
    "    right = 1\n",
    "    for i in range(len(array)):\n",
    "        left *= array[i]\n",
    "        leftProduct.append(left)\n",
    "        \n",
    "        right *= array[n - i - 1]\n",
    "        rightProduct.append(right)\n",
    "        \n",
    "    ans = []\n",
    "    for i in range(len(array)):\n",
    "        ans.append(leftProduct[i]*rightProduct[n - i - 1])\n",
    "        \n",
    "    return leftProduct, rightProduct\n",
    "\n",
    "problem2([1, 2, 3, 4, 5])\n",
    "# ???????? NOT DONE ???????"
   ]
  },
  {
   "cell_type": "code",
   "execution_count": null,
   "metadata": {},
   "outputs": [],
   "source": [
    "\"\"\"\n",
    "This problem was asked by Stripe.\n",
    "\n",
    "Given an array of integers, find the first missing positive integer in linear time and constant space. In other words, find the lowest positive integer that does not exist in the array. The array can contain duplicates and negative numbers as well.\n",
    "\n",
    "For example, the input [3, 4, -1, 1] should give 2. The input [1, 2, 0] should give 3.\n",
    "\n",
    "You can modify the input array in-place.\"\"\"\n",
    "\n",
    "def problem4(array):\n",
    "    pass"
   ]
  },
  {
   "cell_type": "code",
   "execution_count": null,
   "metadata": {},
   "outputs": [],
   "source": [
    "def DPfrontAndEnd(array):\n",
    "    \n",
    "def helper(array)\n",
    "    if len(array) == 1:\n",
    "        return array[0]\n",
    "    if len(array) == 0:\n",
    "        return 0\n",
    "    return "
   ]
  },
  {
   "cell_type": "code",
   "execution_count": 2,
   "metadata": {},
   "outputs": [
    {
     "data": {
      "text/plain": [
       "15"
      ]
     },
     "execution_count": 2,
     "metadata": {},
     "output_type": "execute_result"
    }
   ],
   "source": [
    "\"\"\"\n",
    "Given a positive integer n, find the length of its Collatz sequence. \n",
    "The Collatz sequence is generated sequentially where\n",
    "\n",
    "n = n / 2 if n is even\n",
    "n = 3 * n + 1 if n is odd\n",
    "And the sequence ends if n = 1\"\"\"\n",
    "\n",
    "def lenCollatz(n):\n",
    "    count = 1\n",
    "    while True:\n",
    "        if n == 1:\n",
    "            break\n",
    "        if n % 2 == 0:\n",
    "            n = n // 2\n",
    "            count += 1\n",
    "        else:\n",
    "            n = 3 * n + 1\n",
    "            count += 1\n",
    "    return count\n",
    "lenCollatz(11)\n"
   ]
  },
  {
   "cell_type": "code",
   "execution_count": 5,
   "metadata": {},
   "outputs": [
    {
     "data": {
      "text/plain": [
       "[1, 2, 2, 3]"
      ]
     },
     "execution_count": 5,
     "metadata": {},
     "output_type": "execute_result"
    }
   ],
   "source": [
    "\"\"\"\n",
    "Given a list of integers nums sorted in ascending order,\n",
    "remove in-place duplicates that appear more than twice.\n",
    "\n",
    "This should be done in O(1) space.\n",
    "\"\"\"\n",
    "\n",
    "def removeDuplicates(array):\n",
    "    \n",
    "    n = len(array)\n",
    "    st = 0\n",
    "    for i in range(n):\n",
    "        if (i < n - 2) and array[i] == array[i+1] and array[i] == array[i+2]:\n",
    "            continue\n",
    "        else:\n",
    "            array[st] = array[i]\n",
    "            st += 1\n",
    "            \n",
    "    for i in range(st, n):\n",
    "        array.pop()\n",
    "    return array\n",
    "removeDuplicates([1, 2, 2, 2, 3])\n",
    "    "
   ]
  },
  {
   "cell_type": "code",
   "execution_count": 3,
   "metadata": {},
   "outputs": [
    {
     "name": "stdout",
     "output_type": "stream",
     "text": [
      "{0: 2, 1: 1}\n"
     ]
    },
    {
     "data": {
      "text/plain": [
       "True"
      ]
     },
     "execution_count": 3,
     "metadata": {},
     "output_type": "execute_result"
    }
   ],
   "source": [
    "def solve(votes):\n",
    "    freq = {}\n",
    "    for i in range(len(votes)):\n",
    "        if votes[i][1] in freq:\n",
    "            freq[votes[i][1]] += 1\n",
    "        else:\n",
    "            freq[votes[i][1]] = 1\n",
    "    print(freq)\n",
    "    for i in freq:\n",
    "        if freq[i] > 1:\n",
    "            return True\n",
    "    return False\n",
    "votes = [\n",
    "    [0, 0],\n",
    "    [0, 1],\n",
    "    [0, 0]\n",
    "]\n",
    "solve(votes)"
   ]
  },
  {
   "cell_type": "code",
   "execution_count": 16,
   "metadata": {},
   "outputs": [
    {
     "data": {
      "text/plain": [
       "6"
      ]
     },
     "execution_count": 16,
     "metadata": {},
     "output_type": "execute_result"
    }
   ],
   "source": [
    "\"\"\"\n",
    "Given a positive integer n, sum all of its digits to get a new number.\n",
    "Repeat this operation until the new number is less than 10 and return it.\"\"\"\n",
    "\n",
    "def sumOfDigits(n):\n",
    "    digitSum = 0\n",
    "    while n >= 1:\n",
    "        rem = n % 10\n",
    "        digitSum += rem\n",
    "        n //= 10\n",
    "    return digitSum\n",
    "def numOfDigits(n):\n",
    "    count = 0\n",
    "    while n > 0:\n",
    "        count += 1\n",
    "        n //= 10\n",
    "    return count\n",
    "        \n",
    "\n",
    "def repeatUntilSingle(n):\n",
    "    if numOfDigits(n) == 1:\n",
    "        return n\n",
    "    sumDigits = sumOfDigits(n)\n",
    "    return repeatUntilSingle(sumDigits)\n",
    "repeatUntilSingle(8835)\n",
    "    "
   ]
  },
  {
   "cell_type": "code",
   "execution_count": 21,
   "metadata": {},
   "outputs": [
    {
     "data": {
      "text/plain": [
       "-1"
      ]
     },
     "execution_count": 21,
     "metadata": {},
     "output_type": "execute_result"
    }
   ],
   "source": [
    "\n",
    "def solve(nums):\n",
    "    check = set(nums)\n",
    "    ans = float(\"-inf\")\n",
    "    for i in range(len(nums)):\n",
    "        if -1*nums[i] in check:\n",
    "            if abs(nums[i]) > ans:\n",
    "                ans = abs(nums[i])\n",
    "    if type(ans) == float:\n",
    "        return -1\n",
    "    return ans\n",
    "\n",
    "solve([4])\n",
    "\n"
   ]
  },
  {
   "cell_type": "code",
   "execution_count": null,
   "metadata": {},
   "outputs": [],
   "source": []
  }
 ],
 "metadata": {
  "kernelspec": {
   "display_name": "Python 3",
   "language": "python",
   "name": "python3"
  },
  "language_info": {
   "codemirror_mode": {
    "name": "ipython",
    "version": 3
   },
   "file_extension": ".py",
   "mimetype": "text/x-python",
   "name": "python",
   "nbconvert_exporter": "python",
   "pygments_lexer": "ipython3",
   "version": "3.8.3"
  }
 },
 "nbformat": 4,
 "nbformat_minor": 4
}
