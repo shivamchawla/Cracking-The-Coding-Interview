{
 "cells": [
  {
   "cell_type": "markdown",
   "metadata": {},
   "source": [
    "10/15/2021 11:55 PM , Take a deep breath n make your coding skills strong!\n",
    "Focus : \n",
    "    1.Thinking\n",
    "    2.Along with coding\n",
    "Best of luck !"
   ]
  },
  {
   "cell_type": "code",
   "execution_count": 7,
   "metadata": {},
   "outputs": [
    {
     "data": {
      "text/plain": [
       "12"
      ]
     },
     "execution_count": 7,
     "metadata": {},
     "output_type": "execute_result"
    }
   ],
   "source": [
    "# 100 very basic ques\n",
    "\n",
    "\"\"\"Operation on strings\"\"\"\n",
    "def lenOfString(string):\n",
    "    count = 0 \n",
    "    for i in string:\n",
    "        count += 1\n",
    "    return count\n",
    "        \n",
    "lenOfString(\"shivamchawla\")"
   ]
  },
  {
   "cell_type": "code",
   "execution_count": 15,
   "metadata": {},
   "outputs": [
    {
     "data": {
      "text/plain": [
       "'sHI34VAM'"
      ]
     },
     "execution_count": 15,
     "metadata": {},
     "output_type": "execute_result"
    }
   ],
   "source": [
    "def toggleChar(string):\n",
    "    newStr = \"\"\n",
    "    for i in string:\n",
    "        if i.isupper():\n",
    "            newStr += i.lower()\n",
    "        elif i.islower():\n",
    "            newStr += i.upper()\n",
    "        else:\n",
    "            newStr += i\n",
    "    return newStr\n",
    "\n",
    "toggleChar(\"Shi34vam\")\n",
    "            "
   ]
  },
  {
   "cell_type": "code",
   "execution_count": 19,
   "metadata": {},
   "outputs": [
    {
     "data": {
      "text/plain": [
       "5"
      ]
     },
     "execution_count": 19,
     "metadata": {},
     "output_type": "execute_result"
    }
   ],
   "source": [
    "def countVowels(string):\n",
    "    vowels = \"aeiou\"\n",
    "    count = 0\n",
    "    string = string.lower()\n",
    "    for i in string:\n",
    "        if i in vowels:\n",
    "            count += 1\n",
    "    return count \n",
    "countVowels(\"shivam Ahawla\")\n",
    "            "
   ]
  },
  {
   "cell_type": "code",
   "execution_count": 22,
   "metadata": {},
   "outputs": [
    {
     "data": {
      "text/plain": [
       "''"
      ]
     },
     "execution_count": 22,
     "metadata": {},
     "output_type": "execute_result"
    }
   ],
   "source": [
    "def removeVowels(string):\n",
    "    newStr = \"\"\n",
    "    string = string.lower()\n",
    "    vowels = \"aeiou\"\n",
    "    for i in string:\n",
    "        if i in vowels:\n",
    "            continue\n",
    "        else:\n",
    "            newStr += i\n",
    "    return newStr\n",
    "\n",
    "removeVowels(\"aaaaaaaaaa\")\n",
    "        "
   ]
  },
  {
   "cell_type": "code",
   "execution_count": 35,
   "metadata": {},
   "outputs": [
    {
     "data": {
      "text/plain": [
       "True"
      ]
     },
     "execution_count": 35,
     "metadata": {},
     "output_type": "execute_result"
    }
   ],
   "source": [
    "def checkPalindrome(string):\n",
    "    string = string.lower()\n",
    "    return string == string[::-1]\n",
    "\n",
    "def checkPalindrome(string):\n",
    "    firstIdx = 0\n",
    "    lastIdx = len(string) - 1\n",
    "    string = string.lower()\n",
    "    while lastIdx > firstIdx:\n",
    "        if string[lastIdx] != string[firstIdx]:\n",
    "            return False\n",
    "        firstIdx += 1\n",
    "        lastIdx -= 1\n",
    "    return True\n",
    "checkPalindrome(\"22122\")"
   ]
  },
  {
   "cell_type": "code",
   "execution_count": 39,
   "metadata": {},
   "outputs": [
    {
     "data": {
      "text/plain": [
       "'yppah_mavihs'"
      ]
     },
     "execution_count": 39,
     "metadata": {},
     "output_type": "execute_result"
    }
   ],
   "source": [
    "def reverseOrder(string):\n",
    "    if len(string) == 0:\n",
    "        return \"\"\n",
    "    newStr = string[len(string) - 1] + reverseOrder(string[:len(string) - 1])\n",
    "    return newStr\n",
    "\n",
    "def reverseOrder(string):\n",
    "    return string[::-1]\n",
    "reverseOrder(\"shivam_happy\")"
   ]
  },
  {
   "cell_type": "code",
   "execution_count": 45,
   "metadata": {},
   "outputs": [
    {
     "data": {
      "text/plain": [
       "'shivam'"
      ]
     },
     "execution_count": 45,
     "metadata": {},
     "output_type": "execute_result"
    }
   ],
   "source": [
    "def onlyAlphabets(string):\n",
    "    newStr = \"\"\n",
    "    for i in string:\n",
    "        if i.isalpha():\n",
    "            newStr += i\n",
    "    return newStr\n",
    "\n",
    "def onlyAlphabets(string):\n",
    "    newStr = \"\"\n",
    "    for i in string:\n",
    "        if ord(i) >= 65 and ord(i) <= 90 or ord(i) >= 97 and ord(i) <= 122: \n",
    "            newStr += i\n",
    "    return newStr\n",
    "\n",
    "onlyAlphabets(\"shi%@#%vam3435\")"
   ]
  },
  {
   "cell_type": "code",
   "execution_count": 47,
   "metadata": {},
   "outputs": [
    {
     "data": {
      "text/plain": [
       "'shivamchawlaisagoodboy:p'"
      ]
     },
     "execution_count": 47,
     "metadata": {},
     "output_type": "execute_result"
    }
   ],
   "source": [
    "def removeSpaces(string):\n",
    "    newStr = \"\"\n",
    "    for i in string:\n",
    "        if i == \" \":\n",
    "            continue\n",
    "        else:\n",
    "            newStr += i\n",
    "    return newStr\n",
    "removeSpaces(\"shivam chawla is a good boy :p\")"
   ]
  },
  {
   "cell_type": "code",
   "execution_count": 49,
   "metadata": {},
   "outputs": [
    {
     "data": {
      "text/plain": [
       "'p-r+e-p'"
      ]
     },
     "execution_count": 49,
     "metadata": {},
     "output_type": "execute_result"
    }
   ],
   "source": [
    "def removeBrackets(string):\n",
    "    newStr = \"\"\n",
    "    for i in string:\n",
    "        if i in \"()\":\n",
    "            continue\n",
    "        else:\n",
    "            newStr += i\n",
    "    return newStr\n",
    "removeBrackets(\"(p-(r+e)-p)\")"
   ]
  },
  {
   "cell_type": "code",
   "execution_count": 55,
   "metadata": {},
   "outputs": [
    {
     "data": {
      "text/plain": [
       "32"
      ]
     },
     "execution_count": 55,
     "metadata": {},
     "output_type": "execute_result"
    }
   ],
   "source": [
    "def sumOfNumInString(string):\n",
    "    sumOfNum = 0\n",
    "    for i in string:\n",
    "        if ord(i) >= 48 and ord(i) <= 57:\n",
    "            sumOfNum += int(i)\n",
    "    return sumOfNum\n",
    "sumOfNumInString(\"shivamchawla9968\")"
   ]
  },
  {
   "cell_type": "code",
   "execution_count": 60,
   "metadata": {},
   "outputs": [
    {
     "data": {
      "text/plain": [
       "'BhindimasteR'"
      ]
     },
     "execution_count": 60,
     "metadata": {},
     "output_type": "execute_result"
    }
   ],
   "source": [
    "def capitalizeFirstAndLast(string):\n",
    "    firstPart = string[0:1]\n",
    "    lastPart = string[len(string)-1:len(string)]\n",
    "    midPart = string[1:len(string)-1]\n",
    "    return firstPart.upper() + midPart + lastPart.upper()\n",
    "\n",
    "capitalizeFirstAndLast(\"bhindimaster\")\n",
    "        "
   ]
  },
  {
   "cell_type": "code",
   "execution_count": 64,
   "metadata": {},
   "outputs": [
    {
     "name": "stdout",
     "output_type": "stream",
     "text": [
      "1\n"
     ]
    }
   ],
   "source": [
    "def freqChar(string, char):\n",
    "    charCount = {}\n",
    "    for i in string:\n",
    "        if i in charCount:\n",
    "            charCount[i] += 1\n",
    "        else:\n",
    "            charCount[i] = 1\n",
    "    return charCount[char]\n",
    "\n",
    "# using built in function -- CASE Sensitive\n",
    "string = \"shivam\"\n",
    "count = string.count(\"a\")\n",
    "# freqChar(\"bagha\", \"a\")\n",
    "print(count)\n"
   ]
  },
  {
   "cell_type": "code",
   "execution_count": 73,
   "metadata": {},
   "outputs": [
    {
     "data": {
      "text/plain": [
       "'mpkc'"
      ]
     },
     "execution_count": 73,
     "metadata": {},
     "output_type": "execute_result"
    }
   ],
   "source": [
    "# # O(n^2) time And O(1) space\n",
    "\n",
    "def nonRepeatingChar(string):\n",
    "    for i in string:\n",
    "        count = 0\n",
    "        for j in string:\n",
    "            if i == j:\n",
    "                count += 1\n",
    "            if count > 2:\n",
    "                break\n",
    "        if count == 1:\n",
    "            print(i, end=\" \")\n",
    "\n",
    "# O(n) time and O(n) space\n",
    "def nonRepeatingChar(string):\n",
    "    charCount = dict()\n",
    "    for char in string:\n",
    "        if char in charCount:\n",
    "            charCount[char] += 1\n",
    "        else:\n",
    "            charCount[char] = 1\n",
    "    nonRepeating = \"\"\n",
    "    for i in charCount:\n",
    "        if charCount[i] == 1:\n",
    "            nonRepeating += i\n",
    "    return nonRepeating\n",
    "nonRepeatingChar(\"ChampakChacha\")\n",
    "    "
   ]
  },
  {
   "cell_type": "code",
   "execution_count": 78,
   "metadata": {},
   "outputs": [
    {
     "data": {
      "text/plain": [
       "[0, 0, 0, 0, 1, 1, 1]"
      ]
     },
     "execution_count": 78,
     "metadata": {},
     "output_type": "execute_result"
    }
   ],
   "source": [
    "def twoPartition(array):\n",
    "    firstIdx = 0\n",
    "    lastIdx = len(array) - 1\n",
    "    while lastIdx > firstIdx:\n",
    "        if array[firstIdx] == 0 :\n",
    "            firstIdx += 1\n",
    "        else:\n",
    "            array[firstIdx], array[lastIdx] = array[lastIdx], array[firstIdx]\n",
    "            lastIdx -= 1\n",
    "    return array\n",
    "twoPartition([0, 1, 0, 1, 0, 1, 0])\n",
    "    "
   ]
  },
  {
   "cell_type": "code",
   "execution_count": null,
   "metadata": {},
   "outputs": [],
   "source": [
    "# def majorityElement(array):\n",
    "#     count = 0\n",
    "#     char = None\n",
    "#     for i in range(len(array)):\n",
    "#         char = array[i]\n",
    "#         if array[]"
   ]
  }
 ],
 "metadata": {
  "kernelspec": {
   "display_name": "Python 3",
   "language": "python",
   "name": "python3"
  },
  "language_info": {
   "codemirror_mode": {
    "name": "ipython",
    "version": 3
   },
   "file_extension": ".py",
   "mimetype": "text/x-python",
   "name": "python",
   "nbconvert_exporter": "python",
   "pygments_lexer": "ipython3",
   "version": "3.8.3"
  }
 },
 "nbformat": 4,
 "nbformat_minor": 4
}
