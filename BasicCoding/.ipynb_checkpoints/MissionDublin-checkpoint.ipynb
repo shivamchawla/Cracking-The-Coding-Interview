{
 "cells": [
  {
   "cell_type": "markdown",
   "metadata": {},
   "source": [
    "Leetcode learning"
   ]
  },
  {
   "cell_type": "code",
   "execution_count": 1,
   "metadata": {},
   "outputs": [
    {
     "name": "stdout",
     "output_type": "stream",
     "text": [
      "[1, 3, 2]\n",
      "1\n",
      "1\n",
      "2\n",
      "3\n",
      "[4, 5]\n"
     ]
    }
   ],
   "source": [
    "# Heap\n",
    "# Implementing \"Min Heap\"\n",
    "class MinHeap:\n",
    "    def __init__(self, heapSize):\n",
    "        # Create a complete binary tree using an array\n",
    "        # Then use the binary tree to construct a Heap\n",
    "        self.heapSize = heapSize\n",
    "        # the number of elements is needed when instantiating an array\n",
    "        # heapSize records the size of the array\n",
    "        self.minheap = [0] * (heapSize + 1)\n",
    "        # realSize records the number of elements in the Heap\n",
    "        self.realSize = 0\n",
    "\n",
    "    # Function to add an element\n",
    "    def add(self, element):\n",
    "        self.realSize += 1\n",
    "        # If the number of elements in the Heap exceeds the preset heapSize\n",
    "        # print \"Added too many elements\" and return\n",
    "        if self.realSize > self.heapSize:\n",
    "            print(\"Add too many elements!\")\n",
    "            self.realSize -= 1\n",
    "            return\n",
    "        # Add the element into the array\n",
    "        self.minheap[self.realSize] = element\n",
    "        # Index of the newly added element\n",
    "        index = self.realSize\n",
    "        # Parent node of the newly added element\n",
    "        # Note if we use an array to represent the complete binary tree\n",
    "        # and store the root node at index 1\n",
    "        # index of the parent node of any node is [index of the node / 2]\n",
    "        # index of the left child node is [index of the node * 2]\n",
    "        # index of the right child node is [index of the node * 2 + 1]\n",
    "        parent = index // 2\n",
    "        # If the newly added element is smaller than its parent node,\n",
    "        # its value will be exchanged with that of the parent node \n",
    "        while (self.minheap[index] < self.minheap[parent] and index > 1):\n",
    "            self.minheap[parent], self.minheap[index] = self.minheap[index], self.minheap[parent]\n",
    "            index = parent\n",
    "            parent = index // 2\n",
    "    \n",
    "    # Get the top element of the Heap\n",
    "    def peek(self):\n",
    "        return self.minheap[1]\n",
    "    \n",
    "    # Delete the top element of the Heap\n",
    "    def pop(self):\n",
    "        # If the number of elements in the current Heap is 0,\n",
    "        # print \"Don't have any elements\" and return a default value\n",
    "        if self.realSize < 1:\n",
    "            print(\"Don't have any element!\")\n",
    "            return sys.maxsize\n",
    "        else:\n",
    "            # When there are still elements in the Heap\n",
    "            # self.realSize >= 1\n",
    "            removeElement = self.minheap[1]\n",
    "            # Put the last element in the Heap to the top of Heap\n",
    "            self.minheap[1] = self.minheap[self.realSize]\n",
    "            self.realSize -= 1\n",
    "            index = 1\n",
    "            # When the deleted element is not a leaf node\n",
    "            while (index < self.realSize and index <= self.realSize // 2):\n",
    "                # the left child of the deleted element\n",
    "                left = index * 2\n",
    "                # the right child of the deleted element\n",
    "                right = (index * 2) + 1\n",
    "                # If the deleted element is larger than the left or right child\n",
    "                # its value needs to be exchanged with the smaller value\n",
    "                # of the left and right child\n",
    "                if (self.minheap[index] > self.minheap[left] or self.minheap[index] > self.minheap[right]):\n",
    "                    if self.minheap[left] < self.minheap[right]:\n",
    "                        self.minheap[left], self.minheap[index] = self.minheap[index], self.minheap[left]\n",
    "                        index = left\n",
    "                    else:\n",
    "                        self.minheap[right], self.minheap[index] = self.minheap[index], self.minheap[right]\n",
    "                        index = right\n",
    "                else:\n",
    "                    break\n",
    "            return removeElement\n",
    "    \n",
    "    # return the number of elements in the Heap\n",
    "    def size(self):\n",
    "        return self.realSize\n",
    "    \n",
    "    def __str__(self):\n",
    "        return str(self.minheap[1 : self.realSize + 1])\n",
    "        \n",
    "\n",
    "if __name__ == \"__main__\":\n",
    "    \t# Test cases\n",
    "        minHeap = MinHeap(5)\n",
    "        minHeap.add(3)\n",
    "        minHeap.add(1)\n",
    "        minHeap.add(2)\n",
    "        # [1,3,2]\n",
    "        print(minHeap)\n",
    "        # 1\n",
    "        print(minHeap.peek())\n",
    "        # 1\n",
    "        print(minHeap.pop())\n",
    "        # 2\n",
    "        print(minHeap.pop())\n",
    "        # 3\n",
    "        print(minHeap.pop())\n",
    "        minHeap.add(4)\n",
    "        minHeap.add(5)\n",
    "        # [4,5]\n",
    "        print(minHeap)"
   ]
  },
  {
   "cell_type": "code",
   "execution_count": 2,
   "metadata": {},
   "outputs": [
    {
     "name": "stdout",
     "output_type": "stream",
     "text": [
      "[3, 1, 2]\n",
      "3\n",
      "3\n",
      "2\n",
      "1\n",
      "[5, 4]\n"
     ]
    }
   ],
   "source": [
    "# Implementing \"Max Heap\"\n",
    "class MaxHeap:\n",
    "    def __init__(self, heapSize):\n",
    "        # Create a complete binary tree using an array\n",
    "        # Then use the binary tree to construct a Heap\n",
    "        self.heapSize = heapSize\n",
    "        # the number of elements is needed when instantiating an array\n",
    "        # heapSize records the size of the array\n",
    "        self.maxheap = [0] * (heapSize + 1)\n",
    "        # realSize records the number of elements in the Heap\n",
    "        self.realSize = 0\n",
    "\n",
    "    # Function to add an element\n",
    "    def add(self, element):\n",
    "        self.realSize += 1\n",
    "        # If the number of elements in the Heap exceeds the preset heapSize\n",
    "        # print \"Added too many elements\" and return\n",
    "        if self.realSize > self.heapSize:\n",
    "            print(\"Add too many elements!\")\n",
    "            self.realSize -= 1\n",
    "            return\n",
    "        # Add the element into the array\n",
    "        self.maxheap[self.realSize] = element\n",
    "        # Index of the newly added element\n",
    "        index = self.realSize\n",
    "        # Parent node of the newly added element\n",
    "        # Note if we use an array to represent the complete binary tree\n",
    "        # and store the root node at index 1\n",
    "        # index of the parent node of any node is [index of the node / 2]\n",
    "        # index of the left child node is [index of the node * 2]\n",
    "        # index of the right child node is [index of the node * 2 + 1]\n",
    "        parent = index // 2\n",
    "        \n",
    "        # If the newly added element is larger than its parent node,\n",
    "        # its value will be exchanged with that of the parent node \n",
    "        while (self.maxheap[index] > self.maxheap[parent] and index > 1):\n",
    "            self.maxheap[parent], self.maxheap[index] = self.maxheap[index], self.maxheap[parent]\n",
    "            index = parent\n",
    "            parent = index // 2\n",
    "            \n",
    "    # Get the top element of the Heap\n",
    "    def peek(self):\n",
    "        return self.maxheap[1]\n",
    "    \n",
    "    # Delete the top element of the Heap\n",
    "    def pop(self):\n",
    "        # If the number of elements in the current Heap is 0,\n",
    "        # print \"Don't have any elements\" and return a default value\n",
    "        if self.realSize < 1:\n",
    "            print(\"Don't have any element!\")\n",
    "            return -sys.maxsize\n",
    "        else:\n",
    "            # When there are still elements in the Heap\n",
    "            # self.realSize >= 1\n",
    "            removeElement = self.maxheap[1]\n",
    "            # Put the last element in the Heap to the top of Heap\n",
    "            self.maxheap[1] = self.maxheap[self.realSize]\n",
    "            self.realSize -= 1\n",
    "            index = 1\n",
    "            # When the deleted element is not a leaf node\n",
    "            while (index < self.realSize and index <= self.realSize // 2):\n",
    "                # the left child of the deleted element\n",
    "                left = index * 2\n",
    "                # the right child of the deleted element\n",
    "                right = (index * 2) + 1\n",
    "                # If the deleted element is smaller than the left or right child\n",
    "                # its value needs to be exchanged with the larger value\n",
    "                # of the left and right child\n",
    "                if (self.maxheap[index] < self.maxheap[left] or self.maxheap[index] < self.maxheap[right]):\n",
    "                    if self.maxheap[left] > self.maxheap[right]:\n",
    "                        self.maxheap[left], self.maxheap[index] = self.maxheap[index], self.maxheap[left]\n",
    "                        index = left\n",
    "                    else:\n",
    "                        self.maxheap[right], self.maxheap[index] = self.maxheap[index], self.maxheap[right]\n",
    "                        index = right\n",
    "                else:\n",
    "                    break\n",
    "            return removeElement\n",
    "    \n",
    "    # return the number of elements in the Heap\n",
    "    def size(self):\n",
    "        return self.realSize\n",
    "    \n",
    "    def __str__(self):\n",
    "        return str(self.maxheap[1 : self.realSize + 1])\n",
    "        \n",
    "\n",
    "if __name__ == \"__main__\":\n",
    "    \t# Test cases\n",
    "        maxHeap = MaxHeap(5)\n",
    "        maxHeap.add(1)\n",
    "        maxHeap.add(2)\n",
    "        maxHeap.add(3)\n",
    "        # [3,1,2]\n",
    "        print(maxHeap)\n",
    "        # 3\n",
    "        print(maxHeap.peek())\n",
    "        # 3\n",
    "        print(maxHeap.pop())\n",
    "        # 2\n",
    "        print(maxHeap.pop())\n",
    "        # 1\n",
    "        print(maxHeap.pop())\n",
    "        maxHeap.add(4)\n",
    "        maxHeap.add(5)\n",
    "        # [5,4]\n",
    "        print(maxHeap)"
   ]
  },
  {
   "cell_type": "code",
   "execution_count": null,
   "metadata": {},
   "outputs": [],
   "source": [
    "# Trie -- Coding Ninjas"
   ]
  },
  {
   "cell_type": "code",
   "execution_count": 2,
   "metadata": {},
   "outputs": [
    {
     "data": {
      "text/plain": [
       "127"
      ]
     },
     "execution_count": 2,
     "metadata": {},
     "output_type": "execute_result"
    }
   ],
   "source": [
    "\"\"\"Brute Force Solution for 'max xor pair' \"\"\"\n",
    "def maxXorPairs(array):\n",
    "    maxYet = -1\n",
    "    count = 0\n",
    "    for i in range(len(array)):\n",
    "        for j in range(i, len(array)):\n",
    "            count = array[i] ^ array[j]\n",
    "            if count > maxYet:\n",
    "                maxYet = count\n",
    "    return maxYet\n",
    "maxXorPairs([14,70,53,83,49,91,36,80,92,51,66,70])\n",
    "    "
   ]
  },
  {
   "cell_type": "code",
   "execution_count": 8,
   "metadata": {},
   "outputs": [
    {
     "data": {
      "text/plain": [
       "15"
      ]
     },
     "execution_count": 8,
     "metadata": {},
     "output_type": "execute_result"
    }
   ],
   "source": [
    "# Trie\n",
    "class trieNode:\n",
    "    def __init__(self):\n",
    "        self.left = None\n",
    "        self.right = None\n",
    "        \n",
    "def insert(val, head):\n",
    "    curr = head\n",
    "    for i in range(31, -1, -1):\n",
    "        bit = (val >> i) & 1\n",
    "        if bit == 0:\n",
    "            if not curr.left:\n",
    "                curr.left = trieNode()\n",
    "            curr = curr.left\n",
    "        else:\n",
    "            if not curr.right:\n",
    "                curr.right = trieNode()\n",
    "            curr = curr.right\n",
    "                \n",
    "\n",
    "def findMaxXorPair(head, arr, n):\n",
    "    max_xor = -1\n",
    "    for i in range(len(arr)):\n",
    "        value = arr[i]\n",
    "        curr = head \n",
    "        curr_xor = 0\n",
    "        for j in range(31, -1, -1):\n",
    "            bit = (value >> j) & 1\n",
    "            if bit == 0:\n",
    "                if curr.right:\n",
    "                    curr_xor += 2**j\n",
    "                    curr = curr.right\n",
    "                else:\n",
    "                    curr = curr.left\n",
    "            else:\n",
    "                if curr.left:\n",
    "                    curr_xor += 2**j\n",
    "                    curr = curr.left\n",
    "                else:\n",
    "                    curr = curr.right\n",
    "        if curr_xor > max_xor:\n",
    "            max_xor = curr_xor\n",
    "    return max_xor\n",
    "\n",
    "def main():\n",
    "    arr = [8,1,2,15,10,5]\n",
    "    head = trieNode()\n",
    "    for i in range(len(arr)):\n",
    "        insert(arr[i], head)\n",
    "    return findMaxXorPair(head, arr, 6)\n",
    "main()\n",
    "            "
   ]
  },
  {
   "cell_type": "code",
   "execution_count": null,
   "metadata": {},
   "outputs": [],
   "source": [
    "# Search Engine \n",
    "\"\"\"\n",
    "n strings with weight assigned\n",
    "i/p : prefix\n",
    "o/p : best weight with that prefix\"\"\"\n",
    "\n",
    "class trieNode:\n",
    "    def __init__(self):\n",
    "        self.children = [None]*26\n",
    "        self.weight = 0\n",
    "        \n",
    "def insert(string, weight, head):\n",
    "    child = trieNode()\n",
    "    index = ord(string) - ord(\"a\")\n",
    "    if head.children[index]:\n",
    "        child = root.children[index]\n",
    "    else:\n",
    "        child = trieNode()\n",
    "    pass\n",
    "\n",
    "def searchBest(string, head):\n",
    "    curr = head\n",
    "    for i in range(len(string)):\n",
    "        index = ord(string[i]) - ord(\"a\")\n",
    "        pass\n",
    "        "
   ]
  },
  {
   "cell_type": "code",
   "execution_count": 12,
   "metadata": {},
   "outputs": [],
   "source": [
    "# greedy -- Coding ninjas"
   ]
  },
  {
   "cell_type": "code",
   "execution_count": 25,
   "metadata": {},
   "outputs": [
    {
     "name": "stdout",
     "output_type": "stream",
     "text": [
      "1 3\n",
      "24 25\n"
     ]
    },
    {
     "data": {
      "text/plain": [
       "1"
      ]
     },
     "execution_count": 25,
     "metadata": {},
     "output_type": "execute_result"
    }
   ],
   "source": [
    "# Brute force solution for minAbsolute Difference\n",
    "def minAbsoluteDifference(array):\n",
    "    min_diff = float(\"inf\")\n",
    "    diff = 0\n",
    "    for i in range(len(array)):\n",
    "        for j in range(i+1, len(array)):\n",
    "            diff = abs(array[i] - array[j])\n",
    "            if diff < min_diff:\n",
    "                min_diff = diff\n",
    "    return min_diff\n",
    "\n",
    "def minAbsoluteDifferenceBetter(array):\n",
    "    array.sort()\n",
    "    res = float(\"inf\")\n",
    "    for i in range(len(array) - 1):\n",
    "        sub = abs(array[i] - array[i+1])\n",
    "        if sub < res:\n",
    "            res = sub\n",
    "            print(array[i], array[i+1])\n",
    "    return res\n",
    "        \n",
    "\n",
    "minAbsoluteDifferenceBetter([1, 5, 3, 19, 24, 25])\n",
    "\n",
    "# Done"
   ]
  },
  {
   "cell_type": "code",
   "execution_count": 42,
   "metadata": {},
   "outputs": [
    {
     "name": "stdout",
     "output_type": "stream",
     "text": [
      "[[3, 9], [2, 5], [5, 10], [4, 7]]\n",
      "27\n",
      "10\n",
      "50\n"
     ]
    },
    {
     "data": {
      "text/plain": [
       "87"
      ]
     },
     "execution_count": 42,
     "metadata": {},
     "output_type": "execute_result"
    }
   ],
   "source": [
    "# idea - value/weight should be max\n",
    "# (remain*profit)/weight\n",
    "# a slight different problem than fractional knapsack\n",
    "def fractionalKnapsack(array, capacity):\n",
    "    sorted_array = sorted(array, key = lambda value: value[1]/value[0], reverse=True)\n",
    "    print(sorted_array)\n",
    "    fValue = 0\n",
    "    currBox = 0\n",
    "    for i in range(len(array)):\n",
    "        if (capacity - currBox) >= sorted_array[i][0]:\n",
    "            fValue += sorted_array[i][0]*sorted_array[i][1]\n",
    "            print(sorted_array[i][0]*sorted_array[i][1])\n",
    "            currBox += sorted_array[i][0]\n",
    "        else:\n",
    "            while currBox < capacity:\n",
    "                fValue += sorted_array[i][1]\n",
    "                currBox += 1\n",
    "    return fValue\n",
    "fractionalKnapsack([[5,10],[2,5],[4,7],[3,9]], 10)"
   ]
  },
  {
   "cell_type": "code",
   "execution_count": 27,
   "metadata": {},
   "outputs": [
    {
     "data": {
      "text/plain": [
       "11"
      ]
     },
     "execution_count": 27,
     "metadata": {},
     "output_type": "execute_result"
    }
   ],
   "source": [
    "\"\"\"\n",
    "given an array of cakes with calorific value,\n",
    "minimize Ci*(2**j)  eat n cakes\n",
    "example C2*(2**1)\"\"\"\n",
    "\n",
    "# idea cake with max cal value should be multiplied by 2**0 and so on\n",
    "def eatMyCake(array):\n",
    "    array.sort(reverse = True)\n",
    "    res = 0\n",
    "    for i in range(len(array)):\n",
    "        res += array[i]*(2**i)\n",
    "    return res\n",
    "eatMyCake([1,3,2])\n",
    "\n",
    "# Done\n",
    "        "
   ]
  },
  {
   "cell_type": "code",
   "execution_count": null,
   "metadata": {},
   "outputs": [],
   "source": [
    "def activitySelection(activities):\n",
    "    pass"
   ]
  },
  {
   "cell_type": "code",
   "execution_count": 31,
   "metadata": {},
   "outputs": [
    {
     "name": "stdout",
     "output_type": "stream",
     "text": [
      "[[70, 15], [60, 20], [80, 40]]\n"
     ]
    }
   ],
   "source": [
    "array = [[60,20], [70,15], [80, 40]]\n",
    "# def compare(a, b):\n",
    "    \n",
    "array = sorted(array, key= lambda value: value[0]/value[1], reverse=True)\n",
    "print(array)"
   ]
  },
  {
   "cell_type": "code",
   "execution_count": 46,
   "metadata": {},
   "outputs": [],
   "source": [
    "def weightedJobScheduling():\n",
    "    pass"
   ]
  },
  {
   "cell_type": "code",
   "execution_count": null,
   "metadata": {},
   "outputs": [],
   "source": [
    "def saveEnergy():\n",
    "    pass"
   ]
  },
  {
   "cell_type": "code",
   "execution_count": null,
   "metadata": {},
   "outputs": [],
   "source": [
    "def maximumTotalValue():\n",
    "    pass"
   ]
  },
  {
   "cell_type": "code",
   "execution_count": null,
   "metadata": {},
   "outputs": [],
   "source": [
    "# Recursion 3 -- coding ninjas"
   ]
  },
  {
   "cell_type": "code",
   "execution_count": 5,
   "metadata": {},
   "outputs": [
    {
     "data": {
      "text/plain": [
       "['', 'c', 'b', 'bc', 'a', 'ac', 'ab', 'abc']"
      ]
     },
     "execution_count": 5,
     "metadata": {},
     "output_type": "execute_result"
    }
   ],
   "source": [
    "\"\"\"\n",
    "given a string, return an array with all subsequence(need not be continuous)\n",
    "i/p: \"abc\"\n",
    "o/p: [\"\", a\", \"b\", \"c\", \"ab\", \"ac\", \"bc\",\"abc\"]\"\"\"\n",
    "def allSubsequences(string):\n",
    "#     base case\n",
    "    if len(string) == 0:\n",
    "        return [\"\"]\n",
    "    \n",
    "    \n",
    "    smallerString = string[1:]\n",
    "    smallerOutput = allSubsequences(smallerString)\n",
    "#     induction hypothesis\n",
    "    for i in range(len(smallerOutput)):\n",
    "        smallerOutput.append(string[0] + smallerOutput[i])\n",
    "    return smallerOutput\n",
    "allSubsequences(\"abc\")\n",
    "        \n",
    "        "
   ]
  },
  {
   "cell_type": "code",
   "execution_count": 19,
   "metadata": {},
   "outputs": [
    {
     "data": {
      "text/plain": [
       "['adg',\n",
       " 'adh',\n",
       " 'adi',\n",
       " 'aeg',\n",
       " 'aeh',\n",
       " 'aei',\n",
       " 'afg',\n",
       " 'afh',\n",
       " 'afi',\n",
       " 'bdg',\n",
       " 'bdh',\n",
       " 'bdi',\n",
       " 'beg',\n",
       " 'beh',\n",
       " 'bei',\n",
       " 'bfg',\n",
       " 'bfh',\n",
       " 'bfi',\n",
       " 'cdg',\n",
       " 'cdh',\n",
       " 'cdi',\n",
       " 'ceg',\n",
       " 'ceh',\n",
       " 'cei',\n",
       " 'cfg',\n",
       " 'cfh',\n",
       " 'cfi']"
      ]
     },
     "execution_count": 19,
     "metadata": {},
     "output_type": "execute_result"
    }
   ],
   "source": [
    "def returnKeypad(num):\n",
    "    if num == 2:\n",
    "        return \"abc\"\n",
    "    elif num == 3:\n",
    "        return \"def\"\n",
    "    elif num == 4:\n",
    "        return \"ghi\"\n",
    "def keypadCombinations(number):\n",
    "    if number == 0:\n",
    "        return [\"\"]\n",
    "    \n",
    "    smallerInt = number//10\n",
    "    remDigit = number % 10\n",
    "    smallerOutput = keypadCombinations(smallerInt)\n",
    "    \n",
    "    output = []\n",
    "    for i in range(len(smallerOutput)):\n",
    "        for j in returnKeypad(remDigit):\n",
    "            option = smallerOutput[i] + j\n",
    "            output.append(option)\n",
    "    \n",
    "    return output\n",
    "(keypadCombinations(234))\n",
    "    "
   ]
  },
  {
   "cell_type": "code",
   "execution_count": 23,
   "metadata": {},
   "outputs": [
    {
     "name": "stdout",
     "output_type": "stream",
     "text": [
      "stack using list\n",
      "5\n",
      "4\n",
      "queue\n",
      "1\n",
      "2\n",
      "3\n",
      "4\n",
      "5\n",
      "stack\n",
      "3\n",
      "2\n",
      "1\n"
     ]
    }
   ],
   "source": [
    "# inbuilt stack and queues\n",
    "# for inbuilt stack we can simply use list\n",
    "print(\"stack using list\")\n",
    "s = [1,2,3]\n",
    "s.append(4)\n",
    "s.append(5)\n",
    "\n",
    "print(s.pop())\n",
    "print(s.pop())\n",
    "\n",
    "\n",
    "# for queue\n",
    "import queue\n",
    "print(\"queue\")\n",
    "q = queue.Queue()\n",
    "q.put(1)\n",
    "q.put(2)\n",
    "q.put(3)\n",
    "q.put(4)\n",
    "q.put(5)\n",
    "while not q.empty():\n",
    "    print(q.get()) # dequeue the element\n",
    "    \n",
    "    \n",
    "# for stack \n",
    "print(\"stack\")\n",
    "y = queue.LifoQueue()\n",
    "y.put(1)\n",
    "y.put(2)\n",
    "y.put(3)\n",
    "while not y.empty():\n",
    "    print(y.get())\n"
   ]
  },
  {
   "cell_type": "code",
   "execution_count": 29,
   "metadata": {},
   "outputs": [
    {
     "data": {
      "text/plain": [
       "[0, 1, 9, 16, 100]"
      ]
     },
     "execution_count": 29,
     "metadata": {},
     "output_type": "execute_result"
    }
   ],
   "source": [
    "def sortedSquares(nums):\n",
    "    firstPointer = 0\n",
    "    secondPointer = len(nums) - 1\n",
    "    squares = []\n",
    "    while secondPointer >= firstPointer:\n",
    "        if abs(nums[firstPointer]) >= abs(nums[secondPointer]):\n",
    "            squares.append(nums[firstPointer]**2) \n",
    "            firstPointer += 1\n",
    "        else:\n",
    "            squares.append(nums[secondPointer]**2)\n",
    "            secondPointer -= 1\n",
    "    squares.reverse()\n",
    "    return squares\n",
    "sortedSquares([-4,-1,0,3,10])"
   ]
  },
  {
   "cell_type": "markdown",
   "metadata": {},
   "source": [
    "Sliding Window "
   ]
  },
  {
   "cell_type": "code",
   "execution_count": 1,
   "metadata": {},
   "outputs": [
    {
     "data": {
      "text/plain": [
       "12.75"
      ]
     },
     "execution_count": 1,
     "metadata": {},
     "output_type": "execute_result"
    }
   ],
   "source": [
    "# 643. Maximum Average Subarray I\n",
    "def maxAvgSubarray(array, k):\n",
    "    firstPointer = 0\n",
    "    secondPointer = k\n",
    "    currAvg = 0\n",
    "    \n",
    "    for i in range(k):\n",
    "        currAvg += array[i]\n",
    "    currAvg = currAvg/k\n",
    "    maxAvg = currAvg\n",
    "    while secondPointer < len(array):\n",
    "        currAvg += (array[secondPointer] - array[firstPointer])/k\n",
    "        if currAvg > maxAvg:\n",
    "            maxAvg = currAvg\n",
    "        firstPointer += 1\n",
    "        secondPointer += 1\n",
    "    return maxAvg\n",
    "\n",
    "maxAvgSubarray([1,12,-5,-6,50,3], 4)\n",
    "# Done        "
   ]
  },
  {
   "cell_type": "code",
   "execution_count": null,
   "metadata": {},
   "outputs": [],
   "source": [
    "# 1708. Largest Subarray Length K\n",
    "\"\"\"Input: nums = [1,4,5,2,3], k = 3\n",
    "Output: [5,2,3]\n",
    "Explanation: The subarrays of size 3 are: [1,4,5], [4,5,2], and [5,2,3].\n",
    "Of these, [5,2,3] is the largest.\"\"\"\n",
    "def largestSubarray(array, k):\n",
    "    firstPointer = 0\n",
    "    secondPointer = k\n",
    "    res = []\n",
    "    for i in range(k):\n",
    "        res.append(array[i])\n",
    "    while secondPointer < len(array):\n",
    "        if array[firstPointer] < array[firstPointer + 1]:\n",
    "            for i in range(firstPointer + 1, firstPointer + k + 1):\n",
    "                res[i] = array[i]\n",
    "            firstPointer += 1\n",
    "            secondPointer += 1\n",
    "#         elif"
   ]
  },
  {
   "cell_type": "code",
   "execution_count": null,
   "metadata": {},
   "outputs": [],
   "source": [
    "# Two Pointer -- In problems where we deal with sorted arrays (or LinkedLists) \n",
    "# and need to find a set of elements that fulfill certain constraint."
   ]
  },
  {
   "cell_type": "code",
   "execution_count": 9,
   "metadata": {},
   "outputs": [
    {
     "name": "stdout",
     "output_type": "stream",
     "text": [
      "['a', 'h', 'i', 'm', 's', 'v'] mavish\n"
     ]
    },
    {
     "data": {
      "text/plain": [
       "True"
      ]
     },
     "execution_count": 9,
     "metadata": {},
     "output_type": "execute_result"
    }
   ],
   "source": [
    "def isAnagram(s, t):\n",
    "    s = sorted(s)\n",
    "    print(s,t)\n",
    "    return sorted(s) == sorted(t)\n",
    "isAnagram(\"shivam\", \"mavish\")"
   ]
  },
  {
   "cell_type": "code",
   "execution_count": 12,
   "metadata": {},
   "outputs": [
    {
     "name": "stdout",
     "output_type": "stream",
     "text": [
      "{1, 2} {1, 2}\n"
     ]
    },
    {
     "data": {
      "text/plain": [
       "{1, 2}"
      ]
     },
     "execution_count": 12,
     "metadata": {},
     "output_type": "execute_result"
    }
   ],
   "source": [
    "def intersection(nums1, nums2):    \n",
    "    nums1 = set(nums1)\n",
    "    nums2 = set(nums2)\n",
    "    print(nums1, nums2)\n",
    "    res = nums2.intersection(nums1)\n",
    "    return res\n",
    "intersection([1,2,2,1], [2,2])"
   ]
  },
  {
   "cell_type": "code",
   "execution_count": 4,
   "metadata": {},
   "outputs": [
    {
     "data": {
      "text/plain": [
       "[1, 3, 12, 0, 0]"
      ]
     },
     "execution_count": 4,
     "metadata": {},
     "output_type": "execute_result"
    }
   ],
   "source": [
    "def moveZeroes(nums):\n",
    "    \"\"\"\n",
    "    Do not return anything, modify nums in-place instead.\n",
    "    \n",
    "    \"\"\"\n",
    "    if len(nums) < 2:\n",
    "        return nums\n",
    "    firstPointer = 0\n",
    "    secondPointer = 1\n",
    "    while secondPointer < len(nums):\n",
    "        if nums[firstPointer] == 0 and nums[secondPointer] != 0:\n",
    "            nums[firstPointer], nums[secondPointer] = nums[secondPointer], nums[firstPointer]\n",
    "            firstPointer += 1\n",
    "            secondPointer += 1\n",
    "        elif nums[firstPointer] == 0 and nums[secondPointer] == 0:\n",
    "            secondPointer += 1\n",
    "        else:\n",
    "            firstPointer += 1\n",
    "            secondPointer += 1\n",
    "            \n",
    "    return nums\n",
    "\n",
    "moveZeroes([0,1,0,3,12])\n"
   ]
  },
  {
   "cell_type": "code",
   "execution_count": 5,
   "metadata": {},
   "outputs": [
    {
     "data": {
      "text/plain": [
       "5"
      ]
     },
     "execution_count": 5,
     "metadata": {},
     "output_type": "execute_result"
    }
   ],
   "source": [
    "def removeDuplicates(nums):\n",
    "    if len(nums) < 2:\n",
    "        return len(nums)\n",
    "        \n",
    "    firstPointer = 0\n",
    "    secondPointer = 1\n",
    "    \n",
    "    count = 1\n",
    "    while secondPointer < len(nums):\n",
    "        if nums[firstPointer] == nums[secondPointer]:\n",
    "            secondPointer += 1\n",
    "        else:\n",
    "            count += 1\n",
    "            firstPointer = secondPointer\n",
    "            secondPointer += 1\n",
    "            \n",
    "    return count\n",
    "\n",
    "removeDuplicates([0,0,1,1,1,2,2,3,3,3,4])  \n",
    "# what if we dont need count instead we need nums\n",
    "    "
   ]
  },
  {
   "cell_type": "code",
   "execution_count": 13,
   "metadata": {},
   "outputs": [
    {
     "data": {
      "text/plain": [
       "0"
      ]
     },
     "execution_count": 13,
     "metadata": {},
     "output_type": "execute_result"
    }
   ],
   "source": [
    "# def stringSearch(string, pattern):\n",
    "#     if len(string) == 1 and len(pattern) == 1:\n",
    "#         if string[0] == pattern[0]:\n",
    "#             return 0\n",
    "        \n",
    "#     if len(string) == 0 or len(pattern) == 0:\n",
    "#         return \"Invalid Input\"\n",
    "      \n",
    "#     firstPointer = 0\n",
    "#     secondPointer = 1\n",
    "    \n",
    "#     patternPointer = 0\n",
    "    \n",
    "#     while secondPointer < len(string):\n",
    "#         if string[firstPointer] != pattern[patternPointer]:\n",
    "#             firstPointer += 1\n",
    "#             secondPointer += 1\n",
    "#             patternPointer = 0\n",
    "#         else:\n",
    "#             secondPointer += 1\n",
    "            \n",
    "#             Nice Try\n",
    "\n",
    "def stringSearch(string, pattern):\n",
    "    n = len(string)\n",
    "    m = len(pattern)\n",
    "    i = 0\n",
    "    flag = False\n",
    "    while not flag and i <= n - m:\n",
    "        j = 0\n",
    "        while string[i + j] == pattern[j] and j < m:\n",
    "            j += 1\n",
    "            if j == m:\n",
    "                break\n",
    "        if j == m:\n",
    "            flag = True\n",
    "        else:\n",
    "            i += 1\n",
    "    if flag:\n",
    "        return i\n",
    "    else:\n",
    "        return \"Failure\"\n",
    "    \n",
    "stringSearch(\"vashivam\", \"va\")\n",
    "        "
   ]
  },
  {
   "cell_type": "code",
   "execution_count": null,
   "metadata": {},
   "outputs": [],
   "source": [
    "class BTNode:\n",
    "    def __init__(self, data):\n",
    "        self.data = data\n",
    "        self.left_child = None\n",
    "        self.right_child = None"
   ]
  },
  {
   "cell_type": "code",
   "execution_count": null,
   "metadata": {},
   "outputs": [],
   "source": [
    "def printTree(root):\n",
    "    if root == None:\n",
    "        return\n",
    "#     if root.left_child == None and root.right_child == None:\n",
    "#         return None\n",
    "    print(root.data)\n",
    "    printTree(root.left_child)\n",
    "    printTree(root.right_child)"
   ]
  },
  {
   "cell_type": "code",
   "execution_count": null,
   "metadata": {},
   "outputs": [],
   "source": [
    "def printTreeDetailed(root):\n",
    "    if root == None:\n",
    "        return\n",
    "#     if root.left_child == None and root.right_child == None:\n",
    "#         return None\n",
    "    print(root.data, end=\":\")\n",
    "    if root.left_child != None:\n",
    "        print(\"L\",root.left_child.data, end=\",\")\n",
    "    if root.right_child != None:\n",
    "        print(\"R\", root.right_child.data, end=\"\")\n",
    "    print()\n",
    "    printTreeDetailed(root.left_child)\n",
    "    printTreeDetailed(root.right_child)"
   ]
  },
  {
   "cell_type": "code",
   "execution_count": null,
   "metadata": {},
   "outputs": [],
   "source": [
    "btn1 = BTNode(1)\n",
    "btn2 = BTNode(2)\n",
    "btn3 = BTNode(3)\n",
    "btn1.left_child = btn2\n",
    "btn1.right_child = btn3"
   ]
  },
  {
   "cell_type": "code",
   "execution_count": null,
   "metadata": {},
   "outputs": [],
   "source": [
    "printTreeDetailed(btn1)"
   ]
  },
  {
   "cell_type": "code",
   "execution_count": null,
   "metadata": {},
   "outputs": [],
   "source": [
    "def inputBT():\n",
    "    rootData = int(input())\n",
    "    if rootData == -1:\n",
    "        return \n",
    "    root = BTNode(rootData)\n",
    "    leftTree = inputBT()\n",
    "    rightTree = inputBT()\n",
    "    root.left_child = leftTree\n",
    "    root.right_child = rightTree\n",
    "    return root\n",
    "root = inputBT()\n",
    "printTreeDetailed(root)"
   ]
  },
  {
   "cell_type": "code",
   "execution_count": null,
   "metadata": {},
   "outputs": [],
   "source": [
    "def numberOfNodes(root):\n",
    "    if root == None:\n",
    "        return 0\n",
    "    return 1 + numberOfNodes(root.left_child) + numberOfNodes(root.right_child)\n",
    "def sumOfNodes(root):\n",
    "    if root == None:\n",
    "        return 0\n",
    "    return root.data + sumOfNodes(root.left_child) + sumOfNodes(root.right_child)\n",
    "def largestNode(root):\n",
    "    if root == None:\n",
    "        return float(\"-inf\")\n",
    "    leftTree = largestNode(root.left_child)\n",
    "    rightTree = largestNode(root.right_child)\n",
    "    return max(root.data, leftTree, rightTree)\n",
    "def numberOfLeafNodes(root):\n",
    "    if root == None:\n",
    "        return 0\n",
    "\n",
    "    if root.left_child == None and root.right_child == None:\n",
    "        return 1\n",
    "    leftLeaf = numberOfLeafNodes(root.left_child)\n",
    "    rightLeaf = numberOfLeafNodes(root.right_child)\n",
    "    numberOfLeaves = leftLeaf + rightLeaf\n",
    "    return numberOfLeaves\n",
    "def heightBT(root):\n",
    "    if root == None:\n",
    "        return 0\n",
    "    return 1 + max(heightBT(root.left_child), heightBT(root.right_child)) \n",
    "\n",
    "def greaterThanX(root, x):\n",
    "    if root == None:\n",
    "        return 0\n",
    "    if root.data > x:\n",
    "        return 1 \n",
    "    return greaterThanX(root.left_child, x) + greaterThanX(root.right_child, x)\n",
    "    \n"
   ]
  },
  {
   "cell_type": "code",
   "execution_count": null,
   "metadata": {},
   "outputs": [],
   "source": [
    "root = inputBT()\n",
    "printTreeDetailed(root)\n",
    "print(numberOfNodes(root))\n",
    "print(sumOfNodes(root))\n",
    "print(largestNode(root))\n",
    "print(numberOfLeafNodes(root))\n",
    "print(heightBT(root))\n",
    "print(greaterThanX(root))"
   ]
  },
  {
   "cell_type": "code",
   "execution_count": 11,
   "metadata": {},
   "outputs": [
    {
     "name": "stdout",
     "output_type": "stream",
     "text": [
      "2\n",
      "3\n"
     ]
    }
   ],
   "source": [
    "def binarySearchRec(array, low, high, target):\n",
    "#     Base Case\n",
    "    if low >= high:\n",
    "        return -1\n",
    "#     mid index\n",
    "    mid = (low + high)//2\n",
    "#    if found in the middle\n",
    "    if array[mid] == target:\n",
    "        return mid\n",
    "#     left searchspace\n",
    "    elif array[mid] > target:\n",
    "        return binarySearch(array, low, mid - 1, target)\n",
    "#     right searchspace\n",
    "    else:\n",
    "        return binarySearch(array, mid + 1, high, target)\n",
    "    \n",
    "def binarySearchIter(array, target):\n",
    "    if len(array) == 0:\n",
    "        return -1\n",
    "    \n",
    "    left = 0\n",
    "    right = len(array) - 1\n",
    "    while left <= right:\n",
    "        mid = (left + right)//2\n",
    "        if array[mid] == target:\n",
    "            return mid\n",
    "        elif array[mid] > target:\n",
    "            right = mid - 1\n",
    "        else:\n",
    "            left = mid + 1\n",
    "    return -1\n",
    "    \n",
    "array = [1,2,3,4,5,6,7,8,9,10]\n",
    "n = len(array)\n",
    "print(binarySearchRec(array, 0, n, 3))\n",
    "print(binarySearchIter(array, 4))"
   ]
  },
  {
   "cell_type": "code",
   "execution_count": null,
   "metadata": {},
   "outputs": [],
   "source": [
    "# def minSubArrayLen(target, nums):\n",
    "#     n = len(nums)\n",
    "#     if n == 1:\n",
    "#         return 1 if nums[0] == target else 0 \n",
    "#     firstPointer = 0\n",
    "#     secondPointer = 0\n",
    "#     currSum = 0\n",
    "#     minLen = float(\"inf\")\n",
    "#     currLen = float(\"inf\")\n",
    "#     while secondPointer < n:\n",
    "#         while currSum < target:\n",
    "#             currSum += nums[secondPointer]\n",
    "#             secondPointer += 1\n",
    "#         if currSum == target:\n",
    "#             print(currSum)\n",
    "#             currLen = secondPointer - firstPointer - 1\n",
    "#             if currLen < minLen:\n",
    "#                 minLen = currLen\n",
    "#             currSum -= nums[firstPointer]\n",
    "#             firstPointer += 1\n",
    "\n",
    "#     return minLen\n",
    "# print(1)    \n",
    "# print(minSubArrayLen(7, [2,3,1,2,4,3]))\n",
    "\n",
    "\n",
    "# Kya bawal hai ye ?"
   ]
  },
  {
   "cell_type": "code",
   "execution_count": null,
   "metadata": {},
   "outputs": [],
   "source": []
  },
  {
   "cell_type": "code",
   "execution_count": null,
   "metadata": {},
   "outputs": [],
   "source": []
  }
 ],
 "metadata": {
  "kernelspec": {
   "display_name": "Python 3",
   "language": "python",
   "name": "python3"
  },
  "language_info": {
   "codemirror_mode": {
    "name": "ipython",
    "version": 3
   },
   "file_extension": ".py",
   "mimetype": "text/x-python",
   "name": "python",
   "nbconvert_exporter": "python",
   "pygments_lexer": "ipython3",
   "version": "3.8.3"
  }
 },
 "nbformat": 4,
 "nbformat_minor": 4
}
