{
 "cells": [
  {
   "cell_type": "markdown",
   "metadata": {},
   "source": [
    "Selection Sort"
   ]
  },
  {
   "cell_type": "code",
   "execution_count": 19,
   "metadata": {},
   "outputs": [
    {
     "data": {
      "text/plain": [
       "[1, 1, 2, 3, 4, 5, 6, 7, 8, 9]"
      ]
     },
     "execution_count": 19,
     "metadata": {},
     "output_type": "execute_result"
    }
   ],
   "source": [
    "\"\"\"Selection sort is easy to implement; there is little that can go wrong with it. However, the method requires\n",
    "O(N2) comparisons and so it should only be used on small files. There is an important exception to this rule.\n",
    "When sorting files with large records and small keys, the cost of exchanging records controls the running time.\n",
    "In such cases, selection sort requires O(N) time since the number of exchanges is at most N.\"\"\"\n",
    "def selectionSort(arr):\n",
    "    n = len(arr)\n",
    "    for i in range(n):\n",
    "        idx_min = i\n",
    "        for j in range(i+1, n):\n",
    "            if arr[j] <= arr[idx_min]:\n",
    "                idx_min = j\n",
    "        arr[i], arr[idx_min] = arr[idx_min], arr[i]\n",
    "    return arr\n",
    "selectionSort([9,8,7,6,5,4,3,2,1,1])\n",
    "\n",
    "\n",
    "            "
   ]
  },
  {
   "cell_type": "markdown",
   "metadata": {},
   "source": [
    "Insertion Sort"
   ]
  },
  {
   "cell_type": "code",
   "execution_count": 20,
   "metadata": {},
   "outputs": [
    {
     "data": {
      "text/plain": [
       "[1, 2, 3, 4, 5, 6, 7, 8, 9]"
      ]
     },
     "execution_count": 20,
     "metadata": {},
     "output_type": "execute_result"
    }
   ],
   "source": [
    "\"\"\"void insertion(ItemType a[], int N) {\n",
    "    int i, j;\n",
    "    ItemType v;\n",
    "\n",
    "    for (i = 2; i <= N; i++) {\n",
    "        v = a[i];\n",
    "        j = i;\n",
    "        while (a[j-1] > v) {\n",
    "            a[j] = a[j-1];\n",
    "            j--;\n",
    "        }\n",
    "       a[j] = v;\n",
    "    }\n",
    "}\n",
    "\n",
    "It is important to note that there is no test in the while loop to prevent the index j from running out of bounds.\n",
    "This could happen if v is smaller than a[1],a[2],...,a[i-1].  To remedy this situation, we place a sentinel key in\n",
    "a[0], making it at least as small as the smallest element in the array.  The use of a sentinel is more efficient\n",
    "than performing a test of the form while (j > 1 &&  a[j-1] > v). Insertion sort is an O(N2) method both in the \n",
    "average case and in the worst case.  For this reason, it is most effectively used on files with roughly N < 20.\n",
    "However, in the special case of an almost sorted file, insertion sort requires only linear time.\"\"\"\n",
    "\n",
    "def insertionSort(arr):\n",
    "    n = len(arr)\n",
    "    for i in range(1, n):\n",
    "        for j in range(i, 0, -1):\n",
    "            if arr[j] < arr[j-1]:\n",
    "                arr[j], arr[j-1] = arr[j-1], arr[j]\n",
    "            else:\n",
    "                break\n",
    "\n",
    "    return arr\n",
    "\n",
    "insertionSort([9,8,7,6,5,4,3,2,1,])"
   ]
  },
  {
   "cell_type": "markdown",
   "metadata": {},
   "source": [
    "Merge Sort"
   ]
  },
  {
   "cell_type": "code",
   "execution_count": 21,
   "metadata": {},
   "outputs": [
    {
     "data": {
      "text/plain": [
       "[1, 2, 3, 4, 5, 6, 7, 8, 9]"
      ]
     },
     "execution_count": 21,
     "metadata": {},
     "output_type": "execute_result"
    }
   ],
   "source": [
    "def mergeTwoSortedArrays(arr1, arr2):\n",
    "    if not arr1:\n",
    "        return arr2\n",
    "    if not arr2:\n",
    "        return arr1\n",
    "    if arr1[0] > arr2[0]:\n",
    "        return [arr2[0]] + mergeTwoSortedArrays(arr1, arr2[1:])\n",
    "    else:\n",
    "        return [arr1[0]] + mergeTwoSortedArrays(arr1[0], arr2[0])\n",
    "\n",
    "\n",
    "def mergeSort(arr):\n",
    "    if len(arr) <= 1:\n",
    "        return arr\n",
    "    else:\n",
    "        mid = len(arr)//2\n",
    "        return mergeTwoSortedArrays(mergeSort(arr[:mid]), mergeSort(arr[mid:]))\n",
    "    \n",
    "mergeSort([9,8,7,6,5,4,3,2,1])\n",
    "    \n"
   ]
  },
  {
   "cell_type": "code",
   "execution_count": null,
   "metadata": {},
   "outputs": [],
   "source": [
    "# Counting Sort"
   ]
  },
  {
   "cell_type": "code",
   "execution_count": null,
   "metadata": {},
   "outputs": [],
   "source": [
    "# Iterative version of merge sort"
   ]
  },
  {
   "cell_type": "code",
   "execution_count": null,
   "metadata": {},
   "outputs": [],
   "source": [
    "# Radix Sort"
   ]
  },
  {
   "cell_type": "code",
   "execution_count": null,
   "metadata": {},
   "outputs": [],
   "source": [
    "# Shell Sort"
   ]
  },
  {
   "cell_type": "code",
   "execution_count": null,
   "metadata": {},
   "outputs": [],
   "source": [
    "# Bubble Sort"
   ]
  },
  {
   "cell_type": "code",
   "execution_count": null,
   "metadata": {},
   "outputs": [],
   "source": [
    "# Quick Sort"
   ]
  },
  {
   "cell_type": "code",
   "execution_count": null,
   "metadata": {},
   "outputs": [],
   "source": [
    "# Heap Sort"
   ]
  },
  {
   "cell_type": "code",
   "execution_count": 16,
   "metadata": {},
   "outputs": [
    {
     "name": "stdout",
     "output_type": "stream",
     "text": [
      "0\n",
      "3\n",
      "2\n",
      "3\n",
      "3\n"
     ]
    }
   ],
   "source": [
    "def diffArr(n, height):\n",
    "\tdiff_arr = []\n",
    "\tfor i in range(1, n):\n",
    "\t\tdiff_arr.append(height[i] - height[i-1])\n",
    "\treturn diff_arr\n",
    "\n",
    "def maxRide(height, n, x, q):\n",
    "    # Write your Code here\n",
    "    diff_arr = diffArr(n, height)\n",
    "    count = 0\n",
    "    for i in diff_arr:\n",
    "        if i > 0:\n",
    "            if x - i >= 0:\n",
    "                print(count)\n",
    "                x -= i\n",
    "                count += 1\n",
    "            elif q > 0:\n",
    "#                 print(count)\n",
    "#                 print(q)\n",
    "                q -= 1\n",
    "#                 print(q)\n",
    "                count += 1\n",
    "        else:\n",
    "            count += 1\n",
    "        \n",
    "    return count\n",
    "print(maxRide([10, 11, 18, 20], 4, 1, 3))\n",
    "print(maxRide([10, 15, 12, 6], 4, 3, 0))\n",
    "print(maxRide([1, 10, 1, 10], 4, 3, 3))\n",
    "print(maxRide([1, 10, 1, 10], 4, 3, 3))"
   ]
  },
  {
   "cell_type": "code",
   "execution_count": 39,
   "metadata": {},
   "outputs": [
    {
     "name": "stdout",
     "output_type": "stream",
     "text": [
      "[-1, -3, -4, -8, -1]\n",
      "[-4, 6, 9, 4]\n"
     ]
    },
    {
     "data": {
      "text/plain": [
       "13"
      ]
     },
     "execution_count": 39,
     "metadata": {},
     "output_type": "execute_result"
    }
   ],
   "source": [
    "# def absoluteDiffer(arr):\n",
    "#     arr.sort()\n",
    "#     n = len(arr)\n",
    "#     for i in range(n):\n",
    "        \n",
    "\n",
    "def interestingSum(n, arr):\n",
    "    ans = float(\"-inf\")\n",
    "    helper = []\n",
    "    sum_ = 0\n",
    "    for i in range(n):\n",
    "        if i%2 == 0:\n",
    "            sum_ += arr[i]\n",
    "        else:\n",
    "            sum_ += -arr[i]\n",
    "        helper.append(sum_)\n",
    "    print(helper)\n",
    "    min_ele = min(helper)\n",
    "    max_ele = max(helper)\n",
    "    return abs(min_ele-max_ele)\n",
    "\n",
    "\n",
    "    \n",
    "interestingSum(5, [-1, 2, -1, 4, 7])\n",
    "interestingSum(4, [-4, -10, 3, 5])\n",
    "            "
   ]
  },
  {
   "cell_type": "code",
   "execution_count": null,
   "metadata": {},
   "outputs": [],
   "source": []
  },
  {
   "cell_type": "code",
   "execution_count": null,
   "metadata": {},
   "outputs": [],
   "source": []
  }
 ],
 "metadata": {
  "kernelspec": {
   "display_name": "Python 3",
   "language": "python",
   "name": "python3"
  },
  "language_info": {
   "codemirror_mode": {
    "name": "ipython",
    "version": 3
   },
   "file_extension": ".py",
   "mimetype": "text/x-python",
   "name": "python",
   "nbconvert_exporter": "python",
   "pygments_lexer": "ipython3",
   "version": "3.8.3"
  }
 },
 "nbformat": 4,
 "nbformat_minor": 4
}
