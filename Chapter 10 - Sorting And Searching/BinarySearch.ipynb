{
 "cells": [
  {
   "cell_type": "code",
   "execution_count": null,
   "metadata": {},
   "outputs": [],
   "source": [
    "Binary Search "
   ]
  },
  {
   "cell_type": "code",
   "execution_count": 2,
   "metadata": {},
   "outputs": [
    {
     "data": {
      "text/plain": [
       "False"
      ]
     },
     "execution_count": 2,
     "metadata": {},
     "output_type": "execute_result"
    }
   ],
   "source": [
    "# Iterative Version \n",
    "def binarySearch(arr, target):\n",
    "    left = 0\n",
    "    right = len(arr) - 1\n",
    "    \n",
    "    while right >= left:\n",
    "        mid = left + (right-left)//2\n",
    "        if arr[mid] == target:\n",
    "            return True\n",
    "        elif arr[mid] > target:\n",
    "            right = mid - 1\n",
    "        else:\n",
    "            left = mid + 1\n",
    "    return False\n",
    "\n",
    "binarySearch([1,2,3,4,5,6,7,8], 16)"
   ]
  },
  {
   "cell_type": "code",
   "execution_count": 7,
   "metadata": {},
   "outputs": [
    {
     "data": {
      "text/plain": [
       "False"
      ]
     },
     "execution_count": 7,
     "metadata": {},
     "output_type": "execute_result"
    }
   ],
   "source": [
    "# Recursive version \n",
    "def binarySearchRecur(arr, target, left, right):\n",
    "    if left > right:\n",
    "        return False\n",
    "    mid = left + (right-left)//2\n",
    "    if arr[mid] == target:\n",
    "        return True\n",
    "    elif arr[mid] > target:\n",
    "        return binarySearchRecur(arr, target, left, mid - 1)\n",
    "    else:\n",
    "        return binarySearchRecur(arr, target, mid + 1, right)\n",
    "binarySearchRecur([1,2,3,4,5,6,7,8], 10, 0, 7)  "
   ]
  },
  {
   "cell_type": "code",
   "execution_count": 35,
   "metadata": {},
   "outputs": [
    {
     "name": "stdout",
     "output_type": "stream",
     "text": [
      "6\n",
      "7\n"
     ]
    },
    {
     "data": {
      "text/plain": [
       "-1"
      ]
     },
     "execution_count": 35,
     "metadata": {},
     "output_type": "execute_result"
    }
   ],
   "source": [
    "# Number of times a sorted array is rotated\n",
    "def timesRotated(arr):\n",
    "    left = 0\n",
    "    right = len(arr) - 1\n",
    "    n = len(arr)\n",
    "    while left <= right:\n",
    "        mid = left + (right-left)//2\n",
    "        prev = (mid - 1) % n\n",
    "        next = (mid + 1) % n\n",
    "        \n",
    "        if arr[prev] > arr[mid] and arr[mid] < arr[next]:\n",
    "            return mid\n",
    "        elif  arr[left] <= arr[mid]:\n",
    "            left = mid + 1\n",
    "        elif arr[right] >= arr[mid]:\n",
    "            right = mid - 1\n",
    "    return -1\n",
    "\n",
    "print(timesRotated([1,2,3,4,5,6,0]))\n",
    "print(timesRotated([23,24,25,25,25,26,27,20,21,22]))\n",
    "timesRotated([1,1,1,1,1,1])\n",
    "# timesRotated([1,2,3,4,5,6,0])"
   ]
  },
  {
   "cell_type": "code",
   "execution_count": null,
   "metadata": {},
   "outputs": [],
   "source": []
  }
 ],
 "metadata": {
  "kernelspec": {
   "display_name": "Python 3",
   "language": "python",
   "name": "python3"
  },
  "language_info": {
   "codemirror_mode": {
    "name": "ipython",
    "version": 3
   },
   "file_extension": ".py",
   "mimetype": "text/x-python",
   "name": "python",
   "nbconvert_exporter": "python",
   "pygments_lexer": "ipython3",
   "version": "3.8.3"
  }
 },
 "nbformat": 4,
 "nbformat_minor": 4
}
