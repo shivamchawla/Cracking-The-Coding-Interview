{
 "cells": [
  {
   "cell_type": "markdown",
   "metadata": {},
   "source": [
    "Striver - Sheet"
   ]
  },
  {
   "cell_type": "code",
   "execution_count": null,
   "metadata": {},
   "outputs": [],
   "source": []
  },
  {
   "cell_type": "markdown",
   "metadata": {},
   "source": [
    "Day 1 , Array"
   ]
  },
  {
   "cell_type": "code",
   "execution_count": null,
   "metadata": {},
   "outputs": [],
   "source": [
    "# 1. Find the Duplicate in an array of N+1 integers\n",
    "\n",
    "# if there is only one duplicate then we can use xor\n",
    "# hashmap can be another solution\n",
    "# many a times x^2 - y^2 equation is used to solve such kind of problem\n"
   ]
  },
  {
   "cell_type": "code",
   "execution_count": null,
   "metadata": {},
   "outputs": [],
   "source": [
    "# 2. Sort an array of 0's 1's 2's without using extra space"
   ]
  },
  {
   "cell_type": "code",
   "execution_count": 4,
   "metadata": {},
   "outputs": [
    {
     "name": "stdout",
     "output_type": "stream",
     "text": [
      "[1, 2, 3, 4, 1, 6]\n"
     ]
    },
    {
     "data": {
      "text/plain": [
       "('Missing:', 5, 'duplicate:', 1)"
      ]
     },
     "execution_count": 4,
     "metadata": {},
     "output_type": "execute_result"
    }
   ],
   "source": [
    "# 3. Repeat and missing number\n",
    "def putTheNumberInCorrectPlace(nums):\n",
    "    n = len(nums)\n",
    "    i = 0 \n",
    "    while i < n:\n",
    "        if nums[i] > 0 and nums[i] <= n and nums[i] != nums[nums[i]-1]:\n",
    "            temp = nums[i]\n",
    "            nums[i] = nums[temp-1]\n",
    "            nums[temp-1] = temp\n",
    "        else:\n",
    "            i += 1\n",
    "    print(nums)\n",
    "    for i in range(n):\n",
    "        if nums[i] != i+1:\n",
    "            return 'Missing:', i+1, 'duplicate:', nums[i]\n",
    "    return \n",
    "putTheNumberInCorrectPlace([4, 3, 6, 2, 1, 1])"
   ]
  },
  {
   "cell_type": "code",
   "execution_count": null,
   "metadata": {},
   "outputs": [],
   "source": [
    "# 4. Merge two sorted array without using extra space"
   ]
  },
  {
   "cell_type": "code",
   "execution_count": null,
   "metadata": {},
   "outputs": [],
   "source": [
    "# 5. Kadane's Algorithm => maximum subarray sum\n",
    "def kadane(arr):\n",
    "    if not arr:\n",
    "        return\n",
    "    n = len(arr)\n",
    "    maxValue, currSum = arr[0], arr[0]\n",
    "    for i in range(1, n):\n",
    "        if arr[i] > arr[i] + currSum:\n",
    "            currSum = arr[i]\n",
    "        else:\n",
    "            currSum += arr[i]\n",
    "        if currSum > maxValue:\n",
    "            maxValue = currSum\n",
    "    return maxValue\n",
    "\n",
    "print(kadane([]))\n",
    "        "
   ]
  },
  {
   "cell_type": "code",
   "execution_count": 10,
   "metadata": {},
   "outputs": [
    {
     "name": "stdout",
     "output_type": "stream",
     "text": [
      "[[1, 6], [8, 10], [15, 18]]\n",
      "[[1, 5]]\n"
     ]
    }
   ],
   "source": [
    "# 6. Merge overlapping subintervals\n",
    "class Solution:\n",
    "    def merge(self, intervals):\n",
    "        if not intervals:\n",
    "            return []\n",
    "        intervals.sort(key=lambda x:x[0])\n",
    "        ans = [intervals[0]]\n",
    "        i = 1\n",
    "        while i < len(intervals):\n",
    "            if intervals[i][0] <= ans[-1][1]:\n",
    "                curr = ans.pop()\n",
    "                if curr[1] > intervals[i][1]:\n",
    "                    ans.append([curr[0], curr[1]])\n",
    "                else:\n",
    "                    ans.append([curr[0], intervals[i][1]])\n",
    "            else:\n",
    "                ans.append(intervals[i])\n",
    "            i += 1\n",
    "        return ans\n",
    "sol = Solution()\n",
    "print(sol.merge([[1,3],[2,6],[8,10],[15,18]]))\n",
    "print(sol.merge([[1,4],[4,5]]))"
   ]
  },
  {
   "cell_type": "markdown",
   "metadata": {},
   "source": [
    "Day 2, Arrays"
   ]
  },
  {
   "cell_type": "code",
   "execution_count": 58,
   "metadata": {},
   "outputs": [
    {
     "data": {
      "text/plain": [
       "[[0, 0, 0], [0, 0, 0], [0, 0, 1]]"
      ]
     },
     "execution_count": 58,
     "metadata": {},
     "output_type": "execute_result"
    }
   ],
   "source": [
    "# 7. Set matrix zeroes\n",
    "def setMatrixZeroes(matrix):\n",
    "    r, c = len(matrix), len(matrix[0])\n",
    "    R, C = set(), set()\n",
    "    for i in range(r):\n",
    "        for j in range(c):\n",
    "            if matrix[i][j] == 0:\n",
    "                R.add(i)\n",
    "                C.add(j)\n",
    "    for i in range(r):\n",
    "        for j in range(c):\n",
    "            if i in R or j in C:\n",
    "                matrix[i][j] = 0\n",
    "    return matrix\n",
    "setMatrixZeroes([[0,0,1], [1, 0, 1], [1, 1, 1]])"
   ]
  },
  {
   "cell_type": "code",
   "execution_count": 13,
   "metadata": {},
   "outputs": [
    {
     "data": {
      "text/plain": [
       "[[1],\n",
       " [1, 1],\n",
       " [1, 2, 1],\n",
       " [1, 3, 3, 1],\n",
       " [1, 4, 6, 4, 1],\n",
       " [1, 5, 10, 10, 5, 1],\n",
       " [1, 6, 15, 20, 15, 6, 1],\n",
       " [1, 7, 21, 35, 35, 21, 7, 1],\n",
       " [1, 8, 28, 56, 70, 56, 28, 8, 1],\n",
       " [1, 9, 36, 84, 126, 126, 84, 36, 9, 1]]"
      ]
     },
     "execution_count": 13,
     "metadata": {},
     "output_type": "execute_result"
    }
   ],
   "source": [
    "# 8. Pascal's Triangle\n",
    "def pascalTriangle(numRows):\n",
    "    ans = [[1]*(i+1) for i in range(numRows)]\n",
    "    for i in range(1, numRows):\n",
    "        for j in range(1, i):\n",
    "            ans[i][j] = ans[i-1][j] + ans[i-1][j-1]\n",
    "    return ans\n",
    "\n",
    "pascalTriangle(10)"
   ]
  },
  {
   "cell_type": "code",
   "execution_count": null,
   "metadata": {},
   "outputs": [],
   "source": [
    "# 9. Next permutation\n",
    "def nextPermutation(arr):\n",
    "    "
   ]
  },
  {
   "cell_type": "code",
   "execution_count": null,
   "metadata": {},
   "outputs": [],
   "source": [
    "# 10. Inversion of Array (using Merge Sort)"
   ]
  },
  {
   "cell_type": "code",
   "execution_count": null,
   "metadata": {},
   "outputs": [],
   "source": [
    "# 11. Rotate Matrix"
   ]
  },
  {
   "cell_type": "markdown",
   "metadata": {},
   "source": [
    "Day 3, Arrays/Maths"
   ]
  },
  {
   "cell_type": "code",
   "execution_count": null,
   "metadata": {},
   "outputs": [],
   "source": [
    "# 12. Search in a 2D matrix"
   ]
  },
  {
   "cell_type": "code",
   "execution_count": null,
   "metadata": {},
   "outputs": [],
   "source": [
    "# 13. Pow(x, n)"
   ]
  },
  {
   "cell_type": "code",
   "execution_count": null,
   "metadata": {},
   "outputs": [],
   "source": [
    "# 14. Majority element (>n//2)"
   ]
  },
  {
   "cell_type": "code",
   "execution_count": null,
   "metadata": {},
   "outputs": [],
   "source": [
    "# 15. Majority element (>n//3)"
   ]
  },
  {
   "cell_type": "code",
   "execution_count": null,
   "metadata": {},
   "outputs": [],
   "source": [
    "# 16. Grid Unique Path"
   ]
  },
  {
   "cell_type": "code",
   "execution_count": null,
   "metadata": {},
   "outputs": [],
   "source": [
    "# 17. Reverse Pairs"
   ]
  },
  {
   "cell_type": "markdown",
   "metadata": {},
   "source": [
    "Day 4, Hashing"
   ]
  },
  {
   "cell_type": "code",
   "execution_count": null,
   "metadata": {},
   "outputs": [],
   "source": [
    "# 18. 2 sum\n"
   ]
  },
  {
   "cell_type": "code",
   "execution_count": 16,
   "metadata": {},
   "outputs": [
    {
     "name": "stdout",
     "output_type": "stream",
     "text": [
      "{1: 1, 2: 4, 3: 9, 4: 16, 5: 25}\n"
     ]
    }
   ],
   "source": [
    "pairs = [( \"ga\" , \"Irish\" )]\n",
    "pairs2 = [( \"ga\" , \"Irish\")]\n",
    "hashmap = dict(pairs)\n",
    "hashmap2 = dict(pairs2)\n",
    "hashmap == hashmap2\n",
    "n = 5\n",
    "dictionary_comprehension = { k:k*k for k in range(1, n+1) }\n",
    "print(dictionary_comprehension)"
   ]
  },
  {
   "cell_type": "code",
   "execution_count": null,
   "metadata": {},
   "outputs": [],
   "source": [
    "# 19. 4 Sum"
   ]
  },
  {
   "cell_type": "code",
   "execution_count": 68,
   "metadata": {},
   "outputs": [
    {
     "data": {
      "text/plain": [
       "6"
      ]
     },
     "execution_count": 68,
     "metadata": {},
     "output_type": "execute_result"
    }
   ],
   "source": [
    "# 20. Longest Consecutive subsequence\n",
    "\n",
    "# can be done using sorting , which takes O(nlogn)\n",
    "def longestConsecutiveSubsequence(arr):\n",
    "    hashset = set(arr)\n",
    "    longestStreak = 0\n",
    "    for i in arr:\n",
    "        if i - 1 not in hashset:\n",
    "            currentStreak = 1\n",
    "            currNum = i\n",
    "            while currNum + 1 in hashset:\n",
    "                currNum += 1\n",
    "                currentStreak += 1\n",
    "            longestStreak = max(longestStreak, currentStreak)\n",
    "    return longestStreak\n",
    "\n",
    "# Time complexity : O(n)\n",
    "# Space Complexity : O(n)\n",
    "longestConsecutiveSubsequence([2,6,1,9,4,5,3])"
   ]
  },
  {
   "cell_type": "code",
   "execution_count": null,
   "metadata": {},
   "outputs": [],
   "source": [
    "# 21. Largest subarray with 0 sum"
   ]
  },
  {
   "cell_type": "code",
   "execution_count": null,
   "metadata": {},
   "outputs": [],
   "source": [
    "# 22. Count number of subarrays with given xor"
   ]
  },
  {
   "cell_type": "code",
   "execution_count": 78,
   "metadata": {},
   "outputs": [
    {
     "data": {
      "text/plain": [
       "3"
      ]
     },
     "execution_count": 78,
     "metadata": {},
     "output_type": "execute_result"
    }
   ],
   "source": [
    "# 23. Longest substring without repeat\n",
    "def longestStringWithoutRepeat(string):\n",
    "    l = 0\n",
    "    charSet = set()\n",
    "    res = 0\n",
    "    for i in range(len(string)):\n",
    "        while string[i] in charSet:\n",
    "            charSet.remove(string[l])\n",
    "            l += 1\n",
    "        charSet.add(string[i])\n",
    "        res = max(res, len(charSet))\n",
    "    return res\n",
    "longestStringWithoutRepeat('pwwkew')\n",
    "        "
   ]
  },
  {
   "cell_type": "markdown",
   "metadata": {},
   "source": [
    "Day 5, Linked List"
   ]
  },
  {
   "cell_type": "code",
   "execution_count": null,
   "metadata": {},
   "outputs": [],
   "source": [
    "# 24. Reverse a linked list"
   ]
  },
  {
   "cell_type": "code",
   "execution_count": null,
   "metadata": {},
   "outputs": [],
   "source": [
    "# 25. Find the middle of a linked list"
   ]
  },
  {
   "cell_type": "code",
   "execution_count": null,
   "metadata": {},
   "outputs": [],
   "source": [
    "# 26. Merge two sorted linkedlist"
   ]
  },
  {
   "cell_type": "code",
   "execution_count": null,
   "metadata": {},
   "outputs": [],
   "source": [
    "# 27. Remove n-th Node from back of linkedlist"
   ]
  },
  {
   "cell_type": "code",
   "execution_count": null,
   "metadata": {},
   "outputs": [],
   "source": [
    "# 28. Delete a given node when a node is given. (O(1) solution)"
   ]
  },
  {
   "cell_type": "code",
   "execution_count": null,
   "metadata": {},
   "outputs": [],
   "source": [
    "# 29. Add two numbers as linked list"
   ]
  },
  {
   "cell_type": "code",
   "execution_count": null,
   "metadata": {},
   "outputs": [],
   "source": [
    "Day 6, LinkedList"
   ]
  },
  {
   "cell_type": "code",
   "execution_count": null,
   "metadata": {},
   "outputs": [],
   "source": [
    "# 30. Find intersection point of two linked list"
   ]
  },
  {
   "cell_type": "code",
   "execution_count": null,
   "metadata": {},
   "outputs": [],
   "source": [
    "# 31. Check if a linkedlist is a palindrome or not"
   ]
  },
  {
   "cell_type": "code",
   "execution_count": null,
   "metadata": {},
   "outputs": [],
   "source": [
    "# 32. Reverse a linkedlist in groups"
   ]
  },
  {
   "cell_type": "code",
   "execution_count": null,
   "metadata": {},
   "outputs": [],
   "source": [
    "# 33. Detect a cycle and removing loop(two different questions on same concept)"
   ]
  },
  {
   "cell_type": "code",
   "execution_count": null,
   "metadata": {},
   "outputs": [],
   "source": [
    "# 34. Flattening of a linkedlist"
   ]
  },
  {
   "cell_type": "code",
   "execution_count": null,
   "metadata": {},
   "outputs": [],
   "source": [
    "# 35. Rotate a linkedlist"
   ]
  },
  {
   "cell_type": "code",
   "execution_count": null,
   "metadata": {},
   "outputs": [],
   "source": [
    "# 36. Clone a linkedlist with random and next pointer"
   ]
  },
  {
   "cell_type": "markdown",
   "metadata": {},
   "source": [
    "Day 7, Two pointer"
   ]
  },
  {
   "cell_type": "code",
   "execution_count": null,
   "metadata": {},
   "outputs": [],
   "source": [
    "# 37. Merge two sorted linkedlist"
   ]
  },
  {
   "cell_type": "code",
   "execution_count": null,
   "metadata": {},
   "outputs": [],
   "source": [
    "# 38. find the starting of the loop"
   ]
  },
  {
   "cell_type": "code",
   "execution_count": null,
   "metadata": {},
   "outputs": [],
   "source": [
    "# 39. 3 Sum"
   ]
  },
  {
   "cell_type": "code",
   "execution_count": null,
   "metadata": {},
   "outputs": [],
   "source": [
    "# 40. Trapping rainwater"
   ]
  },
  {
   "cell_type": "code",
   "execution_count": null,
   "metadata": {},
   "outputs": [],
   "source": [
    "# 41. Remove duplicates from a sorted array"
   ]
  },
  {
   "cell_type": "code",
   "execution_count": null,
   "metadata": {},
   "outputs": [],
   "source": [
    "# 42. Max Continuous number of 1s"
   ]
  },
  {
   "cell_type": "markdown",
   "metadata": {},
   "source": [
    "Day 8, Greedy"
   ]
  },
  {
   "cell_type": "code",
   "execution_count": 7,
   "metadata": {},
   "outputs": [
    {
     "data": {
      "text/plain": [
       "4"
      ]
     },
     "execution_count": 7,
     "metadata": {},
     "output_type": "execute_result"
    }
   ],
   "source": [
    "# 43. N meeting in one room \n",
    "def maximumMeetings(n,start,end):\n",
    "    meetings = []\n",
    "    for i in range(n):\n",
    "        meetings.append((start[i], end[i]))\n",
    "    \n",
    "    meetings.sort(key=lambda x:x[1])\n",
    "    \n",
    "    \n",
    "    count = 1\n",
    "    i = 1\n",
    "    ans = [meetings[0]]\n",
    "    while i < n:\n",
    "        if meetings[i][0] > ans[-1][1]:\n",
    "            ans.append(meetings[i])\n",
    "            count += 1\n",
    "        i += 1\n",
    "    return count\n",
    "\n",
    "start = [1,3,0,5,8,5]\n",
    "end = [2,4,6,7,9,9]\n",
    "n = len(start)\n",
    "maximumMeetings(n, start, end)"
   ]
  },
  {
   "cell_type": "code",
   "execution_count": null,
   "metadata": {},
   "outputs": [],
   "source": [
    "# 44. Activity selection"
   ]
  },
  {
   "cell_type": "code",
   "execution_count": null,
   "metadata": {},
   "outputs": [],
   "source": [
    "# 45. Greedy algorithm to find minimum number of coins"
   ]
  },
  {
   "cell_type": "code",
   "execution_count": null,
   "metadata": {},
   "outputs": [],
   "source": [
    "# 46. Fractional Knapsack"
   ]
  },
  {
   "cell_type": "code",
   "execution_count": null,
   "metadata": {},
   "outputs": [],
   "source": [
    "# 47. Minimum number of platforms required for a railway"
   ]
  },
  {
   "cell_type": "code",
   "execution_count": null,
   "metadata": {},
   "outputs": [],
   "source": [
    "# 48. Job sequencing problem"
   ]
  },
  {
   "cell_type": "markdown",
   "metadata": {},
   "source": [
    "Day 9, Backtracking "
   ]
  },
  {
   "cell_type": "code",
   "execution_count": null,
   "metadata": {},
   "outputs": [],
   "source": [
    "# 49. N-queen"
   ]
  },
  {
   "cell_type": "code",
   "execution_count": null,
   "metadata": {},
   "outputs": [],
   "source": [
    "# 50. Sudoku "
   ]
  },
  {
   "cell_type": "code",
   "execution_count": null,
   "metadata": {},
   "outputs": [],
   "source": [
    "# 51. M-coloring problem "
   ]
  },
  {
   "cell_type": "code",
   "execution_count": null,
   "metadata": {},
   "outputs": [],
   "source": [
    "# 52. Rat in a maze"
   ]
  },
  {
   "cell_type": "code",
   "execution_count": 91,
   "metadata": {},
   "outputs": [
    {
     "data": {
      "text/plain": [
       "{''}"
      ]
     },
     "execution_count": 91,
     "metadata": {},
     "output_type": "execute_result"
    }
   ],
   "source": [
    "# 53. Print all permutations of a string/array\n",
    "# permutations of a string \n",
    "def get_permutations_str(string):\n",
    "    if len(string) <= 1:\n",
    "        return set([string])\n",
    "    \n",
    "    all_chars_except_last = string[:-1]\n",
    "    last_char = string[-1]\n",
    "    \n",
    "    permutations_of_all_chars_except_last = get_permutations_str(all_chars_except_last)\n",
    "    \n",
    "    permutations = set()\n",
    "    for permutation_of_all_chars_except_last in permutations_of_all_chars_except_last:\n",
    "        for position in range(len(all_chars_except_last) + 1):\n",
    "            permutation = permutation_of_all_chars_except_last[:position] + last_char + permutation_of_all_chars_except_last[position:]\n",
    "            permutations.add(permutation)\n",
    "    return permutations\n",
    "get_permutations_str('')"
   ]
  },
  {
   "cell_type": "code",
   "execution_count": null,
   "metadata": {},
   "outputs": [],
   "source": [
    "# 54. Word break (print all ways)\n",
    "def wordBreak(s, words):\n",
    "    w = set(words)\n",
    "    @cache\n",
    "    def dfs(i):\n",
    "        if i == len(s):\n",
    "            return True\n",
    "        for end in range(i+1,len(s)):\n",
    "            if s[i:end] in w and dfs(end):\n",
    "                return True\n",
    "        return False\n",
    "    return dfs(0)\n"
   ]
  },
  {
   "cell_type": "markdown",
   "metadata": {},
   "source": [
    "Day 10, Backtracking"
   ]
  },
  {
   "cell_type": "code",
   "execution_count": null,
   "metadata": {},
   "outputs": [],
   "source": [
    "# 55. Combination sum-1"
   ]
  },
  {
   "cell_type": "code",
   "execution_count": null,
   "metadata": {},
   "outputs": [],
   "source": [
    "# 56. Combination sum - 2"
   ]
  },
  {
   "cell_type": "code",
   "execution_count": null,
   "metadata": {},
   "outputs": [],
   "source": [
    "# 57. Palindrome partioning"
   ]
  },
  {
   "cell_type": "code",
   "execution_count": null,
   "metadata": {},
   "outputs": [],
   "source": [
    "# 58. Subset sum - 1"
   ]
  },
  {
   "cell_type": "code",
   "execution_count": null,
   "metadata": {},
   "outputs": [],
   "source": [
    "# 59. Subset sum - 2"
   ]
  },
  {
   "cell_type": "code",
   "execution_count": null,
   "metadata": {},
   "outputs": [],
   "source": [
    "# 60. Kth - permuatation sequence"
   ]
  },
  {
   "cell_type": "markdown",
   "metadata": {},
   "source": [
    "Day 11, Divide and conquer"
   ]
  },
  {
   "cell_type": "code",
   "execution_count": null,
   "metadata": {},
   "outputs": [],
   "source": [
    "# 61. 1/nth root of an integer (use binary search)(sq. root, cube root, ...)"
   ]
  },
  {
   "cell_type": "code",
   "execution_count": null,
   "metadata": {},
   "outputs": [],
   "source": [
    "# 62. Matrix median"
   ]
  },
  {
   "cell_type": "code",
   "execution_count": null,
   "metadata": {},
   "outputs": [],
   "source": [
    "# 63. Find the element that appears once in a sorted array, and rest appear twice (binary search)"
   ]
  },
  {
   "cell_type": "code",
   "execution_count": null,
   "metadata": {},
   "outputs": [],
   "source": [
    "# 64. Find the element in a sorted and rotated array/ find pivot where it is rotated"
   ]
  },
  {
   "cell_type": "code",
   "execution_count": null,
   "metadata": {},
   "outputs": [],
   "source": [
    "# 65. Median of two sorted arrays"
   ]
  },
  {
   "cell_type": "code",
   "execution_count": null,
   "metadata": {},
   "outputs": [],
   "source": [
    "# 66. k-th element of two sorted arrays"
   ]
  },
  {
   "cell_type": "markdown",
   "metadata": {},
   "source": [
    "Day 12, bits manipulation"
   ]
  },
  {
   "cell_type": "code",
   "execution_count": null,
   "metadata": {},
   "outputs": [],
   "source": [
    "# 67. Check if a sum is a power of 2\n",
    "def isPowerOf2(num):\n",
    "    return num > 0 and (num & num - 1) == 0"
   ]
  },
  {
   "cell_type": "code",
   "execution_count": null,
   "metadata": {},
   "outputs": [],
   "source": [
    "# 68. Count total set bits"
   ]
  },
  {
   "cell_type": "code",
   "execution_count": null,
   "metadata": {},
   "outputs": [],
   "source": [
    "# 69. Divide integers without / operator"
   ]
  },
  {
   "cell_type": "code",
   "execution_count": 28,
   "metadata": {},
   "outputs": [
    {
     "name": "stdout",
     "output_type": "stream",
     "text": [
      "{ 1 2 3 }\n",
      "{ 1 2 }\n",
      "{ 1 3 }\n",
      "{ 1 }\n",
      "{ 2 3 }\n",
      "{ 2 }\n",
      "{ 3 }\n",
      "{ }\n"
     ]
    }
   ],
   "source": [
    "# 70. Power set (Very important)\n",
    "\n",
    "# using the fact that numbers represented in binary can be \n",
    "# used to generate all the subsets of an array \n",
    "def powerSet(arr):\n",
    "    n = len(arr)\n",
    "    MAX_VAL = 1 << n\n",
    "    for subset in range(MAX_VAL):\n",
    "        print('{ ', end=\"\")\n",
    "        for i in range(n):\n",
    "            mask = 1 << i\n",
    "            if subset & mask == mask:\n",
    "                print(str(arr[i]) + \" \", end = \"\")\n",
    "        print(\"}\")\n",
    "        \n",
    "def powerSetRecursive(at, arr, used):\n",
    "    if at == len(arr):\n",
    "        \n",
    "        # print found subset\n",
    "        print('{ ', end=\"\")\n",
    "        for i in range(at):\n",
    "            if used[i]:\n",
    "                print(str(arr[i]) + \" \", end = \"\")\n",
    "        print('}')\n",
    "        \n",
    "    else:\n",
    "        # include this element\n",
    "        used[at] = True\n",
    "        powerSetRecursive(at + 1, arr, used)\n",
    "        \n",
    "        # backtrack and don't include this element\n",
    "        used[at] = False\n",
    "        powerSetRecursive(at + 1, arr, used)\n",
    "            \n",
    "powerSetRecursive(0, [1,2,3], [False, False, False])"
   ]
  },
  {
   "cell_type": "code",
   "execution_count": null,
   "metadata": {},
   "outputs": [],
   "source": [
    "# 71. Find MSB in O(1)"
   ]
  },
  {
   "cell_type": "code",
   "execution_count": null,
   "metadata": {},
   "outputs": [],
   "source": [
    "# 72. Find square of a number without using * or / operator"
   ]
  },
  {
   "cell_type": "markdown",
   "metadata": {},
   "source": [
    "Day 13, Stack and queue"
   ]
  },
  {
   "cell_type": "code",
   "execution_count": null,
   "metadata": {},
   "outputs": [],
   "source": [
    "# 73. Implement stack and queue"
   ]
  },
  {
   "cell_type": "code",
   "execution_count": null,
   "metadata": {},
   "outputs": [],
   "source": [
    "# 74. BFS\n",
    "\"\"\"\n",
    "1. to find a path from start vertex s to a desired vertex v\n",
    "2. visit all vertices or edges of graph or only those reachable from s\n",
    "3. Shortest Path : for every vertex v, fewest edges to get from s to v is level[v] if v assigned level , else 'inf' (no path)\n",
    "4. to find shortest path, take v , parent[v], parent[parent[v]], .. etc until s(or None)\n",
    "\n",
    "def bfs():\n",
    "    parent = {root:None}\n",
    "    level = {root:0}\n",
    "    i = 0\n",
    "    queue = [root]\n",
    "    while queue:\n",
    "        next_queue = []\n",
    "        for u in queue:\n",
    "            for v in adj[u]:\n",
    "                if v not in parent:\n",
    "                    parent[v] = u\n",
    "                    level[v] = i\n",
    "                    next_queue.append(v)   \n",
    "        i += 1\n",
    "        queue = next_queue\n",
    "        \n",
    "\"\"\"\n",
    "\n",
    "# time complexity : O(V + E)\n",
    "# space complexity : O(V + E)"
   ]
  },
  {
   "cell_type": "code",
   "execution_count": null,
   "metadata": {},
   "outputs": [],
   "source": [
    "# 75. Implement stack using queue"
   ]
  },
  {
   "cell_type": "code",
   "execution_count": null,
   "metadata": {},
   "outputs": [],
   "source": [
    "# 76. Implement queue using stack"
   ]
  },
  {
   "cell_type": "code",
   "execution_count": null,
   "metadata": {},
   "outputs": [],
   "source": [
    "# 77. Check for balanced parenthesis"
   ]
  },
  {
   "cell_type": "code",
   "execution_count": 8,
   "metadata": {},
   "outputs": [
    {
     "name": "stdout",
     "output_type": "stream",
     "text": [
      "[5, 25, 25, -1]\n",
      "[5, 25, 25, -1]\n"
     ]
    }
   ],
   "source": [
    "# 78. Next greater element on the right\n",
    "\"\"\"given an array, return the ans\n",
    "starting our loop from the second last element in the array to the 0th element in the array\n",
    "put the last element in the stack\n",
    "Case 1: stack[-1] > arr[i]\n",
    "    ans.append(stack[-1])\n",
    "    stack.append[arr[i]]\n",
    "Case 2: stack[-1] < arr[i]\n",
    "    while stack and stack[-1] < arr[i]\n",
    "        stack.pop()\n",
    "    if not stack:\n",
    "        ans.append(-1)\n",
    "        stack.append(arr[i])\n",
    "Case 3: stack empty \n",
    "    ans.append(-1)\n",
    "    stack.append(arr[i])\"\"\"\n",
    "def nextGreaterElement(array):\n",
    "    if not array:\n",
    "        return []\n",
    "    stack = []\n",
    "    n = len(array)\n",
    "    stack.append(array[n-1])\n",
    "    ans = [-1]\n",
    "    for i in range(n-2, -1, -1):\n",
    "        while stack and stack[-1] < array[i]:\n",
    "            stack.pop()\n",
    "        if not stack:\n",
    "            ans.append(-1)\n",
    "        else:\n",
    "            ans.append(stack[-1])\n",
    "        stack.append(array[i])\n",
    "    ans.reverse()\n",
    "    return ans\n",
    "\n",
    "def nextGreaterElementAlternativeSol(array):\n",
    "    if not array:\n",
    "        return []\n",
    "    stack = [0]\n",
    "    n = len(array)\n",
    "    ans = [-1]*n\n",
    "    for i in range(1, n):\n",
    "        while stack and array[stack[-1]] < array[i]:\n",
    "            pos = stack.pop()\n",
    "            ans[pos] = array[i]\n",
    "        stack.append(i)\n",
    "    while stack:\n",
    "        ans[stack.pop()] = -1\n",
    "    return ans\n",
    "print(nextGreaterElement([4, 5, 2, 25]))\n",
    "print(nextGreaterElementAlternativeSol([4, 5, 2, 25]))"
   ]
  },
  {
   "cell_type": "markdown",
   "metadata": {},
   "source": [
    "Day 14, Stack and queue"
   ]
  },
  {
   "cell_type": "code",
   "execution_count": null,
   "metadata": {},
   "outputs": [],
   "source": [
    "# 79. Next smaller element"
   ]
  },
  {
   "cell_type": "code",
   "execution_count": null,
   "metadata": {},
   "outputs": [],
   "source": [
    "# 80. LRU Cache (v.v.important)"
   ]
  },
  {
   "cell_type": "code",
   "execution_count": null,
   "metadata": {},
   "outputs": [],
   "source": [
    "# 81. Largest rectangle in histogram "
   ]
  },
  {
   "cell_type": "code",
   "execution_count": null,
   "metadata": {},
   "outputs": [],
   "source": [
    "# 82. Sliding window maximum\n",
    "class Solution:\n",
    "    def maxSlidingWindow(self, nums: List[int], k: int) -> List[int]:\n",
    "        window = SlidingWindowMaximum(nums)\n",
    "        \n",
    "        i = 0\n",
    "        while i < k-1:\n",
    "            window.advance()\n",
    "            i += 1\n",
    "        result = []\n",
    "        for i in range(k-1, window.N):\n",
    "            window.advance()\n",
    "            result.append(window.getMax())            \n",
    "            window.shrink()\n",
    "        return result\n",
    "            \n",
    "\n",
    "class SlidingWindowMaximum():\n",
    "\n",
    "    def __init__(self, values):\n",
    "        if values == None:\n",
    "            raise Exception()\n",
    "        self.values = values\n",
    "        self.N = len(values)\n",
    "        self.lo = 0\n",
    "        self.hi = 0\n",
    "        self.deque = deque()\n",
    "\n",
    "\n",
    "    def advance(self):\n",
    "        \n",
    "\n",
    "    # Remove all the worse values in the back of the deque\n",
    "        while len(self.deque) and self.values[self.deque[-1]] < self.values[self.hi]:\n",
    "            self.deque.pop() # Change the '<' sign here ^^^ to '>' for minimum sliding window\n",
    "\n",
    "        # Add the next index to the back of the deque\n",
    "        self.deque.append(self.hi)\n",
    "\n",
    "    # Increase the window size\n",
    "        self.hi += 1\n",
    "\n",
    "\n",
    "    def shrink(self):\n",
    "        \"\"\"\n",
    "        Retracks the back of the window by one unit\n",
    "        \"\"\"\n",
    "\n",
    "        # Decrease window size by pushing it forward\n",
    "        self.lo += 1\n",
    "\n",
    "        # Remove elements in the front of the queue whom are no longer\n",
    "        # valid in the reduced window.\n",
    "        while len(self.deque) and self.deque[0] < self.lo: \n",
    "            self.deque.popleft()\n",
    "\n",
    "\n",
    "  # Query the current maximum value in the window\n",
    "    def getMax(self):\n",
    "        if self.lo >= self.hi: \n",
    "            raise Exception(\"Make sure lo < hi\")\n",
    "    #    print(self.deque)\n",
    "        if len(self.deque):\n",
    "            return self.values[self.deque[0]]\n",
    "        else:\n",
    "            return None"
   ]
  },
  {
   "cell_type": "code",
   "execution_count": null,
   "metadata": {},
   "outputs": [],
   "source": [
    "# 83. Implement min stack"
   ]
  },
  {
   "cell_type": "code",
   "execution_count": null,
   "metadata": {},
   "outputs": [],
   "source": [
    "# 84. Rotten orange (using Bfs)"
   ]
  },
  {
   "cell_type": "markdown",
   "metadata": {},
   "source": [
    "Day 15, String"
   ]
  },
  {
   "cell_type": "code",
   "execution_count": null,
   "metadata": {},
   "outputs": [],
   "source": [
    "# 85. Reverse Words in a string"
   ]
  },
  {
   "cell_type": "code",
   "execution_count": 60,
   "metadata": {},
   "outputs": [
    {
     "data": {
      "text/plain": [
       "'tacocat'"
      ]
     },
     "execution_count": 60,
     "metadata": {},
     "output_type": "execute_result"
    }
   ],
   "source": [
    "# 86. Longest Palindrome in a string\n",
    "def longestPalindrome(string):\n",
    "    res = \"\"\n",
    "    resLen = 0\n",
    "    new_str = \"#\"\n",
    "    for i in string:\n",
    "        new_str += i + \"#\"\n",
    "    for i in range(len(new_str)):\n",
    "        l, r = i, i\n",
    "        while l >= 0 and r < len(new_str) and new_str[l] == new_str[r]:\n",
    "            if resLen < r - l + 1:\n",
    "                res = new_str[l:r+1]\n",
    "                resLen = r - l + 1\n",
    "            l -= 1\n",
    "            r += 1\n",
    "    final_ans = \"\"\n",
    "    for i in res:\n",
    "        if i == \"#\":\n",
    "            continue\n",
    "        else:\n",
    "            final_ans += i\n",
    "    return final_ans\n",
    "\n",
    "longestPalindrome(\"mactacocatbook\")"
   ]
  },
  {
   "cell_type": "code",
   "execution_count": null,
   "metadata": {},
   "outputs": [],
   "source": [
    "# 87. Roman number to integer and vice versa"
   ]
  },
  {
   "cell_type": "code",
   "execution_count": null,
   "metadata": {},
   "outputs": [],
   "source": [
    "# 88. Implement ATOI/strstr"
   ]
  },
  {
   "cell_type": "code",
   "execution_count": null,
   "metadata": {},
   "outputs": [],
   "source": [
    "# 89. Longest Common prefix"
   ]
  },
  {
   "cell_type": "code",
   "execution_count": null,
   "metadata": {},
   "outputs": [],
   "source": [
    "# 90. Rabin karp"
   ]
  },
  {
   "cell_type": "markdown",
   "metadata": {},
   "source": [
    "Day 16, String"
   ]
  },
  {
   "cell_type": "code",
   "execution_count": null,
   "metadata": {},
   "outputs": [],
   "source": [
    "# 91. Prefix function / Z- function"
   ]
  },
  {
   "cell_type": "code",
   "execution_count": null,
   "metadata": {},
   "outputs": [],
   "source": [
    "# 92. KMP algo"
   ]
  },
  {
   "cell_type": "code",
   "execution_count": null,
   "metadata": {},
   "outputs": [],
   "source": [
    "# 93. Minimum characters needed to be inserted to make it a palindromic"
   ]
  },
  {
   "cell_type": "code",
   "execution_count": null,
   "metadata": {},
   "outputs": [],
   "source": [
    "# 94. Check for anagrams"
   ]
  },
  {
   "cell_type": "code",
   "execution_count": null,
   "metadata": {},
   "outputs": [],
   "source": [
    "# 95. Count and say"
   ]
  },
  {
   "cell_type": "code",
   "execution_count": null,
   "metadata": {},
   "outputs": [],
   "source": [
    "# 96. Compare version numbers"
   ]
  },
  {
   "cell_type": "markdown",
   "metadata": {},
   "source": [
    "Day 17, Binary Tree"
   ]
  },
  {
   "cell_type": "code",
   "execution_count": null,
   "metadata": {},
   "outputs": [],
   "source": [
    "# 97. Indorder Traversal (with/without recursion)"
   ]
  },
  {
   "cell_type": "code",
   "execution_count": null,
   "metadata": {},
   "outputs": [],
   "source": [
    "# 98. preorder Traversal (with/without recursion)"
   ]
  },
  {
   "cell_type": "code",
   "execution_count": null,
   "metadata": {},
   "outputs": [],
   "source": [
    "# 99. postorder Traversal (with/without recursion)"
   ]
  },
  {
   "cell_type": "code",
   "execution_count": null,
   "metadata": {},
   "outputs": [],
   "source": [
    "# 100. LeftView of BT"
   ]
  },
  {
   "cell_type": "code",
   "execution_count": null,
   "metadata": {},
   "outputs": [],
   "source": [
    "# 101. Bottom View of BT"
   ]
  },
  {
   "cell_type": "code",
   "execution_count": null,
   "metadata": {},
   "outputs": [],
   "source": [
    "# 102.Top view of BT"
   ]
  },
  {
   "cell_type": "markdown",
   "metadata": {},
   "source": [
    "Day 18, Binary Tree"
   ]
  },
  {
   "cell_type": "code",
   "execution_count": null,
   "metadata": {},
   "outputs": [],
   "source": [
    "# 103. Level Order traversal/ Level order traversal in spiral form\n",
    "class Solution:\n",
    "    def levelOrder(self, root: Optional[TreeNode]) -> List[List[int]]:\n",
    "        if not root:\n",
    "            return []\n",
    "        parent = {root:None}\n",
    "        queue = collections.deque([root])\n",
    "        output = []\n",
    "        while queue:\n",
    "            output.append([i.val for i in queue])\n",
    "            next_ = []\n",
    "            for u in queue:\n",
    "                if u.left:\n",
    "                    next_.append(u.left)\n",
    "                if u.right:\n",
    "                    next_.append(u.right)\n",
    "            queue = next_\n",
    "\n",
    "        return output\n",
    "    \n",
    "class Solution:\n",
    "    def zigzagLevelOrder(self, root: Optional[TreeNode]) -> List[List[int]]:\n",
    "        if not root:\n",
    "            return []\n",
    "        ans = []\n",
    "        queue = deque([root])\n",
    "        level = 0\n",
    "        while queue:\n",
    "            next_queue = []\n",
    "            if level%2 == 0:\n",
    "                ans.append([x.val for x in queue])\n",
    "            else:\n",
    "                ans.append(x.val for x in queue[::-1])\n",
    "            for i in queue:\n",
    "                if i.left:\n",
    "                    next_queue.append(i.left)\n",
    "                if i.right:\n",
    "                    next_queue.append(i.right)\n",
    "            queue = next_queue\n",
    "            level += 1\n",
    "        return ans"
   ]
  },
  {
   "cell_type": "code",
   "execution_count": null,
   "metadata": {},
   "outputs": [],
   "source": [
    "# 104. Height of a binary tree ==> Done\n",
    "def heightBT(root):\n",
    "    if not root:\n",
    "        return 0\n",
    "    left = heightBT(root.left)\n",
    "    right = heightBT(root.right)\n",
    "    return max(left, right) + 1"
   ]
  },
  {
   "cell_type": "code",
   "execution_count": null,
   "metadata": {},
   "outputs": [],
   "source": [
    "# 105. Diameter of a BT => longest path between two leaves(doesn't need to pass it from root)\n",
    "# Brute force approach => find height of left tree and right tree of every node and add 1 to it and track if that\n",
    "# is max or not \n",
    "# overall O(n^2) \n",
    "# dp on tree identification => like in this ques we have to traverse on each node and do height operation for \n",
    "# every node, we can do better by storing height and using it while calculating overall ans\n",
    "\n",
    "# very general syntax\n",
    "\"\"\"\n",
    "def ques(input):\n",
    "    Base Case \n",
    "    \n",
    "    Hypothesis (never ques this 'how?')\n",
    "    \n",
    "    Induction (using left and right find the overall ans)\n",
    "    \n",
    "the above was a bird view syntax of tree ques\n",
    "now let's be a lil more specific for such type of ques\n",
    "\n",
    "def solve(root, res):\n",
    "    if not root:\n",
    "        return 0\n",
    "        \n",
    "    left = solve(root.left, res)\n",
    "    right = solve(root.right, res)\n",
    "    \n",
    "    temp = calculate temp ans (max(l, r) + 1) \n",
    "    ans = max(temp, some relation(1+l+r)) #relation means if that relation would be the ans then what would be the case\n",
    "    res = max(res, ans)\n",
    "    return temp\n",
    "def main(root):\n",
    "    res = INT_MIN\n",
    "    solve(root, res)\n",
    "    return res\"\"\"\n",
    "\n",
    "class Solution:\n",
    "    def diameterOfBinaryTree(self, root: Optional[TreeNode]) -> int:\n",
    "        self.ans = 0\n",
    "        def dfs(root):\n",
    "            if not root:\n",
    "                return 0\n",
    "            left = dfs(root.left)\n",
    "            right = dfs(root.right)\n",
    "            self.ans = max(self.ans, left + right)\n",
    "            return max(left, right) + 1\n",
    "        dfs(root)\n",
    "        return self.ans"
   ]
  },
  {
   "cell_type": "code",
   "execution_count": null,
   "metadata": {},
   "outputs": [],
   "source": [
    "# 106. Check if binary tree is height balanced or not"
   ]
  },
  {
   "cell_type": "code",
   "execution_count": null,
   "metadata": {},
   "outputs": [],
   "source": [
    "# 107. Lowest common ancestor\n",
    "def ancestor(root, p, q):\n",
    "    if root == None:\n",
    "        return root\n",
    "    if root == p or root == q:\n",
    "        return root\n",
    "    left = ancestor(root.left, p, q)\n",
    "    right = ancestor(root.right, p, q)\n",
    "    if not left:\n",
    "        return right\n",
    "    if not right:\n",
    "        return left\n",
    "    return root"
   ]
  },
  {
   "cell_type": "code",
   "execution_count": null,
   "metadata": {},
   "outputs": [],
   "source": [
    "# 108. Check if two trees are identical or not"
   ]
  },
  {
   "cell_type": "markdown",
   "metadata": {},
   "source": [
    "Day 19, Binary Tree"
   ]
  },
  {
   "cell_type": "code",
   "execution_count": null,
   "metadata": {},
   "outputs": [],
   "source": [
    "# 109. Maximum path sum"
   ]
  },
  {
   "cell_type": "code",
   "execution_count": null,
   "metadata": {},
   "outputs": [],
   "source": [
    "# 108. Construct BT from Inorder and preorder"
   ]
  },
  {
   "cell_type": "code",
   "execution_count": null,
   "metadata": {},
   "outputs": [],
   "source": [
    "# 109. Construct BT from Inorder and Postorder"
   ]
  },
  {
   "cell_type": "code",
   "execution_count": null,
   "metadata": {},
   "outputs": [],
   "source": [
    "# 110. Symmetric Binary Tree ==> Done using BFS"
   ]
  },
  {
   "cell_type": "code",
   "execution_count": null,
   "metadata": {},
   "outputs": [],
   "source": [
    "# 111. Flatten binary tree to linkedlist"
   ]
  },
  {
   "cell_type": "code",
   "execution_count": null,
   "metadata": {},
   "outputs": [],
   "source": [
    "# 112. Check if a binary tree is mirror og itself or not"
   ]
  },
  {
   "cell_type": "markdown",
   "metadata": {},
   "source": [
    "Day 20, Binary Search Tree"
   ]
  },
  {
   "cell_type": "code",
   "execution_count": null,
   "metadata": {},
   "outputs": [],
   "source": [
    "# 113. Populate next pointer of a tree ==> Done using BFS\n",
    "class Solution:\n",
    "    def connect(self, root: 'Node') -> 'Node':\n",
    "        if not root:\n",
    "            return \n",
    "        queue = deque([root])\n",
    "        output = [[root]]\n",
    "        while queue:\n",
    "            next_queue = []\n",
    "            for i in queue:\n",
    "                if i.left:\n",
    "                    next_queue.append(i.left)\n",
    "                if i.right:\n",
    "                    next_queue.append(i.right)\n",
    "            queue = next_queue\n",
    "            output.append(next_queue)\n",
    "        length = len(output)\n",
    "        for i in range(length):\n",
    "            n = len(output[i])\n",
    "            for j in range(n-1):\n",
    "                output[i][j].next = output[i][j+1]\n",
    "        return root"
   ]
  },
  {
   "cell_type": "code",
   "execution_count": null,
   "metadata": {},
   "outputs": [],
   "source": [
    "# 114. Search given key in a BST"
   ]
  },
  {
   "cell_type": "code",
   "execution_count": null,
   "metadata": {},
   "outputs": [],
   "source": [
    "# 115. Construct BST from given Keys"
   ]
  },
  {
   "cell_type": "code",
   "execution_count": null,
   "metadata": {},
   "outputs": [],
   "source": [
    "# 116. Check if a BT is a BST or not"
   ]
  },
  {
   "cell_type": "code",
   "execution_count": null,
   "metadata": {},
   "outputs": [],
   "source": [
    "# 117. Find LCA of nodes in a BST"
   ]
  },
  {
   "cell_type": "code",
   "execution_count": null,
   "metadata": {},
   "outputs": [],
   "source": [
    "# 118. Find the inorder predecessor/successor of a given key in BST"
   ]
  },
  {
   "cell_type": "markdown",
   "metadata": {},
   "source": [
    "Day 21, Binary Search Tree "
   ]
  },
  {
   "cell_type": "code",
   "execution_count": null,
   "metadata": {},
   "outputs": [],
   "source": [
    "# 119. Floor and ceil in a BST"
   ]
  },
  {
   "cell_type": "code",
   "execution_count": null,
   "metadata": {},
   "outputs": [],
   "source": [
    "# 120. Find kth smallest and kth largest element in BST (2 different ques)"
   ]
  },
  {
   "cell_type": "code",
   "execution_count": null,
   "metadata": {},
   "outputs": [],
   "source": [
    "# 121. Find a pair with a given sum in BST"
   ]
  },
  {
   "cell_type": "code",
   "execution_count": null,
   "metadata": {},
   "outputs": [],
   "source": [
    "# 122. BST iterator"
   ]
  },
  {
   "cell_type": "code",
   "execution_count": null,
   "metadata": {},
   "outputs": [],
   "source": [
    "# 123. Size of the largest BST in a Binary tree"
   ]
  },
  {
   "cell_type": "code",
   "execution_count": null,
   "metadata": {},
   "outputs": [],
   "source": [
    "# 124. Serialize and deserialize Binary Tree"
   ]
  },
  {
   "cell_type": "markdown",
   "metadata": {},
   "source": [
    "Day 22, Mixed questions"
   ]
  },
  {
   "cell_type": "code",
   "execution_count": null,
   "metadata": {},
   "outputs": [],
   "source": [
    "# 125. Binary Tree to doubly linkedlist"
   ]
  },
  {
   "cell_type": "code",
   "execution_count": null,
   "metadata": {},
   "outputs": [],
   "source": [
    "# 126. Find median in a stream of running integers"
   ]
  },
  {
   "cell_type": "code",
   "execution_count": null,
   "metadata": {},
   "outputs": [],
   "source": [
    "# 127. Distinct numbers in window"
   ]
  },
  {
   "cell_type": "code",
   "execution_count": null,
   "metadata": {},
   "outputs": [],
   "source": [
    "# 128. Kth largest element in an unsorted array"
   ]
  },
  {
   "cell_type": "code",
   "execution_count": null,
   "metadata": {},
   "outputs": [],
   "source": [
    "# 129. FloodFill algorithm"
   ]
  },
  {
   "cell_type": "markdown",
   "metadata": {},
   "source": [
    "Day 23, Graph"
   ]
  },
  {
   "cell_type": "code",
   "execution_count": null,
   "metadata": {},
   "outputs": [],
   "source": [
    "# 130. Clone a graph    "
   ]
  },
  {
   "cell_type": "code",
   "execution_count": null,
   "metadata": {},
   "outputs": [],
   "source": [
    "# 131. DFS\n",
    "\"\"\"\n",
    "1. Cycle testing\n",
    "2. Topological sort\n",
    "3. find a path from s to a desired vertex \n",
    "\n",
    "parent = {s:None}                #1\n",
    "\n",
    "\n",
    "DFS-visit(s, adj):               #2\n",
    "    for v in adj[s]:\n",
    "        if v not in parent:\n",
    "            parent[v] = s\n",
    "            DFS-visit(v, adj)\n",
    "            \n",
    "            \n",
    "DFS(V, adj):                     #3\n",
    "    parent = {}\n",
    "    for s in V:\n",
    "        if s not in parent:\n",
    "            parent[s] = None\n",
    "            DFS-visit(s, adj)\n",
    "            \n",
    "#1 and #2 together search from start vertex s (only see stuff reachable from s)\n",
    "#2 and #3 together explore entire graph (could do same to extend bfs)\n",
    "        \"\"\""
   ]
  },
  {
   "cell_type": "code",
   "execution_count": null,
   "metadata": {},
   "outputs": [],
   "source": [
    "# 74. BFS\n",
    "\"\"\"\n",
    "1. to find a path from start vertex s to a desired vertex v\n",
    "2. visit all vertices or edges of graph or only those reachable from s\n",
    "3. Shortest Path : for every vertex v, fewest edges to get from s to v is level[v] if v assigned level , else 'inf' (no path)\n",
    "4. to find shortest path, take v , parent[v], parent[parent[v]], .. etc until s(or None)\n",
    "\n",
    "def bfs():\n",
    "    parent = {root:None}\n",
    "    level = {root:0}\n",
    "    i = 0\n",
    "    queue = [root]\n",
    "    while queue:\n",
    "        next_queue = []\n",
    "        for u in queue:\n",
    "            for v in adj[u]:\n",
    "                if v not in parent:\n",
    "                    parent[v] = u\n",
    "                    level[v] = i\n",
    "                    next_queue.append(v)   \n",
    "        i += 1\n",
    "        queue = next_queue\n",
    "        \n",
    "\"\"\"\n",
    "\n",
    "# time complexity : O(V + E)\n",
    "# space complexity : O(V + E)"
   ]
  },
  {
   "cell_type": "code",
   "execution_count": null,
   "metadata": {},
   "outputs": [],
   "source": [
    "# 133. Detect a cycle in a undirected/directed graph"
   ]
  },
  {
   "cell_type": "code",
   "execution_count": null,
   "metadata": {},
   "outputs": [],
   "source": [
    "# 134. Topo sort\n",
    "def topoSort(g):\n",
    "    topo = [] # a list of vertices placed in topological order\n",
    "    ready = [] # list of vertices that have no remaining constraints\n",
    "    incount = {} # keep track of in-degree for each vertex\n",
    "    for u in g.vertices():\n",
    "        incount[u] = g.degree(u, False) #parameter requesting indegree\n",
    "        if incount[u] == 0: # if u has no incoming edges\n",
    "            ready.append(u) # it is free of constraints\n",
    "    while len(ready) > 0:\n",
    "        u = ready.pop() # u is free of constraints\n",
    "        topo.append(u) #add u to the topological order\n",
    "        for e in g.incident_edges(u): # consider all outgoing neighbours of u\n",
    "            v = e.opposite(u)\n",
    "            incount[v] -= 1 # v has one less contraint without u\n",
    "            if incount[v] == 0:\n",
    "                ready.append(v)\n",
    "    return topo"
   ]
  },
  {
   "cell_type": "code",
   "execution_count": null,
   "metadata": {},
   "outputs": [],
   "source": [
    "# 135. Number of islands(do in grid and graph both)"
   ]
  },
  {
   "cell_type": "code",
   "execution_count": null,
   "metadata": {},
   "outputs": [],
   "source": [
    "# 136. Bipartite check\n",
    "# Prateek narang"
   ]
  },
  {
   "cell_type": "markdown",
   "metadata": {},
   "source": [
    "Day 24, Graph"
   ]
  },
  {
   "cell_type": "code",
   "execution_count": null,
   "metadata": {},
   "outputs": [],
   "source": [
    "# 137. SCC(using kosa raju)"
   ]
  },
  {
   "cell_type": "code",
   "execution_count": null,
   "metadata": {},
   "outputs": [],
   "source": [
    "# 138. Dijistra Algorithm"
   ]
  },
  {
   "cell_type": "code",
   "execution_count": null,
   "metadata": {},
   "outputs": [],
   "source": [
    "# 139. Bellman Ford Algorithm"
   ]
  },
  {
   "cell_type": "code",
   "execution_count": null,
   "metadata": {},
   "outputs": [],
   "source": [
    "# 140. Floyd Warshall Algorithm\n",
    "# william fiset"
   ]
  },
  {
   "cell_type": "code",
   "execution_count": null,
   "metadata": {},
   "outputs": [],
   "source": [
    "# 141. MST using prim's Algo\n",
    "# william fiset"
   ]
  },
  {
   "cell_type": "code",
   "execution_count": null,
   "metadata": {},
   "outputs": [],
   "source": [
    "# 142. MST using Kruskal's Algorithm\n",
    "# william fiset"
   ]
  },
  {
   "cell_type": "markdown",
   "metadata": {},
   "source": [
    "Day 25, Dynamic programming"
   ]
  },
  {
   "cell_type": "code",
   "execution_count": null,
   "metadata": {},
   "outputs": [],
   "source": [
    "# 143. Max product subarray"
   ]
  },
  {
   "cell_type": "code",
   "execution_count": 20,
   "metadata": {},
   "outputs": [
    {
     "name": "stdout",
     "output_type": "stream",
     "text": [
      "3\n",
      "3\n",
      "1\n",
      "9\n"
     ]
    }
   ],
   "source": [
    "# 144. Longest increasing subsequence, O(n^2)\n",
    "def longestIncreasingSequence(arr):\n",
    "    if not arr :\n",
    "        return 0\n",
    "    n = len(arr)\n",
    "    longest = 0\n",
    "    \n",
    "    # when starting, each individual element has a LIS of\n",
    "    # exactly one, so each index is initialized to 1 \n",
    "    dp = [1]*n\n",
    "    \n",
    "    # processing the array from left to right update the value of dp[j] if two\n",
    "    # conditions hold 1. The value at i is less than that of the one at j\n",
    "    # and 2. updating the value of dp[j] to dp[i] + 1 is better \n",
    "    for i in range(n):\n",
    "        for j in range(i+1, n):\n",
    "            if arr[i] < arr[j] and dp[j] < dp[i] + 1:\n",
    "                dp[j] = dp[i] + 1\n",
    "        if dp[i] > longest:\n",
    "            longest = dp[i]\n",
    "    return longest\n",
    "print(longestIncreasingSequence([1, 3, 2, 4, 3])) # 3\n",
    "print(longestIncreasingSequence([2, 7, 4, 3, 8])) # 3\n",
    "print(longestIncreasingSequence([5, 4, 3, 2, 1])) # 1\n",
    "print(longestIncreasingSequence([1, 2, 3, 4, 5, 6, 7, 8, 9])) # 9"
   ]
  },
  {
   "cell_type": "code",
   "execution_count": 3,
   "metadata": {},
   "outputs": [
    {
     "data": {
      "text/plain": [
       "[[0, 0, 0, 0, 0, 0],\n",
       " [0, 1, 1, 1, 1, 1],\n",
       " [0, 1, 1, 2, 2, 2],\n",
       " [0, 1, 1, 2, 3, 3],\n",
       " [0, 1, 2, 2, 3, 3],\n",
       " [0, 1, 2, 3, 3, 4]]"
      ]
     },
     "execution_count": 3,
     "metadata": {},
     "output_type": "execute_result"
    }
   ],
   "source": [
    "# 145. Longest common subsequence\n",
    "def LCS(X, Y):\n",
    "    n, m = len(X), len(Y)\n",
    "    L = [[0]*(m+1) for i in range(n+1)]\n",
    "    \n",
    "    for i in range(n):\n",
    "        for j in range(m):\n",
    "            if X[i] == Y[j]:\n",
    "                L[i+1][j+1] = 1 + L[i][j]\n",
    "            else:\n",
    "                L[i+1][j+1] = max(L[i][j+1], L[i+1][j])\n",
    "    return L\n",
    "LCS(\"bbbab\", \"babbb\")"
   ]
  },
  {
   "cell_type": "code",
   "execution_count": 56,
   "metadata": {},
   "outputs": [
    {
     "data": {
      "text/plain": [
       "'ea'"
      ]
     },
     "execution_count": 56,
     "metadata": {},
     "output_type": "execute_result"
    }
   ],
   "source": [
    "def LCS_solution(X, Y, L):\n",
    "    ans = []\n",
    "    i, j = len(X), len(Y)\n",
    "    while L[i][j] > 0:\n",
    "        if X[i-1] == Y[j-1]:\n",
    "            ans.append(X[i-1])\n",
    "            i -= 1\n",
    "            j -= 1\n",
    "        elif L[i-1][j] >= L[i][j-1]:\n",
    "            i -= 1\n",
    "        else:\n",
    "            j -= 1\n",
    "    return \"\".join(reversed(ans))\n",
    "L = LCS(\"sea\", \"eat\")\n",
    "LCS_solution(\"sea\", \"eat\", L)"
   ]
  },
  {
   "cell_type": "code",
   "execution_count": 10,
   "metadata": {},
   "outputs": [
    {
     "data": {
      "text/plain": [
       "12"
      ]
     },
     "execution_count": 10,
     "metadata": {},
     "output_type": "execute_result"
    }
   ],
   "source": [
    "# 146. 0-1 knapsack\n",
    "def knapsack01(capacity, W, V):\n",
    "    if not W or not V or len(W) != len(V) or capacity < 0:\n",
    "        return 'Invalid Input'\n",
    "    n = len(W)\n",
    "    dp = [[0]*(capacity+1) for i in range(n+1)]\n",
    "    for i in range(1, n+1):\n",
    "        w, v = W[i-1], V[i-1]\n",
    "        for sz in range(1, capacity+1):\n",
    "            # consider not picking this element\n",
    "            dp[i][sz] = dp[i-1][sz]\n",
    "            \n",
    "            # consider including the current element and\n",
    "            # see if this would be more profitable\n",
    "            if sz >= w and dp[i-1][sz-w] + v > dp[i][sz]:\n",
    "                dp[i][sz] = dp[i-1][sz-w] + v\n",
    "          \n",
    "    # using information inside the table we can backtrack and determine\n",
    "    # which items were selected during dp phase. The idea \n",
    "    # is that if dp[i][sz] != dp[i-1][sz] then the item is selected\n",
    "    sz = capacity\n",
    "    selectedItems = []\n",
    "    for i in range(n, 0, -1):\n",
    "        if dp[i][sz] != dp[i-1][sz]:\n",
    "            itemIdx = i - 1\n",
    "            selectedItems.append(itemIdx)\n",
    "            sz -= W[itemIdx]\n",
    "    return dp[n][capacity]\n",
    "\n",
    "knapsack01(10, [3, 3, 5, 6], [1, 4, 8, 5])"
   ]
  },
  {
   "cell_type": "code",
   "execution_count": null,
   "metadata": {},
   "outputs": [],
   "source": [
    "# 147. Edit distance"
   ]
  },
  {
   "cell_type": "code",
   "execution_count": null,
   "metadata": {},
   "outputs": [],
   "source": [
    "# 148. Maximum sum increasing subsequence"
   ]
  },
  {
   "cell_type": "code",
   "execution_count": null,
   "metadata": {},
   "outputs": [],
   "source": [
    "# 149. Matrix chain multiplication\n",
    "\"\"\"\n",
    "basic format \n",
    "arr/str , i .......k(moving) ...j\n",
    "invalid input => j<i\n",
    "\n",
    "def MCM(arr, i, j):\n",
    "    if j < i:\n",
    "        return 0\n",
    "    for k in range(i,j):\n",
    "        # calculate temporary ans\n",
    "        temp_ans = MCM(arr, i, k) +(depends) + MCM(arr, k+1, j)\n",
    "        \n",
    "        ans = fn(temp_ans)\n",
    "    return ans\"\"\"\n",
    "\n",
    "def mcm(array):\n",
    "    if "
   ]
  },
  {
   "cell_type": "code",
   "execution_count": null,
   "metadata": {},
   "outputs": [],
   "source": [
    "Day 26, Dynamic Programming"
   ]
  },
  {
   "cell_type": "code",
   "execution_count": null,
   "metadata": {},
   "outputs": [],
   "source": [
    "# 150. Maximum Sum path in a matrix"
   ]
  },
  {
   "cell_type": "code",
   "execution_count": 19,
   "metadata": {},
   "outputs": [
    {
     "name": "stdout",
     "output_type": "stream",
     "text": [
      "[1, 4, 4, 2]\n"
     ]
    }
   ],
   "source": [
    "# 151. Coin change \n",
    "def coinChange(coins, n):\n",
    "    if not coins:\n",
    "        return \"Invalid input\"\n",
    "    for i in coins:\n",
    "        if i <= 0:\n",
    "            return 'Coin cannot have a negative value'\n",
    "    \n",
    "    m = len(coins)\n",
    "    dp = [[0]*(n+1) for i in range(m+1)]\n",
    "    \n",
    "    for i in range(n+1):\n",
    "        dp[0][i] = float('inf')\n",
    "    dp[1][0] = 0\n",
    "    \n",
    "    for i in range(1, m+1):\n",
    "        coinValue = coins[i-1]\n",
    "        for j in range(1, n+1):\n",
    "            \n",
    "            # consider not selecting this coin\n",
    "            dp[i][j] = dp[i-1][j]\n",
    "            \n",
    "            # try selecting this coin if it's better\n",
    "            if j - coinValue >= 0 and dp[i][j-coinValue] + 1 < dp[i][j]:\n",
    "                dp[i][j] = dp[i][j-coinValue] + 1\n",
    "    return dp\n",
    "def solution(mat, coins, n):\n",
    "    m = len(coins)\n",
    "    change = n\n",
    "    coinIdx = m \n",
    "    selectedCoins = []\n",
    "    while coinIdx > 0:\n",
    "        coinValue = coins[coinIdx - 1]\n",
    "        canSelectCoin = change >= coinValue\n",
    "        if canSelectCoin and mat[coinIdx][change-coinValue] < mat[coinIdx][change]:\n",
    "            selectedCoins.append(coinValue)\n",
    "            change -= coinValue\n",
    "        else:\n",
    "            coinIdx -= 1\n",
    "    return selectedCoins\n",
    "coins = [2,4,1]\n",
    "n = 11\n",
    "mat = coinChange(coins, n)\n",
    "ans = solution(mat, coins, n)\n",
    "print(ans)"
   ]
  },
  {
   "cell_type": "code",
   "execution_count": 4,
   "metadata": {},
   "outputs": [
    {
     "data": {
      "text/plain": [
       "2"
      ]
     },
     "execution_count": 4,
     "metadata": {},
     "output_type": "execute_result"
    }
   ],
   "source": [
    "# coin change continued ... same thing differently\n",
    "# brute force\n",
    "def recMC(coinValueList, change):\n",
    "    minCoins = change\n",
    "    if change in coinValueList:\n",
    "        return 1\n",
    "    else:\n",
    "        for i in [c for c in coinValueList if c <= change]:\n",
    "            numCoins = 1 + recMC(coinValueList, change - i)\n",
    "            if numCoins < minCoins:\n",
    "                minCoins = numCoins\n",
    "    return minCoins\n",
    "recMC([1,5,10,25], 11)"
   ]
  },
  {
   "cell_type": "code",
   "execution_count": 23,
   "metadata": {},
   "outputs": [
    {
     "data": {
      "text/plain": [
       "6"
      ]
     },
     "execution_count": 23,
     "metadata": {},
     "output_type": "execute_result"
    }
   ],
   "source": [
    "def optimizedMC(coinValueList, change, knownList):\n",
    "    minCoins = change\n",
    "    if change in coinValueList:\n",
    "        knownList[change] = 1\n",
    "        return 1\n",
    "    elif knownList[change] > 0:\n",
    "        return knownList[change]\n",
    "    else:\n",
    "        for i in [c for c in coinValueList if c <= change]:\n",
    "            numCoins = 1 + optimizedMC(coinValueList, change-i, knownList)\n",
    "            if numCoins < minCoins:\n",
    "                minCoins = numCoins\n",
    "                knownList[change] = minCoins\n",
    "    return minCoins\n",
    "optimizedMC([1,5,10,25], 63, [0]*64)"
   ]
  },
  {
   "cell_type": "code",
   "execution_count": 21,
   "metadata": {},
   "outputs": [
    {
     "name": "stdout",
     "output_type": "stream",
     "text": [
      "6\n"
     ]
    }
   ],
   "source": []
  },
  {
   "cell_type": "code",
   "execution_count": null,
   "metadata": {},
   "outputs": [],
   "source": [
    "# 152. Subset sum"
   ]
  },
  {
   "cell_type": "code",
   "execution_count": null,
   "metadata": {},
   "outputs": [],
   "source": [
    "# 153. Rod cutting"
   ]
  },
  {
   "cell_type": "code",
   "execution_count": null,
   "metadata": {},
   "outputs": [],
   "source": [
    "# 154. Egg dropping"
   ]
  },
  {
   "cell_type": "code",
   "execution_count": null,
   "metadata": {},
   "outputs": [],
   "source": [
    "# 155. Word break\n"
   ]
  },
  {
   "cell_type": "code",
   "execution_count": 66,
   "metadata": {},
   "outputs": [
    {
     "name": "stdout",
     "output_type": "stream",
     "text": [
      "454\n"
     ]
    }
   ],
   "source": [
    "# 156. Palindrome partitioning (MCM variation)\n",
    "class Solution:\n",
    "    def minCut(self, s: str) -> int:\n",
    "        def isPalindrome(s, i, j):\n",
    "            while i <= j:\n",
    "                if s[i] != s[j]:\n",
    "                    return False\n",
    "                i += 1\n",
    "                j -= 1\n",
    "            return True\n",
    "        def helper(s, i, j, dp = {}):\n",
    "            if (i, j) in dp:\n",
    "                return dp[(i, j)]\n",
    "            if i >= j:\n",
    "                return 0\n",
    "            if isPalindrome(s, i, j):\n",
    "                return 0\n",
    "            ans = float('inf')\n",
    "            for k in range(i,j):\n",
    "                temp = 1 + helper(s,i,k) + helper(s, k+1,j)\n",
    "                ans = min(temp, ans)\n",
    "            dp[(i, j)] = ans\n",
    "            return ans\n",
    "        n = len(s) - 1\n",
    "        return helper(s,0,n)\n",
    "ans = Solution()\n",
    "print(ans.minCut('\"apjesgpsxoeiokmqmfgvjslcjukbqxpsobyhjpbgdfruqdkeiszrlmtwgfxyfostpqczidfljwfbbrflkgdvtytbgqalguewnhvvmcgxboycffopmtmhtfizxkmeftcucxpobxmelmjtuzigsxnncxpaibgpuijwhankxbplpyejxmrrjgeoevqozwdtgospohznkoyzocjlracchjqnggbfeebmuvbicbvmpuleywrpzwsihivnrwtxcukwplgtobhgxukwrdlszfaiqxwjvrgxnsveedxseeyeykarqnjrtlaliyudpacctzizcftjlunlgnfwcqqxcqikocqffsjyurzwysfjmswvhbrmshjuzsgpwyubtfbnwajuvrfhlccvfwhxfqthkcwhatktymgxostjlztwdxritygbrbibdgkezvzajizxasjnrcjwzdfvdnwwqeyumkamhzoqhnqjfzwzbixclcxqrtniznemxeahfozp\"'))\n",
    "    "
   ]
  },
  {
   "cell_type": "raw",
   "metadata": {},
   "source": [
    "Day 27, Trie"
   ]
  },
  {
   "cell_type": "code",
   "execution_count": null,
   "metadata": {},
   "outputs": [],
   "source": [
    "#157. Implementation of Trie => Prefix Tree\n",
    "\n",
    "class Trie:\n",
    "    def __init__(self):\n",
    "        self.data = {}\n",
    "        self.leaf = False\n",
    "    \n",
    "    def insert(self, word):\n",
    "        curr = self\n",
    "        for i in word:\n",
    "            if i not in curr.data:\n",
    "                curr.data[i] = Trie()\n",
    "            curr = curr.data[i]\n",
    "        curr.leaf = True\n",
    "        \n",
    "    def search(self, word):\n",
    "        curr = self\n",
    "        for i in word:\n",
    "            if i not in curr.data:\n",
    "                return False\n",
    "            curr = curr.data[i]\n",
    "        return curr.leaf\n",
    "    \n",
    "# Can we build suffix tree from the same idea as well?\n",
    "# Yes, reverse the given words, make a trie with that... then start search in a reverse manner"
   ]
  },
  {
   "cell_type": "code",
   "execution_count": null,
   "metadata": {},
   "outputs": [],
   "source": [
    "# extrassss"
   ]
  },
  {
   "cell_type": "code",
   "execution_count": 4,
   "metadata": {},
   "outputs": [
    {
     "name": "stdout",
     "output_type": "stream",
     "text": [
      "5\n"
     ]
    }
   ],
   "source": [
    "# Longest Substring with 2 Distinct Characters\n",
    "import collections\n",
    "def longestSubstringWithTwoDistinctChar(string):\n",
    "    charSet = collections.defaultdict(int)\n",
    "    l = 0 \n",
    "    n = len(string)\n",
    "    longest = 0\n",
    "    for i in range(n):\n",
    "        charSet[string[i]] += 1\n",
    "        while len(charSet) > 2:\n",
    "            charSet[string[l]] -= 1\n",
    "            if charSet[string[l]] == 0:\n",
    "                del charSet[string[l]]\n",
    "            l += 1\n",
    "        longest = max(longest, i - l + 1)\n",
    "    return longest\n",
    "\n",
    "print(longestSubstringWithTwoDistinctChar('hhdhhbhww')   )     "
   ]
  },
  {
   "cell_type": "markdown",
   "metadata": {},
   "source": [
    "Phillipines Assignment"
   ]
  },
  {
   "cell_type": "code",
   "execution_count": 1,
   "metadata": {},
   "outputs": [
    {
     "data": {
      "text/plain": [
       "[1, 2, 3, 1, 2, 3, 1, 2, 3]"
      ]
     },
     "execution_count": 1,
     "metadata": {},
     "output_type": "execute_result"
    }
   ],
   "source": [
    "def bogosort(lis):\n",
    "    n = len(lis)\n",
    "    output = []\n",
    "    for i in range(n):\n",
    "        for j in lis:\n",
    "            output.append(j)\n",
    "    return output\n",
    "\n",
    "bogosort([1,2,3])\n",
    "            "
   ]
  },
  {
   "cell_type": "code",
   "execution_count": 2,
   "metadata": {},
   "outputs": [
    {
     "data": {
      "text/plain": [
       "[1, 2, 3, 1, 2, 3, 1, 2, 3]"
      ]
     },
     "execution_count": 2,
     "metadata": {},
     "output_type": "execute_result"
    }
   ],
   "source": [
    "[1,2,3]*3"
   ]
  },
  {
   "cell_type": "code",
   "execution_count": 13,
   "metadata": {},
   "outputs": [
    {
     "name": "stdout",
     "output_type": "stream",
     "text": [
      "Priority of Hagia is 7\n",
      "Priority of Sophia is 18\n",
      "Priority of Tower is 19\n",
      "Priority of of is 14\n",
      "Priority of Pisa is 15\n",
      "Priority of EIFFEL Tower is 4\n",
      "Priority of pantheon is 15\n",
      "Priority of pyramids is 15\n",
      "Priority of Giza is 6\n",
      "[7, 18, 19, 14, 15, 4, 15, 15, 6]\n",
      "[19, 18, 15, 15, 15, 4, 7, 14, 6]\n"
     ]
    }
   ],
   "source": [
    "# Priority function\n",
    "import heapq\n",
    "\"\"\"\n",
    "l = [“Hagia”, “Sophia”, “Tower”, “of”, “Pisa”, “EIFFEL Tower”, \\\n",
    "“pantheon”, “pyramids”, “GIZA”]\n",
    "\n",
    "Given this priority function for each element of the list \n",
    "(the higher value, the greater the priority):\n",
    "\n",
    "    priority = lambda x: ord(x.lower()[0]) - 97\n",
    "\"\"\"\n",
    "l = ['Hagia', \"Sophia\", 'Tower', 'of', 'Pisa', 'EIFFEL Tower', 'pantheon', 'pyramids', 'Giza']\n",
    "priority = []\n",
    "for i in l:\n",
    "    print(\"Priority of \" + i + \" is \" + str((ord(i.lower()[0]) - 97)))\n",
    "    priority.append(ord(i.lower()[0]) - 97)\n",
    "print(priority)\n",
    "heapq._heapify_max(priority)\n",
    "print(priority)"
   ]
  },
  {
   "cell_type": "code",
   "execution_count": 20,
   "metadata": {},
   "outputs": [
    {
     "data": {
      "text/plain": [
       "4"
      ]
     },
     "execution_count": 20,
     "metadata": {},
     "output_type": "execute_result"
    }
   ],
   "source": [
    "# partition for quick sort\n",
    "def partition(arr):\n",
    "    n = len(arr)\n",
    "    pivot = arr[n-1]\n",
    "    \n",
    "    lo = 0\n",
    "    mid = 0\n",
    "    hi = n - 1\n",
    "    while mid < hi:\n",
    "#         print(arr)\n",
    "        if arr[mid] == pivot:\n",
    "            mid += 1\n",
    "        elif arr[mid] > pivot:\n",
    "            arr[mid], arr[hi] = arr[hi], arr[mid]\n",
    "            hi -= 1\n",
    "        else:\n",
    "            arr[lo], arr[mid] = arr[mid], arr[lo]\n",
    "            mid += 1\n",
    "            lo += 1\n",
    "    return mid - 1\n",
    "partition([6,4,6,3,1,8,23,7,3,5])\n",
    "    "
   ]
  },
  {
   "cell_type": "code",
   "execution_count": 28,
   "metadata": {},
   "outputs": [
    {
     "name": "stdout",
     "output_type": "stream",
     "text": [
      "[4, 3, 3, 1, 5, 23, 7, 8, 6, 6]\n"
     ]
    }
   ],
   "source": [
    "def quicksort(arr, lo, hi):\n",
    "    if lo < hi:\n",
    "        pivot = partition(arr[lo:hi])\n",
    "        print(pivot)\n",
    "        quicksort(arr, lo, pivot - 1)\n",
    "        quicksort(arr, pivot+1, hi)\n",
    "    else:\n",
    "        return\n",
    "arr = [4, 3, 3, 1, 5, 23, 7, 8, 6, 6]\n",
    "n = len(arr)\n",
    "# quicksort(arr, 0, n-1)\n",
    "print(arr)"
   ]
  },
  {
   "cell_type": "code",
   "execution_count": null,
   "metadata": {},
   "outputs": [],
   "source": [
    "def ugly_number(n):\n",
    "    while n%2 == 0:\n",
    "        n //= 2\n",
    "        \n",
    "    while n % 3 == 0:\n",
    "        n //= 3\n",
    "        \n",
    "    while n%5 == 0:\n",
    "        n //= 5\n",
    "    if n == 1:\n",
    "        return True\n",
    "    else:\n",
    "        return False\n",
    "    "
   ]
  },
  {
   "cell_type": "code",
   "execution_count": null,
   "metadata": {},
   "outputs": [],
   "source": [
    "# fibonacci once again :p\n",
    "def fibonacci_rec(n):\n",
    "    if n <= 2:\n",
    "        return 1\n",
    "    else:\n",
    "        return fibonacci_rec(n-1) + fibonacci_rec(n-2)\n",
    "fibonacci_rec(45)"
   ]
  },
  {
   "cell_type": "code",
   "execution_count": 20,
   "metadata": {},
   "outputs": [
    {
     "data": {
      "text/plain": [
       "446698926797525733283994464723773897373051547730509482206718754667074636645528022516256487945"
      ]
     },
     "execution_count": 20,
     "metadata": {},
     "output_type": "execute_result"
    }
   ],
   "source": [
    "memo = {}\n",
    "def fibonacci_top_down(n):\n",
    "    if n in memo:\n",
    "        return memo[n]\n",
    "    if n <= 2:\n",
    "        f = 1\n",
    "    else:\n",
    "        f = fibonacci_top_down(n-1) + fibonacci_top_down(n-2)\n",
    "    memo[n] = f\n",
    "    return f\n",
    "fibonacci_top_down(445)\n",
    "    "
   ]
  },
  {
   "cell_type": "code",
   "execution_count": 22,
   "metadata": {},
   "outputs": [
    {
     "data": {
      "text/plain": [
       "377447528914490075738161875546019372871339299226266072099160267907822151752129336607655986724267827765470084549195232424567470197095649607833363556152278963172192444473035196673134112234877014452650501566099127781313138782755034675519578474122891377128537199404592009250091086748668522825336932701719952239283318974858182982723608214090208855212940570758757983388817959262330908465987475774678198244485677329066993546078577681566678501794248951561546473239277555496637937369595781218886907376096257612744396753546816662359772256655484345051844885122195449080221614580351520629469992789648442616251580240510457647505282638803370030543960113185249030044928708997966375649693820282846923557007036003415827731957951952720002661435583129932784810880770662798127506808984604671779778838104921862784343370497292922973132612686461211321101199236262051973473222189701391465637593073981166842284315312591962832554706135087175224022862816168156460819592841709603418729511841001630648952597627943699081934854361409060700886010326314093385234787704148962295787681459731509518244569443446671327132779952231588067924177024122165246066657227758499994923470626648325500053731945"
      ]
     },
     "execution_count": 22,
     "metadata": {},
     "output_type": "execute_result"
    }
   ],
   "source": [
    "# bottom up\n",
    "def fibonacci_bottom_up(n):\n",
    "    memo = {}\n",
    "    for i in range(1, n+1):\n",
    "        if i <= 2:\n",
    "            memo[i] = 1\n",
    "        else:\n",
    "            memo[i] = memo[i-1] + memo[i-2]\n",
    "    return memo[n]\n",
    "fibonacci_bottom_up(5555)"
   ]
  },
  {
   "cell_type": "code",
   "execution_count": 36,
   "metadata": {},
   "outputs": [
    {
     "data": {
      "text/plain": [
       "True"
      ]
     },
     "execution_count": 36,
     "metadata": {},
     "output_type": "execute_result"
    }
   ],
   "source": [
    "def isPalindrome(arr):\n",
    "    first = 0\n",
    "    second = len(arr)\n",
    "    mid = (first+second)//2\n",
    "    for i in range(mid):\n",
    "        if arr[i] != arr[second-i-1]:\n",
    "            return False\n",
    "    return True\n",
    "isPalindrome([1,2,1])"
   ]
  },
  {
   "cell_type": "code",
   "execution_count": 42,
   "metadata": {},
   "outputs": [
    {
     "data": {
      "text/plain": [
       "['dog', 'cat', 'hello', 'cat', 'dog', 'dog', 'hello', 'cat', 'world']"
      ]
     },
     "execution_count": 42,
     "metadata": {},
     "output_type": "execute_result"
    }
   ],
   "source": [
    "text = \"dog cat hello cat dog dog hello cat world\"\n",
    "word0 = \"hello\"\n",
    "word1 = \"world\"\n",
    "def minDistance(text, word0, word1):\n",
    "    text = text.split()\n",
    "    first = 0\n",
    "    second = 0\n",
    "    ans = -1\n",
    "    while second < n and first < n:\n",
    "        if text[first] == word0:\n",
    "minDistance(text, word0, word1)"
   ]
  },
  {
   "cell_type": "code",
   "execution_count": 9,
   "metadata": {},
   "outputs": [
    {
     "name": "stdout",
     "output_type": "stream",
     "text": [
      "3\n",
      "4\n",
      "1\n",
      "4\n",
      "1\n",
      "1\n",
      "2\n",
      "3\n",
      "4\n"
     ]
    },
    {
     "data": {
      "text/plain": [
       "7"
      ]
     },
     "execution_count": 9,
     "metadata": {},
     "output_type": "execute_result"
    }
   ],
   "source": [
    "def repeatedNumber(A):\n",
    "    n = len(A)\n",
    "    res = 0\n",
    "    for i in range(n):\n",
    "        print(A[i])\n",
    "        res ^= A[i]\n",
    "    for i in range(1,n):\n",
    "        print(i)\n",
    "        res ^= i\n",
    "    return res\n",
    "repeatedNumber([3, 4, 1, 4, 1])"
   ]
  },
  {
   "cell_type": "code",
   "execution_count": 13,
   "metadata": {},
   "outputs": [
    {
     "name": "stdout",
     "output_type": "stream",
     "text": [
      "[1, 2, 191, 4, 5, 6, 7, 113, 9, 10, 11, 12, 13, 14, 161, 16, 274, 18, 318, 20, 21, 22, 198, 24, 90, 26, 27, 28, 29, 236, 31, 32, 33, 34, 162, 185, 300, 38, 202, 40, 41, 42, 43, 44, 45, 200, 276, 233, 206, 50, 51, 68, 244, 30, 55, 132, 57, 58, 64, 223, 61, 62, 63, 133, 65, 66, 67, 54, 69, 159, 71, 122, 73, 74, 75, 76, 77, 153, 79, 80, 70, 82, 83, 84, 145, 194, 87, 88, 89, 266, 91, 92, 93, 94, 95, 210, 52, 98, 99, 49, 307, 102, 103, 170, 105, 106, 107, 108, 109, 110, 111, 112, 272, 114, 115, 116, 117, 118, 119, 120, 121, 149, 123, 137, 135, 126, 127, 100, 129, 130, 131, 37, 97, 134, 23, 136, 73, 260, 139, 140, 141, 142, 143, 144, 138, 146, 147, 148, 333, 150, 151, 152, 156, 186, 250, 101, 157, 158, 15, 331, 256, 278, 163, 164, 238, 166, 167, 168, 169, 209, 171, 172, 173, 174, 175, 176, 177, 178, 179, 180, 181, 182, 183, 184, 19, 230, 187, 188, 189, 190, 78, 192, 222, 252, 195, 196, 197, 165, 199, 325, 201, 216, 203, 204, 205, 124, 46, 208, 309, 305, 211, 212, 213, 214, 215, 56, 257, 218, 219, 344, 221, 125, 8, 224, 253, 226, 308, 228, 85, 357, 231, 232, 291, 234, 235, 342, 237, 47, 239, 240, 241, 242, 243, 261, 128, 104, 247, 248, 258, 25, 251, 39, 282, 254, 255, 81, 246, 155, 53, 297, 259, 262, 72, 264, 265, 268, 267, 315, 269, 270, 271, 160, 273, 96, 275, 227, 17, 36, 279, 280, 277, 263, 283, 284, 285, 286, 287, 288, 289, 306, 341, 292, 293, 294, 295, 281, 207, 298, 299, 290, 301, 302, 303, 304, 323, 296, 225, 229, 356, 310, 311, 312, 313, 314, 86, 316, 317, 3, 319, 320, 321, 322, 59, 324, 48, 326, 327, 328, 329, 330, 220, 332, 245, 334, 335, 336, 337, 338, 339, 340, 60, 249, 343, 154, 345, 346, 347, 348, 349, 350, 351, 352, 353, 354, 355, 217, 35, 358, 359, 193]\n"
     ]
    },
    {
     "data": {
      "text/plain": [
       "191"
      ]
     },
     "execution_count": 13,
     "metadata": {},
     "output_type": "execute_result"
    }
   ],
   "source": [
    "def swapDuplicate(arr):\n",
    "    for i in range(len(arr)):\n",
    "        if arr[i] != i+1:\n",
    "            temp = arr[arr[i]-1]\n",
    "            arr[arr[i]-1] = arr[i]\n",
    "            arr[i] = temp\n",
    "    print(arr)\n",
    "    for i in range(len(arr)):\n",
    "        if arr[i] != i+1:\n",
    "            return arr[i]\n",
    "swapDuplicate([ 247, 240, 303, 9, 304, 105, 44, 204, 291, 26, 242, 2, 358, 264, 176, 289, 196, 329, 189, 102, 45, 111, 115, 339, 74, 200, 34, 201, 215, 173, 107, 141, 71, 125, 6, 241, 275, 88, 91, 58, 171, 346, 219, 238, 246, 10, 118, 163, 287, 179, 123, 348, 283, 313, 226, 324, 203, 323, 28, 251, 69, 311, 330, 316, 320, 312, 50, 157, 342, 12, 253, 180, 112, 90, 16, 288, 213, 273, 57, 243, 42, 168, 55, 144, 131, 38, 317, 194, 355, 254, 202, 351, 62, 80, 134, 321, 31, 127, 232, 67, 22, 124, 271, 231, 162, 172, 52, 228, 87, 174, 307, 36, 148, 302, 198, 24, 338, 276, 327, 150, 110, 188, 309, 354, 190, 265, 3, 108, 218, 164, 145, 285, 99, 60, 286, 103, 119, 29, 75, 212, 290, 301, 151, 17, 147, 94, 138, 272, 279, 222, 315, 116, 262, 1, 334, 41, 54, 208, 139, 332, 89, 18, 233, 268, 7, 214, 20, 46, 326, 298, 101, 47, 236, 216, 359, 161, 350, 5, 49, 122, 345, 269, 73, 76, 221, 280, 322, 149, 318, 135, 234, 82, 120, 335, 98, 274, 182, 129, 106, 248, 64, 121, 258, 113, 349, 167, 192, 356, 51, 166, 77, 297, 39, 305, 260, 14, 63, 165, 85, 224, 19, 27, 177, 344, 33, 259, 292, 100, 43, 314, 170, 97, 4, 78, 310, 61, 328, 199, 255, 159, 185, 261, 229, 11, 295, 353, 186, 325, 79, 142, 223, 211, 152, 266, 48, 347, 21, 169, 65, 140, 83, 156, 340, 56, 220, 130, 117, 143, 277, 235, 59, 205, 153, 352, 300, 114, 84, 183, 333, 230, 197, 336, 244, 195, 37, 23, 206, 86, 15, 187, 181, 308, 109, 293, 128, 66, 270, 209, 158, 32, 25, 227, 191, 35, 40, 13, 175, 146, 299, 207, 217, 281, 30, 357, 184, 133, 245, 284, 343, 53, 210, 306, 136, 132, 239, 155, 73, 193, 278, 257, 126, 331, 294, 250, 252, 263, 92, 267, 282, 72, 95, 337, 154, 319, 341, 70, 81, 68, 160, 8, 249, 96, 104, 137, 256, 93, 178, 296, 225, 237 ])"
   ]
  },
  {
   "cell_type": "code",
   "execution_count": 15,
   "metadata": {},
   "outputs": [
    {
     "name": "stdout",
     "output_type": "stream",
     "text": [
      "['maccb']\n"
     ]
    }
   ],
   "source": [
    "string1 = \"maccb\"\n",
    "string2 = \"pccgh\" \n",
    "string3 = \"absa\"\n",
    "arr1 = string1.split()\n",
    "common = set(string1.split()).intersection(set(string3.split()))\n",
    "print(arr1)"
   ]
  },
  {
   "cell_type": "code",
   "execution_count": 5,
   "metadata": {},
   "outputs": [
    {
     "data": {
      "text/plain": [
       "(-5, -1)"
      ]
     },
     "execution_count": 5,
     "metadata": {},
     "output_type": "execute_result"
    }
   ],
   "source": [
    "# 1) Write a program to swap 2 numbers without using the 3rd (temporary) variable?\n",
    "def swapNumbers(x,y):\n",
    "    x = x ^ y\n",
    "    y = x ^ y\n",
    "    x = x ^ y\n",
    "    return x, y\n",
    "swapNumbers(-1,-5)"
   ]
  },
  {
   "cell_type": "code",
   "execution_count": 31,
   "metadata": {},
   "outputs": [
    {
     "name": "stdin",
     "output_type": "stream",
     "text": [
      " 3\n"
     ]
    },
    {
     "ename": "TypeError",
     "evalue": "unsupported operand type(s) for &: 'str' and 'int'",
     "output_type": "error",
     "traceback": [
      "\u001b[1;31m---------------------------------------------------------------------------\u001b[0m",
      "\u001b[1;31mTypeError\u001b[0m                                 Traceback (most recent call last)",
      "\u001b[1;32m<ipython-input-31-b14d0e0f01a2>\u001b[0m in \u001b[0;36m<module>\u001b[1;34m\u001b[0m\n\u001b[0;32m      2\u001b[0m \u001b[1;32mdef\u001b[0m \u001b[0misEven\u001b[0m\u001b[1;33m(\u001b[0m\u001b[0mnum\u001b[0m\u001b[1;33m)\u001b[0m\u001b[1;33m:\u001b[0m\u001b[1;33m\u001b[0m\u001b[1;33m\u001b[0m\u001b[0m\n\u001b[0;32m      3\u001b[0m     \u001b[1;32mreturn\u001b[0m \u001b[0mnum\u001b[0m \u001b[1;33m&\u001b[0m \u001b[1;36m1\u001b[0m \u001b[1;33m==\u001b[0m \u001b[1;36m0\u001b[0m\u001b[1;33m\u001b[0m\u001b[1;33m\u001b[0m\u001b[0m\n\u001b[1;32m----> 4\u001b[1;33m \u001b[0misEven\u001b[0m\u001b[1;33m(\u001b[0m\u001b[0mnum\u001b[0m\u001b[1;33m)\u001b[0m\u001b[1;33m\u001b[0m\u001b[1;33m\u001b[0m\u001b[0m\n\u001b[0m",
      "\u001b[1;32m<ipython-input-31-b14d0e0f01a2>\u001b[0m in \u001b[0;36misEven\u001b[1;34m(num)\u001b[0m\n\u001b[0;32m      1\u001b[0m \u001b[0mnum\u001b[0m \u001b[1;33m=\u001b[0m \u001b[0minput\u001b[0m\u001b[1;33m(\u001b[0m\u001b[1;33m)\u001b[0m\u001b[1;33m\u001b[0m\u001b[1;33m\u001b[0m\u001b[0m\n\u001b[0;32m      2\u001b[0m \u001b[1;32mdef\u001b[0m \u001b[0misEven\u001b[0m\u001b[1;33m(\u001b[0m\u001b[0mnum\u001b[0m\u001b[1;33m)\u001b[0m\u001b[1;33m:\u001b[0m\u001b[1;33m\u001b[0m\u001b[1;33m\u001b[0m\u001b[0m\n\u001b[1;32m----> 3\u001b[1;33m     \u001b[1;32mreturn\u001b[0m \u001b[0mnum\u001b[0m \u001b[1;33m&\u001b[0m \u001b[1;36m1\u001b[0m \u001b[1;33m==\u001b[0m \u001b[1;36m0\u001b[0m\u001b[1;33m\u001b[0m\u001b[1;33m\u001b[0m\u001b[0m\n\u001b[0m\u001b[0;32m      4\u001b[0m \u001b[0misEven\u001b[0m\u001b[1;33m(\u001b[0m\u001b[0mnum\u001b[0m\u001b[1;33m)\u001b[0m\u001b[1;33m\u001b[0m\u001b[1;33m\u001b[0m\u001b[0m\n",
      "\u001b[1;31mTypeError\u001b[0m: unsupported operand type(s) for &: 'str' and 'int'"
     ]
    }
   ],
   "source": [
    "num = int(input())\n",
    "def isEven(num):\n",
    "    return num & 1 == 0\n",
    "isEven(num)"
   ]
  },
  {
   "cell_type": "code",
   "execution_count": 23,
   "metadata": {},
   "outputs": [
    {
     "data": {
      "text/plain": [
       "'0b111000'"
      ]
     },
     "execution_count": 23,
     "metadata": {},
     "output_type": "execute_result"
    }
   ],
   "source": [
    "bin(56)"
   ]
  },
  {
   "cell_type": "code",
   "execution_count": 5,
   "metadata": {},
   "outputs": [
    {
     "data": {
      "text/plain": [
       "4"
      ]
     },
     "execution_count": 5,
     "metadata": {},
     "output_type": "execute_result"
    }
   ],
   "source": [
    "def longestPalindromicSubsequence(s):\n",
    "    def longestCommonSubsequence(X, Y):\n",
    "        m, n = len(X), len(Y)\n",
    "        L = [[0]*(n+1) for i in range(m+1)]\n",
    "        for i in range(m):\n",
    "            for j in range(n):\n",
    "                if X[i] == Y[j]:\n",
    "                    L[i+1][j+1] = 1 + L[i][j]\n",
    "                else:\n",
    "                    L[i+1][j+1] = max(L[i][j+1], L[i+1][j])\n",
    "        return L[-1][-1]\n",
    "    return longestCommonSubsequence(s, s[::-1])\n",
    "longestPalindromicSubsequence('bbbab')"
   ]
  },
  {
   "cell_type": "code",
   "execution_count": 32,
   "metadata": {},
   "outputs": [
    {
     "name": "stdout",
     "output_type": "stream",
     "text": [
      "[[2, 2], [3, 5]]\n"
     ]
    }
   ],
   "source": [
    "matrix1 = [[1,2],\n",
    "          [3,4]]\n",
    "matrix2 = [[1,0],\n",
    "           [0,1]]\n",
    "rows = len(matrix1) # 2\n",
    "cols = len(matrix1[0])\n",
    "matrix = [[0 for i in range(cols)] for i in range(rows)]\n",
    "for i in range(rows):\n",
    "    for j in range(cols):\n",
    "        matrix[i][j] = matrix1[i][j] + matrix2[i][j]\n",
    "print(matrix)\n",
    "        \n",
    "        "
   ]
  },
  {
   "cell_type": "code",
   "execution_count": 16,
   "metadata": {},
   "outputs": [
    {
     "data": {
      "text/plain": [
       "[2, 1, 3, 1, 1, 0]"
      ]
     },
     "execution_count": 16,
     "metadata": {},
     "output_type": "execute_result"
    }
   ],
   "source": [
    "# Telegram girl => Priya\n",
    "# ques => return the word count \n",
    "# def wordCount(text):\n",
    "#     words = text.split()\n",
    "#     print(words)\n",
    "#     count = 0\n",
    "#     for i in words:\n",
    "#         if i.isnumeric():\n",
    "#             count += 1\n",
    "#         elif i[0] ==\"-\":\n",
    "#             count += 1\n",
    "#     return len(words) - count\n",
    "# print(wordCount(\"ram has 55 kids\"))\n",
    "# print(wordCount(\"ram has -55 kids\"))\n",
    "    \n",
    "    \n",
    "def canSeePersonsCount(heights):\n",
    "\theights = heights[::-1] # we'll go through the people from right to left\n",
    "\treversed_result = []\n",
    "\tstack = [] # holds the heights of the people a newly added person might see\n",
    "\n",
    "\tfor i, height in enumerate(heights):\n",
    "\t\tseen_count = 0 # the number of people seen by the currently added person\n",
    "\n",
    "\t\t# Person being added blocks sight of the popped heights for people to his left\n",
    "\t\twhile stack and stack[-1] < height:\n",
    "\t\t\tstack.pop()\n",
    "\t\t\tseen_count += 1\n",
    "\n",
    "\t\t# There's still someone ahead\n",
    "\t\tif stack:\n",
    "\t\t\tseen_count += 1\n",
    "\n",
    "\t\t# Add self to stack if needed\n",
    "\t\t# Note: we don't want to keep two people of same height in the stack, because the person to the left will block the sight of the person to the right.\n",
    "\t\tif not stack or (stack and stack[-1] != height):\n",
    "\t\t\tstack.append(height)\n",
    "\n",
    "\t\treversed_result.append(seen_count)\n",
    "\n",
    "\treturn reversed_result[::-1]\n",
    "canSeePersonsCount([5, 3, 6, 2, 4, 5])"
   ]
  },
  {
   "cell_type": "code",
   "execution_count": 6,
   "metadata": {},
   "outputs": [
    {
     "name": "stdout",
     "output_type": "stream",
     "text": [
      "[(1, 2), (3, 4), (0, 6), (5, 7), (8, 9), (5, 9)]\n"
     ]
    }
   ],
   "source": [
    "start = [1,3,0,5,8,5]\n",
    "end = [2,4,6,7,9,9]\n",
    "n = len(start)\n",
    "meetings = []\n",
    "for i in range(n):\n",
    "    meetings.append((start[i], end[i]))\n",
    "\n",
    "meetings.sort(key=lambda x:x[1])\n",
    "print(meetings)"
   ]
  },
  {
   "cell_type": "code",
   "execution_count": 17,
   "metadata": {},
   "outputs": [
    {
     "name": "stdout",
     "output_type": "stream",
     "text": [
      "Maximum water that can be accumulated is ([5, 5, 6, 6, 6, 6], [6, 6, 6, 5, 5, 5])\n"
     ]
    }
   ],
   "source": [
    "# Python program to find maximum amount of water that can\n",
    "# be trapped within given set of bars.\n",
    "\n",
    "def findWater(arr, n):\n",
    "\n",
    "\t# left[i] contains height of tallest bar to the\n",
    "\t# left of i'th bar including itself\n",
    "\tleft = [0]*n\n",
    "\n",
    "\t# Right [i] contains height of tallest bar to\n",
    "\t# the right of ith bar including itself\n",
    "\tright = [0]*n\n",
    "\n",
    "\t# Initialize result\n",
    "\twater = 0\n",
    "\n",
    "\t# Fill left array\n",
    "\tleft[0] = arr[0]\n",
    "\tfor i in range( 1, n):\n",
    "\t\tleft[i] = max(left[i-1], arr[i])\n",
    "\n",
    "\t# Fill right array\n",
    "\tright[n-1] = arr[n-1]\n",
    "\tfor i in range(n-2, -1, -1):\n",
    "\t\tright[i] = max(right[i + 1], arr[i]);\n",
    "\n",
    "\t# Calculate the accumulated water element by element\n",
    "\t# consider the amount of water on i'th bar, the\n",
    "\t# amount of water accumulated on this particular\n",
    "\t# bar will be equal to min(left[i], right[i]) - arr[i] .\n",
    "\n",
    "\treturn left, right\n",
    "\n",
    "\n",
    "# Driver program\n",
    "\n",
    "arr = [5, 3, 6, 2, 4, 5]\n",
    "n = len(arr)\n",
    "print(\"Maximum water that can be accumulated is\", findWater(arr, n))\n",
    "\n",
    "# This code is contributed by\n",
    "# Smitha Dinesh Semwal\n"
   ]
  },
  {
   "cell_type": "code",
   "execution_count": 30,
   "metadata": {},
   "outputs": [
    {
     "data": {
      "text/plain": [
       "4"
      ]
     },
     "execution_count": 30,
     "metadata": {},
     "output_type": "execute_result"
    }
   ],
   "source": [
    "# 146. 0-1 knapsack\n",
    "def knapsack01(n, capacity, V, W):\n",
    "    if not W or not V or len(W) != len(V) or capacity < 0:\n",
    "        return 'Invalid Input'\n",
    "    n = len(W)\n",
    "    dp = [[0]*(capacity+1) for i in range(n+1)]\n",
    "    for i in range(1, n+1):\n",
    "        w, v = W[i-1], V[i-1]\n",
    "        for sz in range(1, capacity+1):\n",
    "            dp[i][sz] = dp[i-1][sz]\n",
    "\n",
    "            if sz >= w and dp[i-1][sz-w] + v > dp[i][sz]:\n",
    "                dp[i][sz] = dp[i-1][sz-w] + v\n",
    "\n",
    "    return dp[n][capacity]\n",
    "\n",
    "knapsack01(2, 5, [2, 4], [3, 5])"
   ]
  },
  {
   "cell_type": "code",
   "execution_count": 1,
   "metadata": {},
   "outputs": [
    {
     "ename": "KeyError",
     "evalue": "1",
     "output_type": "error",
     "traceback": [
      "\u001b[1;31m---------------------------------------------------------------------------\u001b[0m",
      "\u001b[1;31mKeyError\u001b[0m                                  Traceback (most recent call last)",
      "\u001b[1;32m<ipython-input-1-ce92926a0ba6>\u001b[0m in \u001b[0;36m<module>\u001b[1;34m\u001b[0m\n\u001b[0;32m      7\u001b[0m             \u001b[0mfreq\u001b[0m\u001b[1;33m[\u001b[0m\u001b[0mi\u001b[0m\u001b[1;33m]\u001b[0m \u001b[1;33m=\u001b[0m \u001b[1;36m1\u001b[0m\u001b[1;33m\u001b[0m\u001b[1;33m\u001b[0m\u001b[0m\n\u001b[0;32m      8\u001b[0m     \u001b[1;32mreturn\u001b[0m \u001b[0mfreq\u001b[0m\u001b[1;33m\u001b[0m\u001b[1;33m\u001b[0m\u001b[0m\n\u001b[1;32m----> 9\u001b[1;33m \u001b[0mfrequen\u001b[0m\u001b[1;33m(\u001b[0m\u001b[1;33m[\u001b[0m\u001b[1;36m1\u001b[0m\u001b[1;33m,\u001b[0m\u001b[1;36m2\u001b[0m\u001b[1;33m,\u001b[0m\u001b[1;36m2\u001b[0m\u001b[1;33m,\u001b[0m\u001b[1;36m3\u001b[0m\u001b[1;33m,\u001b[0m\u001b[1;36m1\u001b[0m\u001b[1;33m,\u001b[0m\u001b[1;36m4\u001b[0m\u001b[1;33m,\u001b[0m\u001b[1;36m2\u001b[0m\u001b[1;33m]\u001b[0m\u001b[1;33m)\u001b[0m\u001b[1;33m\u001b[0m\u001b[1;33m\u001b[0m\u001b[0m\n\u001b[0m",
      "\u001b[1;32m<ipython-input-1-ce92926a0ba6>\u001b[0m in \u001b[0;36mfrequen\u001b[1;34m(nums)\u001b[0m\n\u001b[0;32m      3\u001b[0m     \u001b[1;32mfor\u001b[0m \u001b[0mi\u001b[0m \u001b[1;32min\u001b[0m \u001b[0mnums\u001b[0m\u001b[1;33m:\u001b[0m\u001b[1;33m\u001b[0m\u001b[1;33m\u001b[0m\u001b[0m\n\u001b[0;32m      4\u001b[0m         \u001b[1;32mif\u001b[0m \u001b[0mi\u001b[0m \u001b[1;32min\u001b[0m \u001b[0mnums\u001b[0m\u001b[1;33m:\u001b[0m\u001b[1;33m\u001b[0m\u001b[1;33m\u001b[0m\u001b[0m\n\u001b[1;32m----> 5\u001b[1;33m             \u001b[0mfreq\u001b[0m\u001b[1;33m[\u001b[0m\u001b[0mi\u001b[0m\u001b[1;33m]\u001b[0m \u001b[1;33m+=\u001b[0m \u001b[1;36m1\u001b[0m\u001b[1;33m\u001b[0m\u001b[1;33m\u001b[0m\u001b[0m\n\u001b[0m\u001b[0;32m      6\u001b[0m         \u001b[1;32melse\u001b[0m\u001b[1;33m:\u001b[0m\u001b[1;33m\u001b[0m\u001b[1;33m\u001b[0m\u001b[0m\n\u001b[0;32m      7\u001b[0m             \u001b[0mfreq\u001b[0m\u001b[1;33m[\u001b[0m\u001b[0mi\u001b[0m\u001b[1;33m]\u001b[0m \u001b[1;33m=\u001b[0m \u001b[1;36m1\u001b[0m\u001b[1;33m\u001b[0m\u001b[1;33m\u001b[0m\u001b[0m\n",
      "\u001b[1;31mKeyError\u001b[0m: 1"
     ]
    }
   ],
   "source": [
    "def frequen(nums):\n",
    "    freq = {}\n",
    "    for i in nums:\n",
    "        if i in uni:\n",
    "            freq[i] += 1\n",
    "        else:\n",
    "            freq[i] = 1\n",
    "    return freq\n",
    "frequen([1,2,2,3,1,4,2])"
   ]
  },
  {
   "cell_type": "code",
   "execution_count": null,
   "metadata": {},
   "outputs": [],
   "source": []
  }
 ],
 "metadata": {
  "kernelspec": {
   "display_name": "Python 3",
   "language": "python",
   "name": "python3"
  },
  "language_info": {
   "codemirror_mode": {
    "name": "ipython",
    "version": 3
   },
   "file_extension": ".py",
   "mimetype": "text/x-python",
   "name": "python",
   "nbconvert_exporter": "python",
   "pygments_lexer": "ipython3",
   "version": "3.8.3"
  }
 },
 "nbformat": 4,
 "nbformat_minor": 4
}
