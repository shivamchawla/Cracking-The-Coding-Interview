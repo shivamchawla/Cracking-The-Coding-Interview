{
 "cells": [
  {
   "cell_type": "code",
   "execution_count": 26,
   "metadata": {},
   "outputs": [
    {
     "data": {
      "text/plain": [
       "'0b1010000'"
      ]
     },
     "execution_count": 26,
     "metadata": {},
     "output_type": "execute_result"
    }
   ],
   "source": [
    "bin(80) or bin(65)"
   ]
  },
  {
   "cell_type": "code",
   "execution_count": 1,
   "metadata": {},
   "outputs": [
    {
     "data": {
      "text/plain": [
       "'0b1000000'"
      ]
     },
     "execution_count": 1,
     "metadata": {},
     "output_type": "execute_result"
    }
   ],
   "source": [
    "bin(80 & 65)"
   ]
  },
  {
   "cell_type": "code",
   "execution_count": 2,
   "metadata": {},
   "outputs": [
    {
     "data": {
      "text/plain": [
       "81"
      ]
     },
     "execution_count": 2,
     "metadata": {},
     "output_type": "execute_result"
    }
   ],
   "source": [
    "80 | 65"
   ]
  },
  {
   "cell_type": "markdown",
   "metadata": {},
   "source": [
    "Focus would be writing good code"
   ]
  },
  {
   "cell_type": "code",
   "execution_count": 3,
   "metadata": {},
   "outputs": [],
   "source": [
    "# Array Problems - from 150 problem set"
   ]
  },
  {
   "cell_type": "code",
   "execution_count": 4,
   "metadata": {},
   "outputs": [
    {
     "data": {
      "text/plain": [
       "[1, 3, 4, 2, 2, 2, 2]"
      ]
     },
     "execution_count": 4,
     "metadata": {},
     "output_type": "execute_result"
    }
   ],
   "source": [
    "# Move elements to end MYCODE\n",
    "def moveElementsToEnd(array, num):\n",
    "    i = 0\n",
    "    j = len(array) - 1\n",
    "    while j >= i:\n",
    "        if array[j] == num and array[i] != num:\n",
    "            i += 1\n",
    "            j -= 1\n",
    "        elif array[i] == num and array[j] != num:\n",
    "            array[i], array[j] = array[j], array[i]\n",
    "            i += 1\n",
    "            j -= 1\n",
    "        \n",
    "        elif array[i] == num and array[j] == num:\n",
    "            j -= 1\n",
    "        else:\n",
    "            i += 1\n",
    "            \n",
    "    return array\n",
    "\n",
    "moveElementsToEnd([1,3,2,4,2,2,2], 2)\n",
    "\n",
    "# Can also do in O(nlogn) by using sorting and then swapping num with last elements          \n",
    "        "
   ]
  },
  {
   "cell_type": "code",
   "execution_count": 8,
   "metadata": {},
   "outputs": [
    {
     "data": {
      "text/plain": [
       "[]"
      ]
     },
     "execution_count": 8,
     "metadata": {},
     "output_type": "execute_result"
    }
   ],
   "source": [
    "# Their code\n",
    "def moveElementsToEnd(array, toMove):\n",
    "    i = 0\n",
    "    j = len(array) - 1\n",
    "    while i < j:\n",
    "        while i<j and array[j] == toMove:\n",
    "            j -= 1\n",
    "        if array[i] == toMove:\n",
    "            array[i], array[j] == array[j], array[i]\n",
    "            \n",
    "        i += 1\n",
    "    return array\n",
    "moveElementsToEnd([], 2)"
   ]
  },
  {
   "cell_type": "code",
   "execution_count": 5,
   "metadata": {},
   "outputs": [],
   "source": [
    "# Monotonic array - either completely increasing or completely decreasing\n",
    "def isMonotonicArray(array):\n",
    "    if len(array) < 2:\n",
    "        return \"Monotonic\"\n",
    "    if array[0] > array[len(array) - 1]:\n",
    "#         decreasing \n",
    "        for i in range(len(array)):\n",
    "            if array[i-1] < array[i]:\n",
    "                return False\n",
    "            else:\n",
    "                return True"
   ]
  },
  {
   "cell_type": "code",
   "execution_count": 6,
   "metadata": {},
   "outputs": [
    {
     "name": "stdout",
     "output_type": "stream",
     "text": [
      "2\n",
      "10\n",
      "44\n",
      "188\n",
      "798\n",
      "3382\n",
      "14328\n",
      "60696\n",
      "257114\n",
      "1089154\n",
      "4613732\n"
     ]
    }
   ],
   "source": [
    "# Euler's problem 2\n",
    "def fibSum():\n",
    "    a = 0\n",
    "    b = 1\n",
    "    c = a + b\n",
    "    sum_ = 0\n",
    "    for i in range(4000000):\n",
    "        if c > 4000000:\n",
    "            break\n",
    "        c = a + b \n",
    "        a = b\n",
    "        b = c\n",
    "        if c%2 == 0:\n",
    "            sum_ += c\n",
    "            print(sum_)\n",
    "        \n",
    "fibSum()\n",
    "        "
   ]
  },
  {
   "cell_type": "code",
   "execution_count": 12,
   "metadata": {},
   "outputs": [
    {
     "data": {
      "text/plain": [
       "100371115746176445351701210713361941528546861949073514542015172437236580034634746971244943788132460150776779198800002366059871900041784732217539059306483834977865973576751345853385981719448969002139420"
      ]
     },
     "execution_count": 12,
     "metadata": {},
     "output_type": "execute_result"
    }
   ],
   "source": [
    "def problemEuler3():\n",
    "    sumFirst = 0\n",
    "    for i in range(1,101):\n",
    "        sumFirst += i**i\n",
    "        \n",
    "    sumSecond = 0\n",
    "    for i in range(1,101):\n",
    "        sumSecond += i\n",
    "        \n",
    "    return sumFirst - (sumSecond)**2\n",
    "problemEuler3()"
   ]
  },
  {
   "cell_type": "code",
   "execution_count": 26,
   "metadata": {},
   "outputs": [
    {
     "name": "stdout",
     "output_type": "stream",
     "text": [
      "93326215443944152681699238856266700490715968264381621468592963895217599993229915608941463976156518286253697920827223758251185210916864000000000000000000000000\n",
      "1366\n"
     ]
    }
   ],
   "source": [
    "fact = 1\n",
    "for i in range(1,101):\n",
    "    fact *= i\n",
    "print(fact)\n",
    "fact = 2**1000\n",
    "sum_ = 0\n",
    "while fact != 0:\n",
    "    rem = fact%10\n",
    "    sum_ += rem\n",
    "    fact //= 10\n",
    "    \n",
    "print(sum_)\n",
    "    "
   ]
  },
  {
   "cell_type": "code",
   "execution_count": 24,
   "metadata": {},
   "outputs": [
    {
     "data": {
      "text/plain": [
       "10715086071862673209484250490600018105614048117055336074437503883703510511249361224931983788156958581275946729175531468251871452856923140435984577574698574803934567774824230985421074605062371141877954182153046474983581941267398767559165543946077062914571196477686542167660429831652624386837205668069376"
      ]
     },
     "execution_count": 24,
     "metadata": {},
     "output_type": "execute_result"
    }
   ],
   "source": [
    "2**1000"
   ]
  },
  {
   "cell_type": "code",
   "execution_count": 28,
   "metadata": {},
   "outputs": [
    {
     "data": {
      "text/plain": [
       "1000368199144695177095375011227646795567793680622934654583760988100234910747716194381428659099527845945869942643191290894720342979906407679647259860434238468038326040809691037615370376237713648510063115732951461774246705584266865759601815843666442832284556880313114548151539190975398485496645576513465858582712336401166221956188173449531674102688908321764663020306699770408625340766091595022791379368098369306375602813856646358773751558775213460225796579846583334007349358624342339332981334571237888809283103348760261360175950815609179464026871005243652109980863552142014242903434068560936573231079342194031864413918101238151056509267393515760392842472501391594073463001521843811073767021711026307504695733467897821866906648469828346607412967395801797791683609834722432241952845352564681868240369569566192825555323558078061997527689983848863374786789331581565252059172614339424600986143259233167583371070362625554531852054166117148858229508581589614337594463277554380518380921301218836327102231407332201109740102580216469298331766920619646083790732807627360614428085171565006289728508688964226799647192582924058589530750674578385365561878559589685756225692348914746922810913915619834754117648358035814128670294158565669942087736286390942241547226015004471330630113072042704288905042142628193771918594574302202147201188486345913190833752307476966010547423928871063118783026036381319039052008252072057933666712918946233312793697094074224187872045970976444309242782187738320257490080824330074991698698239561125811127607863900355221737846690567707344074494145266662103839812840216303448476913957072355732716627098372245223046792919747259113157425824064858331415400943278213042954635053574045209984512221264241903550178416824551412548637590007779082539288247751653566899882749594405895102587985539527709493510049546445427265617478399107188238681771215904234119392247489751079085948055945098805617963722928469554263782217625160428008228845552540344494860195267115187092227766195753907211126646150140614744233974765273475619964311852858614167819668340124730487710162006793529985758820653677274379563313495454526632718723482339494825759821076401694316043456512117937935456463521463021197726694983558929132357576188594977516630734212863869456164205525536767311298137182511494649463663073759219213056823561667776093739425742883930712609962163464088038826569132032160692637206183085942987973684584276491784843115472077900401692595694119273553511025991265446039366288921743581333200083717105241171504606883543418862024047552177055263424469501298905901938158245938633694105024815166679813689156668341197713475094389904887126794468901893850475050011205225742455555625750560213230387910337983950333245020653238989115507013882956277763880795687210857196493893142656713105966275422144605988058939600603604226921401402096519294250488670297983396353279460453142375542267881989197481789780678955093763193658603690898474826976906544473978017455720367929981796023041785852626797271283465789498383642350667978127819110846700"
      ]
     },
     "execution_count": 28,
     "metadata": {},
     "output_type": "execute_result"
    }
   ],
   "source": [
    "def problem48():\n",
    "    sum_  = 0\n",
    "    for i in range(1, 1001):\n",
    "        sum_ += i**i\n",
    "        \n",
    "    return sum_\n",
    "problem48()"
   ]
  },
  {
   "cell_type": "code",
   "execution_count": 31,
   "metadata": {},
   "outputs": [
    {
     "data": {
      "text/plain": [
       "[200, 375]"
      ]
     },
     "execution_count": 31,
     "metadata": {},
     "output_type": "execute_result"
    }
   ],
   "source": [
    "def problem9():\n",
    "    for a in range(1,1000):\n",
    "        for b in range(1,1000):\n",
    "            if (a*b + 500000) == (a+b)*1000:\n",
    "                return [a, b]\n",
    "problem9()"
   ]
  },
  {
   "cell_type": "code",
   "execution_count": 32,
   "metadata": {},
   "outputs": [
    {
     "data": {
      "text/plain": [
       "31875000"
      ]
     },
     "execution_count": 32,
     "metadata": {},
     "output_type": "execute_result"
    }
   ],
   "source": [
    "200*375*(1000-200-375)"
   ]
  },
  {
   "cell_type": "code",
   "execution_count": null,
   "metadata": {},
   "outputs": [],
   "source": [
    "def isPalindrome(num):\n",
    "    return str(num) == str(num)[::-1]\n",
    "def largestPalindrome():\n",
    "    largestPalindrome = 0\n",
    "    for i in range(100, 1000):\n",
    "        for j in range(100, 1000):\n",
    "            product = i*j\n",
    "            if isPalindrome(product):\n",
    "                currProduct = product\n",
    "                largestPalindrome = max(largestPalindrome, currProduct)\n",
    "#                 print(i,j)\n",
    "    return largestPalindrome\n",
    "largestPalindrome()"
   ]
  },
  {
   "cell_type": "code",
   "execution_count": 19,
   "metadata": {},
   "outputs": [
    {
     "data": {
      "text/plain": [
       "24"
      ]
     },
     "execution_count": 19,
     "metadata": {},
     "output_type": "execute_result"
    }
   ],
   "source": [
    "def longestCollatz(num):\n",
    "#     print(num, end=\"->\")\n",
    "    count = 1\n",
    "    while num != 1:\n",
    "        if num%2 == 0:\n",
    "            num //= 2\n",
    "        else:\n",
    "            num = 3*num + 1\n",
    "#         print(num, end=\"->\")\n",
    "        count += 1\n",
    "        \n",
    "    return  count\n",
    "# longestCollatz(1092)\n",
    "def longestChain():\n",
    "    longestChain = 0\n",
    "    for i in range(2,27):\n",
    "        currChain = longestCollatz(i)\n",
    "        longestChain = max(longestChain, currChain)\n",
    "    return longestChain\n",
    "longestChain()\n",
    "        "
   ]
  },
  {
   "cell_type": "code",
   "execution_count": 20,
   "metadata": {},
   "outputs": [
    {
     "name": "stdout",
     "output_type": "stream",
     "text": [
      "(837799, 525)\n"
     ]
    }
   ],
   "source": [
    "def collatzLenUtil(n, collLenMap):\n",
    "\t\n",
    "\t# If value already\n",
    "\t# computed, return it\n",
    "\tif n in collLenMap:\n",
    "\t\treturn collLenMap[n]\n",
    "\t\n",
    "\t# Base case\n",
    "\tif(n == 1):\n",
    "\t\tcollLenMap[n] = 1\n",
    "\n",
    "\t# Even case\n",
    "\telif(n % 2 == 0):\n",
    "\t\tcollLenMap[n] \\\n",
    "\t\t= 1 \\\n",
    "\t\t+ collatzLenUtil(n//2, collLenMap)\n",
    "\n",
    "\t# Odd case\n",
    "\telse:\n",
    "\t\tcollLenMap[n] \\\n",
    "\t\t= 1 \\\n",
    "\t\t+ collatzLenUtil(3 * n + 1, collLenMap)\n",
    "\t\n",
    "\treturn collLenMap[n]\n",
    "\n",
    "def collatzLen(n):\n",
    "\t\n",
    "\t# Declare empty Map / Dict\n",
    "\t# to store collatz lengths\n",
    "\tcollLenMap = {}\n",
    "\t\n",
    "\tcollatzLenUtil(n, collLenMap)\n",
    "\n",
    "\t# Initialise ans and\n",
    "\t# its collatz length\n",
    "\tnum, l =-1, 0\n",
    "\t\n",
    "\tfor i in range(1, n):\n",
    "\t\t\n",
    "\t\t# If value not already computed,\n",
    "\t\t# pass Dict to Helper function\n",
    "\t\t# and calculate and store value\n",
    "\t\tif i not in collLenMap:\n",
    "\t\t\tcollatzLenUtil(i, collLenMap)\n",
    "\t\t\n",
    "\t\tcLen = collLenMap[i]\n",
    "\t\tif l < cLen:\n",
    "\t\t\tl = cLen\n",
    "\t\t\tnum = i\n",
    "\t\n",
    "\t# Return ans and\n",
    "\t# its collatz length\n",
    "\treturn (num, l)\n",
    "\n",
    "print(collatzLen(1000000))\n"
   ]
  },
  {
   "cell_type": "code",
   "execution_count": 31,
   "metadata": {},
   "outputs": [
    {
     "ename": "KeyboardInterrupt",
     "evalue": "",
     "output_type": "error",
     "traceback": [
      "\u001b[1;31m---------------------------------------------------------------------------\u001b[0m",
      "\u001b[1;31mKeyboardInterrupt\u001b[0m                         Traceback (most recent call last)",
      "\u001b[1;32m<ipython-input-31-fc632963faa1>\u001b[0m in \u001b[0;36m<module>\u001b[1;34m\u001b[0m\n\u001b[0;32m     12\u001b[0m             \u001b[0msumPrime\u001b[0m \u001b[1;33m+=\u001b[0m \u001b[0mi\u001b[0m\u001b[1;33m\u001b[0m\u001b[1;33m\u001b[0m\u001b[0m\n\u001b[0;32m     13\u001b[0m     \u001b[1;32mreturn\u001b[0m \u001b[0msumPrime\u001b[0m\u001b[1;33m\u001b[0m\u001b[1;33m\u001b[0m\u001b[0m\n\u001b[1;32m---> 14\u001b[1;33m \u001b[0msumPrime\u001b[0m\u001b[1;33m(\u001b[0m\u001b[1;33m)\u001b[0m\u001b[1;33m\u001b[0m\u001b[1;33m\u001b[0m\u001b[0m\n\u001b[0m\u001b[0;32m     15\u001b[0m \u001b[1;33m\u001b[0m\u001b[0m\n",
      "\u001b[1;32m<ipython-input-31-fc632963faa1>\u001b[0m in \u001b[0;36msumPrime\u001b[1;34m()\u001b[0m\n\u001b[0;32m      9\u001b[0m     \u001b[0msumPrime\u001b[0m \u001b[1;33m=\u001b[0m \u001b[1;36m0\u001b[0m\u001b[1;33m\u001b[0m\u001b[1;33m\u001b[0m\u001b[0m\n\u001b[0;32m     10\u001b[0m     \u001b[1;32mfor\u001b[0m \u001b[0mi\u001b[0m \u001b[1;32min\u001b[0m \u001b[0mrange\u001b[0m\u001b[1;33m(\u001b[0m\u001b[1;36m2\u001b[0m\u001b[1;33m,\u001b[0m \u001b[1;36m2000000\u001b[0m\u001b[1;33m)\u001b[0m\u001b[1;33m:\u001b[0m\u001b[1;33m\u001b[0m\u001b[1;33m\u001b[0m\u001b[0m\n\u001b[1;32m---> 11\u001b[1;33m         \u001b[1;32mif\u001b[0m \u001b[0misPrime\u001b[0m\u001b[1;33m(\u001b[0m\u001b[0mi\u001b[0m\u001b[1;33m)\u001b[0m\u001b[1;33m:\u001b[0m\u001b[1;33m\u001b[0m\u001b[1;33m\u001b[0m\u001b[0m\n\u001b[0m\u001b[0;32m     12\u001b[0m             \u001b[0msumPrime\u001b[0m \u001b[1;33m+=\u001b[0m \u001b[0mi\u001b[0m\u001b[1;33m\u001b[0m\u001b[1;33m\u001b[0m\u001b[0m\n\u001b[0;32m     13\u001b[0m     \u001b[1;32mreturn\u001b[0m \u001b[0msumPrime\u001b[0m\u001b[1;33m\u001b[0m\u001b[1;33m\u001b[0m\u001b[0m\n",
      "\u001b[1;32m<ipython-input-31-fc632963faa1>\u001b[0m in \u001b[0;36misPrime\u001b[1;34m(num)\u001b[0m\n\u001b[0;32m      4\u001b[0m         \u001b[1;32mif\u001b[0m \u001b[0mnum\u001b[0m \u001b[1;33m%\u001b[0m \u001b[0mi\u001b[0m \u001b[1;33m==\u001b[0m \u001b[1;36m0\u001b[0m\u001b[1;33m:\u001b[0m\u001b[1;33m\u001b[0m\u001b[1;33m\u001b[0m\u001b[0m\n\u001b[0;32m      5\u001b[0m             \u001b[1;32mreturn\u001b[0m \u001b[1;32mFalse\u001b[0m\u001b[1;33m\u001b[0m\u001b[1;33m\u001b[0m\u001b[0m\n\u001b[1;32m----> 6\u001b[1;33m         \u001b[0mi\u001b[0m \u001b[1;33m+=\u001b[0m \u001b[1;36m1\u001b[0m\u001b[1;33m\u001b[0m\u001b[1;33m\u001b[0m\u001b[0m\n\u001b[0m\u001b[0;32m      7\u001b[0m     \u001b[1;32mreturn\u001b[0m \u001b[1;32mTrue\u001b[0m\u001b[1;33m\u001b[0m\u001b[1;33m\u001b[0m\u001b[0m\n\u001b[0;32m      8\u001b[0m \u001b[1;32mdef\u001b[0m \u001b[0msumPrime\u001b[0m\u001b[1;33m(\u001b[0m\u001b[1;33m)\u001b[0m\u001b[1;33m:\u001b[0m\u001b[1;33m\u001b[0m\u001b[1;33m\u001b[0m\u001b[0m\n",
      "\u001b[1;31mKeyboardInterrupt\u001b[0m: "
     ]
    }
   ],
   "source": [
    "def isPrime(num):\n",
    "    i = 2\n",
    "    while num > i:\n",
    "        if num % i == 0:\n",
    "            return False\n",
    "        i += 1\n",
    "    return True\n",
    "def sumPrime():\n",
    "    sumPrime = 0\n",
    "    for i in range(2, 2000000):\n",
    "        if isPrime(i):\n",
    "            sumPrime += i\n",
    "    return sumPrime\n",
    "sumPrime()\n",
    "    "
   ]
  },
  {
   "cell_type": "code",
   "execution_count": 21,
   "metadata": {},
   "outputs": [
    {
     "name": "stdin",
     "output_type": "stream",
     "text": [
      " aabaac\n"
     ]
    },
    {
     "data": {
      "text/plain": [
       "'1c2a1b2a'"
      ]
     },
     "execution_count": 21,
     "metadata": {},
     "output_type": "execute_result"
    }
   ],
   "source": [
    "# encrypt the string -1\n",
    "def encryptString(string):\n",
    "    \n",
    "#     countChar = {}\n",
    "#     for i in string:\n",
    "#         if i in countChar:\n",
    "#             countChar[i] += 1\n",
    "#         else:\n",
    "#             countChar[i] = 1\n",
    "#     res = \"\"\n",
    "#     for i in countChar:\n",
    "#         res += str(countChar[i]) + i\n",
    "        \n",
    "    i = len(string) - 1\n",
    "    res = \"\"\n",
    "    \n",
    "    while i >= 0:\n",
    "        count = 1\n",
    "        while string[i] == string[i-1]:\n",
    "            count += 1\n",
    "            i -= 1\n",
    "        \n",
    "        res +=  str(count) + string[i]\n",
    "        i -= 1\n",
    "        \n",
    "    return res\n",
    "\n",
    "string = input()\n",
    "encryptString(string)\n",
    "\n",
    "# What to do with the case on single character?????\n",
    "# Any other better way?"
   ]
  },
  {
   "cell_type": "code",
   "execution_count": 28,
   "metadata": {},
   "outputs": [
    {
     "data": {
      "text/plain": [
       "25"
      ]
     },
     "execution_count": 28,
     "metadata": {},
     "output_type": "execute_result"
    }
   ],
   "source": [
    "-1%26"
   ]
  },
  {
   "cell_type": "code",
   "execution_count": 33,
   "metadata": {},
   "outputs": [
    {
     "data": {
      "text/plain": [
       "''"
      ]
     },
     "execution_count": 33,
     "metadata": {},
     "output_type": "execute_result"
    }
   ],
   "source": [
    "# Given a string s, the task is to encrypt the string in the following way: \n",
    "\n",
    "# If the frequency of current character is even, then increment current character by x.\n",
    "# If the frequency of current character is odd, then decrement current character by \n",
    "# https://www.geeksforgeeks.org/encrypt-the-given-string-with-the-following-operations/\n",
    "\n",
    "def stringOperation(string, x):\n",
    "    countChar = {}\n",
    "    for i in string:\n",
    "        if i in countChar:\n",
    "            countChar[i] += 1\n",
    "        else:\n",
    "            countChar[i] = 1\n",
    "    newStr = \"\"\n",
    "    for i in string:\n",
    "        if countChar[i]%2 == 0:\n",
    "            idx = ord(i) - ord(\"a\") + x\n",
    "            newStr += chr(idx%26 + ord(\"a\"))\n",
    "        else:\n",
    "            idx = ord(i) - ord(\"a\") - x\n",
    "            newStr += chr(idx%26 + ord(\"a\"))\n",
    "    return newStr\n",
    "\n",
    "stringOperation(\"\", 3)\n",
    "            \n",
    "                          \n",
    "            "
   ]
  },
  {
   "cell_type": "code",
   "execution_count": 7,
   "metadata": {},
   "outputs": [
    {
     "data": {
      "text/plain": [
       "'2a1b2a1l1s1d1a1j1h1d1s1a1l1d1h1j1k1l7a1f1l1k1d1s1f1l1k1j1f1l1k1s1d3a'"
      ]
     },
     "execution_count": 7,
     "metadata": {},
     "output_type": "execute_result"
    }
   ],
   "source": [
    "def encryptString(string):\n",
    "    res =\"\"\n",
    "    i = len(string) - 1\n",
    "    while i >= 0:   \n",
    "        count = 1\n",
    "        while string[i] == string[i-1]:\n",
    "            i -= 1\n",
    "            count +=1\n",
    "            if i == 0:\n",
    "                break\n",
    "        res += str(count) + string[i]\n",
    "        i -= 1\n",
    "    return res\n",
    "encryptString(\"adsklfjklfsdklfaaaaaaalkjhdlasdhjadslaabaa\")"
   ]
  },
  {
   "cell_type": "code",
   "execution_count": 8,
   "metadata": {},
   "outputs": [
    {
     "name": "stdout",
     "output_type": "stream",
     "text": [
      "9,2,5,9,2,1,8,5,5,3,3,4,3,8\n",
      "4,4,2,3,3,4,13\n"
     ]
    }
   ],
   "source": [
    "def countBeforeSpace(string):\n",
    "    n = len(string)\n",
    "    count = 0\n",
    "    res = \"\"\n",
    "    for i in range(1, n):\n",
    "        if string[i] == \" \":\n",
    "            res += str(count) + \",\" \n",
    "            count = -1\n",
    "        count += 1\n",
    "    res += str(count)\n",
    "    return res\n",
    "        \n",
    "print(countBeforeSpace(\"@Debugging is being detective in a criminal movie where you are also the murderer\"))\n",
    "print(countBeforeSpace(\"@Good code is its own best documentation\"))\n",
    "        "
   ]
  },
  {
   "cell_type": "code",
   "execution_count": 76,
   "metadata": {},
   "outputs": [
    {
     "name": "stdout",
     "output_type": "stream",
     "text": [
      "Item Servo could not be deleted\n"
     ]
    },
    {
     "data": {
      "text/plain": [
       "'Total Items in Inventory: 16'"
      ]
     },
     "execution_count": 76,
     "metadata": {},
     "output_type": "execute_result"
    }
   ],
   "source": [
    "def manageTheInventory(operation, existingItems):\n",
    "    temp = operation.split()\n",
    "    if temp[0].upper() == \"ADD\":\n",
    "        print(addOperation(operation, existingItems))\n",
    "    else:\n",
    "        print(delOperation(operation, existingItems))\n",
    "    totalNumOfItems = 0\n",
    "    for i in existingItems:\n",
    "        totalNumOfItems += existingItems[i]\n",
    "    return \"Total Items in Inventory: \"+ str(totalNumOfItems)\n",
    "        \n",
    "def addOperation(string, dictionary):\n",
    "    string = string.split()\n",
    "    itemName = string[1]\n",
    "    itemQuantity = string[2]\n",
    "#     dictionary[itemName] = itemQuantity\n",
    "    if itemName in dictionary:\n",
    "        dictionary[itemName] = itemQuantity\n",
    "        print(\"UPDATED\", itemName, itemQuantity)\n",
    "    else:\n",
    "        dictionary[itemName] = itemQuantity\n",
    "        print(\"ADDED Item\", itemName)\n",
    "    return dictionary\n",
    "    \n",
    "def delOperation(string, dictionary):\n",
    "    string = string.split()\n",
    "    itemName = string[1]\n",
    "    itemQuantity = int(string[2])\n",
    "    if itemName not in dictionary:\n",
    "        return \"Item \" + f\"{itemName} does not exist\" \n",
    "    else:\n",
    "        if dictionary[itemName] < itemQuantity:\n",
    "            return f\"Item {itemName} could not be deleted\"\n",
    "        else:\n",
    "            dictionary[itemName] -= itemQuantity\n",
    "            return \"DELETED Item \" + itemName\n",
    "        \n",
    "existingItems = {\"Servo\":3, \"Drone\":6, \"Board\":7}\n",
    "operation = \"Delete Servo 4\"\n",
    "manageTheInventory(operation, existingItems)"
   ]
  },
  {
   "cell_type": "code",
   "execution_count": 68,
   "metadata": {},
   "outputs": [
    {
     "name": "stdout",
     "output_type": "stream",
     "text": [
      "['shivam', 'is', 'cute']\n"
     ]
    }
   ],
   "source": [
    "name = \"shivam is cute\"\n",
    "print(name.split())"
   ]
  },
  {
   "cell_type": "code",
   "execution_count": 79,
   "metadata": {},
   "outputs": [
    {
     "ename": "IndexError",
     "evalue": "string index out of range",
     "output_type": "error",
     "traceback": [
      "\u001b[1;31m---------------------------------------------------------------------------\u001b[0m",
      "\u001b[1;31mIndexError\u001b[0m                                Traceback (most recent call last)",
      "\u001b[1;32m<ipython-input-79-3a0584f95f12>\u001b[0m in \u001b[0;36m<module>\u001b[1;34m\u001b[0m\n\u001b[0;32m     19\u001b[0m         \u001b[0mi\u001b[0m \u001b[1;33m=\u001b[0m \u001b[0mj\u001b[0m\u001b[1;33m+\u001b[0m\u001b[1;36m1\u001b[0m\u001b[1;33m\u001b[0m\u001b[1;33m\u001b[0m\u001b[0m\n\u001b[0;32m     20\u001b[0m     \u001b[1;32mreturn\u001b[0m \u001b[0mencoded_string\u001b[0m\u001b[1;33m\u001b[0m\u001b[1;33m\u001b[0m\u001b[0m\n\u001b[1;32m---> 21\u001b[1;33m \u001b[0mencodedString\u001b[0m\u001b[1;33m(\u001b[0m\u001b[1;34m\"aabbcc\"\u001b[0m\u001b[1;33m)\u001b[0m\u001b[1;33m\u001b[0m\u001b[1;33m\u001b[0m\u001b[0m\n\u001b[0m",
      "\u001b[1;32m<ipython-input-79-3a0584f95f12>\u001b[0m in \u001b[0;36mencodedString\u001b[1;34m(s)\u001b[0m\n\u001b[0;32m      8\u001b[0m     \u001b[1;32mwhile\u001b[0m \u001b[1;33m(\u001b[0m\u001b[0mi\u001b[0m \u001b[1;33m>=\u001b[0m \u001b[1;36m0\u001b[0m\u001b[1;33m)\u001b[0m\u001b[1;33m:\u001b[0m\u001b[1;33m\u001b[0m\u001b[1;33m\u001b[0m\u001b[0m\n\u001b[0;32m      9\u001b[0m         \u001b[0mcount\u001b[0m \u001b[1;33m=\u001b[0m \u001b[1;36m1\u001b[0m\u001b[1;33m\u001b[0m\u001b[1;33m\u001b[0m\u001b[0m\n\u001b[1;32m---> 10\u001b[1;33m         \u001b[0mch\u001b[0m \u001b[1;33m=\u001b[0m \u001b[0ms\u001b[0m\u001b[1;33m[\u001b[0m\u001b[0mi\u001b[0m\u001b[1;33m]\u001b[0m\u001b[1;33m\u001b[0m\u001b[1;33m\u001b[0m\u001b[0m\n\u001b[0m\u001b[0;32m     11\u001b[0m         \u001b[0mj\u001b[0m \u001b[1;33m=\u001b[0m \u001b[0mi\u001b[0m\u001b[1;33m\u001b[0m\u001b[1;33m\u001b[0m\u001b[0m\n\u001b[0;32m     12\u001b[0m         \u001b[1;32mwhile\u001b[0m \u001b[1;33m(\u001b[0m\u001b[0mj\u001b[0m \u001b[1;33m<\u001b[0m \u001b[0mlen\u001b[0m\u001b[1;33m(\u001b[0m\u001b[0ms\u001b[0m\u001b[1;33m)\u001b[0m\u001b[1;33m-\u001b[0m\u001b[1;36m1\u001b[0m\u001b[1;33m)\u001b[0m\u001b[1;33m:\u001b[0m\u001b[1;33m\u001b[0m\u001b[1;33m\u001b[0m\u001b[0m\n",
      "\u001b[1;31mIndexError\u001b[0m: string index out of range"
     ]
    }
   ],
   "source": [
    "def encodedString(s):\n",
    "    \n",
    "    \n",
    "            \n",
    "    encoded_string=\"\"\n",
    "    count=0\n",
    "    i = len(s) - 1\n",
    "    while (i >=  0):\n",
    "        count = 1\n",
    "        ch = s[i]\n",
    "        j = i\n",
    "        while (j < len(s)-1):\n",
    "            if (s[j] == s[j+1]):\n",
    "                count = count+1\n",
    "                j = j+1\n",
    "            else:\n",
    "                break\n",
    "        encoded_string += str(count)+ch\n",
    "        i = j+1\n",
    "    return encoded_string\n",
    "encodedString(\"aabbcc\")\n"
   ]
  },
  {
   "cell_type": "code",
   "execution_count": 90,
   "metadata": {},
   "outputs": [
    {
     "data": {
      "text/plain": [
       "24"
      ]
     },
     "execution_count": 90,
     "metadata": {},
     "output_type": "execute_result"
    }
   ],
   "source": [
    "def firstDP(arr, i , j):\n",
    "    if i >= j:\n",
    "        return 0\n",
    "    return max(arr[i]+ min(firstDP(arr, i+1, j-1), firstDP(arr, i+2, j)), arr[j-1] + min(firstDP(arr, i+1, j - 1), firstDP(arr, i, j-2)))\n",
    "firstDP([9,16,4,8], 0, 4)"
   ]
  },
  {
   "cell_type": "code",
   "execution_count": 96,
   "metadata": {},
   "outputs": [
    {
     "data": {
      "text/plain": [
       "6"
      ]
     },
     "execution_count": 96,
     "metadata": {},
     "output_type": "execute_result"
    }
   ],
   "source": [
    "def secondDP(string1, string2):\n",
    "    if len(string1) == 0 or len(string2) == 0:\n",
    "        return len(string1)^len(string2)\n",
    "    if string1[len(string1)-1] == string[len(string2)-1]:\n",
    "        return 1 + secondDP(string1[:len(string1)-1], string2[:len(string2)-1])\n",
    "    else:\n",
    "        return 1 + min(secondDP(string1, string2[:len(string2)-1]), secondDP(string1[:len(string1)-1], string2))\n",
    "secondDP(\"abcd\",\"abwe\")"
   ]
  },
  {
   "cell_type": "code",
   "execution_count": 92,
   "metadata": {},
   "outputs": [
    {
     "data": {
      "text/plain": [
       "7"
      ]
     },
     "execution_count": 92,
     "metadata": {},
     "output_type": "execute_result"
    }
   ],
   "source": [
    "0^7"
   ]
  },
  {
   "cell_type": "code",
   "execution_count": null,
   "metadata": {},
   "outputs": [],
   "source": []
  }
 ],
 "metadata": {
  "kernelspec": {
   "display_name": "Python 3",
   "language": "python",
   "name": "python3"
  },
  "language_info": {
   "codemirror_mode": {
    "name": "ipython",
    "version": 3
   },
   "file_extension": ".py",
   "mimetype": "text/x-python",
   "name": "python",
   "nbconvert_exporter": "python",
   "pygments_lexer": "ipython3",
   "version": "3.8.3"
  }
 },
 "nbformat": 4,
 "nbformat_minor": 4
}
