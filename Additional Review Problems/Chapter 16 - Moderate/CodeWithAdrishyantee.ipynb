{
 "cells": [
  {
   "cell_type": "code",
   "execution_count": 7,
   "metadata": {},
   "outputs": [
    {
     "data": {
      "text/plain": [
       "[0, 1]"
      ]
     },
     "execution_count": 7,
     "metadata": {},
     "output_type": "execute_result"
    }
   ],
   "source": [
    "# Two Sum\n",
    "def twoSum(array, target):\n",
    "    visitedSoFar = dict()\n",
    "    for i in range(len(array)):\n",
    "        if target - array[i] in visitedSoFar:\n",
    "            return [visitedSoFar[target-array[i]], i]\n",
    "        else:\n",
    "            visitedSoFar[array[i]] = i\n",
    "twoSum([2,7,11,15], 9)\n",
    "            "
   ]
  },
  {
   "cell_type": "code",
   "execution_count": 8,
   "metadata": {},
   "outputs": [
    {
     "data": {
      "text/plain": [
       "([1, 2, 3], [2, 5, 6])"
      ]
     },
     "execution_count": 8,
     "metadata": {},
     "output_type": "execute_result"
    }
   ],
   "source": [
    "# merge sorted array\n",
    "def mergeSortedArray(array1, m, array2, n):\n",
    "    array1 = array1[:m]\n",
    "    array2 = array2[:n]\n",
    "    res = []\n",
    "    i = 0\n",
    "    j = 0\n",
    "    while \n",
    "    return array1, array2\n",
    "mergeSortedArray([1,2,3,0,0,0], 3, [2,5,6], 3)"
   ]
  },
  {
   "cell_type": "code",
   "execution_count": null,
   "metadata": {},
   "outputs": [],
   "source": []
  }
 ],
 "metadata": {
  "kernelspec": {
   "display_name": "Python 3",
   "language": "python",
   "name": "python3"
  },
  "language_info": {
   "codemirror_mode": {
    "name": "ipython",
    "version": 3
   },
   "file_extension": ".py",
   "mimetype": "text/x-python",
   "name": "python",
   "nbconvert_exporter": "python",
   "pygments_lexer": "ipython3",
   "version": "3.8.3"
  }
 },
 "nbformat": 4,
 "nbformat_minor": 4
}
