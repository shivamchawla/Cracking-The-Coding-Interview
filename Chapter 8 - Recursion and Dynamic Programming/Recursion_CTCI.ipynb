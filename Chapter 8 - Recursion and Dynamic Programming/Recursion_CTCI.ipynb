{
 "cells": [
  {
   "cell_type": "markdown",
   "metadata": {},
   "source": [
    "Recursion -- CTCI "
   ]
  },
  {
   "cell_type": "markdown",
   "metadata": {},
   "source": [
    "Design an algo to compute nth, Write code to list the first n .... , Implement a method to compute all ... and so on "
   ]
  },
  {
   "cell_type": "raw",
   "metadata": {},
   "source": [
    "Approaching - simply to compute f(n) by adding something, removing something, or otherwise changing the solutionfor f(n-1). \n",
    "In other cases, you might solve the problem for first half, then second half and then merge those results."
   ]
  },
  {
   "cell_type": "raw",
   "metadata": {},
   "source": [
    "Recursive algorithms can be very space inefficient- if recursion depth = n then it uses atleast O(n) memory."
   ]
  },
  {
   "cell_type": "markdown",
   "metadata": {},
   "source": [
    "Dynamic Programming - not scary at all"
   ]
  },
  {
   "cell_type": "code",
   "execution_count": 1,
   "metadata": {},
   "outputs": [
    {
     "data": {
      "text/plain": [
       "5"
      ]
     },
     "execution_count": 1,
     "metadata": {},
     "output_type": "execute_result"
    }
   ],
   "source": [
    "# Recursive code to implement nth fibonacci number\n",
    "def fibonacci(n):\n",
    "#     Base case:\n",
    "    if n <= 1:\n",
    "        return n\n",
    "    fib1 = fibonacci(n-1)\n",
    "    fib2 = fibonacci(n-2)\n",
    "    return fib1 + fib2\n",
    "fibonacci(5)"
   ]
  },
  {
   "cell_type": "code",
   "execution_count": 6,
   "metadata": {},
   "outputs": [
    {
     "data": {
      "text/plain": [
       "5"
      ]
     },
     "execution_count": 6,
     "metadata": {},
     "output_type": "execute_result"
    }
   ],
   "source": [
    "# Recursive code to implement nth fibonacci number\n",
    "n = 5\n",
    "dp = [0 for i in range(n+1)]\n",
    "def fibonacciMemoized(n, dp):\n",
    "#     Base case:\n",
    "    if n <= 1:\n",
    "        return n\n",
    "    if dp[n] != 0:\n",
    "        return dp[n]\n",
    "    fib1 = fibonacciMemoized(n-1, dp)\n",
    "    fib2 = fibonacciMemoized(n-2, dp)\n",
    "    dp[n] = fib1 + fib2\n",
    "    return dp[n]\n",
    "fibonacciMemoized(n, dp)"
   ]
  },
  {
   "cell_type": "code",
   "execution_count": 20,
   "metadata": {},
   "outputs": [
    {
     "name": "stdin",
     "output_type": "stream",
     "text": [
      " 8\n"
     ]
    },
    {
     "data": {
      "text/plain": [
       "21"
      ]
     },
     "execution_count": 20,
     "metadata": {},
     "output_type": "execute_result"
    }
   ],
   "source": [
    "# Memoized version of fibonacci series\n",
    "\n",
    "def memoVersion(n):\n",
    "    if n <= 1:\n",
    "        return n\n",
    "    if memo[n] == 0:\n",
    "        memo[n] = memoVersion(n-1) + memoVersion(n-2)\n",
    "    return memo[n]\n",
    "\n",
    "\n",
    "n = int(input())\n",
    "memo = [0 for i in range(n+1)]\n",
    "memoVersion(n)\n",
    "    \n",
    "    "
   ]
  },
  {
   "cell_type": "code",
   "execution_count": 23,
   "metadata": {},
   "outputs": [
    {
     "data": {
      "text/plain": [
       "8"
      ]
     },
     "execution_count": 23,
     "metadata": {},
     "output_type": "execute_result"
    }
   ],
   "source": [
    "# Iterative version of fibonacci series\n",
    "\n",
    "def iterFib(n):\n",
    "    if n < 0:\n",
    "        return \"Enter Valid Input\"\n",
    "    cache = [0 for i in range(n+1)]\n",
    "    cache[0] = 0\n",
    "    cache[1] = 1\n",
    "    for i in range(2, n+1):\n",
    "        cache[i] = cache[i-1] + cache[i-2]\n",
    "    return cache[n]\n",
    "iterFib(6)"
   ]
  },
  {
   "cell_type": "code",
   "execution_count": 28,
   "metadata": {},
   "outputs": [
    {
     "data": {
      "text/plain": [
       "176023680645013966468226945392411250770384383304492191886725992896575345044216019675"
      ]
     },
     "execution_count": 28,
     "metadata": {},
     "output_type": "execute_result"
    }
   ],
   "source": [
    "# Constant space version of fib \n",
    "def constSpaceFib(n):\n",
    "    a = 0\n",
    "    b = 1\n",
    "    for i in range(n):\n",
    "        c = a + b\n",
    "        a = b\n",
    "        b = c\n",
    "    return a\n",
    "constSpaceFib(400)"
   ]
  },
  {
   "cell_type": "code",
   "execution_count": null,
   "metadata": {},
   "outputs": [],
   "source": [
    "# Triple Step : A child is running (up a staircase with n steps and can hop either 1 step, 2 steps or 3 steps at a time.\n",
    "# Implement a method to count how many possible ways the child can run up the stairs.\n",
    "\n",
    "\"\"\"recurrence relation\n",
    "f(n) = f(n-1) + f(n-2) + f(n-3)\n",
    "\n",
    "Base Case:\n",
    "if n == 1:\n",
    "    return 1\n",
    "if n == 2:\n",
    "    return 2\n",
    "if n == 0:\n",
    "return 0\"\"\"\n"
   ]
  },
  {
   "cell_type": "code",
   "execution_count": null,
   "metadata": {},
   "outputs": [],
   "source": [
    "# Robot grid"
   ]
  },
  {
   "cell_type": "code",
   "execution_count": 35,
   "metadata": {},
   "outputs": [
    {
     "name": "stdout",
     "output_type": "stream",
     "text": [
      "7\n",
      "4\n"
     ]
    }
   ],
   "source": [
    "# Magic index \n",
    "def naiveMagicIndex(array):\n",
    "    for i in range(len(array)):\n",
    "        if i == array[i]:\n",
    "            return i\n",
    "    return -1\n",
    "\n",
    "# Using binary Search\n",
    "def optimizedMagicIndex(array, left, right):\n",
    "    if left > right:\n",
    "        return -1\n",
    "    mid = (left + right)//2\n",
    "    if mid == array[mid]:\n",
    "        return mid\n",
    "    elif mid > array[mid]:\n",
    "        return optimizedMagicIndex(array, mid + 1, right)\n",
    "    else:\n",
    "        return optimizedMagicIndex(array, left, mid - 1)\n",
    "    \n",
    "print(naiveMagicIndex([-40, -20, -1, 1, 2, 3, 5, 7, 9, 12, 13]))\n",
    "print(optimizedMagicIndex([-1, 0, 1, 2, 4, 10], 0, 5))"
   ]
  },
  {
   "cell_type": "code",
   "execution_count": 4,
   "metadata": {},
   "outputs": [
    {
     "data": {
      "text/plain": [
       "[[], [3], [2], [3, 2], [1], [3, 1], [2, 1], [3, 2, 1]]"
      ]
     },
     "execution_count": 4,
     "metadata": {},
     "output_type": "execute_result"
    }
   ],
   "source": [
    "# Power set : Write a method to print all subsets of a set\n",
    "def powerSet(array):\n",
    "    output = []\n",
    "    n = len(array)\n",
    "    def helper(array, n, i, output, temparray):\n",
    "        if i == n:\n",
    "            output.append(temparray)\n",
    "            return\n",
    "        helper(array, n, i+1, output, temparray)\n",
    "        temparray1 = [array[i]] + temparray\n",
    "        helper(array, n, i+1, output, temparray1)\n",
    "\n",
    "    helper(array, n, 0, output, [])\n",
    "    return output\n",
    "powerSet([1,2,3])"
   ]
  },
  {
   "cell_type": "code",
   "execution_count": 47,
   "metadata": {},
   "outputs": [
    {
     "name": "stdout",
     "output_type": "stream",
     "text": [
      "50\n"
     ]
    }
   ],
   "source": [
    "# Recursive multiplication\n",
    "def russianPeasantAlgo(a, b):\n",
    "    res = 0 \n",
    "    while b > 0:\n",
    "        if b & 1:\n",
    "            res += a\n",
    "        a = a << 1\n",
    "#             print(a)\n",
    "        b = b >> 1\n",
    "#             print(b)\n",
    "    return res\n",
    "print(russianPeasantAlgo(5, 10))\n",
    "            \n",
    "    "
   ]
  },
  {
   "cell_type": "code",
   "execution_count": 2,
   "metadata": {},
   "outputs": [
    {
     "name": "stdout",
     "output_type": "stream",
     "text": [
      "100\n"
     ]
    }
   ],
   "source": [
    "# Recursive implementation of russian peasants\n",
    "def recurRussianPeasants(a, b, res=0):\n",
    "    if b <= 0:\n",
    "        return res\n",
    "    if b&1:\n",
    "        return recurRussianPeasants(a<<1,b>>1, res+a)\n",
    "    else:\n",
    "        return recurRussianPeasants(a<<1, b>>1, res)\n",
    "print(recurRussianPeasants(5, 20, 0))"
   ]
  },
  {
   "cell_type": "code",
   "execution_count": 5,
   "metadata": {},
   "outputs": [
    {
     "data": {
      "text/plain": [
       "['((()))', '(()())', '(())()', '()(())', '()()()']"
      ]
     },
     "execution_count": 5,
     "metadata": {},
     "output_type": "execute_result"
    }
   ],
   "source": [
    "def paren(n):\n",
    "    openB = n\n",
    "    closeB = n\n",
    "    output = []\n",
    "    def helper(openB, closeB, output, tempString):\n",
    "        if openB == 0 and closeB == 0:\n",
    "            output.append(tempString) \n",
    "        if openB != 0:\n",
    "            tempString1 = tempString + \"(\"\n",
    "            helper(openB-1, closeB, output, tempString1)\n",
    "        if openB < closeB:\n",
    "            tempString1 = tempString + \")\"\n",
    "            helper(openB, closeB-1, output, tempString1)\n",
    "            \n",
    "    helper(openB, closeB, output, \"\")\n",
    "    return output\n",
    "paren(3)\n",
    "        "
   ]
  },
  {
   "cell_type": "code",
   "execution_count": 6,
   "metadata": {},
   "outputs": [
    {
     "data": {
      "text/plain": [
       "['abx', 'axb', 'bax', 'bxa', 'xab', 'xba']"
      ]
     },
     "execution_count": 6,
     "metadata": {},
     "output_type": "execute_result"
    }
   ],
   "source": [
    "def baz(a):\n",
    "    if len(a) < 1:\n",
    "        return [\"\"]\n",
    "    t = []\n",
    "    for i in range(len(a)):\n",
    "        for j in baz(a[:i] + a[i+1:]):\n",
    "            t.append(a[i] + j)\n",
    "    return t\n",
    "baz(\"abx\")"
   ]
  },
  {
   "cell_type": "code",
   "execution_count": 8,
   "metadata": {},
   "outputs": [
    {
     "data": {
      "text/plain": [
       "['AB', 'Ab', 'aB', 'ab']"
      ]
     },
     "execution_count": 8,
     "metadata": {},
     "output_type": "execute_result"
    }
   ],
   "source": [
    "# Permutation with case change \n",
    "def permutationWithCaseChange(string):\n",
    "    n = len(string)\n",
    "    output = []\n",
    "    def helper(string, n, i, temp, output):\n",
    "        if i == n:\n",
    "            output.append(temp)\n",
    "            return\n",
    "        temp1 = temp + string[i].upper()\n",
    "        helper(string, n, i+1, temp1, output)\n",
    "        temp2 = temp + string[i].lower()\n",
    "        helper(string, n, i+1, temp2, output)\n",
    "    helper(string, n, 0, \"\", output)\n",
    "    return output\n",
    "permutationWithCaseChange(\"ab\")\n",
    "        "
   ]
  },
  {
   "cell_type": "code",
   "execution_count": 28,
   "metadata": {},
   "outputs": [
    {
     "data": {
      "text/plain": [
       "['A1B2', 'A1b2', 'a1B2', 'a1b2']"
      ]
     },
     "execution_count": 28,
     "metadata": {},
     "output_type": "execute_result"
    }
   ],
   "source": [
    "# Permutation with case change \n",
    "def permutationWithLetterCase(string):\n",
    "    n = len(string)\n",
    "    output = []\n",
    "    def helper(string, n, i, temp, output):\n",
    "        if i == n:\n",
    "            output.append(temp)\n",
    "            return\n",
    "        if string[i].isnumeric():\n",
    "            temp3 = temp + string[i]\n",
    "            helper(string, n, i+1, temp3, output)\n",
    "        else:\n",
    "            temp1 = temp + string[i].upper()\n",
    "            helper(string, n, i+1, temp1, output)\n",
    "            temp2 = temp + string[i].lower()\n",
    "            helper(string, n, i+1, temp2, output)\n",
    "\n",
    "    helper(string, n, 0, \"\", output)\n",
    "    return output\n",
    "permutationWithLetterCase(\"a1b2\")\n",
    "        "
   ]
  },
  {
   "cell_type": "code",
   "execution_count": 4,
   "metadata": {},
   "outputs": [
    {
     "data": {
      "text/plain": [
       "['a b', 'ab ', 'abc']"
      ]
     },
     "execution_count": 4,
     "metadata": {},
     "output_type": "execute_result"
    }
   ],
   "source": [
    "# Permutation with case change \n",
    "def permutationWithSpaces(string):\n",
    "    n = len(string)\n",
    "    output = []\n",
    "    def helper(string, n, i, temp, output):\n",
    "        if i == n:\n",
    "            output.append(temp)\n",
    "            return\n",
    "        if temp[i-1] == \" \":\n",
    "            temp2 = temp + string[i-1]\n",
    "            helper(string, n, i+1, temp2, output)\n",
    "        else:\n",
    "            temp1 = temp + \" \"\n",
    "            helper(string, n, i+1, temp1, output)\n",
    "            temp2 = temp + string[i]\n",
    "            helper(string, n, i+1, temp2, output)\n",
    "\n",
    "\n",
    "    helper(string, n, 1, string[0], output)\n",
    "    return output\n",
    "permutationWithSpaces(\"abc\")\n",
    "        "
   ]
  },
  {
   "cell_type": "code",
   "execution_count": 22,
   "metadata": {},
   "outputs": [
    {
     "name": "stdout",
     "output_type": "stream",
     "text": [
      "3 1\n",
      "2 1\n",
      "2 1\n",
      "2 1\n",
      "2 1\n"
     ]
    },
    {
     "data": {
      "text/plain": [
       "111"
      ]
     },
     "execution_count": 22,
     "metadata": {},
     "output_type": "execute_result"
    }
   ],
   "source": [
    "def foo(m):\n",
    "    INF = 1000000\n",
    "    def bar(m, lx, ly, n):\n",
    "        if n == 1:\n",
    "            return m[lx][ly]\n",
    "        if n == 0:\n",
    "            return -INF\n",
    "        h = n//2\n",
    "        print(n,h)\n",
    "        ul = bar(m, lx, ly, n-h)\n",
    "        ur = bar(m, lx+h, ly, n-h)\n",
    "        bl = bar(m, lx, ly+h, n-h)\n",
    "        br = bar(m, lx+h, ly+h, n-h)\n",
    "        return max(ul, ur, bl, br)\n",
    "    return bar(m, 0, 0, len(m))\n",
    "m = [[111,5,13],\n",
    "    [4,5,12],\n",
    "    [7,8,10]]\n",
    "foo(m)"
   ]
  },
  {
   "cell_type": "code",
   "execution_count": 27,
   "metadata": {},
   "outputs": [
    {
     "data": {
      "text/plain": [
       "[None, None, None, None, None]"
      ]
     },
     "execution_count": 27,
     "metadata": {},
     "output_type": "execute_result"
    }
   ],
   "source": [
    "a = [None]*5\n",
    "a"
   ]
  },
  {
   "cell_type": "code",
   "execution_count": 50,
   "metadata": {},
   "outputs": [
    {
     "data": {
      "text/plain": [
       "'AE'"
      ]
     },
     "execution_count": 50,
     "metadata": {},
     "output_type": "execute_result"
    }
   ],
   "source": [
    "def func1(string):\n",
    "    n = len(string)\n",
    "    new_array = []\n",
    "    for i in string:\n",
    "        new_array.append(i)\n",
    "    for i in range(n-1, 1, -1):\n",
    "        new_array[i], new_array[i-1] = new_array[i-1], new_array[i]\n",
    "    return \"\".join(new_array)\n",
    "func1(\"AE\")"
   ]
  },
  {
   "cell_type": "code",
   "execution_count": 52,
   "metadata": {},
   "outputs": [
    {
     "data": {
      "text/plain": [
       "'ae'"
      ]
     },
     "execution_count": 52,
     "metadata": {},
     "output_type": "execute_result"
    }
   ],
   "source": [
    "def func2(string):\n",
    "    n = len(string)\n",
    "    new_array = []\n",
    "    for i in string:\n",
    "        new_array.append(i)\n",
    "        \n",
    "    for i in range(n-2):\n",
    "        new_array[i], new_array[i+1] = new_array[i+1], new_array[i]\n",
    "    return \"\".join(new_array)\n",
    "func2(\"ae\")"
   ]
  },
  {
   "cell_type": "code",
   "execution_count": null,
   "metadata": {},
   "outputs": [],
   "source": [
    "def consecutiveFunc2(string):\n",
    "    count = 0 \n",
    "    reverse_str = string[::-1]\n",
    "    while True:\n",
    "        string = func2(string)\n",
    "        count += 1\n",
    "        if string == reverse_str:\n",
    "            break\n",
    "    return len(reverse_str), count\n",
    "print(consecutiveFunc2(\"ABCDE\"))\n",
    "# print(consecutiveFunc2(\"ABSDVSDVSERBSERB\"))\n",
    "# print(consecutiveFunc2(\"kavbiaeuvaiernvoienvinvsv\"))\n",
    "# print(consecutiveFunc2(\"iagvineaviubowaengvjans\"))\n",
    "# print(consecutiveFunc2(\"aivkneavinaheirghoirnvuiarvbjaenrvknaeurbnkejbvuisebr\"))"
   ]
  },
  {
   "cell_type": "code",
   "execution_count": null,
   "metadata": {},
   "outputs": [],
   "source": []
  },
  {
   "cell_type": "code",
   "execution_count": 41,
   "metadata": {},
   "outputs": [
    {
     "name": "stdout",
     "output_type": "stream",
     "text": [
      "3\n",
      "3\n",
      "3\n",
      "3\n",
      "3\n"
     ]
    }
   ],
   "source": [
    "def callConsecutively(string):\n",
    "    count = 0\n",
    "    original_str = string\n",
    "    while True:\n",
    "        string = (func1(string))\n",
    "#         print(string)\n",
    "        string = func2(string)\n",
    "#         print(string)\n",
    "        count += 1\n",
    "        if string == original_str:\n",
    "            break\n",
    "    return count\n",
    "print(callConsecutively(\"ABCDE\"))\n",
    "print(callConsecutively(\"DFVSDFBSFDBSD\"))\n",
    "print(callConsecutively(\"DSVAERGERB SDVAVERVERV\"))\n",
    "print(callConsecutively(\"VERBJEORJAVMERVNEAROV\"))\n",
    "print(callConsecutively(\"ARBJERBNJERBJ#@@FR@F@F@\"))\n",
    "        "
   ]
  },
  {
   "cell_type": "code",
   "execution_count": null,
   "metadata": {},
   "outputs": [],
   "source": [
    "def reverse(string):\n",
    "    "
   ]
  },
  {
   "cell_type": "code",
   "execution_count": null,
   "metadata": {},
   "outputs": [],
   "source": [
    "# Recursion "
   ]
  },
  {
   "cell_type": "code",
   "execution_count": 2,
   "metadata": {},
   "outputs": [
    {
     "data": {
      "text/plain": [
       "720"
      ]
     },
     "execution_count": 2,
     "metadata": {},
     "output_type": "execute_result"
    }
   ],
   "source": [
    "def factorial(n):\n",
    "    if n == 1:\n",
    "        return 1\n",
    "    return n*factorial(n-1)\n",
    "factorial(6)"
   ]
  },
  {
   "cell_type": "code",
   "execution_count": 5,
   "metadata": {},
   "outputs": [
    {
     "data": {
      "text/plain": [
       "5"
      ]
     },
     "execution_count": 5,
     "metadata": {},
     "output_type": "execute_result"
    }
   ],
   "source": [
    "def fib(n):\n",
    "    if n <= 1:\n",
    "        return n\n",
    "    f1 = fib(n-1)\n",
    "    f2 = fib(n-2)\n",
    "    return f1 + f2 \n",
    "\n",
    "fib(5)"
   ]
  },
  {
   "cell_type": "code",
   "execution_count": 7,
   "metadata": {},
   "outputs": [
    {
     "data": {
      "text/plain": [
       "False"
      ]
     },
     "execution_count": 7,
     "metadata": {},
     "output_type": "execute_result"
    }
   ],
   "source": [
    "# check is an array is sorted\n",
    "def isSorted(array):\n",
    "    if len(array) <= 1:\n",
    "        return True\n",
    "    if array[0] > array[1]:\n",
    "        return False\n",
    "    else:\n",
    "        return isSorted(array[1:])\n",
    "    \n",
    "isSorted([1,2,3,4,5,1])"
   ]
  },
  {
   "cell_type": "code",
   "execution_count": 9,
   "metadata": {},
   "outputs": [
    {
     "name": "stdout",
     "output_type": "stream",
     "text": [
      "1\n",
      "2\n",
      "3\n",
      "4\n",
      "5\n"
     ]
    }
   ],
   "source": [
    "# print numbers 1 to n , in an increasing and decreasing manner\n",
    "def incManner(n):\n",
    "    if n == 0:\n",
    "        return 0\n",
    "    incManner(n-1)\n",
    "    print(n)\n",
    "    \n",
    "incManner(5)"
   ]
  },
  {
   "cell_type": "code",
   "execution_count": 10,
   "metadata": {},
   "outputs": [
    {
     "name": "stdout",
     "output_type": "stream",
     "text": [
      "5\n",
      "4\n",
      "3\n",
      "2\n",
      "1\n"
     ]
    }
   ],
   "source": [
    "def decManner(n):\n",
    "    if n == 0:\n",
    "        return 0\n",
    "    print(n)\n",
    "    decManner(n-1)\n",
    "decManner(5)"
   ]
  },
  {
   "cell_type": "code",
   "execution_count": 13,
   "metadata": {},
   "outputs": [
    {
     "data": {
      "text/plain": [
       "243"
      ]
     },
     "execution_count": 13,
     "metadata": {},
     "output_type": "execute_result"
    }
   ],
   "source": [
    "# power function slower\n",
    "def power(n, x):\n",
    "    if x == 0:\n",
    "        return 1\n",
    "    return n*power(n, x-1)\n",
    "power(3, 5)"
   ]
  },
  {
   "cell_type": "code",
   "execution_count": 14,
   "metadata": {},
   "outputs": [
    {
     "data": {
      "text/plain": [
       "243"
      ]
     },
     "execution_count": 14,
     "metadata": {},
     "output_type": "execute_result"
    }
   ],
   "source": [
    "# power function fast\n",
    "def powerFast(n, x):\n",
    "    if x <= 1:\n",
    "        return 1\n",
    "    \n",
    "    if x%2 == 0:\n",
    "        return powerFast(n, x//2)*powerFast(n, x//2)\n",
    "    else:\n",
    "        return n*powerFast(n, x//2)*powerFast(n, x//2)\n",
    "    \n",
    "power(3, 5)"
   ]
  },
  {
   "cell_type": "code",
   "execution_count": 18,
   "metadata": {},
   "outputs": [
    {
     "name": "stdin",
     "output_type": "stream",
     "text": [
      " 9\n"
     ]
    },
    {
     "name": "stdout",
     "output_type": "stream",
     "text": [
      "1\n"
     ]
    }
   ],
   "source": [
    "# to check if a number is odd or not\n",
    "n = int(input())\n",
    "print(n&1)"
   ]
  },
  {
   "cell_type": "code",
   "execution_count": 19,
   "metadata": {},
   "outputs": [
    {
     "data": {
      "text/plain": [
       "4"
      ]
     },
     "execution_count": 19,
     "metadata": {},
     "output_type": "execute_result"
    }
   ],
   "source": [
    "# tiling problem \n",
    "def tilingProblem(n):\n",
    "    if n <= 3:\n",
    "        return 1\n",
    "    return tilingProblem(n-1) + tilingProblem(n-4)\n",
    "tilingProblem(6)"
   ]
  },
  {
   "cell_type": "code",
   "execution_count": 27,
   "metadata": {},
   "outputs": [
    {
     "data": {
      "text/plain": [
       "['101', '100', '010', '001', '000']"
      ]
     },
     "execution_count": 27,
     "metadata": {},
     "output_type": "execute_result"
    }
   ],
   "source": [
    "def binaryStrings(n):\n",
    "    output = []\n",
    "    tempString = \"\"\n",
    "    def helper(n, output, tempString):\n",
    "        if len(tempString) == n:\n",
    "            output.append(tempString)\n",
    "            return\n",
    "        \n",
    "        if len(tempString) != 0 and tempString[-1] == \"1\":\n",
    "            tempString1 = tempString +  \"0\"\n",
    "            helper(n, output, tempString1)\n",
    "        else:\n",
    "            tempString2 = tempString + '1'\n",
    "            helper(n, output, tempString2)\n",
    "            tempString3 = tempString + \"0\"\n",
    "            helper(n, output, tempString3)\n",
    "        return output\n",
    "    return helper(n, output, tempString)\n",
    "\n",
    "binaryStrings(3)\n",
    "    "
   ]
  },
  {
   "cell_type": "code",
   "execution_count": 31,
   "metadata": {},
   "outputs": [
    {
     "data": {
      "text/plain": [
       "['', 'a', 'b', 'ab', 'c', 'ac', 'bc', 'abc']"
      ]
     },
     "execution_count": 31,
     "metadata": {},
     "output_type": "execute_result"
    }
   ],
   "source": [
    "def subset(string):\n",
    "    output = []\n",
    "    tempString = \"\"\n",
    "    n = len(string)\n",
    "    def helper(string, n, output, tempString):\n",
    "        if n == -1:\n",
    "            output.append(tempString)\n",
    "            return\n",
    "        helper(string, n-1, output, tempString)\n",
    "        tempString1 = string[n] + tempString\n",
    "        helper(string, n-1, output, tempString1)\n",
    "        \n",
    "        return output\n",
    "    return helper(string, n-1, output, tempString)\n",
    "subset(\"abc\")\n",
    "        "
   ]
  },
  {
   "cell_type": "code",
   "execution_count": 15,
   "metadata": {},
   "outputs": [
    {
     "name": "stdin",
     "output_type": "stream",
     "text": [
      " 4\n"
     ]
    },
    {
     "name": "stdout",
     "output_type": "stream",
     "text": [
      "0 1 0 0 \n",
      "0 0 0 1 \n",
      "1 0 0 0 \n",
      "0 0 1 0 \n",
      "\n",
      "0 0 1 0 \n",
      "1 0 0 0 \n",
      "0 0 0 1 \n",
      "0 1 0 0 \n",
      "\n"
     ]
    },
    {
     "data": {
      "text/plain": [
       "False"
      ]
     },
     "execution_count": 15,
     "metadata": {},
     "output_type": "execute_result"
    }
   ],
   "source": [
    "def printBoard(board, n):\n",
    "    for i in range(n):\n",
    "        for j in range(n):\n",
    "            print(board[i][j], end=\" \")\n",
    "        print()\n",
    "    return\n",
    "\n",
    "def canPlace(board, n, x, y):\n",
    "#     columns\n",
    "    for k in range(x):\n",
    "        if board[k][y] == 1:\n",
    "            return False\n",
    "    \n",
    "#     for diagonals\n",
    "    i = x\n",
    "    j = y\n",
    "    while i >= 0 and j >= 0:\n",
    "        if board[i][j] == 1:\n",
    "            return False\n",
    "        i -= 1\n",
    "        j -= 1\n",
    "        \n",
    "    i = x\n",
    "    j = y\n",
    "    while i >= 0 and j < n:\n",
    "        if board[i][j] == 1:\n",
    "            return False\n",
    "        i -= 1\n",
    "        j += 1\n",
    "    return True\n",
    "        \n",
    "def solveQueen(n, board, i):\n",
    "#     base case\n",
    "    if i == n:\n",
    "#         print the board\n",
    "        printBoard(board, n)\n",
    "        print()\n",
    "        return\n",
    "#     Recursive case\n",
    "#     try to place a queen in every row\n",
    "    for j in range(n):\n",
    "#         check whether the current position is safe or not\n",
    "        if canPlace(board, n, i, j):\n",
    "            board[i][j] = 1\n",
    "            success = solveQueen(n, board, i+1)\n",
    "            if success:\n",
    "                return True\n",
    "#         backtrack\n",
    "\n",
    "        board[i][j] = 0\n",
    "    return False\n",
    "        \n",
    "\n",
    "\n",
    "n = int(input())\n",
    "board = [[0 for i in range(n)] for j in range(n)]\n",
    "solveQueen(n, board, 0)"
   ]
  },
  {
   "cell_type": "code",
   "execution_count": 19,
   "metadata": {},
   "outputs": [
    {
     "name": "stdin",
     "output_type": "stream",
     "text": [
      " 8\n"
     ]
    },
    {
     "data": {
      "text/plain": [
       "92"
      ]
     },
     "execution_count": 19,
     "metadata": {},
     "output_type": "execute_result"
    }
   ],
   "source": [
    "def printBoard(board, n):\n",
    "    for i in range(n):\n",
    "        for j in range(n):\n",
    "            print(board[i][j], end=\" \")\n",
    "        print()\n",
    "    return\n",
    "\n",
    "def canPlace(board, n, x, y):\n",
    "#     columns\n",
    "    for k in range(x):\n",
    "        if board[k][y] == 1:\n",
    "            return False\n",
    "    \n",
    "#     for diagonals\n",
    "    i = x\n",
    "    j = y\n",
    "    while i >= 0 and j >= 0:\n",
    "        if board[i][j] == 1:\n",
    "            return False\n",
    "        i -= 1\n",
    "        j -= 1\n",
    "        \n",
    "    i = x\n",
    "    j = y\n",
    "    while i >= 0 and j < n:\n",
    "        if board[i][j] == 1:\n",
    "            return False\n",
    "        i -= 1\n",
    "        j += 1\n",
    "    return True\n",
    "        \n",
    "def solveQueenWays(n, board, i):\n",
    "#     base case\n",
    "    if i == n:\n",
    "#         print the board\n",
    "#         printBoard(board, n)\n",
    "#         print()\n",
    "        return 1\n",
    "#     Recursive case\n",
    "#     try to place a queen in every row\n",
    "    ways = 0\n",
    "    for j in range(n):\n",
    "#         check whether the current position is safe or not\n",
    "        if canPlace(board, n, i, j):\n",
    "            board[i][j] = 1\n",
    "            ways += solveQueenWays(n, board, i+1)\n",
    "#             if success:\n",
    "#                 return True\n",
    "#         backtrack\n",
    "\n",
    "        board[i][j] = 0\n",
    "    return ways\n",
    "        \n",
    "\n",
    "\n",
    "n = int(input())\n",
    "board = [[0 for i in range(n)] for j in range(n)]\n",
    "solveQueenWays(n, board, 0)"
   ]
  },
  {
   "cell_type": "code",
   "execution_count": 51,
   "metadata": {},
   "outputs": [
    {
     "name": "stdout",
     "output_type": "stream",
     "text": [
      "3 1 6 5 7 8 4 9 2 \n",
      "5 2 9 1 3 4 7 6 8 \n",
      "4 8 7 6 2 9 5 3 1 \n",
      "2 6 3 4 1 5 9 8 7 \n",
      "9 7 4 8 6 3 1 2 5 \n",
      "8 5 1 7 9 2 6 4 3 \n",
      "1 3 8 9 4 7 2 5 6 \n",
      "6 9 2 3 5 1 8 7 4 \n",
      "7 4 5 2 8 6 3 1 9 \n"
     ]
    },
    {
     "data": {
      "text/plain": [
       "True"
      ]
     },
     "execution_count": 51,
     "metadata": {},
     "output_type": "execute_result"
    }
   ],
   "source": [
    "def isSafe(matrix, i, j, num, n):\n",
    "#     check for row and col\n",
    "    for k in range(n):\n",
    "        if matrix[k][j] == num or matrix[i][k] == num:\n",
    "            return False\n",
    "#     check for subgrid\n",
    "#     x = i//3\n",
    "    x = i - i%3\n",
    "    y = j - j%3\n",
    "    for k in range(3):\n",
    "        for m in range(3):\n",
    "            if matrix[k + x][m + y] == num:\n",
    "                return False\n",
    "    return True\n",
    "    \n",
    "\n",
    "def sudokuSolver(matrix, i, j, n):\n",
    "#     base case\n",
    "    if i == n:\n",
    "        for k in range(n):\n",
    "            for m in range(n):\n",
    "                print(matrix[k][m], end = \" \")\n",
    "            print()\n",
    "        return True\n",
    "    \n",
    "#     rec case\n",
    "    if j == n:\n",
    "        return sudokuSolver(matrix, i+1, 0, n)\n",
    "        \n",
    "    if matrix[i][j] != 0:\n",
    "        return sudokuSolver(matrix, i, j+1, n)\n",
    "        \n",
    "    for num in range(1,10):\n",
    "        if isSafe(matrix, i, j, num, n):\n",
    "            matrix[i][j] = num\n",
    "            solveSubproblem = sudokuSolver(matrix, i, j+1, n)\n",
    "            if solveSubproblem:\n",
    "                return True\n",
    "        matrix[i][j] = 0\n",
    "    return False\n",
    "\n",
    "n = 9\n",
    "matrix = [[3, 0, 6, 5, 0, 8, 4, 0, 0],\n",
    "        [5, 2, 0, 0, 0, 0, 0, 0, 0],\n",
    "        [0, 8, 7, 0, 0, 0, 0, 3, 1],\n",
    "        [0, 0, 3, 0, 1, 0, 0, 8, 0],\n",
    "        [9, 0, 0, 8, 6, 3, 0, 0, 5],\n",
    "        [0, 5, 0, 0, 9, 0, 6, 0, 0],\n",
    "        [1, 3, 0, 0, 0, 0, 2, 5, 0],\n",
    "        [0, 0, 0, 0, 0, 0, 0, 7, 4],\n",
    "        [0, 0, 5, 2, 0, 6, 3, 0, 0]]\n",
    "sudokuSolver(matrix, 0, 0, n)\n",
    "# isSafe(matrix, 0,1,3,9)"
   ]
  },
  {
   "cell_type": "code",
   "execution_count": null,
   "metadata": {},
   "outputs": [],
   "source": [
    "matrix = [[5, 3, 0, 0, 7, 0, 0, 0, 0],\n",
    "          [6, 0, 0, 1, 9, 5, 0, 0, 0],\n",
    "          [0, 9, 8, 0, 0, 0, 0, 6, 0],\n",
    "          [8, 0, 0, 0, 6, 0, 0, 0, 3],\n",
    "          [4, 0, 0, 8, 0, 3, 0, 0, 1],\n",
    "          [7, 0, 0, 0, 2, 0, 0, 0, 6],\n",
    "          [0, 6, 0, 0, 0, 0, 2, 8, 0],\n",
    "          [0, 0, 0, 4, 1, 9, 0, 0, 5],\n",
    "          [0, 0, 0, 0, 8, 0, 0, 7, 9]]"
   ]
  },
  {
   "cell_type": "code",
   "execution_count": 7,
   "metadata": {},
   "outputs": [
    {
     "data": {
      "text/plain": [
       "[(1, 2, 3, 5, 9),\n",
       " (1, 2, 3, 6, 8),\n",
       " (1, 2, 4, 5, 8),\n",
       " (1, 2, 4, 6, 7),\n",
       " (1, 3, 4, 5, 7),\n",
       " (2, 3, 4, 5, 6)]"
      ]
     },
     "execution_count": 7,
     "metadata": {},
     "output_type": "execute_result"
    }
   ],
   "source": [
    "# combination sum using bfs\n",
    "from itertools import combinations\n",
    "\n",
    "def combinationSumInbuilt(k):\n",
    "    return [x for x in combinations(range(1,10), k) if sum(x) == 20]\n",
    "\n",
    "combinationSumInbuilt(5)\n",
    "    "
   ]
  },
  {
   "cell_type": "code",
   "execution_count": null,
   "metadata": {},
   "outputs": [],
   "source": [
    "# combination sum using dfs\n",
    "def combinationSumDfs(reqSum):\n",
    "    ans = []\n",
    "    def dfs(curLis, curSum, i):\n",
    "        if curSum > reqSum or len(curLis) > k:\n",
    "            return \n",
    "        if curSum == n or len(curLis) == k:\n",
    "            ans.append(curSum)\n",
    "        for x in range(i, 10):\n",
    "            \n",
    "        "
   ]
  },
  {
   "cell_type": "code",
   "execution_count": 8,
   "metadata": {},
   "outputs": [
    {
     "name": "stdout",
     "output_type": "stream",
     "text": [
      "[1, 2, 3, 5]\n"
     ]
    }
   ],
   "source": [
    "a = [ 1,2,3,4]\n",
    "b = a\n",
    "a[3] = 5\n",
    "print(b)\n",
    "# shallow copy"
   ]
  },
  {
   "cell_type": "code",
   "execution_count": null,
   "metadata": {},
   "outputs": [],
   "source": []
  }
 ],
 "metadata": {
  "kernelspec": {
   "display_name": "Python 3",
   "language": "python",
   "name": "python3"
  },
  "language_info": {
   "codemirror_mode": {
    "name": "ipython",
    "version": 3
   },
   "file_extension": ".py",
   "mimetype": "text/x-python",
   "name": "python",
   "nbconvert_exporter": "python",
   "pygments_lexer": "ipython3",
   "version": "3.8.3"
  }
 },
 "nbformat": 4,
 "nbformat_minor": 4
}
