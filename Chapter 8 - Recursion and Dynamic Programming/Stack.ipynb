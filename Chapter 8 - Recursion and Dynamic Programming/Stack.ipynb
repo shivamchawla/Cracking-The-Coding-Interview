{
 "cells": [
  {
   "cell_type": "markdown",
   "metadata": {},
   "source": [
    "##### Three in one: Describe how you could use a single array to implement three stacks.\n",
    "\n",
    "\"\"\"Intuition:\n",
    "let's say we want to make a stack of size k,\n",
    "then take an array of k*3 initialize all value with -1\n",
    "k = 3, n = 9\n",
    "array = [-1, -1, -1, -1, -1, -1, -1, -1, -1]\n",
    "for pushing in stack one = check if it it will overflow\n",
    "by if array[3-1] == -1 means can push else not\n",
    "\n",
    "for pushing in stack 2 = check if it it will overflow\n",
    "by if array[6-1] == -1 means can push into second else cannot\n",
    "\n",
    "same for pushing in stack 3 = generalizing check for index (stackNumber * k - 1)\n",
    "\n",
    "for poping , check for stackNumber * k - k\n",
    "example , \n",
    "for stack 1 if (1*3 - 3) = 0th element is -1 that means stack 1 is empty and cannot pop\n",
    "now comes the problem, how do we keep account of the index of the last element pushed, we can set three pointer for each array ?\n",
    "but what if we want to implement k stacks,this is not the ques :p \n",
    "\n",
    "if we ll have pointer(can tell us size as well) then top() will be a cake wake and isEmpty too \n",
    "\"\"\""
   ]
  },
  {
   "cell_type": "code",
   "execution_count": null,
   "metadata": {},
   "outputs": [],
   "source": [
    "# Implementing two stacks using an array\n",
    "# Method1 = Fixed division\n",
    "# Method2 = Space efficient\n",
    "\n"
   ]
  },
  {
   "cell_type": "code",
   "execution_count": 6,
   "metadata": {},
   "outputs": [
    {
     "name": "stdout",
     "output_type": "stream",
     "text": [
      "True\n",
      "True\n",
      "False\n",
      "False\n"
     ]
    }
   ],
   "source": [
    "def good_pops(seq):\n",
    "    n = len(seq)\n",
    "    stack = []\n",
    "    j = 0\n",
    "    for i in range(n):\n",
    "        stack.append(i)\n",
    "        while len(stack) > 0 and stack[-1] == seq[j]:\n",
    "            stack.pop()\n",
    "            j += 1\n",
    "    return len(stack) == 0\n",
    "print(good_pops([0,2,1,3,7,6,5,8,4,9]))\n",
    "print(good_pops([5,4,3,2,1,0,6,7,8,9]))\n",
    "print(good_pops([1, 4, 7, 9, 8, 6, 5, 3, 0, 2]))\n",
    "print(good_pops([1,3,0,2,4,7,6,5,8,9]))"
   ]
  },
  {
   "cell_type": "code",
   "execution_count": null,
   "metadata": {},
   "outputs": [],
   "source": []
  }
 ],
 "metadata": {
  "kernelspec": {
   "display_name": "Python 3",
   "language": "python",
   "name": "python3"
  },
  "language_info": {
   "codemirror_mode": {
    "name": "ipython",
    "version": 3
   },
   "file_extension": ".py",
   "mimetype": "text/x-python",
   "name": "python",
   "nbconvert_exporter": "python",
   "pygments_lexer": "ipython3",
   "version": "3.8.3"
  }
 },
 "nbformat": 4,
 "nbformat_minor": 4
}
