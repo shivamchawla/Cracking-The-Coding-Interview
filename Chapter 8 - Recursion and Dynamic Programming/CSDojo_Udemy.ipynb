{
 "cells": [
  {
   "cell_type": "code",
   "execution_count": 1,
   "metadata": {},
   "outputs": [
    {
     "data": {
      "text/plain": [
       "(3, 1)"
      ]
     },
     "execution_count": 1,
     "metadata": {},
     "output_type": "execute_result"
    }
   ],
   "source": [
    "# Given an array, return the most occurence item\n",
    "# i/p = [1,3,1,3,2,1]\n",
    "# o/p = 1\n",
    "def mostFreq(array):\n",
    "    max_count = 0\n",
    "    max_num = -1\n",
    "    count_num = {}\n",
    "    for i in array:\n",
    "        if i in count_num:\n",
    "            count_num[i] += 1\n",
    "            if count_num[i] > max_count:\n",
    "                max_count = count_num[i]\n",
    "                max_num = i\n",
    "        else:\n",
    "            count_num[i] = 1\n",
    "    return max_count, max_num\n",
    "\n",
    "# Time Complexity = O(n)\n",
    "# Space Complexity = O(n)\n",
    "\n",
    "mostFreq([1, 3, 1, 3, 2, 1])"
   ]
  },
  {
   "cell_type": "code",
   "execution_count": 3,
   "metadata": {},
   "outputs": [
    {
     "data": {
      "text/plain": [
       "[1, 4, 9]"
      ]
     },
     "execution_count": 3,
     "metadata": {},
     "output_type": "execute_result"
    }
   ],
   "source": [
    "# Common elements in two sorted array\n",
    "# i/p : A = [1, 3, 4, 6, 7, 9] , B = [1, 2, 4, 5, , 9, 10]\n",
    "# o/p : common_elements = [1, 4, 9]\n",
    "\n",
    "# Method one is to use set\n",
    "\n",
    "# Method two is to use the fact that the array is sorted, hence we can use two pointers\n",
    "\n",
    "def optimizedCommonElements(array1, array2):\n",
    "    p1 = 0 \n",
    "    p2 = 0\n",
    "    output = []\n",
    "    while p1 < len(array1) and p2 < len(array2):\n",
    "        if array1[p1] == array2[p2]:\n",
    "            output.append(array1[p1])\n",
    "            p1 += 1\n",
    "            p2 += 1\n",
    "        elif array1[p1] > array2[p2]:\n",
    "            p2 += 1\n",
    "        else:\n",
    "            p1 += 1\n",
    "    return output\n",
    "\n",
    "# Both method take O(n) time complexity but second is space efficient.\n",
    "\n",
    "optimizedCommonElements([1, 3, 4, 6, 7, 9], [1, 2, 4, 5, 9, 10])"
   ]
  },
  {
   "cell_type": "code",
   "execution_count": 15,
   "metadata": {},
   "outputs": [
    {
     "data": {
      "text/plain": [
       "True"
      ]
     },
     "execution_count": 15,
     "metadata": {},
     "output_type": "execute_result"
    }
   ],
   "source": [
    "# One edit away = single operation on any string and turn it into another one.\n",
    "\n",
    "# Three operations are allowed - 1. Change, 2. Delete as in abcde and abde,  3. add as in xyz and xyaz\n",
    "\n",
    "# i/p = \n",
    "def one_edit_away_equal(string1, string2):\n",
    "    count_diff = 0\n",
    "    i = 0 \n",
    "    n = len(string1)\n",
    "    while i < n:\n",
    "        if string1[i] != string2[i]:\n",
    "            count_diff += 1\n",
    "        i += 1\n",
    "        if count_diff > 1:\n",
    "            return False\n",
    "    return True\n",
    "\n",
    "def one_edit_away_diff_len(string1, string2):\n",
    "#     assuming that string one has bigger length\n",
    "    count_diff = 0\n",
    "    i = 0\n",
    "    while i < len(string2):\n",
    "        if string1[count_diff + i] == string2[i]:\n",
    "            i += 1\n",
    "        else:\n",
    "            count_diff += 1\n",
    "            if count_diff > 1:\n",
    "                return False\n",
    "    return True\n",
    "\n",
    "def one_edit_away(string1, string2):\n",
    "    n = len(string1)\n",
    "    m = len(string2)\n",
    "    if n - m >= 2 or m - n >= 2:\n",
    "        return False\n",
    "    \n",
    "    elif n == m :\n",
    "        return one_edit_away_equal(string1, string2)\n",
    "    \n",
    "    elif n > m:\n",
    "        return one_edit_away_diff_len(string1, string2)\n",
    "    else:\n",
    "        return one_edit_away_diff_len(string2, string1)\n",
    "string1 = \"\"\n",
    "string2 = \"\"\n",
    "one_edit_away(string1, string2)"
   ]
  },
  {
   "cell_type": "code",
   "execution_count": 18,
   "metadata": {},
   "outputs": [],
   "source": [
    "# Non repeating character \n"
   ]
  },
  {
   "cell_type": "code",
   "execution_count": 25,
   "metadata": {},
   "outputs": [
    {
     "data": {
      "text/plain": [
       "True"
      ]
     },
     "execution_count": 25,
     "metadata": {},
     "output_type": "execute_result"
    }
   ],
   "source": [
    "# Is array1 rotation of array2 ?\n",
    "def isRotated(array1, array2):\n",
    "    n = len(array1)\n",
    "    m = len(array2)\n",
    "    if n != m:\n",
    "        return False\n",
    "    key = array1[0]\n",
    "    key_i = -1\n",
    "    for i in range(m):\n",
    "        if array2[i] == key:\n",
    "            key_i = i\n",
    "            break\n",
    "               \n",
    "    if key_i == -1:\n",
    "        return False\n",
    "    \n",
    "    for i in range(n):\n",
    "        j = (key_i+i)%n\n",
    "        if array1[i] != array2[j]:\n",
    "            return False\n",
    "    return True\n",
    "\n",
    "isRotated([1,2,3,4,5,6,7], [4,5,6,7,1,2,3])"
   ]
  },
  {
   "cell_type": "code",
   "execution_count": null,
   "metadata": {},
   "outputs": [],
   "source": [
    "# bombs has \n",
    "def mine_sweeper(bombs, num_rows, num_cols):\n",
    "    "
   ]
  },
  {
   "cell_type": "code",
   "execution_count": 30,
   "metadata": {},
   "outputs": [
    {
     "name": "stdout",
     "output_type": "stream",
     "text": [
      "[[0, 0, 0], [0, 0, 0], [0, 0, 0]]\n"
     ]
    },
    {
     "data": {
      "text/plain": [
       "[[7, 4, 1], [8, 5, 2], [9, 6, 3]]"
      ]
     },
     "execution_count": 30,
     "metadata": {},
     "output_type": "execute_result"
    }
   ],
   "source": [
    "# Rotate an array - outplace\n",
    "\n",
    "def rotate_sub(i, j, n):\n",
    "    return j, n - i - 1\n",
    "\n",
    "def rotate(matrix, n):\n",
    "    rotated = [[0 for i in range(n)] for i in range(n)]\n",
    "    print(rotated)\n",
    "    for i in range(n):\n",
    "        for j in range(n):\n",
    "            new_i, new_j = rotate_sub(i,j,n)\n",
    "            rotated[new_i][new_j] = matrix[i][j]\n",
    "            \n",
    "    return rotated\n",
    "matrix = [[1,2,3],\n",
    "         [4,5,6],\n",
    "         [7,8,9]]\n",
    "rotate(matrix, 3)"
   ]
  },
  {
   "cell_type": "code",
   "execution_count": null,
   "metadata": {},
   "outputs": [],
   "source": [
    "# Rotate an array - inplace\n",
    "\n",
    "def rotateInplace(matrix):    \n",
    "    return matrix"
   ]
  }
 ],
 "metadata": {
  "kernelspec": {
   "display_name": "Python 3",
   "language": "python",
   "name": "python3"
  },
  "language_info": {
   "codemirror_mode": {
    "name": "ipython",
    "version": 3
   },
   "file_extension": ".py",
   "mimetype": "text/x-python",
   "name": "python",
   "nbconvert_exporter": "python",
   "pygments_lexer": "ipython3",
   "version": "3.8.3"
  }
 },
 "nbformat": 4,
 "nbformat_minor": 4
}
