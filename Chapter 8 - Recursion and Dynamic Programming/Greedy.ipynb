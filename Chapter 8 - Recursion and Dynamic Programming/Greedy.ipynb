{
 "cells": [
  {
   "cell_type": "code",
   "execution_count": 8,
   "metadata": {},
   "outputs": [
    {
     "name": "stdout",
     "output_type": "stream",
     "text": [
      "2\n",
      "1\n"
     ]
    },
    {
     "data": {
      "text/plain": [
       "2"
      ]
     },
     "execution_count": 8,
     "metadata": {},
     "output_type": "execute_result"
    }
   ],
   "source": [
    "# Money Change\n",
    "\n",
    "\"\"\"\n",
    "Task: The goal in this problem is to find the minimum number of coins needed to change the input value\n",
    "(an integer) into coins with denominations 1, 5, and 10.\n",
    "\n",
    "Input Format: The input consists of a single integer 𝑚.\n",
    "\n",
    "Constraints: 1 ≤ 𝑚 ≤ 103.\n",
    "\n",
    "Output Format: Output the minimum number of coins with denominations 1, 5, 10 that changes 𝑚.\"\"\"\n",
    "\n",
    "def coinChange(array, m):\n",
    "    n = len(array)-1\n",
    "    count = 0\n",
    "    while n >= 0:\n",
    "        while m >= array[n]:\n",
    "            count += 1\n",
    "            print(m)\n",
    "            m -= array[n]\n",
    "        n -= 1\n",
    "    return count\n",
    "\n",
    "coinChange([1,5,10], 2)"
   ]
  },
  {
   "cell_type": "code",
   "execution_count": null,
   "metadata": {},
   "outputs": [],
   "source": []
  }
 ],
 "metadata": {
  "kernelspec": {
   "display_name": "Python 3",
   "language": "python",
   "name": "python3"
  },
  "language_info": {
   "codemirror_mode": {
    "name": "ipython",
    "version": 3
   },
   "file_extension": ".py",
   "mimetype": "text/x-python",
   "name": "python",
   "nbconvert_exporter": "python",
   "pygments_lexer": "ipython3",
   "version": "3.8.3"
  }
 },
 "nbformat": 4,
 "nbformat_minor": 4
}
