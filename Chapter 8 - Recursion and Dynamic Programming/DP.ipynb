{
 "cells": [
  {
   "cell_type": "markdown",
   "metadata": {},
   "source": [
    "Dynamic Programming"
   ]
  },
  {
   "cell_type": "code",
   "execution_count": 3,
   "metadata": {},
   "outputs": [
    {
     "data": {
      "text/plain": [
       "0"
      ]
     },
     "execution_count": 3,
     "metadata": {},
     "output_type": "execute_result"
    }
   ],
   "source": [
    "# Coin Change\n",
    "def coinChange(coins, amount):\n",
    "    dp = [amount + 1]*(amount + 1)\n",
    "    dp[0] = 0\n",
    "    \n",
    "    for a in range(1, amount+1):\n",
    "        \n",
    "        for c in coins:\n",
    "            if (a-c) >= 0:\n",
    "                dp[a] = min(dp[a], 1 + dp[a-c])\n",
    "    return dp[amount] if dp[amount] != (amount + 1) else -1\n",
    "\n",
    "coinChange([1], 0)\n",
    "        "
   ]
  },
  {
   "cell_type": "code",
   "execution_count": 5,
   "metadata": {},
   "outputs": [
    {
     "data": {
      "text/plain": [
       "3"
      ]
     },
     "execution_count": 5,
     "metadata": {},
     "output_type": "execute_result"
    }
   ],
   "source": [
    "# Count of subset sum\n",
    "\n",
    "def countOfSubsetSum(nums, req_sum):\n",
    "    n = len(nums)\n",
    "    dp = [[0 for i in range(req_sum+1)] for i in range(n+1)]\n",
    "    for i in range(n+1):\n",
    "        dp[i][0] = 1\n",
    "    \n",
    "    for i in range(1, n+1):\n",
    "        for j in range(req_sum + 1):\n",
    "            if nums[i-1] <= j:\n",
    "                dp[i][j] = dp[i-1][j] + dp[i-1][j-nums[i-1]]\n",
    "            else:\n",
    "                dp[i][j] = dp[i-1][j]\n",
    "    return dp[n][req_sum]\n",
    "\n",
    "countOfSubsetSum([1, 2, 3, 3], 6)\n",
    "    \n",
    "    "
   ]
  },
  {
   "cell_type": "code",
   "execution_count": 12,
   "metadata": {},
   "outputs": [
    {
     "data": {
      "text/plain": [
       "3"
      ]
     },
     "execution_count": 12,
     "metadata": {},
     "output_type": "execute_result"
    }
   ],
   "source": [
    "# LCS\n",
    "def lcs(string1, string2):\n",
    "    m, n = len(string1), len(string2)\n",
    "    \n",
    "    t = [[0 for i in range(n+1)] for j in range(m+1)]\n",
    "    \n",
    "    for i in range(1, m+1):\n",
    "        for j in range(1, n+1):\n",
    "            if string1[i-1] == string2[j-1]:\n",
    "                t[i][j] = 1 + t[i-1][j-1]\n",
    "            else:\n",
    "                t[i][j] = max(t[i][j-1], t[i-1][j])\n",
    "    return t[m][n]\n",
    "lcs(\"ABCDGH\", \"AEDFHR\")"
   ]
  },
  {
   "cell_type": "code",
   "execution_count": null,
   "metadata": {},
   "outputs": [],
   "source": [
    "# Length of LIS\n",
    "def lengthOfLIS(nums):\n",
    "    \n",
    "    dp = [1]*(len(nums))\n",
    "    \n",
    "    for i in range(len(nums) - 1, -1, -1):\n",
    "        "
   ]
  },
  {
   "cell_type": "code",
   "execution_count": null,
   "metadata": {},
   "outputs": [],
   "source": []
  }
 ],
 "metadata": {
  "kernelspec": {
   "display_name": "Python 3",
   "language": "python",
   "name": "python3"
  },
  "language_info": {
   "codemirror_mode": {
    "name": "ipython",
    "version": 3
   },
   "file_extension": ".py",
   "mimetype": "text/x-python",
   "name": "python",
   "nbconvert_exporter": "python",
   "pygments_lexer": "ipython3",
   "version": "3.8.3"
  }
 },
 "nbformat": 4,
 "nbformat_minor": 4
}
