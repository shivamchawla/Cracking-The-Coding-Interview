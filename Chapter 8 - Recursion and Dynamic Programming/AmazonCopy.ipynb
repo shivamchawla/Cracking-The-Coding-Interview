{
 "cells": [
  {
   "cell_type": "code",
   "execution_count": null,
   "metadata": {},
   "outputs": [],
   "source": [
    "# OOPs Concept"
   ]
  },
  {
   "cell_type": "code",
   "execution_count": 5,
   "metadata": {},
   "outputs": [
    {
     "data": {
      "text/plain": [
       "[0, 0, 0, 0, 1, 1, 1, 1, 1]"
      ]
     },
     "execution_count": 5,
     "metadata": {},
     "output_type": "execute_result"
    }
   ],
   "source": [
    "def twoPartitionNaive(array):\n",
    "    output = []\n",
    "    count_0 = 0\n",
    "    count_1 = 0\n",
    "    for i in range(len(array)):\n",
    "        if array[i] == 0:\n",
    "            count_0 += 1\n",
    "        else:\n",
    "            count_1 += 1\n",
    "    while count_0 :\n",
    "        output.append(0)\n",
    "        count_0 -= 1\n",
    "        \n",
    "    while count_1:\n",
    "        output.append(1)\n",
    "        count_1 -= 1\n",
    "        \n",
    "    return output\n",
    "twoPartitionNaive([0,1,0,1,0,1,1,0,1])\n",
    "        "
   ]
  },
  {
   "cell_type": "code",
   "execution_count": 3,
   "metadata": {},
   "outputs": [
    {
     "data": {
      "text/plain": [
       "[0, 0, 0, 0, 1, 1, 1, 1, 1]"
      ]
     },
     "execution_count": 3,
     "metadata": {},
     "output_type": "execute_result"
    }
   ],
   "source": [
    "# 01 array - Inplace\n",
    "def twoPartition(array):\n",
    "    firstPointer = 0\n",
    "    secondPointer =len(array) - 1\n",
    "    \n",
    "    while secondPointer > firstPointer:\n",
    "        if array[secondPointer] == 0:\n",
    "            array[firstPointer], array[secondPointer] = array[secondPointer], array[firstPointer]\n",
    "            firstPointer += 1\n",
    "            \n",
    "        else:\n",
    "            secondPointer -= 1\n",
    "    return array\n",
    "twoPartition([0,1,0,1,0,1,1,0,1])\n",
    "            "
   ]
  },
  {
   "cell_type": "code",
   "execution_count": 8,
   "metadata": {},
   "outputs": [
    {
     "data": {
      "text/plain": [
       "[1, 1, 1, 1, 1, 2, 2, 2, 2, 2, 3, 3, 3, 3, 3]"
      ]
     },
     "execution_count": 8,
     "metadata": {},
     "output_type": "execute_result"
    }
   ],
   "source": [
    "# Three way partition - Naive , 1,2,3\n",
    "def threeWayPartitionNaive(array):\n",
    "    count_1 = 0\n",
    "    count_2 = 0\n",
    "    count_3 = 0\n",
    "    output = []\n",
    "    for i in range(len(array)):\n",
    "        if array[i] == 1:\n",
    "            count_1 += 1\n",
    "        elif array[i] == 2:\n",
    "            count_2 += 1\n",
    "        else:\n",
    "            count_3 += 1\n",
    "    while count_1:\n",
    "        output.append(1)\n",
    "        count_1 -= 1\n",
    "        \n",
    "    while count_2:\n",
    "        output.append(2)\n",
    "        count_2 -= 1\n",
    "        \n",
    "    while count_3:\n",
    "        output.append(3)\n",
    "        count_3 -= 1\n",
    "    return output\n",
    "        \n",
    "threeWayPartitionNaive([1,2,3,1,2,3,1,2,3,1,2,3,1,2,3])\n",
    "    "
   ]
  },
  {
   "cell_type": "code",
   "execution_count": 18,
   "metadata": {},
   "outputs": [
    {
     "data": {
      "text/plain": [
       "[1, 1, 1, 1, 1, 2, 2, 2, 2, 2, 8, 3, 7, 6, 3, 5, 3, 3, 3]"
      ]
     },
     "execution_count": 18,
     "metadata": {},
     "output_type": "execute_result"
    }
   ],
   "source": [
    "# Dutch National Flag - inplace implementation of Three way paritition\n",
    "def dutchNationalFlag(array):\n",
    "    lo = 0\n",
    "    mid = 0\n",
    "    hi = len(array) - 1\n",
    "    \n",
    "    while mid <= hi:\n",
    "        if array[mid] == 1:\n",
    "            array[lo], array[mid] = array[mid], array[lo]\n",
    "            lo += 1\n",
    "            mid += 1\n",
    "        elif array[mid] == 2:\n",
    "            mid += 1\n",
    "        else:\n",
    "            array[mid], array[hi] = array[hi], array[mid]\n",
    "            hi -= 1\n",
    "    return array\n",
    "dutchNationalFlag([1,2,3,1,2,3,1,2,3,1,2,3,1,2,3])"
   ]
  },
  {
   "cell_type": "code",
   "execution_count": 19,
   "metadata": {},
   "outputs": [
    {
     "name": "stdout",
     "output_type": "stream",
     "text": [
      "[1, 1, 2, 2, 3, 3, 4, 4, 4, 4, 4, 4, 4, 4, 5, 6, 7, 9, 9, 9]\n"
     ]
    }
   ],
   "source": [
    "# Application of three way partition --> quick sort\n",
    "'''\n",
    "This function partitions a[] in three parts\n",
    "a) a[first..start] contains all elements smaller than pivot\n",
    "b) a[start+1..mid-1] contains all occurrences of pivot\n",
    "c) a[mid..last] contains all elements greater than pivot\n",
    "\t\n",
    "'''\n",
    "def partition(arr, first, last, start, mid):\n",
    "\t\n",
    "\tpivot = arr[last]\n",
    "\tend = last\n",
    "\t\n",
    "\t# Iterate while mid is not greater than end.\n",
    "\twhile (mid[0] <= end):\n",
    "\t\t\n",
    "\t\t# Inter Change position of element at the starting if it's value is less than pivot.\n",
    "\t\tif (arr[mid[0]] < pivot):\n",
    "\t\t\t\n",
    "\t\t\tarr[mid[0]], arr[start[0]] = arr[start[0]], arr[mid[0]]\n",
    "\t\t\t\n",
    "\t\t\tmid[0] = mid[0] + 1\n",
    "\t\t\tstart[0] = start[0] + 1\n",
    "\t\t\t\n",
    "\t\t# Inter Change position of element at the end if it's value is greater than pivot.\n",
    "\t\telif (arr[mid[0]] > pivot):\n",
    "\t\t\t\n",
    "\t\t\tarr[mid[0]], arr[end] = arr[end], arr[mid[0]]\n",
    "\t\t\t\n",
    "\t\t\tend = end - 1\n",
    "\t\t\t\n",
    "\t\telse:\n",
    "\t\t\tmid[0] = mid[0] + 1\n",
    "\n",
    "# Function to sort the array elements in 3 cases\n",
    "def quicksort(arr,first,last):\n",
    "\t# First case when an array contain only 1 element\n",
    "\tif (first >= last):\n",
    "\t\treturn\n",
    "\t\n",
    "\t# Second case when an array contain only 2 elements\n",
    "\tif (last == first + 1):\n",
    "\t\t\n",
    "\t\tif (arr[first] > arr[last]):\n",
    "\t\t\t\n",
    "\t\t\tarr[first], arr[last] = arr[last], arr[first]\n",
    "\t\t\t\n",
    "\t\t\treturn\n",
    "\n",
    "\t# Third case when an array contain more than 2 elements\n",
    "\tstart = [first]\n",
    "\tmid = [first]\n",
    "\n",
    "\t# Function to partition the array.\n",
    "\tpartition(arr, first, last, start, mid)\n",
    "\t\n",
    "\t# Recursively sort sublist containing elements that are less than the pivot.\n",
    "\tquicksort(arr, first, start[0] - 1)\n",
    "\n",
    "\t# Recursively sort sublist containing elements that are more than the pivot\n",
    "\tquicksort(arr, mid[0], last)\n",
    "\n",
    "# Code Start from here\n",
    "arr = [4,9,4,4,1,9,4,4,9,4,4,1,4,5,6,7,2,3,2,3]\n",
    "\n",
    "# Call the quicksort function.\n",
    "quicksort(arr,0,len(arr) - 1)\n",
    "\n",
    "# print arr after sorting the elements\n",
    "print(arr)\n"
   ]
  },
  {
   "cell_type": "code",
   "execution_count": 27,
   "metadata": {},
   "outputs": [
    {
     "ename": "IndentationError",
     "evalue": "unindent does not match any outer indentation level (<tokenize>, line 34)",
     "output_type": "error",
     "traceback": [
      "\u001b[1;36m  File \u001b[1;32m\"<tokenize>\"\u001b[1;36m, line \u001b[1;32m34\u001b[0m\n\u001b[1;33m    return arr\u001b[0m\n\u001b[1;37m    ^\u001b[0m\n\u001b[1;31mIndentationError\u001b[0m\u001b[1;31m:\u001b[0m unindent does not match any outer indentation level\n"
     ]
    }
   ],
   "source": [
    "'''\n",
    "This function partitions a[] in three parts\n",
    "a) a[first..start] contains all elements smaller than pivot\n",
    "b) a[start+1..mid-1] contains all occurrences of pivot\n",
    "c) a[mid..last] contains all elements greater than pivot\n",
    "\t\n",
    "'''\n",
    "def partition(arr, first, last, start, mid):\n",
    "\t\n",
    "\tpivot = arr[last]\n",
    "\tend = last\n",
    "\t\n",
    "\t# Iterate while mid is not greater than end.\n",
    "\twhile (mid <= end):\n",
    "\t\t\n",
    "\t\t# Inter Change position of element at the starting if it's value is less than pivot.\n",
    "\t\tif (arr[mid] < pivot):\n",
    "\t\t\t\n",
    "\t\t\tarr[mid], arr[start] = arr[start], arr[mid]\n",
    "\t\t\t\n",
    "\t\t\tmid = mid + 1\n",
    "\t\t\tstart = start + 1\n",
    "\t\t\t\n",
    "\t\t# Inter Change position of element at the end if it's value is greater than pivot.\n",
    "\t\telif (arr[mid] > pivot):\n",
    "\t\t\t\n",
    "\t\t\tarr[mid], arr[end] = arr[end], arr[mid]\n",
    "\t\t\t\n",
    "\t\t\tend = end - 1\n",
    "\t\t\t\n",
    "\t\telse:\n",
    "\t\t\tmid = mid + 1\n",
    "    \n",
    "    return arr\n",
    "\n",
    "# Function to sort the array elements in 3 cases\n",
    "def quicksort(arr,first,last):\n",
    "\t# First case when an array contain only 1 element\n",
    "\tif (first >= last):\n",
    "\t\treturn\n",
    "\t\n",
    "\t# Second case when an array contain only 2 elements\n",
    "\tif (last == first + 1):\n",
    "\t\t\n",
    "\t\tif (arr[first] > arr[last]):\n",
    "\t\t\t\n",
    "\t\t\tarr[first], arr[last] = arr[last], arr[first]\n",
    "\t\t\t\n",
    "\t\t\treturn\n",
    "\n",
    "\t# Third case when an array contain more than 2 elements\n",
    "\tstart = [first]\n",
    "\tmid = [first]\n",
    "\n",
    "\t# Function to partition the array.\n",
    "\tpartition(arr, first, last, start, mid)\n",
    "\t\n",
    "\t# Recursively sort sublist containing elements that are less than the pivot.\n",
    "\tquicksort(arr, first, start[0] - 1)\n",
    "\n",
    "\t# Recursively sort sublist containing elements that are more than the pivot\n",
    "\tquicksort(arr, mid[0], last)\n",
    "\n",
    "# Code Start from here\n",
    "arr = [4,9,4,4,1,9,4,4,9,4,4,1,4,5,6,7,2,3,2,3]\n",
    "\n",
    "# Call the quicksort function.\n",
    "quicksort(arr,0,len(arr) - 1)\n",
    "\n",
    "# print arr after sorting the elements\n",
    "print(partition(arr, 0, len(arr)-1, 0, 0))\n"
   ]
  },
  {
   "cell_type": "code",
   "execution_count": 25,
   "metadata": {},
   "outputs": [
    {
     "data": {
      "text/plain": [
       "[1, 3, 2, 4, 4, 6, 5]"
      ]
     },
     "execution_count": 25,
     "metadata": {},
     "output_type": "execute_result"
    }
   ],
   "source": [
    "def partition(arr, n):\n",
    "    pivot = arr[n-1]\n",
    "    lo = 0\n",
    "    mid = 0\n",
    "    hi = n - 1\n",
    "    \n",
    "    while mid <= hi:\n",
    "        if arr[mid] < pivot:\n",
    "            arr[mid], arr[lo] = arr[lo], arr[mid]\n",
    "            mid += 1\n",
    "            lo += 1\n",
    "        elif arr[mid] > pivot:\n",
    "            arr[mid], arr[hi] = arr[hi], arr[mid]\n",
    "            hi -= 1\n",
    "        else:\n",
    "            mid += 1\n",
    "    return arr\n",
    "\n",
    "partition([1,5,3,6,4,2,4], 7)\n",
    "    "
   ]
  },
  {
   "cell_type": "code",
   "execution_count": null,
   "metadata": {},
   "outputs": [],
   "source": [
    "# Quicksort"
   ]
  },
  {
   "cell_type": "code",
   "execution_count": 33,
   "metadata": {},
   "outputs": [
    {
     "data": {
      "text/plain": [
       "[0, 1, 2, 3]"
      ]
     },
     "execution_count": 33,
     "metadata": {},
     "output_type": "execute_result"
    }
   ],
   "source": [
    "import collections\n",
    "def findOrder(num_courses, prerequisites):\n",
    "    result = [0] * num_courses\n",
    "    if num_courses == 0:\n",
    "        return result\n",
    "\n",
    "    if not prerequisites:\n",
    "        result = [i for i in range(num_courses)]\n",
    "        return result\n",
    "\n",
    "    indegree = [0] * num_courses\n",
    "    zero_degree = collections.deque()\n",
    "    for pre in prerequisites:\n",
    "        indegree[pre[0]] += 1\n",
    "    for i in range(len(indegree)):\n",
    "        if indegree[i] == 0:\n",
    "            zero_degree.append(i)\n",
    "    if not zero_degree:\n",
    "        return []\n",
    "\n",
    "    index = 0\n",
    "    while zero_degree:\n",
    "        course = zero_degree.popleft()\n",
    "        result[index] = course\n",
    "        index += 1\n",
    "        for pre in prerequisites:\n",
    "            if pre[1] == course:\n",
    "                indegree[pre[0]] -= 1\n",
    "                if indegree[pre[0]] == 0:\n",
    "                    zero_degree.append(pre[0])\n",
    "\n",
    "    if any(i for i in indegree): \n",
    "        return []\n",
    "        \n",
    "    return result\n",
    "\n",
    "findOrder(4, [[1,0], [2,0], [3,1], [3,2]])\n"
   ]
  },
  {
   "cell_type": "code",
   "execution_count": 34,
   "metadata": {},
   "outputs": [
    {
     "data": {
      "text/plain": [
       "'s'"
      ]
     },
     "execution_count": 34,
     "metadata": {},
     "output_type": "execute_result"
    }
   ],
   "source": [
    "\"S\".lower()"
   ]
  },
  {
   "cell_type": "code",
   "execution_count": 36,
   "metadata": {},
   "outputs": [
    {
     "ename": "IndentationError",
     "evalue": "expected an indented block (<ipython-input-36-a09d4e80ea9e>, line 24)",
     "output_type": "error",
     "traceback": [
      "\u001b[1;36m  File \u001b[1;32m\"<ipython-input-36-a09d4e80ea9e>\"\u001b[1;36m, line \u001b[1;32m24\u001b[0m\n\u001b[1;33m    kingdom = input()\u001b[0m\n\u001b[1;37m    ^\u001b[0m\n\u001b[1;31mIndentationError\u001b[0m\u001b[1;31m:\u001b[0m expected an indented block\n"
     ]
    }
   ],
   "source": [
    "# TODO: Complete the get_ruler function\n",
    "def get_ruler(kingdom):\n",
    "    vowels = {\"a\", \"e\", \"i\", \"o\", \"u\"}\n",
    "    \n",
    "    ruler = ''\n",
    "    if kingdom[-1].lower() == \"y\":\n",
    "        ruler += \"nobody\"\n",
    "    elif kingdom[-1].lower() in vowels:\n",
    "        ruler += \"Alice\"\n",
    "    else:\n",
    "        ruler += \"Bob\"\n",
    "  # TODO: Add logic to determine the ruler of the kingdom\n",
    "  # It should be either 'Alice', 'Bob' or 'nobody'.\n",
    "    return ruler\n",
    "\n",
    "def main():\n",
    "    \n",
    "    \n",
    "    \n",
    "    # Get the number of test cases\n",
    "    T = int(input())\n",
    "    for t in range(T):\n",
    "    # Get the kingdom\n",
    "        kingdom = input()\n",
    "    print('Case #%d: %s is ruled by %s.' % (t + 1, kingdom, get_ruler(kingdom)))\n",
    "\n",
    "if __name__ == '__main__':\n",
    "    main()"
   ]
  },
  {
   "cell_type": "code",
   "execution_count": null,
   "metadata": {},
   "outputs": [],
   "source": []
  }
 ],
 "metadata": {
  "kernelspec": {
   "display_name": "Python 3",
   "language": "python",
   "name": "python3"
  },
  "language_info": {
   "codemirror_mode": {
    "name": "ipython",
    "version": 3
   },
   "file_extension": ".py",
   "mimetype": "text/x-python",
   "name": "python",
   "nbconvert_exporter": "python",
   "pygments_lexer": "ipython3",
   "version": "3.8.3"
  }
 },
 "nbformat": 4,
 "nbformat_minor": 4
}
