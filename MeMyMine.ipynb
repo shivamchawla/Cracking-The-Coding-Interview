{
 "cells": [
  {
   "cell_type": "raw",
   "metadata": {},
   "source": [
    "In this file, I would like to share my journey from the very first day when i couldn't able to write even a fibonacci code"
   ]
  },
  {
   "cell_type": "raw",
   "metadata": {},
   "source": [
    "15th december 2020 - My notes"
   ]
  },
  {
   "cell_type": "code",
   "execution_count": null,
   "metadata": {},
   "outputs": [],
   "source": [
    "\"\"\"\n",
    "Sorting Algorithm\n",
    "\n",
    "Algo           worst case     best case          avg case\n",
    "Selection        O(n^2)         O(n^2)            O(n^2)\n",
    "Insertion        O(n^2)         O(n)              O(n^2)\n",
    "Merge            O(nlogn)       O(nlogn)          O(nlogn)\n",
    "Quicksort        O(n^2)         O(nlogn)          O(nlogn)\n",
    "\n",
    "\"\"\""
   ]
  },
  {
   "cell_type": "code",
   "execution_count": null,
   "metadata": {},
   "outputs": [],
   "source": [
    "# Merge Sort -- uses divide and conquer paradigm\n",
    "# using recursion\n",
    "# using iteration"
   ]
  }
 ],
 "metadata": {
  "kernelspec": {
   "display_name": "Python 3",
   "language": "python",
   "name": "python3"
  },
  "language_info": {
   "codemirror_mode": {
    "name": "ipython",
    "version": 3
   },
   "file_extension": ".py",
   "mimetype": "text/x-python",
   "name": "python",
   "nbconvert_exporter": "python",
   "pygments_lexer": "ipython3",
   "version": "3.8.3"
  }
 },
 "nbformat": 4,
 "nbformat_minor": 4
}
