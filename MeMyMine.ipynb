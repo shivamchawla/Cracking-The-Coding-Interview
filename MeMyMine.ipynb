{
 "cells": [
  {
   "cell_type": "raw",
   "metadata": {},
   "source": [
    "In this file, I would like to share my journey from the very first day when i couldn't able to write even a fibonacci code"
   ]
  },
  {
   "cell_type": "raw",
   "metadata": {},
   "source": [
    "15th december 2020 - My notes "
   ]
  },
  {
   "cell_type": "markdown",
   "metadata": {},
   "source": [
    "Disclaimer: These notes made my me for my own sake and may not contain complete information for some topics, in case you didn't\n",
    "    get something, feel free to ask me"
   ]
  },
  {
   "cell_type": "code",
   "execution_count": null,
   "metadata": {},
   "outputs": [],
   "source": [
    "\"\"\"\n",
    "Sorting Algorithm\n",
    "\n",
    "Algo           worst case     best case          avg case\n",
    "Selection        O(n^2)         O(n^2)            O(n^2)\n",
    "Insertion        O(n^2)         O(n)              O(n^2)\n",
    "Merge            O(nlogn)       O(nlogn)          O(nlogn)\n",
    "Quicksort        O(n^2)         O(nlogn)          O(nlogn)\n",
    "\n",
    "\"\"\""
   ]
  },
  {
   "cell_type": "code",
   "execution_count": null,
   "metadata": {},
   "outputs": [],
   "source": [
    "# Selection sort"
   ]
  },
  {
   "cell_type": "code",
   "execution_count": null,
   "metadata": {},
   "outputs": [],
   "source": [
    "# Insertion sort"
   ]
  },
  {
   "cell_type": "code",
   "execution_count": null,
   "metadata": {},
   "outputs": [],
   "source": [
    "# Merge Sort -- uses divide and conquer paradigm\n",
    "# using recursion\n",
    "# using iteration"
   ]
  },
  {
   "cell_type": "code",
   "execution_count": null,
   "metadata": {},
   "outputs": [],
   "source": [
    "# Quick sort\n",
    "\"\"\"Why quicksort when merge sort is atleast as good?\n",
    "    That's because the constant factor hidden in the big O notation for quicksort is quite good\n",
    "    In practice, quicksort outperforms merge sort and it significantly outperforms selection sort and insertion sort\n",
    "    \n",
    "    [(small or equal) a[pivot] (greater)]\n",
    "    This process is called partioning \n",
    "    as a matter of practice we will choose right most element as pivot element\"\"\"\n",
    "\n",
    "\n"
   ]
  },
  {
   "cell_type": "code",
   "execution_count": null,
   "metadata": {},
   "outputs": [],
   "source": [
    "\"\"\"Code                         vs                       cipher\n",
    "the word accountant is                     example - Caecar cipher\n",
    "code for 'come at once.Do not        \n",
    "delay\n",
    "\n",
    "A code is a mapping from some mean-        Cipher do not involve meaning, instead\n",
    "ingful unit - such as a word, sen-         they are mechanical operations, known as algo \n",
    "tence or phase into something else         that are performed on individual or small chunk\n",
    "usually a shorter group of symbols         of letters\n",
    "\n",
    "saves time\n",
    "\n",
    "need codebook                              don't need codebook\n",
    "\n",
    "codes generally operates on semantics      ciphers operate on syntax, symbols\n",
    "'\"\"\""
   ]
  },
  {
   "cell_type": "code",
   "execution_count": null,
   "metadata": {},
   "outputs": [],
   "source": [
    "# Shift Cipher\n",
    "def shiftCipherEncypt(string):\n",
    "    pass\n",
    "\n",
    "def shiftCipherDecrypt(string):\n",
    "    pass\n",
    "\n",
    "\"\"\"Why is shift cipher insecure?\n",
    "Since, we only have 26 choices for the key, someone can easily try all the 26 keys, one by one\n",
    "until recover the message\n",
    "This type of attacks are called brute force attack\"\"\""
   ]
  },
  {
   "cell_type": "code",
   "execution_count": null,
   "metadata": {},
   "outputs": [],
   "source": [
    "# 2 jan 2021 Greedy Algorithms\n",
    "\n",
    "\"\"\" A greedy algo makes choices that looks best at the moment, i.e, it makes a 'locally optimal choice' \n",
    "in the hope that this choice will lead to a globally optimal solution\n",
    "\n",
    "greedy algo do not always yield optimal solutions, but for many they do\"\"\""
   ]
  },
  {
   "cell_type": "code",
   "execution_count": null,
   "metadata": {},
   "outputs": [],
   "source": [
    "\"\"\"\n",
    "Statement : given n activities with their start and finish time. Select the max number of activities that can be performed by a \n",
    "single person, assuming that a person can only work on a single activity at a given time\"\"\"\n",
    "\n",
    "def activitySelection():\n",
    "    pass\n",
    "\n",
    "# for sorted input => O(n)\n",
    "# for unsorted input => O(nlogn)"
   ]
  },
  {
   "cell_type": "code",
   "execution_count": null,
   "metadata": {},
   "outputs": [],
   "source": [
    "\"\"\"Job sequencing with deadlines\n",
    "\n",
    "O(n^2) can be optimized using disjoint set\"\"\""
   ]
  },
  {
   "cell_type": "code",
   "execution_count": null,
   "metadata": {},
   "outputs": [],
   "source": []
  }
 ],
 "metadata": {
  "kernelspec": {
   "display_name": "Python 3",
   "language": "python",
   "name": "python3"
  },
  "language_info": {
   "codemirror_mode": {
    "name": "ipython",
    "version": 3
   },
   "file_extension": ".py",
   "mimetype": "text/x-python",
   "name": "python",
   "nbconvert_exporter": "python",
   "pygments_lexer": "ipython3",
   "version": "3.8.3"
  }
 },
 "nbformat": 4,
 "nbformat_minor": 4
}
