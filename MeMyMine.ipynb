{
 "cells": [
  {
   "cell_type": "raw",
   "metadata": {},
   "source": [
    "In this file, I would like to share my journey from the very first day when i couldn't able to write even a fibonacci code"
   ]
  },
  {
   "cell_type": "raw",
   "metadata": {},
   "source": [
    "15th december 2020 - My notes "
   ]
  },
  {
   "cell_type": "markdown",
   "metadata": {},
   "source": [
    "Disclaimer: These notes made my me for my own sake and may not contain complete information for some topics, in case you didn't\n",
    "    get something, feel free to ask me"
   ]
  },
  {
   "cell_type": "code",
   "execution_count": null,
   "metadata": {},
   "outputs": [],
   "source": [
    "\"\"\"\n",
    "Sorting Algorithm\n",
    "\n",
    "Algo           worst case     best case          avg case\n",
    "Selection        O(n^2)         O(n^2)            O(n^2)\n",
    "Insertion        O(n^2)         O(n)              O(n^2)\n",
    "Merge            O(nlogn)       O(nlogn)          O(nlogn)\n",
    "Quicksort        O(n^2)         O(nlogn)          O(nlogn)\n",
    "\n",
    "\"\"\""
   ]
  },
  {
   "cell_type": "code",
   "execution_count": null,
   "metadata": {},
   "outputs": [],
   "source": [
    "# Selection sort"
   ]
  },
  {
   "cell_type": "code",
   "execution_count": null,
   "metadata": {},
   "outputs": [],
   "source": [
    "# Insertion sort"
   ]
  },
  {
   "cell_type": "code",
   "execution_count": null,
   "metadata": {},
   "outputs": [],
   "source": [
    "# Merge Sort -- uses divide and conquer paradigm\n",
    "# using recursion\n",
    "# using iteration"
   ]
  },
  {
   "cell_type": "code",
   "execution_count": null,
   "metadata": {},
   "outputs": [],
   "source": [
    "# Quick sort\n",
    "\"\"\"Why quicksort when merge sort is atleast as good?\n",
    "    That's because the constant factor hidden in the big O notation for quicksort is quite good\n",
    "    In practice, quicksort outperforms merge sort and it significantly outperforms selection sort and insertion sort\n",
    "    \n",
    "    [(small or equal) a[pivot] (greater)]\n",
    "    This process is called partioning \n",
    "    as a matter of practice we will choose right most element as pivot element\"\"\"\n",
    "\n",
    "\n"
   ]
  },
  {
   "cell_type": "code",
   "execution_count": null,
   "metadata": {},
   "outputs": [],
   "source": [
    "\"\"\"Code                         vs                       cipher\n",
    "the word accountant is                     example - Caecar cipher\n",
    "code for 'come at once.Do not        \n",
    "delay\n",
    "\n",
    "A code is a mapping from some mean-        Cipher do not involve meaning, instead\n",
    "ingful unit - such as a word, sen-         they are mechanical operations, known as algo \n",
    "tence or phase into something else         that are performed on individual or small chunk\n",
    "usually a shorter group of symbols         of letters\n",
    "\n",
    "saves time\n",
    "\n",
    "need codebook                              don't need codebook\n",
    "\n",
    "codes generally operates on semantics      ciphers operate on syntax, symbols\n",
    "'\"\"\""
   ]
  },
  {
   "cell_type": "code",
   "execution_count": null,
   "metadata": {},
   "outputs": [],
   "source": [
    "# Shift Cipher\n",
    "def shiftCipherEncypt(string):\n",
    "    pass\n",
    "\n",
    "def shiftCipherDecrypt(string):\n",
    "    pass\n",
    "\n",
    "\"\"\"Why is shift cipher insecure?\n",
    "Since, we only have 26 choices for the key, someone can easily try all the 26 keys, one by one\n",
    "until recover the message\n",
    "This type of attacks are called brute force attack\"\"\""
   ]
  },
  {
   "cell_type": "code",
   "execution_count": null,
   "metadata": {},
   "outputs": [],
   "source": [
    "# 2 jan 2021 Greedy Algorithms\n",
    "\n",
    "\"\"\" A greedy algo makes choices that looks best at the moment, i.e, it makes a 'locally optimal choice' \n",
    "in the hope that this choice will lead to a globally optimal solution\n",
    "\n",
    "greedy algo do not always yield optimal solutions, but for many they do\"\"\""
   ]
  },
  {
   "cell_type": "code",
   "execution_count": null,
   "metadata": {},
   "outputs": [],
   "source": [
    "\"\"\"\n",
    "Statement : given n activities with their start and finish time. Select the max number of activities that can be performed by a \n",
    "single person, assuming that a person can only work on a single activity at a given time\"\"\"\n",
    "\n",
    "def activitySelection():\n",
    "    pass\n",
    "\n",
    "# for sorted input => O(n)\n",
    "# for unsorted input => O(nlogn)"
   ]
  },
  {
   "cell_type": "code",
   "execution_count": null,
   "metadata": {},
   "outputs": [],
   "source": [
    "\"\"\"Job sequencing with deadlines\n",
    "\n",
    "O(n^2) can be optimized using disjoint set\"\"\""
   ]
  },
  {
   "cell_type": "code",
   "execution_count": null,
   "metadata": {},
   "outputs": [],
   "source": [
    "\"\"\"Dynamic Programming => optimizing program for efficiency [recursion, tabulation, bottomup , memoization]\n",
    "\n",
    "5 easy steps :\n",
    "1. Define subproblem\n",
    "2. Guess (part of solution)\n",
    "3. Recurrence\n",
    "4. Recursive + memoization/ bottom-up/ check-acyclic/ topo order\n",
    "5. solve original problem\"\"\""
   ]
  },
  {
   "cell_type": "code",
   "execution_count": null,
   "metadata": {},
   "outputs": [],
   "source": [
    "def fibonacci():\n",
    "    pass"
   ]
  },
  {
   "cell_type": "code",
   "execution_count": null,
   "metadata": {},
   "outputs": [],
   "source": [
    "# shortest path using dp"
   ]
  },
  {
   "cell_type": "raw",
   "metadata": {},
   "source": [
    "Graph"
   ]
  },
  {
   "cell_type": "code",
   "execution_count": 2,
   "metadata": {},
   "outputs": [
    {
     "name": "stdout",
     "output_type": "stream",
     "text": [
      "16\n",
      "True\n"
     ]
    }
   ],
   "source": [
    "# Built-in functions\n",
    "\"\"\"find() => returns the first index of which a substring occur in a string, if no substring is found, it returns -1\n",
    "find(substring, start, end)\n",
    "'start' => start is the index from which we start searching in string\n",
    "'end' => end is the index where we stop searching in string\n",
    "\n",
    "alternative method is to use in \"\"\"\n",
    "string = \"Hey, my name is Shivam Chawla\"\n",
    "n = len(string)\n",
    "print(string.find('Shivam', 0, n-1))\n",
    "print('Shivam' in string)"
   ]
  },
  {
   "cell_type": "code",
   "execution_count": 5,
   "metadata": {},
   "outputs": [
    {
     "name": "stdout",
     "output_type": "stream",
     "text": [
      "Shivam is cool as well as intelligent\n",
      "SHIVAM IS COOL\n",
      "shivam is cool\n"
     ]
    },
    {
     "data": {
      "text/plain": [
       "97"
      ]
     },
     "execution_count": 5,
     "metadata": {},
     "output_type": "execute_result"
    }
   ],
   "source": [
    "\"\"\"replace() => replace a part of string with another string\n",
    "\n",
    "a_string.replace(substring_to_be_replaced, new_string)\"\"\"\n",
    "a_string = \"Shivam is cool\"\n",
    "print(a_string.replace('cool', 'cool as well as intelligent'))\n",
    "print(a_string.upper())\n",
    "print(a_string.lower())\n",
    "# ord() converts a character to its unicode value\n",
    "\n",
    "print(ord('a'))"
   ]
  },
  {
   "cell_type": "code",
   "execution_count": 8,
   "metadata": {},
   "outputs": [
    {
     "name": "stdout",
     "output_type": "stream",
     "text": [
      "30\n",
      "High\n"
     ]
    }
   ],
   "source": [
    "# Lambdas\n",
    "\"\"\"So far we have always given names to our function using the def keyword\n",
    "\n",
    "However there is a special class of functions for which we dont need to specify func names\n",
    "\n",
    "'A lambda is an anonymous function that returns some form of data'\n",
    "\n",
    "lambda parameters: expression\n",
    "\n",
    "parameters are separated by comma\n",
    "expression => an operation that returns something\"\"\"\n",
    "\n",
    "triple = lambda num: num*3\n",
    "print(triple(10))\n",
    "\n",
    "my_func = lambda num: 'High' if num > 50 else 'Low'\n",
    "print(my_func(60))\n",
    "\n",
    "\"\"\"Lambdas are really helpful/useful when a function requires another function as it's arguement\"\"\""
   ]
  },
  {
   "cell_type": "code",
   "execution_count": 11,
   "metadata": {},
   "outputs": [
    {
     "name": "stdout",
     "output_type": "stream",
     "text": [
      "[0, 2, 4, 6, 8, 10]\n"
     ]
    }
   ],
   "source": [
    "\"\"\"map() creates a map object using an existing list and a function as it's parameters\n",
    "\n",
    "map(function, list)\"\"\"\n",
    "num_list = [0, 1, 2, 3, 4, 5]\n",
    "double_list = list(map(lambda n: n*2, num_list)) # we could have created a function that doubles a no. \n",
    "                                                 # and used it as the arguement in map\n",
    "print(double_list)\n",
    "\n",
    "\n",
    "# list(map(int,input().split())) space separated input "
   ]
  },
  {
   "cell_type": "code",
   "execution_count": 12,
   "metadata": {},
   "outputs": [
    {
     "name": "stdout",
     "output_type": "stream",
     "text": [
      "[30, 17, 100]\n"
     ]
    }
   ],
   "source": [
    "\"\"\"filter() => filters elements from a list if the elements satisfy the condition that is specified in the argument function\"\"\"\n",
    "\n",
    "num_list = [30, 2, -15, 17, 9, 100]\n",
    "print(list(filter(lambda n: n>10, num_list)))"
   ]
  },
  {
   "cell_type": "code",
   "execution_count": 16,
   "metadata": {},
   "outputs": [
    {
     "name": "stdout",
     "output_type": "stream",
     "text": [
      "[30, -15, 9, 100]\n"
     ]
    }
   ],
   "source": [
    "# list comprehension\n",
    "high_list = [n for n in num_list if n>50 or n%3==0]\n",
    "print(high_list)"
   ]
  },
  {
   "cell_type": "code",
   "execution_count": null,
   "metadata": {},
   "outputs": [],
   "source": [
    "\"\"\"Deepcopy and shallow copy\n",
    "Deep copy makes the independent copies , changing one doesn't change the other .. \n",
    "it's like twin brothers if we touch one , another one won't get touched \n",
    "\n",
    "Whereas shallow copy is just alias , like for ex , seeing yourself in the mirror ....\n",
    "If i touch u in real , it also get touched in mirror\n",
    "\n",
    "A = [1,2,3]\n",
    "B = [1,2,3]\n",
    "\n",
    "A == B\n",
    "#Returns true\n",
    "\n",
    "A is B \n",
    "#return false\n",
    "\n",
    "Because is means identity, taking different memory space\"\"\""
   ]
  },
  {
   "cell_type": "code",
   "execution_count": null,
   "metadata": {},
   "outputs": [],
   "source": [
    "# dfs"
   ]
  },
  {
   "cell_type": "raw",
   "metadata": {},
   "source": [
    "Number Thoery"
   ]
  },
  {
   "cell_type": "code",
   "execution_count": null,
   "metadata": {},
   "outputs": [],
   "source": []
  }
 ],
 "metadata": {
  "kernelspec": {
   "display_name": "Python 3",
   "language": "python",
   "name": "python3"
  },
  "language_info": {
   "codemirror_mode": {
    "name": "ipython",
    "version": 3
   },
   "file_extension": ".py",
   "mimetype": "text/x-python",
   "name": "python",
   "nbconvert_exporter": "python",
   "pygments_lexer": "ipython3",
   "version": "3.8.3"
  }
 },
 "nbformat": 4,
 "nbformat_minor": 4
}
