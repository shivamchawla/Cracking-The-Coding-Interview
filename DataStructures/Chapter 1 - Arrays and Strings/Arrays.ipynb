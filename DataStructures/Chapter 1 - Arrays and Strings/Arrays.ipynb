{
 "cells": [
  {
   "cell_type": "markdown",
   "metadata": {},
   "source": [
    "Coding Ninjas 150 problems by Prateek narang"
   ]
  },
  {
   "cell_type": "code",
   "execution_count": 22,
   "metadata": {},
   "outputs": [
    {
     "name": "stdout",
     "output_type": "stream",
     "text": [
      "[[2, 15], [8, 9]]\n",
      "(10, -6)\n",
      "(-6, 10)\n"
     ]
    }
   ],
   "source": [
    "# Pairs- Given an array containing N integers and a number denoting a target sum S\n",
    "\n",
    "# find two distinct integers that can pair upto form the target sum(assume there will be only one such pair)\n",
    "\n",
    "def bruteForcePairs(arr, targetSum):\n",
    "    n = len(arr)\n",
    "    for i in range(n):\n",
    "        for j in range(i+1, n):\n",
    "            if arr[i] + arr[j] == targetSum:\n",
    "                return (arr[i], arr[j])\n",
    "    return \"Not Found\"\n",
    "\n",
    "def pairs(arr, targetSum):\n",
    "#     arr.sort()\n",
    "    firstPointer = 0\n",
    "    secondPointer = len(arr) - 1\n",
    "    result = []\n",
    "    while firstPointer < secondPointer:\n",
    "        if arr[firstPointer] + arr[secondPointer] == targetSum:\n",
    "            result.append([arr[firstPointer], arr[secondPointer]]) \n",
    "#             return True\n",
    "            firstPointer += 1\n",
    "            secondPointer -= 1\n",
    "        elif arr[firstPointer] + arr[secondPointer] > targetSum:\n",
    "            secondPointer -= 1\n",
    "        else:\n",
    "            firstPointer += 1\n",
    "    return result\n",
    "\n",
    "def pairsOptimized(arr, targetSum):\n",
    "    keeping_account = set()\n",
    "    for i in arr:\n",
    "        if (targetSum - i) in keeping_account:\n",
    "            return i, targetSum - i\n",
    "        else:\n",
    "            keeping_account.add(i)\n",
    "    return \"Not found\"\n",
    "print(pairs([2,3,4,5,6,7,8,9,15], 17))\n",
    "print(bruteForcePairs([10, 5, 2, 3, -6, 9, 11], 4))\n",
    "print(pairsOptimized([10, 5, 2, 3, -6, 9, 11], 4))"
   ]
  },
  {
   "cell_type": "code",
   "execution_count": 26,
   "metadata": {},
   "outputs": [
    {
     "data": {
      "text/plain": [
       "[[1, 2, 15],\n",
       " [1, 8, 9],\n",
       " [2, 7, 9],\n",
       " [3, 6, 9],\n",
       " [3, 7, 8],\n",
       " [4, 5, 9],\n",
       " [4, 6, 8],\n",
       " [5, 5, 8],\n",
       " [5, 6, 7]]"
      ]
     },
     "execution_count": 26,
     "metadata": {},
     "output_type": "execute_result"
    }
   ],
   "source": [
    "def triplet(arr, targetSum):\n",
    "    arr.sort()\n",
    "    result = []\n",
    "    for i in range(len(arr)):\n",
    "        smallTarget = targetSum - arr[i]\n",
    "        check = pairs(arr[i:], smallTarget)\n",
    "        if check:\n",
    "            for j in check:\n",
    "                result.append([arr[i]] + j) \n",
    "    return result\n",
    "triplet([1,2,3,4,5,6,7,8,9,15], 18)\n",
    "# Complexity = O(nlogn + n^2) = O(n^2)"
   ]
  },
  {
   "cell_type": "code",
   "execution_count": 29,
   "metadata": {},
   "outputs": [
    {
     "data": {
      "text/plain": [
       "9"
      ]
     },
     "execution_count": 29,
     "metadata": {},
     "output_type": "execute_result"
    }
   ],
   "source": [
    "# Mountain - write function that takes input an array of distinct integers, return the length of highest mountains.\n",
    "# a mountain is defined as adjacent integers that are strictly increasing until they reach a peak, at which the become \n",
    "# strictly decreasing \n",
    "# atleast three numbers are required to form a mountain\n",
    "def mountain(arr):\n",
    "    if len(arr) < 3:\n",
    "        return \"No Mountain\"\n",
    "    n = len(arr)\n",
    "    largest = 0\n",
    "    i = 1\n",
    "    while n-1 > i:\n",
    "        if arr[i-1]<arr[i] and arr[i]>arr[i+1]:\n",
    "#             do some work \n",
    "            count  = 1\n",
    "\n",
    "#             cnt backwards (left)\n",
    "            j = i\n",
    "            while j > 0 and arr[j-1]<arr[j]:\n",
    "                count += 1\n",
    "                j -= 1\n",
    "\n",
    "#             cnt forwards (right)\n",
    "            while i < n-2 and arr[i]>arr[i+1]:\n",
    "                i += 1\n",
    "                count += 1\n",
    "            \n",
    "            largest = max(largest, count)\n",
    "        else:\n",
    "            i += 1\n",
    "    \n",
    "    return largest\n",
    "mountain([5,6,1,2,3,4,5,4,3,2,0,1,2,3,-2,4])"
   ]
  },
  {
   "cell_type": "code",
   "execution_count": 30,
   "metadata": {},
   "outputs": [
    {
     "data": {
      "text/plain": [
       "8"
      ]
     },
     "execution_count": 30,
     "metadata": {},
     "output_type": "execute_result"
    }
   ],
   "source": [
    "# longest band - given an array of n integers, find the length of the longest band, a band is defined as a subsequence which can\n",
    "# be reordered in such a manner all elements appear consecutive (i.e, with abs diff of 1 between neighbouring elements)\n",
    "\n",
    "# a longest band is the band which contains max integers\n",
    "\n",
    "# i/p = [1,9,3,0,18,5,2,4,10,7,12,6]\n",
    "# o/p = 8\n",
    "def longestBand(arr):\n",
    "    helper_set = set(arr)\n",
    "    ans = 0\n",
    "    for i in arr:\n",
    "        if (i - 1) in helper_set:\n",
    "            continue\n",
    "        k = i\n",
    "        count = 0\n",
    "        while k in helper_set:\n",
    "            k += 1\n",
    "            count += 1\n",
    "        ans = max(ans, count)\n",
    "    return ans           \n",
    "    \n",
    "longestBand([1,9,3,0,18,5,2,4,10,7,12,6])\n",
    "    \n",
    "    "
   ]
  },
  {
   "cell_type": "code",
   "execution_count": 48,
   "metadata": {},
   "outputs": [
    {
     "data": {
      "text/plain": [
       "6"
      ]
     },
     "execution_count": 48,
     "metadata": {},
     "output_type": "execute_result"
    }
   ],
   "source": [
    "# Trapping rain water\n",
    "# brute force - for each building, calculate the max height on left and right take min of both,\n",
    "\n",
    "# optimized approach - make two arrays left and right\n",
    "\n",
    "def ArrayTrappingWater(heights):\n",
    "    n = len(heights)\n",
    "    left = [0 for i in range(n)]\n",
    "    right = [0 for i in range(n)]\n",
    "    left[0] = (heights[0])\n",
    "    right[n-1] = heights[n-1]\n",
    "    for i in range(1,n):\n",
    "        left[i] = max(left[i-1], heights[i])\n",
    "        right[n-i-1] = max(right[n-i], heights[n-i-1])\n",
    "    return left, right \n",
    "\n",
    "def trappingRainWater(heights):\n",
    "    n = len(heights)\n",
    "    left, right = ArrayTrappingWater(heights)\n",
    "    ans = 0\n",
    "    for i in range(n):\n",
    "        ans += min(left[i], right[i]) - heights[i]\n",
    "    return ans\n",
    "        \n",
    "trappingRainWater([0,1,0,2,1,0,1,3,2,1,2,1])\n",
    "# rightArrayTrappingWater([0,1,0,2,1,0,1,3,2,1,2,1])"
   ]
  },
  {
   "cell_type": "code",
   "execution_count": 20,
   "metadata": {},
   "outputs": [
    {
     "data": {
      "text/plain": [
       "3"
      ]
     },
     "execution_count": 20,
     "metadata": {},
     "output_type": "execute_result"
    }
   ],
   "source": [
    "def brutelargestWindowWithSumK(arr, k):\n",
    "    ans = 0\n",
    "    n = len(arr)\n",
    "    for i in range(n):\n",
    "        sum_yet = arr[i]\n",
    "        for j in range(i+1, n):\n",
    "            sum_yet += arr[j]\n",
    "            if sum_yet == k:\n",
    "                ans = max(j-i+1, ans)\n",
    "    return ans\n",
    "brutelargestWindowWithSumK([4,1,1,1,2,3,5], 6)   "
   ]
  },
  {
   "cell_type": "code",
   "execution_count": 13,
   "metadata": {},
   "outputs": [
    {
     "data": {
      "text/plain": [
       "4"
      ]
     },
     "execution_count": 13,
     "metadata": {},
     "output_type": "execute_result"
    }
   ],
   "source": [
    "# variable sliding window problem\n",
    "def largestWindowWithSumK(arr, k):\n",
    "    ans = 0\n",
    "    i = 0\n",
    "    j = 0\n",
    "    sum_yet = 0\n",
    "    n = len(arr)\n",
    "    while j < n:\n",
    "#         Calculation\n",
    "        sum_yet += arr[j]\n",
    "        if sum_yet == k:\n",
    "            ans = max(ans, j-i+1)\n",
    "            sum_yet -= arr[i]\n",
    "            i += 1\n",
    "        else:\n",
    "            while sum_yet > k:\n",
    "                \n",
    "                sum_yet -= arr[i]\n",
    "                i += 1\n",
    "#             if sum_yet == k:\n",
    "#                 ans = max(ans, j-i+1)\n",
    "#                 j += 1\n",
    "        j+=1\n",
    "    return ans\n",
    "\n",
    "largestWindowWithSumK([4,1,1,1,2,3,5], 5)   \n",
    "    "
   ]
  },
  {
   "cell_type": "code",
   "execution_count": 27,
   "metadata": {},
   "outputs": [
    {
     "data": {
      "text/plain": [
       "({4: 0, 5: 1, 6: 2, 7: 3, 9: 4, 12: 5, 17: 6}, 5)"
      ]
     },
     "execution_count": 27,
     "metadata": {},
     "output_type": "execute_result"
    }
   ],
   "source": [
    "# third approach using hashtable \n",
    "def hashlargestWindowWithSumK(arr, k):\n",
    "    sum_yet = 0 \n",
    "    maxLen = 0\n",
    "    hashTable = {}\n",
    "    n = len(arr)\n",
    "    for i in range(n):\n",
    "        sum_yet += arr[i]\n",
    "        if sum_yet == k:\n",
    "            maxLen = i + 1\n",
    "        elif sum_yet - k in hashTable:\n",
    "            maxLen = max(maxLen, i - hashTable[sum_yet-k])\n",
    "        if sum_yet not in hashTable:\n",
    "            hashTable[sum_yet] = i\n",
    "    return hashTable, maxLen\n",
    "hashlargestWindowWithSumK([4,1,1,1,2,3,5], 9) "
   ]
  },
  {
   "cell_type": "code",
   "execution_count": null,
   "metadata": {},
   "outputs": [],
   "source": [
    "\"\"\"General format for variable sliding window problem\n",
    "    \n",
    "    while j < size:\n",
    "        calculations\n",
    "        if cond < k:\n",
    "            j += 1\n",
    "        elif cond == k:\n",
    "            ans = calculations\n",
    "            j += 1\n",
    "        elif cond > k :\n",
    "            while cond > k:\n",
    "                remove calculations for i\n",
    "                i += 1\n",
    "            j += 1\n",
    "    return ans \n",
    "            \"\"\"\n",
    "\n",
    "\n",
    "\"\"\"General Format for fixed size sliding window\n",
    "\n",
    "    while j < size:\n",
    "        Calculations\n",
    "        \n",
    "        if windowSize < k:\n",
    "            j += 1\n",
    "            \n",
    "        elif windowSize == k:\n",
    "            ans = calculations\n",
    "            calculation remove i\n",
    "            windowSize maintain and slide\n",
    "            \n",
    "    return ans\"\"\""
   ]
  },
  {
   "cell_type": "code",
   "execution_count": 29,
   "metadata": {},
   "outputs": [
    {
     "data": {
      "text/plain": [
       "19"
      ]
     },
     "execution_count": 29,
     "metadata": {},
     "output_type": "execute_result"
    }
   ],
   "source": [
    "def maxSubArraySum(array, k):\n",
    "    ans = float(\"-inf\")\n",
    "    sumSubArray = 0\n",
    "    i = 0\n",
    "    j = 0\n",
    "    n = len(array)\n",
    "    while j < n:\n",
    "        sumSubArray += array[j]\n",
    "        if j - i + 1 < k:\n",
    "            j += 1\n",
    "        elif j - i + 1 == k:\n",
    "            ans = max(ans, sumSubArray)\n",
    "            sumSubArray -= array[i]\n",
    "            i += 1\n",
    "            j += 1\n",
    "    return ans\n",
    "\n",
    "maxSubArraySum([2,5,1,8,2,9,1], 3)  "
   ]
  },
  {
   "cell_type": "code",
   "execution_count": null,
   "metadata": {},
   "outputs": [],
   "source": [
    "\"\"\"\n",
    "find out the calculations\\\n",
    "ans <-- calculations\n",
    "slide the window\"\"\"\n",
    "\n",
    "\"\"\"Variable size = {windowSize : var,\n",
    "                    k: condition}\n",
    "    fixed size = {windowSize : k\n",
    "                condition}\"\"\""
   ]
  },
  {
   "cell_type": "code",
   "execution_count": 33,
   "metadata": {},
   "outputs": [
    {
     "data": {
      "text/plain": [
       "[-1, -1, -7, -15, -15, 0]"
      ]
     },
     "execution_count": 33,
     "metadata": {},
     "output_type": "execute_result"
    }
   ],
   "source": [
    "import collections\n",
    "# approach - list all the neg numbers in an array(use queue for that)\n",
    "\n",
    "\n",
    "def firstNegNumberinWindowK(array, k):\n",
    "    queue = collections.deque()\n",
    "    i = 0\n",
    "    j = 0\n",
    "    n = len(array)\n",
    "    output = []\n",
    "    while j < n:\n",
    "        if array[j] < 0:\n",
    "            queue.append(array[j])\n",
    "        if j - i + 1 < k:\n",
    "            j += 1\n",
    "        elif j - i + 1 == k:\n",
    "            if len(queue) == 0:\n",
    "                output.append(0)\n",
    "            else:\n",
    "                ele = queue.popleft()\n",
    "                output.append(ele)\n",
    "                if array[i] > 0:\n",
    "                    queue.appendleft(ele)\n",
    "            i += 1\n",
    "            j += 1\n",
    "            \n",
    "    return output\n",
    "firstNegNumberinWindowK([12, -1, -7, 8, -15, 30, 16, 28], 3)"
   ]
  },
  {
   "cell_type": "code",
   "execution_count": 38,
   "metadata": {},
   "outputs": [
    {
     "data": {
      "text/plain": [
       "3"
      ]
     },
     "execution_count": 38,
     "metadata": {},
     "output_type": "execute_result"
    }
   ],
   "source": [
    "def countOccurencesOfAnagram(text, pattern):\n",
    "    p = len(pattern)\n",
    "    t = len(text)\n",
    "    patternHash = [0 for i in range(26)]\n",
    "    for i in pattern:\n",
    "        patternHash[ord(i) - ord('a')] += 1\n",
    "        \n",
    "    i = 0\n",
    "    j = 0\n",
    "    textHash = [0 for i in range(26)]\n",
    "    count = 0\n",
    "    while j < t:\n",
    "        textHash[ord(text[j]) - ord('a')] += 1\n",
    "        if j - i + 1 < p:\n",
    "            j += 1\n",
    "        elif j - i + 1 == p:\n",
    "            if textHash == patternHash:\n",
    "                count += 1\n",
    "            textHash[ord(text[i]) - ord('a')] -= 1\n",
    "            i += 1\n",
    "            j += 1             \n",
    "    return count\n",
    "countOccurencesOfAnagram(\"abab\", \"ab\")"
   ]
  },
  {
   "cell_type": "code",
   "execution_count": null,
   "metadata": {},
   "outputs": [],
   "source": []
  }
 ],
 "metadata": {
  "kernelspec": {
   "display_name": "Python 3",
   "language": "python",
   "name": "python3"
  },
  "language_info": {
   "codemirror_mode": {
    "name": "ipython",
    "version": 3
   },
   "file_extension": ".py",
   "mimetype": "text/x-python",
   "name": "python",
   "nbconvert_exporter": "python",
   "pygments_lexer": "ipython3",
   "version": "3.8.3"
  }
 },
 "nbformat": 4,
 "nbformat_minor": 4
}
