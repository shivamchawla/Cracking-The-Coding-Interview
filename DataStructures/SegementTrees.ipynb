{
 "cells": [
  {
   "cell_type": "raw",
   "metadata": {},
   "source": [
    "int n; // size of array\n",
    "int arr[n]; // global array of elements that are provided as input\n",
    "int tree[4 * n]; // global structure for containing segment tree (The size of our tree will never exceed 4 times the size of our array, so initializing our tree to 4 x size of array is a safe choice.)\n",
    "\n",
    "// initialize with global array arr\n",
    "build(1, 1, n);\n",
    "// query\n",
    "query(1, 1, n, a, b); // query against range [a, b]\n",
    "// update\n",
    "update(1, 1, n, idx, val);"
   ]
  },
  {
   "cell_type": "raw",
   "metadata": {},
   "source": [
    "slower way to build a segment tree\n",
    "for (int i = 1; i ≤ array.length; i++) \n",
    "    update(1, 1, n, i, array[i -1]); \n",
    "\n",
    "faster way to build a segment tree\n",
    "// [left, right] => range spanned by current node\n",
    "void build(int id, int left, int right) { // O (n)\n",
    "   if (left == right) {\n",
    "       // when we divide and conquer on the middle element, left and right becomes equal when we reach the leaf nodes\n",
    "       tree[id]  = arr[left];\n",
    "       return;\n",
    "   }\n",
    "   int mid = (left + right)/2;\n",
    "   // build left child first\n",
    "   build(2 * id, left, mid);\n",
    "   // build right child next\n",
    "   build(2 * id + 1, mid + 1, right);\n",
    "   // current node sum is available from sum of left and right child\n",
    "   tree[id] = tree[id * 2] + tree[id * 2 + 1];\n",
    "}"
   ]
  },
  {
   "cell_type": "raw",
   "metadata": {},
   "source": [
    "// [left, right] => current node range\n",
    "// idx => index of the array to update\n",
    "// val => value to be placed in arr[idx]\n",
    "void update(int id, int left, int right, int idx, int val) { // O (log N)\n",
    "   if (left == right) {\n",
    "       tree[id] = val;\n",
    "       return;\n",
    "   }\n",
    "   int mid = (left + right) / 2;\n",
    "   if (idx <= mid) {\n",
    "       update(id * 2, left, mid, idx, val);\n",
    "   } else {\n",
    "       update(id * 2 + 1, mid + 1, right, idx, val);\n",
    "   }\n",
    "   tree[id] = tree[2 * id] + tree[2 * id + 1];\n",
    "}"
   ]
  },
  {
   "cell_type": "raw",
   "metadata": {},
   "source": [
    "// [left, right] => range represented by current node, left <= right\n",
    "// [a, b] => range of interest, query range start and end, a <= b\n",
    "int query(int id, int left, int right, int a, int b) {\n",
    "   if (b < left || a > right) { \n",
    "       // either query range ends before current node range starts\n",
    "       // current node range ends before query node range starts\n",
    "       // query range: [6,8] current node range: [1,4] <- no overlap\n",
    "       return 0;\n",
    "   }\n",
    "   if (a <= left && b >= right) {\n",
    "       // current node range complete falls within query range\n",
    "       // query range: [3,6], current node range: [3,4]\n",
    "       return tree[id];\n",
    "   }\n",
    "   // partial overlap\n",
    "   // query range: [2,7], current node range: [1,4]\n",
    "   int mid = (left + right) / 2;\n",
    "   int sum = 0;\n",
    "   // subquery by querying left and right child\n",
    "   sum += query(2 * id, left, mid, a, b);\n",
    "   sum += query(2 * id + 1, mid + 1, right, a, b);\n",
    "\n",
    "   return sum;\n",
    "} "
   ]
  },
  {
   "cell_type": "code",
   "execution_count": null,
   "metadata": {},
   "outputs": [],
   "source": [
    "class SegementTree:\n",
    "    def __init__(self, nums):\n",
    "        n = len(nums)\n",
    "        self.nums = nums\n",
    "        self.tree = [0]*(4*n)\n",
    "        "
   ]
  }
 ],
 "metadata": {
  "kernelspec": {
   "display_name": "Python 3",
   "language": "python",
   "name": "python3"
  },
  "language_info": {
   "codemirror_mode": {
    "name": "ipython",
    "version": 3
   },
   "file_extension": ".py",
   "mimetype": "text/x-python",
   "name": "python",
   "nbconvert_exporter": "python",
   "pygments_lexer": "ipython3",
   "version": "3.8.3"
  }
 },
 "nbformat": 4,
 "nbformat_minor": 4
}
