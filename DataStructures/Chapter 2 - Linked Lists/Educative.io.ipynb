{
 "cells": [
  {
   "cell_type": "markdown",
   "metadata": {},
   "source": [
    "Data Structures and Algorithms - Educative.io"
   ]
  },
  {
   "cell_type": "code",
   "execution_count": 33,
   "metadata": {},
   "outputs": [],
   "source": [
    "class Node:\n",
    "    \"\"\"A node of a linked list contain data and a pointer pointing to the next node\"\"\"\n",
    "    def __init__(self, data):\n",
    "        self.data = data\n",
    "        self.next = None"
   ]
  },
  {
   "cell_type": "code",
   "execution_count": 35,
   "metadata": {},
   "outputs": [
    {
     "ename": "AttributeError",
     "evalue": "'NoneType' object has no attribute 'next'",
     "output_type": "error",
     "traceback": [
      "\u001b[1;31m---------------------------------------------------------------------------\u001b[0m",
      "\u001b[1;31mAttributeError\u001b[0m                            Traceback (most recent call last)",
      "\u001b[1;32m<ipython-input-35-25e0c0089d82>\u001b[0m in \u001b[0;36m<module>\u001b[1;34m\u001b[0m\n\u001b[0;32m     74\u001b[0m \u001b[1;31m# singly.append(7)\u001b[0m\u001b[1;33m\u001b[0m\u001b[1;33m\u001b[0m\u001b[1;33m\u001b[0m\u001b[0m\n\u001b[0;32m     75\u001b[0m \u001b[0msingly\u001b[0m\u001b[1;33m.\u001b[0m\u001b[0mappend\u001b[0m\u001b[1;33m(\u001b[0m\u001b[1;34m\"A\"\u001b[0m\u001b[1;33m)\u001b[0m\u001b[1;33m\u001b[0m\u001b[1;33m\u001b[0m\u001b[0m\n\u001b[1;32m---> 76\u001b[1;33m \u001b[0msingly\u001b[0m\u001b[1;33m.\u001b[0m\u001b[0mappend\u001b[0m\u001b[1;33m(\u001b[0m\u001b[1;34m\"B\"\u001b[0m\u001b[1;33m)\u001b[0m\u001b[1;33m\u001b[0m\u001b[1;33m\u001b[0m\u001b[0m\n\u001b[0m\u001b[0;32m     77\u001b[0m \u001b[0msingly\u001b[0m\u001b[1;33m.\u001b[0m\u001b[0mappend\u001b[0m\u001b[1;33m(\u001b[0m\u001b[1;34m\"C\"\u001b[0m\u001b[1;33m)\u001b[0m\u001b[1;33m\u001b[0m\u001b[1;33m\u001b[0m\u001b[0m\n\u001b[0;32m     78\u001b[0m \u001b[0msingly\u001b[0m\u001b[1;33m.\u001b[0m\u001b[0mprintLLedu\u001b[0m\u001b[1;33m(\u001b[0m\u001b[1;33m)\u001b[0m\u001b[1;33m\u001b[0m\u001b[1;33m\u001b[0m\u001b[0m\n",
      "\u001b[1;32m<ipython-input-35-25e0c0089d82>\u001b[0m in \u001b[0;36mappend\u001b[1;34m(self, data)\u001b[0m\n\u001b[0;32m     66\u001b[0m             \u001b[0mlastNode\u001b[0m \u001b[1;33m=\u001b[0m \u001b[0mlastNode\u001b[0m\u001b[1;33m.\u001b[0m\u001b[0mnext\u001b[0m\u001b[1;33m\u001b[0m\u001b[1;33m\u001b[0m\u001b[0m\n\u001b[0;32m     67\u001b[0m \u001b[1;33m\u001b[0m\u001b[0m\n\u001b[1;32m---> 68\u001b[1;33m         \u001b[0mlastNode\u001b[0m\u001b[1;33m.\u001b[0m\u001b[0mnext\u001b[0m \u001b[1;33m=\u001b[0m \u001b[0mnewNode\u001b[0m\u001b[1;33m\u001b[0m\u001b[1;33m\u001b[0m\u001b[0m\n\u001b[0m\u001b[0;32m     69\u001b[0m \u001b[1;33m\u001b[0m\u001b[0m\n\u001b[0;32m     70\u001b[0m \u001b[1;33m\u001b[0m\u001b[0m\n",
      "\u001b[1;31mAttributeError\u001b[0m: 'NoneType' object has no attribute 'next'"
     ]
    }
   ],
   "source": [
    "class SLL:\n",
    "    \"\"\"If you have a head of the ll ,\n",
    "    that means you have the complete linkedlist because you can access any element then.\"\"\"\n",
    "    \n",
    "    def __init__(self):\n",
    "        self.head = None\n",
    "        \n",
    "    def takeInput(self):\n",
    "        \n",
    "        \"\"\"Time Complexity : O(n^2)\"\"\"\n",
    "        inputList = [int(ele) for ele in input().split()]\n",
    "        head = None\n",
    "        \n",
    "        for currData in inputList:\n",
    "            if currData == -1:\n",
    "                break\n",
    "            newNode = Node(currData)\n",
    "            if head == None:\n",
    "                head = newNode\n",
    "            else:\n",
    "                curr = head\n",
    "                while curr.next != None:\n",
    "                    curr = curr.next\n",
    "                curr.next = newNode\n",
    "        return head    \n",
    "    \n",
    "    def takeInputOptimized(self):\n",
    "        inputList = [int(ele) for ele in input().split()]\n",
    "        head = None\n",
    "        tail = None\n",
    "        for currData in inputList:\n",
    "            if currData == -1:\n",
    "                break\n",
    "            newNode = Node(currData)\n",
    "            if head == None:\n",
    "                head = newNode\n",
    "                tail = newNode\n",
    "            else:\n",
    "                tail.next = newNode\n",
    "                tail = newNode\n",
    "        return head\n",
    "    \n",
    "    def printLL(self, head):\n",
    "        curr = head\n",
    "        while curr:\n",
    "            print(curr.data, end=\"-->\")\n",
    "            curr = curr.next\n",
    "        print(None)\n",
    "        return\n",
    "    \n",
    "#     educative printLL\n",
    "    def printLLedu(self):\n",
    "        curr = self.head\n",
    "        while curr:\n",
    "            print(curr.data, end=\"--->\")\n",
    "            curr = curr.next\n",
    "        return\n",
    "    \n",
    "    def append(self, data):\n",
    "        newNode = Node(data)\n",
    "        if self.head == None:\n",
    "            self.head = newNode\n",
    "            return\n",
    "        lastNode = self.head\n",
    "        while lastNode:\n",
    "            lastNode = lastNode.next\n",
    "            \n",
    "        lastNode.next = newNode\n",
    "        \n",
    "    def removeDuplicates(self): \n",
    "        pass\n",
    "        \n",
    "            \n",
    "        \n",
    "singly = SLL()\n",
    "# head = singly.takeInputOptimized()\n",
    "# singly.printLL(head)\n",
    "# singly.append(7)\n",
    "singly.append(\"A\")\n",
    "singly.append(\"B\")\n",
    "singly.append(\"C\")\n",
    "singly.printLLedu()"
   ]
  },
  {
   "cell_type": "code",
   "execution_count": null,
   "metadata": {},
   "outputs": [],
   "source": []
  },
  {
   "cell_type": "code",
   "execution_count": null,
   "metadata": {},
   "outputs": [],
   "source": []
  }
 ],
 "metadata": {
  "kernelspec": {
   "display_name": "Python 3",
   "language": "python",
   "name": "python3"
  },
  "language_info": {
   "codemirror_mode": {
    "name": "ipython",
    "version": 3
   },
   "file_extension": ".py",
   "mimetype": "text/x-python",
   "name": "python",
   "nbconvert_exporter": "python",
   "pygments_lexer": "ipython3",
   "version": "3.8.3"
  }
 },
 "nbformat": 4,
 "nbformat_minor": 4
}
