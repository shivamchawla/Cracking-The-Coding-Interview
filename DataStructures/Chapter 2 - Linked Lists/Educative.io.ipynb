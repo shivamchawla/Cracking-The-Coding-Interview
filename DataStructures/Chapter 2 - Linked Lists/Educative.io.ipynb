{
 "cells": [
  {
   "cell_type": "markdown",
   "metadata": {},
   "source": [
    "Data Structures and Algorithms - Educative.io"
   ]
  },
  {
   "cell_type": "code",
   "execution_count": 1,
   "metadata": {},
   "outputs": [],
   "source": [
    "class Node:\n",
    "    \"\"\"A node of a linked list contain data and a pointer pointing to the next node\"\"\"\n",
    "    def __init__(self, data):\n",
    "        self.data = data\n",
    "        self.next = None"
   ]
  },
  {
   "cell_type": "code",
   "execution_count": 22,
   "metadata": {},
   "outputs": [
    {
     "name": "stdin",
     "output_type": "stream",
     "text": [
      " 1 2 3 4 5 6 -1\n"
     ]
    },
    {
     "name": "stdout",
     "output_type": "stream",
     "text": [
      "1-->2-->3-->4-->5-->6-->None\n"
     ]
    }
   ],
   "source": [
    "class SLL:\n",
    "    \"\"\"If you have a head of the ll ,\n",
    "    that means you have the complete linkedlist because you can access any element then.\"\"\"\n",
    "    \n",
    "    def __init__(self):\n",
    "        self.head = None\n",
    "        \n",
    "    def takeInput(self):\n",
    "        \n",
    "        \"\"\"Time Complexity : O(n^2)\"\"\"\n",
    "        inputList = [int(ele) for ele in input().split()]\n",
    "        head = None\n",
    "        \n",
    "        for currData in inputList:\n",
    "            if currData == -1:\n",
    "                break\n",
    "            newNode = Node(currData)\n",
    "            if head == None:\n",
    "                head = newNode\n",
    "            else:\n",
    "                curr = head\n",
    "                while curr.next != None:\n",
    "                    curr = curr.next\n",
    "                curr.next = newNode\n",
    "        return head    \n",
    "    \n",
    "    def takeInputOptimized(self):\n",
    "        inputList = [int(ele) for ele in input().split()]\n",
    "        head = None\n",
    "        tail = None\n",
    "        for currData in inputList:\n",
    "            if currData == -1:\n",
    "                break\n",
    "            newNode = Node(currData)\n",
    "            if head == None:\n",
    "                head = newNode\n",
    "                tail = newNode\n",
    "            else:\n",
    "                tail.next = newNode\n",
    "                tail = newNode\n",
    "        return head\n",
    "    \n",
    "    def printLL(self, head):\n",
    "        curr = head\n",
    "        while curr:\n",
    "            print(curr.data, end=\"-->\")\n",
    "            curr = curr.next\n",
    "        print(None)\n",
    "        return\n",
    "singly = SLL()\n",
    "head = singly.takeInputOptimized()\n",
    "singly.printLL(head)"
   ]
  },
  {
   "cell_type": "code",
   "execution_count": null,
   "metadata": {},
   "outputs": [],
   "source": []
  }
 ],
 "metadata": {
  "kernelspec": {
   "display_name": "Python 3",
   "language": "python",
   "name": "python3"
  },
  "language_info": {
   "codemirror_mode": {
    "name": "ipython",
    "version": 3
   },
   "file_extension": ".py",
   "mimetype": "text/x-python",
   "name": "python",
   "nbconvert_exporter": "python",
   "pygments_lexer": "ipython3",
   "version": "3.8.3"
  }
 },
 "nbformat": 4,
 "nbformat_minor": 4
}
